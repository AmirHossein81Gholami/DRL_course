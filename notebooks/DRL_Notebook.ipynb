{
  "cells": [
    {
      "cell_type": "markdown",
      "metadata": {
        "id": "RqsyK6NFWU0R"
      },
      "source": [
        "# Install Libraries and Frameworks"
      ]
    },
    {
      "cell_type": "code",
      "execution_count": null,
      "metadata": {
        "collapsed": true,
        "id": "QwvTslO3WUmR"
      },
      "outputs": [],
      "source": [
        "!pip install torch\n",
        "!pip install pytorch-ignite\n",
        "!pip install pytorch-lightning"
      ]
    },
    {
      "cell_type": "markdown",
      "metadata": {
        "id": "jDzRMOPpWakI"
      },
      "source": [
        "# Import Libraries"
      ]
    },
    {
      "cell_type": "code",
      "execution_count": null,
      "metadata": {
        "id": "62TI6x13VcNS"
      },
      "outputs": [],
      "source": [
        "import torch\n",
        "import os\n",
        "# from ignite.engine import Engine, Events\n",
        "# from ignite.handlers import ModelCheckpoint\n",
        "from torch import nn\n",
        "from google.colab import drive\n",
        "# from pytorch_lightning import Trainer, LightningModule\n",
        "import csv\n",
        "import json\n",
        "import time\n",
        "import pickle\n",
        "import matplotlib.pyplot as plt"
      ]
    },
    {
      "cell_type": "markdown",
      "metadata": {
        "id": "ZyKFZmaPXmDb"
      },
      "source": [
        "# Mount google drive to colab\n"
      ]
    },
    {
      "cell_type": "code",
      "execution_count": null,
      "metadata": {
        "id": "2JBUnDANXphq"
      },
      "outputs": [],
      "source": [
        "drive.mount('/content/gdrive')"
      ]
    },
    {
      "cell_type": "markdown",
      "metadata": {
        "id": "6N4ySwwdZUbY"
      },
      "source": [
        "## Unmount google drive"
      ]
    },
    {
      "cell_type": "code",
      "execution_count": null,
      "metadata": {
        "id": "xhOnDjBUZSf6"
      },
      "outputs": [],
      "source": [
        "drive.flush_and_unmount()"
      ]
    },
    {
      "cell_type": "markdown",
      "metadata": {
        "id": "vA6NbqEZYNGJ"
      },
      "source": [
        "# save and load checkpoint model"
      ]
    },
    {
      "cell_type": "markdown",
      "metadata": {
        "id": "Ogf6yr4AdDoj"
      },
      "source": [
        "## save model weights"
      ]
    },
    {
      "cell_type": "code",
      "execution_count": null,
      "metadata": {
        "id": "2pM6efqKYPxx"
      },
      "outputs": [],
      "source": [
        "# Define a simple training engine\n",
        "trainer = Engine(lambda engine, batch: None)\n",
        "\n",
        "# Define the ModelCheckpoint handler\n",
        "handler = ModelCheckpoint('/tmp/models', 'myprefix', n_saved=2, create_dir=True, require_empty=False)\n",
        "\n",
        "# Define a simple model\n",
        "model = nn.Linear(3, 3)\n",
        "\n",
        "# Attach the handler to the trainer to save the model every 2 epochs\n",
        "trainer.add_event_handler(Events.EPOCH_COMPLETED(every=2), handler, {'mymodel': model})\n",
        "\n",
        "# Run the trainer for 6 epochs\n",
        "trainer.run([0, 1, 2, 3, 4], max_epochs=6)\n",
        "\n",
        "# Print the list of saved checkpoints\n",
        "print(sorted(os.listdir('/tmp/models')))\n",
        "print(handler.last_checkpoint)"
      ]
    },
    {
      "cell_type": "markdown",
      "metadata": {
        "id": "wGum4QOvdHCk"
      },
      "source": [
        "## load model weights"
      ]
    },
    {
      "cell_type": "code",
      "execution_count": null,
      "metadata": {
        "id": "lTskpOzZY4Mq"
      },
      "outputs": [],
      "source": [
        "# Define your LightningModule\n",
        "class MyModel(LightningModule):\n",
        "    def __init__(self):\n",
        "        super().__init__()\n",
        "        self.model = nn.Linear(3, 3)\n",
        "\n",
        "# Initialize the model and trainer\n",
        "model = MyModel()\n",
        "trainer = Trainer()\n",
        "\n",
        "# Resume training from a checkpoint\n",
        "trainer.fit(model, ckpt_path=\"path/to/your/checkpoint.ckpt\")"
      ]
    },
    {
      "cell_type": "markdown",
      "metadata": {
        "id": "vjeN0KMQZ1AR"
      },
      "source": [
        "# Basic Python"
      ]
    },
    {
      "cell_type": "markdown",
      "metadata": {
        "id": "XmGoGUaDZ4bw"
      },
      "source": [
        "## I/O Interface"
      ]
    },
    {
      "cell_type": "markdown",
      "metadata": {
        "id": "_o__nfb4v9kU"
      },
      "source": [
        "### print a simple \"*Hello World* \""
      ]
    },
    {
      "cell_type": "code",
      "execution_count": null,
      "metadata": {
        "collapsed": true,
        "id": "ZHworSCCZ3pY"
      },
      "outputs": [],
      "source": [
        "print(\"Hello World!\")"
      ]
    },
    {
      "cell_type": "markdown",
      "metadata": {
        "id": "Gj0CdPKjwV8t"
      },
      "source": [
        "### get, store and use a value"
      ]
    },
    {
      "cell_type": "code",
      "execution_count": null,
      "metadata": {
        "id": "6rF3rJLReHqf"
      },
      "outputs": [],
      "source": [
        "name = input(\"Enter your name:\")\n",
        "print(name)"
      ]
    },
    {
      "cell_type": "markdown",
      "metadata": {
        "id": "51Kmxa2mwfLM"
      },
      "source": [
        "### print can get any symbol"
      ]
    },
    {
      "cell_type": "code",
      "execution_count": null,
      "metadata": {
        "id": "EtZaRN-YeTCW"
      },
      "outputs": [],
      "source": [
        "age = input(\"Enter your age:\")\n",
        "print(age)"
      ]
    },
    {
      "cell_type": "markdown",
      "metadata": {
        "id": "QqZkGdInwpHE"
      },
      "source": [
        "### but in string format"
      ]
    },
    {
      "cell_type": "code",
      "execution_count": null,
      "metadata": {
        "id": "w24D7102eYym"
      },
      "outputs": [],
      "source": [
        "# input only read string format so if you want to use input\n",
        "# in other format you should cast it to that foramt\n",
        "# print(age + 5)\n",
        "print(type(age))\n",
        "age = int(age) # casting string to integer\n",
        "print(age + 5)"
      ]
    },
    {
      "cell_type": "markdown",
      "metadata": {
        "id": "SvNvkT8fwtXE"
      },
      "source": [
        "### format string using f-string"
      ]
    },
    {
      "cell_type": "code",
      "execution_count": null,
      "metadata": {
        "id": "jTlL01EUfKMN"
      },
      "outputs": [],
      "source": [
        "name = \"Amir Hossein\"\n",
        "print(f\"My name is {name}\")"
      ]
    },
    {
      "cell_type": "markdown",
      "metadata": {
        "id": "XueUZh3Nw0Ab"
      },
      "source": [
        "### set precision for floating-point numbers"
      ]
    },
    {
      "cell_type": "code",
      "execution_count": null,
      "metadata": {
        "id": "h8bAwgekvZ6F"
      },
      "outputs": [],
      "source": [
        "float_num = 35.673325\n",
        "print(f\"set precision to 3 => {float_num:.3f}\")\n",
        "print(round(float_num,3))"
      ]
    },
    {
      "cell_type": "markdown",
      "metadata": {
        "id": "8rxATNLO4xbO"
      },
      "source": [
        "### Working with files"
      ]
    },
    {
      "cell_type": "markdown",
      "metadata": {
        "id": "wFiqMTQL44G9"
      },
      "source": [
        "| Mode | Description |\n",
        "|------|-------------|\n",
        "| `\"r\"` | Read mode (default). Opens a file for reading. Raises an error if the file does not exist. |\n",
        "| `\"w\"` | Write mode. Opens a file for writing. Overwrites the file if it exists or creates a new file if it doesn't. |\n",
        "| `\"a\"` | Append mode. Opens a file for appending. Adds data to the end of the file without overwriting it. Creates a new file if it doesn't exist. |\n",
        "| `\"b\"` | Binary mode. Opens a file in binary format (e.g., `\"rb\"` for reading binary data or `\"wb\"` for writing binary data). |\n",
        "| `\"+\"` | Read and write mode. Opens a file for both reading and writing (e.g., `\"r+\"` or `\"w+\"`). |"
      ]
    },
    {
      "cell_type": "markdown",
      "metadata": {
        "id": "P3o2ZBvC5AFt"
      },
      "source": [
        "#### read, write and appending for .txt files"
      ]
    },
    {
      "cell_type": "code",
      "execution_count": null,
      "metadata": {
        "id": "etzt7Vyi4_EV"
      },
      "outputs": [],
      "source": [
        "# Open a file in read mode\n",
        "with open(\"example.txt\", \"r\") as file:\n",
        "    content = file.read()  # Reads the entire file\n",
        "    print(\"File Content:\\n\", content)"
      ]
    },
    {
      "cell_type": "code",
      "execution_count": null,
      "metadata": {
        "id": "jEoT3sAn5KlV"
      },
      "outputs": [],
      "source": [
        "# Open a file in write mode\n",
        "with open(\"example.txt\", \"w\") as file:\n",
        "    file.write(\"Hello, World!\\n\")\n",
        "    file.write(\"This is a sample file.\")"
      ]
    },
    {
      "cell_type": "code",
      "execution_count": null,
      "metadata": {
        "id": "JYzZTQXD5QXd"
      },
      "outputs": [],
      "source": [
        "# Open a file in append mode\n",
        "with open(\"example.txt\", \"a\") as file:\n",
        "    file.write(\"\\nThis line is appended.\")"
      ]
    },
    {
      "cell_type": "markdown",
      "metadata": {
        "id": "3IqX2ARq5faM"
      },
      "source": [
        "#### Working with csv file"
      ]
    },
    {
      "cell_type": "code",
      "execution_count": null,
      "metadata": {
        "id": "u5sTOueU5h7c"
      },
      "outputs": [],
      "source": [
        "# Reading a CSV file\n",
        "with open(\"data.csv\", \"r\") as file:\n",
        "    reader = csv.reader(file)\n",
        "    for row in reader:\n",
        "        print(row)  # Each row is a list of strings"
      ]
    },
    {
      "cell_type": "code",
      "execution_count": null,
      "metadata": {
        "id": "zUDtsbNj5jpM"
      },
      "outputs": [],
      "source": [
        "# Writing to a CSV file\n",
        "data = [\n",
        "    [\"Name\", \"Age\", \"City\"],\n",
        "    [\"Alice\", 30, \"New York\"],\n",
        "    [\"Bob\", 25, \"Los Angeles\"]\n",
        "]\n",
        "\n",
        "with open(\"data.csv\", \"w\", newline=\"\") as file:\n",
        "    writer = csv.writer(file)\n",
        "    writer.writerows(data)"
      ]
    },
    {
      "cell_type": "markdown",
      "metadata": {
        "id": "NvI9rxNuT0_k"
      },
      "source": [
        "#### working with json"
      ]
    },
    {
      "cell_type": "code",
      "execution_count": null,
      "metadata": {
        "collapsed": true,
        "id": "cYRBlKEmT3N9"
      },
      "outputs": [],
      "source": [
        "# Reading a JSON file\n",
        "with open(\"data.json\", \"r\") as file:\n",
        "    data = json.load(file)  # Loads JSON data as a Python dictionary\n",
        "    print(\"JSON Data:\", data)"
      ]
    },
    {
      "cell_type": "code",
      "execution_count": null,
      "metadata": {
        "id": "ZzaHQrQsT5rt"
      },
      "outputs": [],
      "source": [
        "# Writing to a JSON file\n",
        "data = {\n",
        "    \"name\": \"Alice\",\n",
        "    \"age\": 30,\n",
        "    \"city\": \"New York\"\n",
        "}\n",
        "\n",
        "with open(\"data.json\", \"w\") as file:\n",
        "    json.dump(data, file, indent=4)  # Writes JSON data with indentation"
      ]
    },
    {
      "cell_type": "markdown",
      "metadata": {
        "id": "UQ5qosvUZ-24"
      },
      "source": [
        "## Variable and data structure"
      ]
    },
    {
      "cell_type": "markdown",
      "metadata": {
        "id": "ZZz76vg-xCPz"
      },
      "source": [
        "### Type of variables in python\n",
        "*   Integer => int\n",
        "*   Floating-point => float\n",
        "*   Complex => complex\n",
        "*   String => str\n",
        "*   Boolean(True or False) => bool\n",
        "*   None Type => None"
      ]
    },
    {
      "cell_type": "code",
      "execution_count": null,
      "metadata": {
        "id": "1ePtCGpoadzw"
      },
      "outputs": [],
      "source": [
        "# Integer (int)\n",
        "age = 25\n",
        "print(\"Age:\", age, type(age))  # Output: Age: 25 <class 'int'>\n",
        "\n",
        "# Floating-point (float)\n",
        "height = 5.9\n",
        "print(\"Height:\", height, type(height))  # Output: Height: 5.9 <class 'float'>\n",
        "\n",
        "# Complex (complex)\n",
        "complex_number = 3 + 4j\n",
        "print(\"Complex Number:\", complex_number, type(complex_number))  # Output: Complex Number: (3+4j) <class 'complex'>\n",
        "\n",
        "# String (str)\n",
        "name = \"Alice\"\n",
        "print(\"Name:\", name, type(name))  # Output: Name: Alice <class 'str'>\n",
        "\n",
        "# Boolean (bool)\n",
        "is_student = True\n",
        "print(\"Is Student:\", is_student, type(is_student))  # Output: Is Student: True <class 'bool'>\n",
        "\n",
        "# None Type (None)\n",
        "result = None\n",
        "print(\"Result:\", result, type(result))  # Output: Result: None <class 'NoneType'>"
      ]
    },
    {
      "cell_type": "markdown",
      "metadata": {
        "id": "bhO1AK1Qxpfk"
      },
      "source": [
        "### Type of data structures\n",
        "\n",
        "\n",
        "*   Array => list\n",
        "*   Tuple => tuple\n",
        "*   Dictionary => dict\n",
        "*   Set => set (frozenset)\n",
        "*   range\n",
        "\n"
      ]
    },
    {
      "cell_type": "markdown",
      "metadata": {
        "id": "BXc6yWtB3soH"
      },
      "source": [
        "#### List"
      ]
    },
    {
      "cell_type": "code",
      "execution_count": null,
      "metadata": {
        "id": "arKniMKkysh6"
      },
      "outputs": [],
      "source": [
        "# List\n",
        "fruits = [\"apple\", \"banana\", \"cherry\"]\n",
        "print(\"List:\", fruits, type(fruits))  # Output: List: ['apple', 'banana', 'cherry'] <class 'list'>\n",
        "\n",
        "# Modifying a list\n",
        "fruits.append(\"orange\")\n",
        "print(\"Updated List:\", fruits)  # Output: Updated List: ['apple', 'banana', 'cherry', 'orange']"
      ]
    },
    {
      "cell_type": "markdown",
      "metadata": {
        "id": "AH6FeTqlWWis"
      },
      "source": [
        "#### Methods for List"
      ]
    },
    {
      "cell_type": "code",
      "execution_count": null,
      "metadata": {
        "id": "TUiKwA5HWpG6"
      },
      "outputs": [],
      "source": [
        "l = list()\n",
        "# Create a list\n",
        "my_list = [1, 2, 3, 4]\n",
        "print(my_list)\n",
        "# Add an item\n",
        "my_list.append(5)  # [1, 2, 3, 4, 5]\n",
        "print(f\"Add an item {my_list}\")\n",
        "# Insert an item at a specific index\n",
        "my_list.insert(2, 10)  # [1, 2, 10, 3, 4, 5]\n",
        "print(f\"Insert an item at a specific index {my_list}\")\n",
        "# Remove an item by value\n",
        "my_list.remove(10)  # [1, 2, 3, 4, 5]\n",
        "print(f\"Remove an item by value {my_list}\")\n",
        "# Remove an item by index\n",
        "popped_item = my_list.pop(1)  # [1, 3, 4, 5], popped_item = 2\n",
        "print(f\"Remove an item by index {my_list}\")\n",
        "# Find the index of an item\n",
        "index = my_list.index(3)  # index = 1\n",
        "print(f\"Find the index of an item {my_list}\")\n",
        "# Count occurrences of an item\n",
        "count = my_list.count(4)  # count = 1\n",
        "print(f\"Count occurrences of an item {my_list}\")\n",
        "# Sort the list\n",
        "my_list.sort()  # [1, 3, 4, 5]\n",
        "print(f\"Sort the list {my_list}\")\n",
        "# Reverse the list\n",
        "my_list.reverse()  # [5, 4, 3, 1]\n",
        "print(f\"Reverse the list {my_list}\")\n",
        "# Clear the list\n",
        "my_list.clear()  # []\n",
        "print(f\"Clear the list {my_list}\")"
      ]
    },
    {
      "cell_type": "markdown",
      "metadata": {
        "id": "avrzcJ5S3vye"
      },
      "source": [
        "#### Tuple"
      ]
    },
    {
      "cell_type": "code",
      "execution_count": null,
      "metadata": {
        "id": "bdwCFEmZ3zTn"
      },
      "outputs": [],
      "source": [
        "# Tuple\n",
        "colors = (\"red\", \"green\", \"blue\")\n",
        "print(\"Tuple:\", colors, type(colors))  # Output: Tuple: ('red', 'green', 'blue') <class 'tuple'>\n",
        "\n",
        "# Accessing elements\n",
        "print(\"First Color:\", colors[0])  # Output: First Color: red"
      ]
    },
    {
      "cell_type": "markdown",
      "metadata": {
        "id": "-qc3QWgDWdT7"
      },
      "source": [
        "#### Methods for Tuple"
      ]
    },
    {
      "cell_type": "code",
      "execution_count": null,
      "metadata": {
        "id": "JFNS-4zfXBKs"
      },
      "outputs": [],
      "source": [
        "# Create a tuple\n",
        "my_tuple = (1, 2, 3, 4)\n",
        "print(my_tuple)\n",
        "# Access an item\n",
        "item = my_tuple[2]  # item = 3\n",
        "print(f\"Access an item {my_tuple}\")\n",
        "# Find the index of an item\n",
        "index = my_tuple.index(3)  # index = 2\n",
        "print(f\"Find the index of an item {my_tuple}\")\n",
        "# Count occurrences of an item\n",
        "count = my_tuple.count(4)  # count = 1\n",
        "print(f\"Count occurrences of an item {my_tuple}\")\n",
        "# Concatenate tuples\n",
        "new_tuple = my_tuple + (5, 6)  # (1, 2, 3, 4, 5, 6)\n",
        "print(f\"Concatenate tuples {my_tuple}\")"
      ]
    },
    {
      "cell_type": "markdown",
      "metadata": {
        "id": "URN8xvwd30c2"
      },
      "source": [
        "#### Dictionary"
      ]
    },
    {
      "cell_type": "code",
      "execution_count": null,
      "metadata": {
        "id": "7JVXJRIg337u"
      },
      "outputs": [],
      "source": [
        "# Dictionary\n",
        "person = {\"name\": \"Alice\", \"age\": 30, \"city\": \"New York\"}\n",
        "print(\"Dictionary:\", person, type(person))  # Output: Dictionary: {'name': 'Alice', 'age': 30, 'city': 'New York'} <class 'dict'>\n",
        "\n",
        "# Accessing values\n",
        "print(\"Name:\", person[\"name\"])  # Output: Name: Alice\n",
        "\n",
        "# Adding a new key-value pair\n",
        "person[\"email\"] = \"alice@example.com\"\n",
        "print(\"Updated Dictionary:\", person)  # Output: Updated Dictionary: {'name': 'Alice', 'age': 30, 'city': 'New York', 'email': 'alice@example.com'}"
      ]
    },
    {
      "cell_type": "markdown",
      "metadata": {
        "id": "UL7QJfyxWhgr"
      },
      "source": [
        "#### Methods for Dictionary"
      ]
    },
    {
      "cell_type": "code",
      "execution_count": null,
      "metadata": {
        "id": "_0Z93OF_XCIi"
      },
      "outputs": [],
      "source": [
        "# Create a dictionary\n",
        "my_dict = {\"name\": \"Alice\", \"age\": 25}\n",
        "print(my_dict)\n",
        "# Add or update a key-value pair\n",
        "my_dict[\"city\"] = \"New York\"  # {\"name\": \"Alice\", \"age\": 25, \"city\": \"New York\"}\n",
        "print(f\"Add or update a key-value pair {my_dict}\")\n",
        "# Remove a key-value pair\n",
        "del my_dict[\"age\"]  # {\"name\": \"Alice\", \"city\": \"New York\"}\n",
        "print(f\"Remove a key-value pair {my_dict}\")\n",
        "# Get a value by key\n",
        "name = my_dict[\"name\"]  # name = \"Alice\"\n",
        "print(f\"Get a value by key {my_dict}\")\n",
        "# Check if a key exists\n",
        "has_age = \"age\" in my_dict  # has_age = False\n",
        "print(f\"Check if a key exists {my_dict}\")\n",
        "# Get all keys\n",
        "keys = my_dict.keys()  # dict_keys(['name', 'city'])\n",
        "print(f\"Get all keys {my_dict}\")\n",
        "# Get all values\n",
        "values = my_dict.values()  # dict_values(['Alice', 'New York'])\n",
        "print(f\"Get all values {my_dict}\")\n",
        "# Get all key-value pairs\n",
        "items = my_dict.items()  # dict_items([('name', 'Alice'), ('city', 'New York')])\n",
        "print(f\"Get all key-value pairs {my_dict}\")\n",
        "# Clear the dictionary\n",
        "my_dict.clear()  # {}\n",
        "print(f\"Clear the dictionary {my_dict}\")"
      ]
    },
    {
      "cell_type": "markdown",
      "metadata": {
        "id": "t9muA8RC36d-"
      },
      "source": [
        "#### Set"
      ]
    },
    {
      "cell_type": "code",
      "execution_count": null,
      "metadata": {
        "id": "wL6IuINB38s1"
      },
      "outputs": [],
      "source": [
        "# Set\n",
        "unique_numbers = {1, 2, 3, 4, 3, 2}\n",
        "print(\"Set:\", unique_numbers, type(unique_numbers))  # Output: Set: {1, 2, 3, 4} <class 'set'>\n",
        "\n",
        "# Adding an element\n",
        "unique_numbers.add(5)\n",
        "print(\"Updated Set:\", unique_numbers)  # Output: Updated Set: {1, 2, 3, 4, 5}"
      ]
    },
    {
      "cell_type": "markdown",
      "metadata": {
        "id": "-karRFy4Wjli"
      },
      "source": [
        "#### Methods for Set"
      ]
    },
    {
      "cell_type": "code",
      "execution_count": null,
      "metadata": {
        "id": "Qfy5QVNdXECd"
      },
      "outputs": [],
      "source": [
        "# Create a set\n",
        "my_set = {1, 2, 3, 4}\n",
        "print(my_set)\n",
        "# Add an item\n",
        "my_set.add(5)  # {1, 2, 3, 4, 5}\n",
        "print(f\"Add an item {my_set}\")\n",
        "# Remove an item\n",
        "my_set.remove(3)  # {1, 2, 4, 5}\n",
        "print(f\"Remove an item {my_set}\")\n",
        "# Discard an item (no error if item doesn't exist)\n",
        "my_set.discard(10)  # {1, 2, 4, 5}\n",
        "print(f\"Discard an item {my_set}\")\n",
        "# Pop a random item\n",
        "popped_item = my_set.pop()  # popped_item = 1, {2, 4, 5}\n",
        "print(f\"Pop a random item {my_set}\")\n",
        "# Check if an item exists\n",
        "has_2 = 2 in my_set  # has_2 = True\n",
        "print(f\"Check if an item exists {has_2}\")\n",
        "# Union of two sets\n",
        "union = my_set.union({5, 6, 7})  # {2, 4, 5, 6, 7}\n",
        "print(f\"Union of two sets {union}\")\n",
        "# Intersection of two sets\n",
        "intersection = my_set.intersection({4, 5, 6})  # {4, 5}\n",
        "print(f\"Union of two sets {intersection}\")\n",
        "# Difference of two sets\n",
        "difference = my_set.difference({5, 6})  # {2, 4}\n",
        "print(f\"Difference of two set {difference}\")\n",
        "# Clear the set\n",
        "my_set.clear()  # set()"
      ]
    },
    {
      "cell_type": "markdown",
      "metadata": {
        "id": "PH8QTQhM39gG"
      },
      "source": [
        "#### Frozenset"
      ]
    },
    {
      "cell_type": "code",
      "execution_count": null,
      "metadata": {
        "id": "hSt2gfpO397W"
      },
      "outputs": [],
      "source": [
        "# Frozenset\n",
        "frozen_numbers = frozenset({1, 2, 3, 4})\n",
        "print(\"Frozenset:\", frozen_numbers, type(frozen_numbers))  # Output: Frozenset: frozenset({1, 2, 3, 4}) <class 'frozenset'>"
      ]
    },
    {
      "cell_type": "markdown",
      "metadata": {
        "id": "_65WgJ8B4FG2"
      },
      "source": [
        "#### range"
      ]
    },
    {
      "cell_type": "code",
      "execution_count": null,
      "metadata": {
        "id": "0jNx-_Tb4Eo2"
      },
      "outputs": [],
      "source": [
        "# Range\n",
        "numbers = range(1, 6, 2)  # Generates numbers from 1 to 5\n",
        "print(\"Range:\", numbers, type(numbers))  # Output: Range: range(1, 6) <class 'range'>\n",
        "\n",
        "# Converting range to a list\n",
        "print(\"Range as List:\", list(numbers))  # Output: Range as List: [1, 2, 3, 4, 5]"
      ]
    },
    {
      "cell_type": "markdown",
      "metadata": {
        "id": "viBt706sWyLb"
      },
      "source": [
        "#### summary"
      ]
    },
    {
      "cell_type": "markdown",
      "metadata": {
        "id": "-QbbYanO4PaF"
      },
      "source": [
        "| Data Structure | Ordered | Mutable | Duplicates Allowed | Example Use Case |\n",
        "|----------------|---------|---------|---------------------|------------------|\n",
        "| **List**       | Yes     | Yes     | Yes                 | Storing a collection of items that may change. |\n",
        "| **Tuple**      | Yes     | No      | Yes                 | Storing a collection of items that should not change. |\n",
        "| **Dictionary** | No      | Yes     | Keys: No, Values: Yes | Storing key-value pairs (e.g., user data). |\n",
        "| **Set**        | No      | Yes     | No                  | Removing duplicates or performing set operations. |\n",
        "| **Frozenset**  | No      | No      | No                  | Immutable set for fixed collections. |\n",
        "| **Range**      | Yes     | No      | N/A                 | Iterating over a sequence of numbers. |"
      ]
    },
    {
      "cell_type": "markdown",
      "metadata": {
        "id": "EG14t5XIXP1L"
      },
      "source": [
        "#### summary table of methods"
      ]
    },
    {
      "cell_type": "markdown",
      "metadata": {
        "id": "A6z5Ng9LXItK"
      },
      "source": [
        "| **Data Structure** | **Methods**                                                                 | **Description**                                                                 |\n",
        "|--------------------|-----------------------------------------------------------------------------|---------------------------------------------------------------------------------|\n",
        "| **List**           | `append(item)`, `insert(index, item)`, `remove(item)`, `pop(index)`         | Add, insert, remove, or pop items.                                              |\n",
        "|                    | `index(item)`, `count(item)`, `sort()`, `reverse()`, `clear()`              | Find index, count occurrences, sort, reverse, or clear the list.                |\n",
        "| **Tuple**          | `index(item)`, `count(item)`                                                | Find index or count occurrences of an item.                                     |\n",
        "|                    | Concatenation (`+`)                                                         | Combine two tuples.                                                             |\n",
        "| **Dictionary**     | `dict[key] = value`, `del dict[key]`, `dict.get(key)`, `dict.keys()`        | Add, remove, or access key-value pairs. Get keys, values, or items.             |\n",
        "|                    | `dict.values()`, `dict.items()`, `dict.clear()`                             | Get values, key-value pairs, or clear the dictionary.                           |\n",
        "| **Set**            | `add(item)`, `remove(item)`, `discard(item)`, `pop()`, `clear()`            | Add, remove, discard, pop, or clear items.                                      |\n",
        "|                    | `union(set)`, `intersection(set)`, `difference(set)`                        | Perform set operations like union, intersection, or difference.                 |"
      ]
    },
    {
      "cell_type": "markdown",
      "metadata": {
        "id": "LuX0diJ3fg79"
      },
      "source": [
        "## Operators"
      ]
    },
    {
      "cell_type": "markdown",
      "metadata": {
        "id": "5gExm_VXUg-1"
      },
      "source": [
        "| Category          | Operator | Description                          | Example                     |\n",
        "|-------------------|----------|--------------------------------------|-----------------------------|\n",
        "| **Arithmetic**    | `+`      | Addition                             | `3 + 2 = 5`                 |\n",
        "|                   | `-`      | Subtraction                          | `3 - 2 = 1`                 |\n",
        "|                   | `*`      | Multiplication                       | `3 * 2 = 6`                 |\n",
        "|                   | `/`      | Division                             | `3 / 2 = 1.5`               |\n",
        "|                   | `%`      | Modulus (remainder)                  | `3 % 2 = 1`                 |\n",
        "|                   | `**`     | Exponentiation                       | `3 ** 2 = 9`                |\n",
        "|                   | `//`     | Floor division                       | `3 // 2 = 1`                |\n",
        "| **Comparison**    | `==`     | Equal to                             | `3 == 2 → False`            |\n",
        "|                   | `!=`     | Not equal to                         | `3 != 2 → True`             |\n",
        "|                   | `>`      | Greater than                         | `3 > 2 → True`              |\n",
        "|                   | `<`      | Less than                            | `3 < 2 → False`             |\n",
        "|                   | `>=`     | Greater than or equal to             | `3 >= 2 → True`             |\n",
        "|                   | `<=`     | Less than or equal to                | `3 <= 2 → False`            |\n",
        "| **Logical**       | `and`    | True if both conditions are true     | `(3 > 2) and (5 < 10) → True`|\n",
        "|                   | `or`     | True if at least one condition is true | `(3 > 2) or (5 > 10) → True`|\n",
        "|                   | `not`    | Reverses the result                  | `not (3 > 2) → False`       |\n",
        "| **Assignment**    | `=`      | Assign                               | `x = 5`                     |\n",
        "|                   | `+=`     | Add and assign                       | `x += 3 → x = x + 3`        |\n",
        "|                   | `-=`     | Subtract and assign                  | `x -= 3 → x = x - 3`        |\n",
        "|                   | `*=`     | Multiply and assign                  | `x *= 3 → x = x * 3`        |\n",
        "|                   | `/=`     | Divide and assign                    | `x /= 3 → x = x / 3`        |\n",
        "|                   | `%=`     | Modulus and assign                   | `x %= 3 → x = x % 3`        |\n",
        "|                   | `**=`    | Exponent and assign                  | `x **= 3 → x = x ** 3`      |\n",
        "|                   | `//=`    | Floor divide and assign              | `x //= 3 → x = x // 3`      |\n",
        "| **Membership**    | `in`     | True if value is found               | `\"a\" in \"apple\" → True`     |\n",
        "|                   | `not in` | True if value is not found           | `\"b\" not in \"apple\" → True` |\n",
        "| **Identity**      | `is`     | True if both objects are the same    | `x is y`                    |\n",
        "|                   | `is not` | True if both objects are not the same | `x is not y`              |"
      ]
    },
    {
      "cell_type": "markdown",
      "metadata": {
        "id": "q7AC0rJTUnhU"
      },
      "source": [
        "### Arithmetic"
      ]
    },
    {
      "cell_type": "code",
      "execution_count": null,
      "metadata": {
        "id": "gkZlZGlwUnJ8"
      },
      "outputs": [],
      "source": [
        "a = 10\n",
        "b = 3\n",
        "\n",
        "print(\"Addition:\", a + b)          # Output: 13\n",
        "print(\"Subtraction:\", a - b)       # Output: 7\n",
        "print(\"Multiplication:\", a * b)   # Output: 30\n",
        "print(\"Division:\", a / b)          # Output: 3.333...\n",
        "print(\"Modulus:\", a % b)           # Output: 1\n",
        "print(\"Exponentiation:\", a ** b)  # Output: 1000\n",
        "print(\"Floor Division:\", a // b)  # Output: 3"
      ]
    },
    {
      "cell_type": "markdown",
      "metadata": {
        "id": "5mFg6nkvUwIN"
      },
      "source": [
        "### Comparison"
      ]
    },
    {
      "cell_type": "code",
      "execution_count": null,
      "metadata": {
        "id": "hbtgX4QPfgi9"
      },
      "outputs": [],
      "source": [
        "x = 5\n",
        "y = 10\n",
        "\n",
        "print(\"Equal to:\", x == y)          # Output: False\n",
        "print(\"Not equal to:\", x != y)      # Output: True\n",
        "print(\"Greater than:\", x > y)       # Output: False\n",
        "print(\"Less than:\", x < y)          # Output: True\n",
        "print(\"Greater than or equal to:\", x >= y)  # Output: False\n",
        "print(\"Less than or equal to:\", x <= y)      # Output: True"
      ]
    },
    {
      "cell_type": "markdown",
      "metadata": {
        "id": "RbnNL_JCUzw1"
      },
      "source": [
        "### Logical"
      ]
    },
    {
      "cell_type": "code",
      "execution_count": null,
      "metadata": {
        "id": "7JbLKnlXU0R0"
      },
      "outputs": [],
      "source": [
        "a = True\n",
        "b = False\n",
        "\n",
        "print(\"AND:\", a and b)  # Output: False\n",
        "print(\"OR:\", a or b)    # Output: True\n",
        "print(\"NOT:\", not a)    # Output: False"
      ]
    },
    {
      "cell_type": "markdown",
      "metadata": {
        "id": "M2TD18zfU4nV"
      },
      "source": [
        "### Assignment"
      ]
    },
    {
      "cell_type": "code",
      "execution_count": null,
      "metadata": {
        "id": "ZfduJwJCU5Ck"
      },
      "outputs": [],
      "source": [
        "x = 10\n",
        "x += 5  # Equivalent to x = x + 5\n",
        "print(\"x += 5:\", x)  # Output: 15"
      ]
    },
    {
      "cell_type": "markdown",
      "metadata": {
        "id": "7EdFi2vIVEBc"
      },
      "source": [
        "### Membership"
      ]
    },
    {
      "cell_type": "code",
      "execution_count": null,
      "metadata": {
        "id": "P35VmK7zVH6h"
      },
      "outputs": [],
      "source": [
        "fruits = [\"apple\", \"banana\", \"cherry\"]\n",
        "print(\"banana in fruits:\", \"banana\" in fruits)        # Output: True\n",
        "print(\"mango not in fruits:\", \"mango\" not in fruits)  # Output: True"
      ]
    },
    {
      "cell_type": "markdown",
      "metadata": {
        "id": "LhtOOM11Vaa0"
      },
      "source": [
        "### Identity"
      ]
    },
    {
      "cell_type": "code",
      "execution_count": null,
      "metadata": {
        "id": "S2XAuxdkV6dN"
      },
      "outputs": [],
      "source": [
        "x = 5\n",
        "y = 5\n",
        "z = [1, 2, 3]\n",
        "\n",
        "print(\"x is y:\", x is y)          # Output: True (same value, same memory location for small integers)\n",
        "print(\"x is not z:\", x is not z)  # Output: True"
      ]
    },
    {
      "cell_type": "markdown",
      "metadata": {
        "id": "8m03bT0yXslS"
      },
      "source": [
        "| **Aspect**       | **`==`**                          | **`is`**                          |\n",
        "|-------------------|-----------------------------------|-----------------------------------|\n",
        "| **Purpose**       | Compares **values** of objects.   | Compares **memory locations** of objects. |\n",
        "| **Returns `True`**| If values are equal.             | If both objects are the same (same memory location). |\n",
        "| **Use Case**      | Checking if two objects have the same content. | Checking if two variables reference the same object. |"
      ]
    },
    {
      "cell_type": "code",
      "execution_count": null,
      "metadata": {
        "id": "nBsRzcvEW4fj"
      },
      "outputs": [],
      "source": [
        "li1 = [1,2,3]\n",
        "li2 = [1,2,3]\n",
        "print(li1 == li2)"
      ]
    },
    {
      "cell_type": "code",
      "execution_count": null,
      "metadata": {
        "id": "NrpuN4tCW_wD"
      },
      "outputs": [],
      "source": [
        "print(li1 is li2)"
      ]
    },
    {
      "cell_type": "markdown",
      "metadata": {
        "id": "aRnj2pJ6Xbey"
      },
      "source": [
        "\n",
        "#### Special Case\n",
        "```markdown\n",
        "# Small integers and strings\n",
        "a = 5\n",
        "b = 5\n",
        "print(a is b)  # Output: True (small integers are reused)\n",
        "\n",
        "c = \"hello\"\n",
        "d = \"hello\"\n",
        "print(c is d)  # Output: True (short strings are reused)\n",
        "\n",
        "e = [1, 2, 3]\n",
        "f = [1, 2, 3]\n",
        "print(e is f)  # Output: False (lists are not reused)\n"
      ]
    },
    {
      "cell_type": "markdown",
      "metadata": {
        "id": "dOEMMnw7aeQw"
      },
      "source": [
        "## Control Statment"
      ]
    },
    {
      "cell_type": "markdown",
      "metadata": {
        "id": "HvhNAImcZLcK"
      },
      "source": [
        "### if, elif and else"
      ]
    },
    {
      "cell_type": "code",
      "execution_count": null,
      "metadata": {
        "id": "rxmTH6BKahoY"
      },
      "outputs": [],
      "source": [
        "age = 18\n",
        "if age < 18:\n",
        "    print(\"You are a minor.\")\n",
        "elif age == 18:\n",
        "    print(\"You just became an adult!\")\n",
        "else:\n",
        "    print(\"You are an adult.\")"
      ]
    },
    {
      "cell_type": "markdown",
      "metadata": {
        "id": "-a8sTM4wZNuq"
      },
      "source": [
        "### for loop"
      ]
    },
    {
      "cell_type": "code",
      "execution_count": null,
      "metadata": {
        "id": "ogbqCAvaZUEJ"
      },
      "outputs": [],
      "source": [
        "fruits = [\"apple\", \"banana\", \"cherry\"]\n",
        "for fruit in fruits:\n",
        "    print(fruit)\n",
        "for i in range(10):\n",
        "  print(i)"
      ]
    },
    {
      "cell_type": "markdown",
      "metadata": {
        "id": "HJtIRLpsZVIB"
      },
      "source": [
        "### while loop"
      ]
    },
    {
      "cell_type": "code",
      "execution_count": null,
      "metadata": {
        "id": "NiaojK7jZYwS"
      },
      "outputs": [],
      "source": [
        "age = 8\n",
        "while age < 18:\n",
        "  print(\"young\")\n",
        "  age += 1\n",
        "print(\"adult\")"
      ]
    },
    {
      "cell_type": "markdown",
      "metadata": {
        "id": "y4x3ghiFZ92I"
      },
      "source": [
        "### difference between while and for"
      ]
    },
    {
      "cell_type": "markdown",
      "metadata": {
        "id": "OxlxXmEqaBTw"
      },
      "source": [
        "\n",
        "---\n",
        "\n",
        "#### **When to Use Which Loop**\n",
        "- Use a **`for` loop** when:\n",
        "  - You know the number of iterations in advance.\n",
        "  - You want to iterate over a collection (e.g., list, string, dictionary).\n",
        "  - Example: Printing all elements in a list.\n",
        "\n",
        "- Use a **`while` loop** when:\n",
        "  - You don't know the number of iterations in advance.\n",
        "  - You need to repeat until a condition is met.\n",
        "  - Example: Asking for user input until a valid response is given.\n",
        "\n",
        "---\n"
      ]
    },
    {
      "cell_type": "markdown",
      "metadata": {
        "id": "_a_5YbudZb0h"
      },
      "source": [
        "### control flow statment"
      ]
    },
    {
      "cell_type": "markdown",
      "metadata": {
        "id": "8mcbUNH4ZfEp"
      },
      "source": [
        "#### break"
      ]
    },
    {
      "cell_type": "code",
      "execution_count": null,
      "metadata": {
        "id": "7fBulTV5ZeIK"
      },
      "outputs": [],
      "source": [
        "for i in range(10):\n",
        "    if i == 5:\n",
        "        break\n",
        "    print(i)  # Output: 0 1 2 3 4"
      ]
    },
    {
      "cell_type": "markdown",
      "metadata": {
        "id": "BB8RG3luZjWp"
      },
      "source": [
        "#### continue"
      ]
    },
    {
      "cell_type": "code",
      "execution_count": null,
      "metadata": {
        "id": "rPqmx5BpZeqp"
      },
      "outputs": [],
      "source": [
        "for i in range(5):\n",
        "    if i == 2:\n",
        "        continue\n",
        "    print(i)  # Output: 0 1 3 4"
      ]
    },
    {
      "cell_type": "markdown",
      "metadata": {
        "id": "n9TKWLtgZlwB"
      },
      "source": [
        "#### pass"
      ]
    },
    {
      "cell_type": "code",
      "execution_count": null,
      "metadata": {
        "id": "AhgEt_4oZnGg"
      },
      "outputs": [],
      "source": [
        "for i in range(3):\n",
        "    if i == 1:\n",
        "        pass  # Placeholder\n",
        "    print(i)  # Output: 0 1 2"
      ]
    },
    {
      "cell_type": "markdown",
      "metadata": {
        "id": "SlGEBVyfZswI"
      },
      "source": [
        "### summary"
      ]
    },
    {
      "cell_type": "markdown",
      "metadata": {
        "id": "-wI1GZuZZBr_"
      },
      "source": [
        "| **Control Statement** | **Description**                                                                 | **Example**                                                                 |\n",
        "|-----------------------|---------------------------------------------------------------------------------|-----------------------------------------------------------------------------|\n",
        "| **Conditional**       |                                                                                 |                                                                             |\n",
        "| `if`                  | Executes code if a condition is `True`.                                         | `if x > 10: print(\"x is greater than 10\")`                                  |\n",
        "| `elif`                | Executes code if the previous condition is `False` and this condition is `True`.| `elif x == 10: print(\"x is 10\")`                                            |\n",
        "| `else`                | Executes code if all previous conditions are `False`.                           | `else: print(\"x is less than 10\")`                                          |\n",
        "| **Looping**           |                                                                                 |                                                                             |\n",
        "| `for`                 | Iterates over a sequence (e.g., list, string, range).                          | `for i in range(3): print(i)`                                               |\n",
        "| `while`               | Repeats code as long as a condition is `True`.                                  | `while x < 5: print(x); x += 1`                                             |\n",
        "| **Control Flow**      |                                                                                 |                                                                             |\n",
        "| `break`               | Exits the loop immediately.                                                     | `for i in range(10): if i == 5: break`                                      |\n",
        "| `continue`            | Skips the current iteration and moves to the next one.                          | `for i in range(5): if i == 2: continue`                                    |\n",
        "| `pass`                | A placeholder that does nothing.                                                | `for i in range(3): if i == 1: pass`                                        |"
      ]
    },
    {
      "cell_type": "markdown",
      "metadata": {
        "id": "E9wlttwBah6g"
      },
      "source": [
        "## Functions"
      ]
    },
    {
      "cell_type": "markdown",
      "metadata": {
        "id": "9Il9Z3P9eFIl"
      },
      "source": [
        "\n",
        " Syntax of a Function\n",
        "```\n",
        "  def function_name(parameters):\n",
        "      \"\"\"Docstring (optional)\"\"\"\n",
        "      # Function body\n",
        "      return value  # Optional\n",
        "```\n",
        "\n",
        "\n",
        "- def: Keyword to define a function.\n",
        "\n",
        "- function_name: Name of the function (follows Python naming conventions).\n",
        "\n",
        "- parameters: Inputs to the function (optional).\n",
        "\n",
        "- Docstring: A description of the function (optional but recommended).\n",
        "\n",
        "- return: Returns a value (optional). If omitted, the function returns None."
      ]
    },
    {
      "cell_type": "markdown",
      "metadata": {
        "id": "RWZ8wgNbfBpY"
      },
      "source": [
        "####  Built-in Functions\n",
        "Python provides many built-in functions like print(), len(), type(), etc."
      ]
    },
    {
      "cell_type": "code",
      "execution_count": null,
      "metadata": {
        "id": "W_Rl42rlakFS"
      },
      "outputs": [],
      "source": [
        "sample_list = [1,2,3]\n",
        "print(len(sample_list))  # Built-in function"
      ]
    },
    {
      "cell_type": "markdown",
      "metadata": {
        "id": "_BMWOfvXfQm4"
      },
      "source": [
        "#### User-Defined Functions\n",
        "Functions defined by the user."
      ]
    },
    {
      "cell_type": "code",
      "execution_count": null,
      "metadata": {
        "id": "9clCfEg8fQ-Y"
      },
      "outputs": [],
      "source": [
        "def greet(name):\n",
        "    \"\"\"This function greets the user.\"\"\"\n",
        "    print(f\"Hello, {name}!\")\n",
        "\n",
        "greet(\"Alice\")  # Output: Hello, Alice!"
      ]
    },
    {
      "cell_type": "markdown",
      "metadata": {
        "id": "HncbF7RVfXa4"
      },
      "source": [
        "#### Lambda Functions (Anonymous Functions)\n",
        "Small, single-expression functions defined using the lambda keyword\n",
        "```\n",
        "lambda arguments: expression\n",
        "```"
      ]
    },
    {
      "cell_type": "code",
      "execution_count": null,
      "metadata": {
        "id": "neurwZxDfXIR"
      },
      "outputs": [],
      "source": [
        "square = lambda x: x ** 2\n",
        "print(square(5))  # Output: 25"
      ]
    },
    {
      "cell_type": "markdown",
      "metadata": {
        "id": "uKQ3yzxdfglY"
      },
      "source": [
        "#### Positional Arguments\n",
        "Arguments passed in the correct positional orde"
      ]
    },
    {
      "cell_type": "code",
      "execution_count": null,
      "metadata": {
        "id": "yQlFb6gyfg7A"
      },
      "outputs": [],
      "source": [
        "def add_func(a, b):\n",
        "    return a + b\n",
        "\n",
        "print(add_func(2, 3))  # Output: 5"
      ]
    },
    {
      "cell_type": "markdown",
      "metadata": {
        "id": "V9YbP-EefnLg"
      },
      "source": [
        "#### Keyword Arguments and\n",
        "#### Default Arguments\n",
        "Parameters with default values \\\n",
        "Arguments passed with a keyword (parameter name)"
      ]
    },
    {
      "cell_type": "code",
      "execution_count": null,
      "metadata": {
        "id": "fTDBUvO6fnhI"
      },
      "outputs": [],
      "source": [
        "def greet_func(name, message = \"Hi\"):\n",
        "    print(f\"{message}, {name}!\")\n",
        "\n",
        "greet_func(name=\"Alice\")  # Output: Hello, Alice!"
      ]
    },
    {
      "cell_type": "markdown",
      "metadata": {
        "id": "kOCT6dMUf1Wg"
      },
      "source": [
        "#### Variable-Length Arguments\n",
        "- *args: Accepts any number of positional arguments as a tuple.\n",
        "\n",
        "- **kwargs: Accepts any number of keyword arguments as a dictionary"
      ]
    },
    {
      "cell_type": "code",
      "execution_count": null,
      "metadata": {
        "id": "GY6zYmplf13Y"
      },
      "outputs": [],
      "source": [
        "def print_args(*a, **kwargs):\n",
        "    print(\"Positional arguments:\", a)\n",
        "    print(\"Keyword arguments:\", kwargs)\n",
        "\n",
        "print_args(1, 2, 3, name=\"Alice\", age=25)\n",
        "# Output:\n",
        "# Positional arguments: (1, 2, 3)\n",
        "# Keyword arguments: {'name': 'Alice', 'age': 25}"
      ]
    },
    {
      "cell_type": "markdown",
      "metadata": {
        "id": "8ynpa6kzf9tw"
      },
      "source": [
        "#### Return Values\n",
        "A function can return a value using the return statement. If no return is specified, the function returns None"
      ]
    },
    {
      "cell_type": "code",
      "execution_count": null,
      "metadata": {
        "id": "OQO8WYnuf_7A"
      },
      "outputs": [],
      "source": [
        "def add(a, b):\n",
        "    return a + b\n",
        "\n",
        "result = add(2, 3)\n",
        "print(result)  # Output: 5"
      ]
    },
    {
      "cell_type": "markdown",
      "metadata": {
        "id": "KdeGoMHngA6Y"
      },
      "source": [
        "#### Scope of Variables\n",
        "- Local Scope: Variables defined inside a function\n",
        "- Global Scope: Variables defined outside a function"
      ]
    },
    {
      "cell_type": "code",
      "execution_count": null,
      "metadata": {
        "id": "1IW9XQfqgGUA"
      },
      "outputs": [],
      "source": [
        "x = 10  # Global variable\n",
        "\n",
        "def my_function():\n",
        "    y = 5  # Local variable\n",
        "    print(\"Local variable y:\", y)\n",
        "    print(\"Global variable x:\", x)\n",
        "\n",
        "my_function()\n",
        "# Output:\n",
        "# Local variable y: 5\n",
        "# Global variable x: 10"
      ]
    },
    {
      "cell_type": "markdown",
      "metadata": {
        "id": "7nqvzAMggS9g"
      },
      "source": [
        "#### decorator\n",
        "![python-decorator.webp](data:image/webp;base64,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)"
      ]
    },
    {
      "cell_type": "code",
      "execution_count": null,
      "metadata": {
        "id": "FWnJWblhgWaI"
      },
      "outputs": [],
      "source": [
        "def do_something1(func):\n",
        "    def wrapper():\n",
        "        start = time.time()\n",
        "        func()\n",
        "        end = time.time()\n",
        "        print(f\"timestamps: {end - start}\")\n",
        "    return wrapper\n",
        "\n",
        "@do_something1\n",
        "def func():\n",
        "    time.sleep(5)\n",
        "    print(\"Hello\")\n",
        "\n",
        "func()"
      ]
    },
    {
      "cell_type": "markdown",
      "metadata": {
        "id": "sSlJTdPPdzPt"
      },
      "source": [
        "#### manual decorator"
      ]
    },
    {
      "cell_type": "code",
      "execution_count": null,
      "metadata": {
        "id": "g_112w9VlDRJ"
      },
      "outputs": [],
      "source": [
        "def do_something2(func):\n",
        "    def wrapper():\n",
        "        start = time.time()\n",
        "        func()\n",
        "        end = time.time()\n",
        "        print(f\"timestamps: {end - start}\")\n",
        "    return wrapper\n",
        "\n",
        "def random_function():\n",
        "    time.sleep(5)\n",
        "    print(\"Hello\")\n",
        "\n",
        "random_function = do_something2(random_function)\n",
        "\n",
        "random_function()"
      ]
    },
    {
      "cell_type": "markdown",
      "metadata": {
        "id": "i7ZHZWNCatIV"
      },
      "source": [
        "### summary"
      ]
    },
    {
      "cell_type": "markdown",
      "metadata": {
        "id": "FzKA3fZVaqys"
      },
      "source": [
        "| **Concept**               | **Description**                                                                 | **Example**                                                                 |\n",
        "|---------------------------|---------------------------------------------------------------------------------|-----------------------------------------------------------------------------|\n",
        "| **Function Definition**   | Define a function using `def`.                                                  | `def greet(name): print(f\"Hello, {name}!\")`                                 |\n",
        "| **Lambda Function**       | Single-expression anonymous function.                                           | `square = lambda x: x ** 2`                                                |\n",
        "| **Positional Arguments**  | Arguments passed in order.                                                      | `add(2, 3)`                                                                |\n",
        "| **Keyword Arguments**     | Arguments passed with parameter names.                                          | `greet(name=\"Alice\", message=\"Hello\")`                                     |\n",
        "| **Default Arguments**     | Parameters with default values.                                                 | `greet(name=\"Alice\")`                                                      |\n",
        "| **Variable-Length Args**  | Accept any number of arguments (`*args`, `**kwargs`).                          | `print_args(1, 2, 3, name=\"Alice\")`                                        |\n",
        "| **Return Value**          | Return a value using `return`.                                                  | `return a + b`                                                             |\n",
        "| **Scope**                 | Local vs global variables.                                                      | `x = 10` (global), `y = 5` (local)                                         |\n",
        "| **Recursion**             | Function calls itself.                                                          | `factorial(n)`                                                             |\n",
        "| **Decorators**            | Modify behavior of functions.                                                   | `@decorator`                                                               |\n",
        "| **Generators**            | Produce values lazily using `yield`.                                            | `yield i`                                                                  |"
      ]
    },
    {
      "cell_type": "markdown",
      "metadata": {
        "id": "6reR57oIXwyp"
      },
      "source": [
        "## debugging a training loop"
      ]
    },
    {
      "cell_type": "code",
      "execution_count": null,
      "metadata": {
        "id": "CpIV01mgX1US"
      },
      "outputs": [],
      "source": [
        "# Simulate a training loop\n",
        "for epoch in range(1, 11):\n",
        "    loss = 1.0 / epoch  # Simulated loss\n",
        "\n",
        "    # Save a checkpoint every 2 epochs\n",
        "    if epoch % 2 == 0:\n",
        "        checkpoint = {\"epoch\": epoch, \"loss\": loss}\n",
        "        with open(\"checkpoint.pkl\", \"wb\") as f:\n",
        "            pickle.dump(checkpoint, f)\n",
        "        print(f\"Checkpoint saved at epoch {epoch}\")\n",
        "\n",
        "    # Simulate an error at epoch 5\n",
        "    if epoch == 5:\n",
        "        print(\"Simulating an error...\")\n",
        "        break  # Stop execution\n",
        "\n",
        "# Debugging: Load the last checkpoint\n",
        "with open(\"checkpoint.pkl\", \"rb\") as f:\n",
        "    checkpoint = pickle.load(f)\n",
        "\n",
        "print(f\"Resuming from epoch {checkpoint['epoch']} with loss {checkpoint['loss']}\")"
      ]
    },
    {
      "cell_type": "markdown",
      "metadata": {
        "id": "I5A5dpouakVY"
      },
      "source": [
        "## OOP"
      ]
    },
    {
      "cell_type": "markdown",
      "metadata": {
        "id": "7hrA30cQOBy2"
      },
      "source": [
        "# Object-Oriented Programming (OOP) in Reinforcement Learning (RL)\n",
        "## Implementing `Env` and `Agent` Classes\n",
        "\n",
        "### Table of Contents\n",
        "\n",
        "1. **Introduction**\n",
        "   - Project Overview\n",
        "   - OOP Concepts Illustrated\n",
        "   - RL Components as Objects\n",
        "\n",
        "2. **Core Class Design**\n",
        "   - `Env` (Environment) Class\n",
        "     - Key Attributes\n",
        "     - Essential Methods\n",
        "   - `Agent` Class\n",
        "     - Key Attributes\n",
        "     - Essential Methods\n",
        "\n",
        "3. **Class Implementation**\n",
        "   ```python\n",
        "   class Env:\n",
        "       def __init__(self, ...):\n",
        "           # Initialize state, action space, etc.\n",
        "       \n",
        "       def reset(self):\n",
        "           # Reset environment to initial state\n",
        "       \n",
        "       def step(self, action):\n",
        "           # Execute action, return (next_state, reward, done, info)\n",
        "       \n",
        "       def render(self):\n",
        "           # Visualize current state"
      ]
    },
    {
      "cell_type": "markdown",
      "metadata": {
        "id": "zJAImq6KOKf9"
      },
      "source": [
        "## Agent"
      ]
    },
    {
      "cell_type": "code",
      "execution_count": null,
      "metadata": {
        "id": "3lmqiRMQasLJ"
      },
      "outputs": [],
      "source": [
        "class Agent:\n",
        "    def __init__(self):\n",
        "        # Initialize policy, value estimates, etc.\n",
        "        pass\n",
        "    def action(self, state):\n",
        "        # Select action based on current policy\n",
        "        pass\n",
        "    def update(self, state, action, reward, next_state):\n",
        "        # Learn from experience\n",
        "        pass\n",
        "    def save_model(self, path):\n",
        "        # Save learned parameters\n",
        "        pass"
      ]
    },
    {
      "cell_type": "markdown",
      "metadata": {
        "id": "M7ncC6-ROTYH"
      },
      "source": [
        "## training or evaluation loop"
      ]
    },
    {
      "cell_type": "code",
      "execution_count": null,
      "metadata": {
        "id": "josYLLkQOSoV"
      },
      "outputs": [],
      "source": [
        "env = Env()\n",
        "agent = Agent()\n",
        "\n",
        "for episode in range(EPISODES):\n",
        "    state = env.reset()\n",
        "    while not done:\n",
        "        action = agent.choose_action(state)\n",
        "        next_state, reward, done = env.step(action)\n",
        "        agent.update(state, action, reward, next_state)\n",
        "        state = next_state"
      ]
    },
    {
      "cell_type": "markdown",
      "source": [
        "# OOP concepts\n",
        "- Encapsulation: Hiding the Q-table and learning parameters\n",
        "\n",
        "- Inheritance: Creating a specialized DQN agent from a base agent\n",
        "\n",
        "- Polymorphism: Using different agent types interchangeably\n",
        "\n",
        "- Abstraction: Defining an interface for RL environments"
      ],
      "metadata": {
        "id": "dnM3bOVbO3dE"
      }
    },
    {
      "cell_type": "markdown",
      "source": [
        "## Encapsulation - Q-Learning Agent"
      ],
      "metadata": {
        "id": "eYO7Rbb0PQGs"
      }
    },
    {
      "cell_type": "code",
      "source": [
        "class QLearningAgent:\n",
        "    def __init__(self, state_size, action_size, learning_rate=0.1, discount_factor=0.9, exploration_rate=0.1):\n",
        "        # Encapsulated attributes\n",
        "        self._q_table = np.zeros((state_size, action_size))  # Private attribute\n",
        "        self._learning_rate = learning_rate\n",
        "        self._discount_factor = discount_factor\n",
        "        self._exploration_rate = exploration_rate\n",
        "\n",
        "    def get_action(self, state):\n",
        "        if np.random.random() < self._exploration_rate:\n",
        "            return np.random.randint(0, len(self._q_table[state]))\n",
        "        return np.argmax(self._q_table[state])\n",
        "\n",
        "    def update(self, state, action, reward, next_state):\n",
        "        # Encapsulated method for Q-value update\n",
        "        best_next_action = np.argmax(self._q_table[next_state])\n",
        "        td_target = reward + self._discount_factor * self._q_table[next_state][best_next_action]\n",
        "        td_error = td_target - self._q_table[state][action]\n",
        "        self._q_table[state][action] += self._learning_rate * td_error\n",
        "\n",
        "# Usage\n",
        "agent = QLearningAgent(state_size=10, action_size=4)"
      ],
      "metadata": {
        "id": "rc2RQQiZO6Tz"
      },
      "execution_count": null,
      "outputs": []
    },
    {
      "cell_type": "markdown",
      "source": [
        "## Inheritance - Base Agent and DQN Agent"
      ],
      "metadata": {
        "id": "ehhxJQ1KPWkj"
      }
    },
    {
      "cell_type": "code",
      "source": [
        "class BaseAgent:\n",
        "    def __init__(self, state_size, action_size):\n",
        "        self.state_size = state_size\n",
        "        self.action_size = action_size\n",
        "\n",
        "    def get_action(self, state):\n",
        "        raise NotImplementedError(\"Subclasses must implement get_action\")\n",
        "\n",
        "    def update(self, state, action, reward, next_state, done):\n",
        "        raise NotImplementedError(\"Subclasses must implement update\")\n",
        "\n",
        "class DQNAgent(BaseAgent):\n",
        "    def __init__(self, state_size, action_size):\n",
        "        super().__init__(state_size, action_size)\n",
        "        self.model = self._build_model()\n",
        "\n",
        "    def _build_model(self):\n",
        "        model = Sequential()\n",
        "        model.add(Dense(24, input_dim=self.state_size, activation='relu'))\n",
        "        model.add(Dense(24, activation='relu'))\n",
        "        model.add(Dense(self.action_size, activation='linear'))\n",
        "        model.compile(loss='mse', optimizer=Adam(lr=0.001))\n",
        "        return model\n",
        "\n",
        "    def get_action(self, state):\n",
        "        q_values = self.model.predict(state)\n",
        "        return np.argmax(q_values[0])\n",
        "\n",
        "    def update(self, state, action, reward, next_state, done):\n",
        "        target = reward\n",
        "        if not done:\n",
        "            target = reward + 0.95 * np.amax(self.model.predict(next_state)[0])\n",
        "        target_f = self.model.predict(state)\n",
        "        target_f[0][action] = target\n",
        "        self.model.fit(state, target_f, epochs=1, verbose=0)\n",
        "\n",
        "# Usage\n",
        "dqn_agent = DQNAgent(state_size=4, action_size=2)"
      ],
      "metadata": {
        "id": "Zq4e3yVbPZPr"
      },
      "execution_count": null,
      "outputs": []
    },
    {
      "cell_type": "markdown",
      "source": [
        "## Polymorphism - Different Agent Types\n"
      ],
      "metadata": {
        "id": "REDf72AHPasT"
      }
    },
    {
      "cell_type": "code",
      "source": [
        "class RandomAgent:\n",
        "    def get_action(self, state):\n",
        "        return np.random.choice([0, 1])\n",
        "\n",
        "    def update(self, *args):\n",
        "        pass\n",
        "\n",
        "class PolicyGradientAgent:\n",
        "    def __init__(self, state_size, action_size):\n",
        "        self.state_size = state_size\n",
        "        self.action_size = action_size\n",
        "        self.model = self._build_model()\n",
        "\n",
        "    def get_action(self, state):\n",
        "        policy = self.model.predict(state)[0]\n",
        "        return np.random.choice(self.action_size, p=policy)\n",
        "\n",
        "    def update(self, states, actions, rewards):\n",
        "        # Policy gradient update implementation\n",
        "        pass\n",
        "\n",
        "# Polymorphic function that works with any agent type\n",
        "def run_episode(env, agent):\n",
        "    state = env.reset()\n",
        "    done = False\n",
        "    total_reward = 0\n",
        "\n",
        "    while not done:\n",
        "        action = agent.get_action(state)  # Polymorphic call\n",
        "        next_state, reward, done, _ = env.step(action)\n",
        "        agent.update(state, action, reward, next_state, done)  # Polymorphic call\n",
        "        state = next_state\n",
        "        total_reward += reward\n",
        "\n",
        "    return total_reward\n",
        "\n",
        "# Usage\n",
        "env = gym.make('CartPole-v1')\n",
        "agents = [RandomAgent(), PolicyGradientAgent(state_size=4, action_size=2)]\n",
        "for agent in agents:\n",
        "    reward = run_episode(env, agent)\n",
        "    print(f\"Agent: {type(agent).__name__}, Reward: {reward}\")"
      ],
      "metadata": {
        "id": "KlC78tMxPqUL"
      },
      "execution_count": null,
      "outputs": []
    },
    {
      "cell_type": "markdown",
      "source": [
        "##  Abstraction - RL Environment Interface"
      ],
      "metadata": {
        "id": "O0vxghCuPsRa"
      }
    },
    {
      "cell_type": "code",
      "source": [
        "from abc import ABC, abstractmethod\n",
        "\n",
        "class RLEnvironment(ABC):\n",
        "    @abstractmethod\n",
        "    def reset(self):\n",
        "        \"\"\"Reset the environment to initial state\"\"\"\n",
        "        pass\n",
        "\n",
        "    @abstractmethod\n",
        "    def step(self, action):\n",
        "        \"\"\"Execute one action in the environment\"\"\"\n",
        "        pass\n",
        "\n",
        "    @abstractmethod\n",
        "    def get_state_size(self):\n",
        "        \"\"\"Get the size of the state space\"\"\"\n",
        "        pass\n",
        "\n",
        "    @abstractmethod\n",
        "    def get_action_size(self):\n",
        "        \"\"\"Get the size of the action space\"\"\"\n",
        "        pass\n",
        "\n",
        "class MazeEnvironment(RLEnvironment):\n",
        "    def __init__(self, maze):\n",
        "        self.maze = maze\n",
        "        self.current_position = (0, 0)\n",
        "        self.goal = (len(maze)-1, len(maze[0])-1)\n",
        "\n",
        "    def reset(self):\n",
        "        self.current_position = (0, 0)\n",
        "        return self.current_position\n",
        "\n",
        "    def step(self, action):\n",
        "        # 0: up, 1: right, 2: down, 3: left\n",
        "        x, y = self.current_position\n",
        "        if action == 0 and x > 0 and self.maze[x-1][y] != 1:\n",
        "            x -= 1\n",
        "        elif action == 1 and y < len(self.maze[0])-1 and self.maze[x][y+1] != 1:\n",
        "            y += 1\n",
        "        elif action == 2 and x < len(self.maze)-1 and self.maze[x+1][y] != 1:\n",
        "            x += 1\n",
        "        elif action == 3 and y > 0 and self.maze[x][y-1] != 1:\n",
        "            y -= 1\n",
        "\n",
        "        self.current_position = (x, y)\n",
        "        done = (x, y) == self.goal\n",
        "        reward = 1 if done else -0.01\n",
        "        return (x, y), reward, done, {}\n",
        "\n",
        "    def get_state_size(self):\n",
        "        return 2  # (x,y) position\n",
        "\n",
        "    def get_action_size(self):\n",
        "        return 4  # up, right, down, left\n",
        "\n",
        "# Usage\n",
        "maze = [\n",
        "    [0, 1, 0, 0],\n",
        "    [0, 1, 0, 1],\n",
        "    [0, 0, 0, 0],\n",
        "    [1, 0, 1, 0]\n",
        "]\n",
        "env = MazeEnvironment(maze)"
      ],
      "metadata": {
        "id": "c_uyQq0ePupb"
      },
      "execution_count": null,
      "outputs": []
    },
    {
      "cell_type": "markdown",
      "source": [],
      "metadata": {
        "id": "tfD5DFglPcx8"
      }
    },
    {
      "cell_type": "markdown",
      "metadata": {
        "id": "LBdLbGHKaspg"
      },
      "source": [
        "# Numpy"
      ]
    },
    {
      "cell_type": "code",
      "execution_count": null,
      "metadata": {
        "id": "movovZGpat4I"
      },
      "outputs": [],
      "source": [
        "import numpy as np"
      ]
    },
    {
      "cell_type": "markdown",
      "metadata": {
        "id": "UlVoZbQ5SPOf"
      },
      "source": [
        "##  Basic Array Operations"
      ]
    },
    {
      "cell_type": "code",
      "execution_count": null,
      "metadata": {
        "id": "Plpxy7DnSQ43"
      },
      "outputs": [],
      "source": [
        "# Creating arrays\n",
        "arr1 = np.array([1, 2, 3, 4, 5])  # 1D array\n",
        "arr2 = np.array([[1, 2, 3], [4, 5, 6]])  # 2D array\n",
        "\n",
        "# Array attributes\n",
        "print(\"Shape:\", arr2.shape)  # (2, 3)\n",
        "print(\"Dimensions:\", arr2.ndim)  # 2\n",
        "print(\"Size:\", arr2.size)  # 6\n",
        "print(\"Data type:\", arr2.dtype)  # int64\n",
        "\n",
        "# Array operations\n",
        "print(\"Sum:\", np.sum(arr1))  # 15\n",
        "print(\"Mean:\", np.mean(arr1))  # 3.0\n",
        "print(\"Max:\", np.max(arr1))  # 5\n",
        "print(\"Element-wise square:\", np.square(arr1))  # [1, 4, 9, 16, 25]"
      ]
    },
    {
      "cell_type": "markdown",
      "metadata": {
        "id": "2sN0ANk0SQbv"
      },
      "source": [
        "## Matrix Operations"
      ]
    },
    {
      "cell_type": "code",
      "execution_count": null,
      "metadata": {
        "id": "ZGpBv0nHSWhA"
      },
      "outputs": [],
      "source": [
        "# Matrix creation\n",
        "matrix_a = np.array([[1, 2], [3, 4]])\n",
        "matrix_b = np.array([[5, 6], [7, 8]])\n",
        "\n",
        "# Matrix multiplication\n",
        "matrix_product = np.dot(matrix_a, matrix_b)\n",
        "# Alternative: matrix_a @ matrix_b\n",
        "print(\"Matrix product:\\n\", matrix_product)\n",
        "\n",
        "# Transpose\n",
        "print(\"Transpose:\\n\", matrix_a.T)\n",
        "\n",
        "# Determinant\n",
        "print(\"Determinant:\", np.linalg.det(matrix_a))\n",
        "\n",
        "# Inverse\n",
        "print(\"Inverse:\\n\", np.linalg.inv(matrix_a))\n",
        "\n",
        "# Eigenvalues and eigenvectors\n",
        "eigenvalues, eigenvectors = np.linalg.eig(matrix_a)\n",
        "print(\"Eigenvalues:\", eigenvalues)\n",
        "print(\"Eigenvectors:\\n\", eigenvectors)"
      ]
    },
    {
      "cell_type": "markdown",
      "metadata": {
        "id": "Yxe3GdzaSWQn"
      },
      "source": [
        "## Array Indexing and Slicing"
      ]
    },
    {
      "cell_type": "code",
      "execution_count": null,
      "metadata": {
        "id": "yhGBHQjSTYFu"
      },
      "outputs": [],
      "source": [
        "# Create a 3x4 array\n",
        "arr = np.array([[1, 2, 3, 4],\n",
        "                [5, 6, 7, 8],\n",
        "                [9, 10, 11, 12]])\n",
        "\n",
        "# Indexing\n",
        "print(\"Element at row 1, column 2:\", arr[1, 2])  # 7\n",
        "\n",
        "# Slicing\n",
        "print(\"First row:\", arr[0, :])  # [1 2 3 4]\n",
        "print(\"Second column:\", arr[:, 1])  # [2, 6, 10]\n",
        "print(\"Submatrix:\\n\", arr[1:3, 0:2])  # [[5, 6], [9, 10]]\n",
        "\n",
        "# Boolean indexing\n",
        "mask = arr > 5\n",
        "print(\"Elements > 5:\", arr[mask])  # [6, 7, 8, 9, 10, 11, 12]"
      ]
    },
    {
      "cell_type": "markdown",
      "metadata": {
        "id": "dCqxkdq-TYbe"
      },
      "source": [
        "## Random Number Generation"
      ]
    },
    {
      "cell_type": "code",
      "source": [
        "# Random numbers between 0 and 1\n",
        "random_array = np.random.random((3, 3))\n",
        "print(\"Random 3x3 array:\\n\", random_array)\n",
        "\n",
        "# Random integers\n",
        "random_ints = np.random.randint(0, 10, size=5)\n",
        "print(\"Random integers:\", random_ints)\n",
        "\n",
        "# Normal distribution\n",
        "normal_dist = np.random.normal(0, 1, 1000)  # mean=0, std=1\n",
        "\n",
        "# Shuffling\n",
        "arr = np.arange(10)\n",
        "np.random.shuffle(arr)\n",
        "print(\"Shuffled array:\", arr)"
      ],
      "metadata": {
        "id": "Fxq1iFeBQt5C"
      },
      "execution_count": null,
      "outputs": []
    },
    {
      "cell_type": "markdown",
      "source": [
        "##  Practical Application: Image Processing"
      ],
      "metadata": {
        "id": "23z7a0f5QvQb"
      }
    },
    {
      "cell_type": "code",
      "source": [
        "# Simulate a grayscale image (2D array)\n",
        "image = np.random.randint(0, 256, size=(100, 100), dtype=np.uint8)\n",
        "\n",
        "# Image operations\n",
        "brightened_image = np.clip(image * 1.5, 0, 255).astype(np.uint8)\n",
        "inverted_image = 255 - image\n",
        "\n",
        "# Kernel for edge detection\n",
        "kernel = np.array([[-1, -1, -1],\n",
        "                   [-1, 8, -1],\n",
        "                   [-1, -1, -1]])\n",
        "\n",
        "# Apply convolution (simplified)\n",
        "def convolve(image, kernel):\n",
        "    output = np.zeros_like(image)\n",
        "    for i in range(1, image.shape[0]-1):\n",
        "        for j in range(1, image.shape[1]-1):\n",
        "            output[i, j] = np.sum(image[i-1:i+2, j-1:j+2] * kernel)\n",
        "    return output\n",
        "\n",
        "edges = convolve(image, kernel)"
      ],
      "metadata": {
        "id": "dOjCg783Q0Aa"
      },
      "execution_count": null,
      "outputs": []
    },
    {
      "cell_type": "markdown",
      "source": [
        "## Linear Regression with NumPy"
      ],
      "metadata": {
        "id": "Y1Mu9nJrQ1WS"
      }
    },
    {
      "cell_type": "code",
      "source": [
        "# Generate synthetic data\n",
        "np.random.seed(42)\n",
        "X = 2 * np.random.rand(100, 1)\n",
        "y = 4 + 3 * X + np.random.randn(100, 1)\n",
        "\n",
        "# Add bias term (x0 = 1)\n",
        "X_b = np.c_[np.ones((100, 1)), X]\n",
        "\n",
        "# Normal equation: theta = (X^T X)^-1 X^T y\n",
        "theta = np.linalg.inv(X_b.T.dot(X_b)).dot(X_b.T).dot(y)\n",
        "\n",
        "print(\"Intercept:\", theta[0][0])  # Close to 4\n",
        "print(\"Slope:\", theta[1][0])  # Close to 3\n",
        "\n",
        "# Make predictions\n",
        "X_new = np.array([[0], [2]])\n",
        "X_new_b = np.c_[np.ones((2, 1)), X_new]\n",
        "y_predict = X_new_b.dot(theta)"
      ],
      "metadata": {
        "id": "OrKa41j9Q4br"
      },
      "execution_count": null,
      "outputs": []
    },
    {
      "cell_type": "markdown",
      "source": [
        "## Performance Comparison: NumPy vs Python Lists"
      ],
      "metadata": {
        "id": "h0CS1eYtQ55y"
      }
    },
    {
      "cell_type": "code",
      "source": [
        "import time\n",
        "\n",
        "size = 1000000\n",
        "\n",
        "# Python list\n",
        "start = time.time()\n",
        "python_list = list(range(size))\n",
        "result = [x * 2 for x in python_list]\n",
        "end = time.time()\n",
        "print(\"Python list time:\", end - start)\n",
        "\n",
        "# NumPy array\n",
        "start = time.time()\n",
        "numpy_array = np.arange(size)\n",
        "result = numpy_array * 2\n",
        "end = time.time()\n",
        "print(\"NumPy array time:\", end - start)"
      ],
      "metadata": {
        "id": "iWtxSbNpQ9c6"
      },
      "execution_count": null,
      "outputs": []
    },
    {
      "cell_type": "markdown",
      "metadata": {
        "id": "z3wTt-7xauF4"
      },
      "source": [
        "# Seaborn and Matplotlib"
      ]
    },
    {
      "cell_type": "code",
      "execution_count": null,
      "metadata": {
        "id": "Rxi3rew-ay4Y"
      },
      "outputs": [],
      "source": [
        "import matplotlib.pyplot as plt\n",
        "import seaborn as sn"
      ]
    },
    {
      "cell_type": "markdown",
      "source": [
        "## Basic Matplotlib Plots"
      ],
      "metadata": {
        "id": "eEvRavcqCLPU"
      }
    },
    {
      "cell_type": "code",
      "source": [
        "# Create some data\n",
        "x = np.linspace(0, 10, 100)\n",
        "y = np.sin(x)\n",
        "\n",
        "# Line plot\n",
        "plt.figure(figsize=(8, 4))\n",
        "plt.plot(x, y, label='sin(x)', color='blue', linestyle='--', linewidth=2)\n",
        "plt.title(\"Basic Line Plot\")\n",
        "plt.xlabel(\"X-axis\")\n",
        "plt.ylabel(\"Y-axis\")\n",
        "plt.legend()\n",
        "plt.grid(True)\n",
        "plt.show()\n",
        "\n",
        "# Scatter plot\n",
        "plt.figure(figsize=(8, 4))\n",
        "plt.scatter(x, y, c='red', marker='o', alpha=0.5, label='Data Points')\n",
        "plt.title(\"Scatter Plot\")\n",
        "plt.xlabel(\"X-axis\")\n",
        "plt.ylabel(\"Y-axis\")\n",
        "plt.legend()\n",
        "plt.show()\n",
        "\n",
        "# Bar plot\n",
        "categories = ['A', 'B', 'C', 'D']\n",
        "values = [15, 25, 30, 20]\n",
        "plt.figure(figsize=(8, 4))\n",
        "plt.bar(categories, values, color=['red', 'green', 'blue', 'purple'])\n",
        "plt.title(\"Bar Plot\")\n",
        "plt.xlabel(\"Categories\")\n",
        "plt.ylabel(\"Values\")\n",
        "plt.show()"
      ],
      "metadata": {
        "id": "_RxfeoYBCJOz"
      },
      "execution_count": null,
      "outputs": []
    },
    {
      "cell_type": "markdown",
      "source": [
        "## Seaborn Statistical Visualizations"
      ],
      "metadata": {
        "id": "7HU9_Wc1CORz"
      }
    },
    {
      "cell_type": "code",
      "source": [
        "import seaborn as sns\n",
        "import pandas as pd\n",
        "\n",
        "# Load built-in dataset\n",
        "tips = sns.load_dataset('tips')\n",
        "\n",
        "# Distribution plot\n",
        "plt.figure(figsize=(8, 4))\n",
        "sns.histplot(data=tips, x='total_bill', kde=True, bins=20, color='skyblue')\n",
        "plt.title(\"Distribution of Total Bill\")\n",
        "plt.show()\n",
        "\n",
        "# Box plot\n",
        "plt.figure(figsize=(8, 4))\n",
        "sns.boxplot(data=tips, x='day', y='total_bill', hue='sex', palette='Set2')\n",
        "plt.title(\"Total Bill by Day and Gender\")\n",
        "plt.show()\n",
        "\n",
        "# Violin plot\n",
        "plt.figure(figsize=(8, 4))\n",
        "sns.violinplot(data=tips, x='day', y='total_bill', hue='sex', split=True, palette='coolwarm')\n",
        "plt.title(\"Violin Plot of Total Bill by Day and Gender\")\n",
        "plt.show()"
      ],
      "metadata": {
        "id": "G3aKMyFzCQ0E"
      },
      "execution_count": null,
      "outputs": []
    },
    {
      "cell_type": "markdown",
      "source": [
        "## Advanced Seaborn Plots"
      ],
      "metadata": {
        "id": "64OWukgVCSdj"
      }
    },
    {
      "cell_type": "code",
      "source": [
        "# Pair plot (scatter matrix)\n",
        "sns.pairplot(tips, hue='sex', palette='husl', diag_kind='kde')\n",
        "plt.suptitle(\"Pair Plot of Tips Dataset\", y=1.02)\n",
        "plt.show()\n",
        "\n",
        "# Heatmap\n",
        "corr = tips.corr(numeric_only=True)\n",
        "plt.figure(figsize=(8, 6))\n",
        "sns.heatmap(corr, annot=True, cmap='coolwarm', center=0)\n",
        "plt.title(\"Correlation Heatmap\")\n",
        "plt.show()\n",
        "\n",
        "# Regression plot\n",
        "plt.figure(figsize=(8, 6))\n",
        "sns.regplot(data=tips, x='total_bill', y='tip', scatter_kws={'alpha':0.5}, line_kws={'color':'red'})\n",
        "plt.title(\"Total Bill vs Tip with Regression Line\")\n",
        "plt.show()\n",
        "\n",
        "# FacetGrid\n",
        "g = sns.FacetGrid(tips, col='time', row='smoker', margin_titles=True)\n",
        "g.map(sns.scatterplot, 'total_bill', 'tip', alpha=0.6)\n",
        "g.fig.suptitle(\"Total Bill vs Tip by Time and Smoking Status\", y=1.02)\n",
        "plt.show()"
      ],
      "metadata": {
        "id": "yBJ1vILfCU47"
      },
      "execution_count": null,
      "outputs": []
    },
    {
      "cell_type": "markdown",
      "source": [
        "## Customizing Plots"
      ],
      "metadata": {
        "id": "h4WMV7geCWLj"
      }
    },
    {
      "cell_type": "code",
      "source": [
        "# Create a customized figure\n",
        "plt.figure(figsize=(10, 6), facecolor='#f5f5f5')  # Set figure size and background color\n",
        "\n",
        "# Create data\n",
        "x = np.arange(1, 11)\n",
        "y1 = np.random.randint(1, 10, size=10)\n",
        "y2 = np.random.randint(1, 10, size=10)\n",
        "\n",
        "# Plot with customization\n",
        "plt.plot(x, y1, label='Series 1', marker='o', markersize=8,\n",
        "         linestyle='--', linewidth=2, color='#3498db')\n",
        "plt.plot(x, y2, label='Series 2', marker='s', markersize=8,\n",
        "         linestyle='-', linewidth=2, color='#e74c3c')\n",
        "\n",
        "# Customize axes and grid\n",
        "plt.xticks(x, [f'Day {i}' for i in x], rotation=45)\n",
        "plt.yticks(np.arange(0, 11, 2))\n",
        "plt.grid(True, linestyle='--', alpha=0.6)\n",
        "\n",
        "# Add titles and legend\n",
        "plt.title(\"Customized Plot Example\", fontsize=14, pad=20)\n",
        "plt.xlabel(\"Time\", fontsize=12)\n",
        "plt.ylabel(\"Value\", fontsize=12)\n",
        "plt.legend(fontsize=10, framealpha=0.9, shadow=True)\n",
        "\n",
        "# Add annotations\n",
        "plt.annotate('Peak Value', xy=(5, y1[4]), xytext=(6, 8),\n",
        "             arrowprops=dict(facecolor='black', shrink=0.05))\n",
        "\n",
        "# Adjust layout\n",
        "plt.tight_layout()\n",
        "plt.show()"
      ],
      "metadata": {
        "id": "IavORbWHCYqr"
      },
      "execution_count": null,
      "outputs": []
    },
    {
      "cell_type": "markdown",
      "source": [
        "## Subplots and Multiple Plots"
      ],
      "metadata": {
        "id": "Z9aY7XABCZ5L"
      }
    },
    {
      "cell_type": "code",
      "source": [
        "# Create a 2x2 grid of subplots\n",
        "fig, axes = plt.subplots(2, 2, figsize=(12, 8))\n",
        "fig.suptitle(\"Multiple Plot Example\", fontsize=16, y=1.02)\n",
        "\n",
        "# Plot 1: Line plot\n",
        "axes[0, 0].plot(x, y1, color='blue')\n",
        "axes[0, 0].set_title(\"Line Plot\")\n",
        "\n",
        "# Plot 2: Bar plot\n",
        "axes[0, 1].bar(x, y2, color='green')\n",
        "axes[0, 1].set_title(\"Bar Plot\")\n",
        "\n",
        "# Plot 3: Scatter plot\n",
        "axes[1, 0].scatter(x, y1, color='red')\n",
        "axes[1, 0].set_title(\"Scatter Plot\")\n",
        "\n",
        "# Plot 4: Box plot\n",
        "sns.boxplot(data=tips, x='day', y='total_bill', ax=axes[1, 1])\n",
        "axes[1, 1].set_title(\"Box Plot\")\n",
        "\n",
        "# Adjust layout\n",
        "plt.tight_layout()\n",
        "plt.show()"
      ],
      "metadata": {
        "id": "BRvrP9RWCb4L"
      },
      "execution_count": null,
      "outputs": []
    },
    {
      "cell_type": "markdown",
      "source": [
        "## Saving Plots"
      ],
      "metadata": {
        "id": "R4sgGpjwCdLc"
      }
    },
    {
      "cell_type": "code",
      "source": [
        "# Create a plot\n",
        "plt.figure(figsize=(8, 5))\n",
        "sns.barplot(data=tips, x='day', y='total_bill', ci=None, palette='viridis')\n",
        "plt.title(\"Average Total Bill by Day\")\n",
        "\n",
        "# Save in different formats\n",
        "plt.savefig('plot.png', dpi=300, bbox_inches='tight')  # PNG format\n",
        "plt.savefig('plot.pdf', bbox_inches='tight')  # PDF format\n",
        "plt.savefig('plot.jpg', quality=90, bbox_inches='tight')  # JPG format\n",
        "plt.savefig('plot.svg', bbox_inches='tight')  # SVG format\n",
        "\n",
        "plt.show()"
      ],
      "metadata": {
        "id": "cyhNZEj4Cfjr"
      },
      "execution_count": null,
      "outputs": []
    },
    {
      "cell_type": "markdown",
      "source": [
        "## Time Series Visualization"
      ],
      "metadata": {
        "id": "1Q-UgzfHCiXr"
      }
    },
    {
      "cell_type": "code",
      "source": [
        "# Create time series data\n",
        "dates = pd.date_range('2023-01-01', periods=100, freq='D')\n",
        "values = np.cumsum(np.random.randn(100)) + 50\n",
        "\n",
        "# Create DataFrame\n",
        "ts_data = pd.DataFrame({'Date': dates, 'Value': values})\n",
        "\n",
        "# Plot time series\n",
        "plt.figure(figsize=(12, 5))\n",
        "plt.plot(ts_data['Date'], ts_data['Value'], color='purple')\n",
        "plt.title(\"Time Series Example\")\n",
        "plt.xlabel(\"Date\")\n",
        "plt.ylabel(\"Value\")\n",
        "plt.grid(True)\n",
        "plt.xticks(rotation=45)\n",
        "plt.tight_layout()\n",
        "plt.show()\n",
        "\n",
        "# Using seaborn for time series\n",
        "plt.figure(figsize=(12, 5))\n",
        "sns.lineplot(data=ts_data, x='Date', y='Value', ci=None, color='green')\n",
        "plt.title(\"Time Series with Seaborn\")\n",
        "plt.show()"
      ],
      "metadata": {
        "id": "Asr40lUXClUz"
      },
      "execution_count": null,
      "outputs": []
    },
    {
      "cell_type": "markdown",
      "metadata": {
        "id": "LjucKfRThz87"
      },
      "source": [
        "# Crate a new environment\n",
        "![Agent and Env class.drawio (1).png](data:image/png;base64,iVBORw0KGgoAAAANSUhEUgAAAxcAAAGlCAYAAACIvQtrAAAAAXNSR0IArs4c6QAAQfB0RVh0bXhmaWxlACUzQ214ZmlsZSUyMGhvc3QlM0QlMjJhcHAuZGlhZ3JhbXMubmV0JTIyJTIwYWdlbnQlM0QlMjJNb3ppbGxhJTJGNS4wJTIwKFdpbmRvd3MlMjBOVCUyMDEwLjAlM0IlMjBXaW42NCUzQiUyMHg2NCklMjBBcHBsZVdlYktpdCUyRjUzNy4zNiUyMChLSFRNTCUyQyUyMGxpa2UlMjBHZWNrbyklMjBDaHJvbWUlMkYxMzQuMC4wLjAlMjBTYWZhcmklMkY1MzcuMzYlMjIlMjB2ZXJzaW9uJTNEJTIyMjYuMC4xNiUyMiUyMHNjYWxlJTNEJTIyMSUyMiUyMGJvcmRlciUzRCUyMjAlMjIlM0UlMEElMjAlMjAlM0NkaWFncmFtJTIwbmFtZSUzRCUyMlBhZ2UtMSUyMiUyMGlkJTNEJTIyVmlCQjNTcmxsR2hCZnVZYm02Wm0lMjIlM0UlMEElMjAlMjAlMjAlMjAlM0NteEdyYXBoTW9kZWwlMjBkeCUzRCUyMjEyNTMlMjIlMjBkeSUzRCUyMjU3NSUyMiUyMGdyaWQlM0QlMjIxJTIyJTIwZ3JpZFNpemUlM0QlMjIxMCUyMiUyMGd1aWRlcyUzRCUyMjElMjIlMjB0b29sdGlwcyUzRCUyMjElMjIlMjBjb25uZWN0JTNEJTIyMSUyMiUyMGFycm93cyUzRCUyMjElMjIlMjBmb2xkJTNEJTIyMSUyMiUyMHBhZ2UlM0QlMjIxJTIyJTIwcGFnZVNjYWxlJTNEJTIyMSUyMiUyMHBhZ2VXaWR0aCUzRCUyMjg1MCUyMiUyMHBhZ2VIZWlnaHQlM0QlMjIxMTAwJTIyJTIwbWF0aCUzRCUyMjAlMjIlMjBzaGFkb3clM0QlMjIwJTIyJTNFJTBBJTIwJTIwJTIwJTIwJTIwJTIwJTNDcm9vdCUzRSUwQSUyMCUyMCUyMCUyMCUyMCUyMCUyMCUyMCUzQ214Q2VsbCUyMGlkJTNEJTIyMCUyMiUyMCUyRiUzRSUwQSUyMCUyMCUyMCUyMCUyMCUyMCUyMCUyMCUzQ214Q2VsbCUyMGlkJTNEJTIyMSUyMiUyMHBhcmVudCUzRCUyMjAlMjIlMjAlMkYlM0UlMEElMjAlMjAlMjAlMjAlMjAlMjAlMjAlMjAlM0NteENlbGwlMjBpZCUzRCUyMndTZ0lmNkNSQk95WGpiX05qR1BZLTU3JTIyJTIwc3R5bGUlM0QlMjJlZGdlU3R5bGUlM0RvcnRob2dvbmFsRWRnZVN0eWxlJTNCcm91bmRlZCUzRDAlM0JvcnRob2dvbmFsTG9vcCUzRDElM0JqZXR0eVNpemUlM0RhdXRvJTNCaHRtbCUzRDElM0JlbnRyeVglM0QwJTNCZW50cnlZJTNEMC41JTNCZW50cnlEeCUzRDAlM0JlbnRyeUR5JTNEMCUzQiUyMiUyMGVkZ2UlM0QlMjIxJTIyJTIwcGFyZW50JTNEJTIyMSUyMiUyMHNvdXJjZSUzRCUyMndTZ0lmNkNSQk95WGpiX05qR1BZLTElMjIlMjB0YXJnZXQlM0QlMjJ3U2dJZjZDUkJPeVhqYl9OakdQWS00MiUyMiUzRSUwQSUyMCUyMCUyMCUyMCUyMCUyMCUyMCUyMCUyMCUyMCUzQ214R2VvbWV0cnklMjByZWxhdGl2ZSUzRCUyMjElMjIlMjBhcyUzRCUyMmdlb21ldHJ5JTIyJTNFJTBBJTIwJTIwJTIwJTIwJTIwJTIwJTIwJTIwJTIwJTIwJTIwJTIwJTNDQXJyYXklMjBhcyUzRCUyMnBvaW50cyUyMiUzRSUwQSUyMCUyMCUyMCUyMCUyMCUyMCUyMCUyMCUyMCUyMCUyMCUyMCUyMCUyMCUzQ214UG9pbnQlMjB4JTNEJTIyMzQwJTIyJTIweSUzRCUyMjU1JTIyJTIwJTJGJTNFJTBBJTIwJTIwJTIwJTIwJTIwJTIwJTIwJTIwJTIwJTIwJTIwJTIwJTNDJTJGQXJyYXklM0UlMEElMjAlMjAlMjAlMjAlMjAlMjAlMjAlMjAlMjAlMjAlM0MlMkZteEdlb21ldHJ5JTNFJTBBJTIwJTIwJTIwJTIwJTIwJTIwJTIwJTIwJTNDJTJGbXhDZWxsJTNFJTBBJTIwJTIwJTIwJTIwJTIwJTIwJTIwJTIwJTNDbXhDZWxsJTIwaWQlM0QlMjJ3U2dJZjZDUkJPeVhqYl9OakdQWS0xJTIyJTIwdmFsdWUlM0QlMjJFbnZpcm9uZW1lbnQlMjIlMjBzdHlsZSUzRCUyMnN3aW1sYW5lJTNCZm9udFN0eWxlJTNEMSUzQmFsaWduJTNEY2VudGVyJTNCdmVydGljYWxBbGlnbiUzRHRvcCUzQmNoaWxkTGF5b3V0JTNEc3RhY2tMYXlvdXQlM0Job3Jpem9udGFsJTNEMSUzQnN0YXJ0U2l6ZSUzRDI2JTNCaG9yaXpvbnRhbFN0YWNrJTNEMCUzQnJlc2l6ZVBhcmVudCUzRDElM0JyZXNpemVQYXJlbnRNYXglM0QwJTNCcmVzaXplTGFzdCUzRDAlM0Jjb2xsYXBzaWJsZSUzRDElM0JtYXJnaW5Cb3R0b20lM0QwJTNCd2hpdGVTcGFjZSUzRHdyYXAlM0JodG1sJTNEMSUzQmZpbGxDb2xvciUzRCUyM2RhZThmYyUzQnN0cm9rZUNvbG9yJTNEJTIzNmM4ZWJmJTNCJTIyJTIwdmVydGV4JTNEJTIyMSUyMiUyMHBhcmVudCUzRCUyMjElMjIlM0UlMEElMjAlMjAlMjAlMjAlMjAlMjAlMjAlMjAlMjAlMjAlM0NteEdlb21ldHJ5JTIweCUzRCUyMjE2MCUyMiUyMHklM0QlMjIxMjAlMjIlMjB3aWR0aCUzRCUyMjMzMCUyMiUyMGhlaWdodCUzRCUyMjI3MCUyMiUyMGFzJTNEJTIyZ2VvbWV0cnklMjIlMjAlMkYlM0UlMEElMjAlMjAlMjAlMjAlMjAlMjAlMjAlMjAlM0MlMkZteENlbGwlM0UlMEElMjAlMjAlMjAlMjAlMjAlMjAlMjAlMjAlM0NteENlbGwlMjBpZCUzRCUyMndTZ0lmNkNSQk95WGpiX05qR1BZLTIlMjIlMjB2YWx1ZSUzRCUyMiUyNmx0JTNCc3BhbiUyMHN0eWxlJTNEJTI2cXVvdCUzQnRleHQtYWxpZ24lM0ElMjBjZW50ZXIlM0IlMjZxdW90JTNCJTI2Z3QlM0JzdGF0ZSUyMCUyNmx0JTNCJTJGc3BhbiUyNmd0JTNCJTNBJTI2YW1wJTNCbmJzcCUzQiUyMCUyNmFtcCUzQmx0JTNCUiUyNmx0JTNCc3VwJTI2Z3QlM0JuJTI2YW1wJTNCbmJzcCUzQiUyNmx0JTNCJTJGc3VwJTI2Z3QlM0IlMjZhbXAlM0JuYnNwJTNCVmVjdG9yJTI2YW1wJTNCZ3QlM0IlMjIlMjBzdHlsZSUzRCUyMnRleHQlM0JzdHJva2VDb2xvciUzRCUyM2Q2YjY1NiUzQmZpbGxDb2xvciUzRCUyM2ZmZjJjYyUzQmFsaWduJTNEbGVmdCUzQnZlcnRpY2FsQWxpZ24lM0R0b3AlM0JzcGFjaW5nTGVmdCUzRDQlM0JzcGFjaW5nUmlnaHQlM0Q0JTNCb3ZlcmZsb3clM0RoaWRkZW4lM0Jyb3RhdGFibGUlM0QwJTNCcG9pbnRzJTNEJTVCJTVCMCUyQzAuNSU1RCUyQyU1QjElMkMwLjUlNUQlNUQlM0Jwb3J0Q29uc3RyYWludCUzRGVhc3R3ZXN0JTNCd2hpdGVTcGFjZSUzRHdyYXAlM0JodG1sJTNEMSUzQiUyMiUyMHZlcnRleCUzRCUyMjElMjIlMjBwYXJlbnQlM0QlMjJ3U2dJZjZDUkJPeVhqYl9OakdQWS0xJTIyJTNFJTBBJTIwJTIwJTIwJTIwJTIwJTIwJTIwJTIwJTIwJTIwJTNDbXhHZW9tZXRyeSUyMHklM0QlMjIyNiUyMiUyMHdpZHRoJTNEJTIyMzMwJTIyJTIwaGVpZ2h0JTNEJTIyMzQlMjIlMjBhcyUzRCUyMmdlb21ldHJ5JTIyJTIwJTJGJTNFJTBBJTIwJTIwJTIwJTIwJTIwJTIwJTIwJTIwJTNDJTJGbXhDZWxsJTNFJTBBJTIwJTIwJTIwJTIwJTIwJTIwJTIwJTIwJTNDbXhDZWxsJTIwaWQlM0QlMjJ3U2dJZjZDUkJPeVhqYl9OakdQWS02JTIyJTIwdmFsdWUlM0QlMjIlMjZsdCUzQnNwYW4lMjBzdHlsZSUzRCUyNnF1b3QlM0J0ZXh0LWFsaWduJTNBJTIwY2VudGVyJTNCJTI2cXVvdCUzQiUyNmd0JTNCJTI2YW1wJTNCbmJzcCUzQnJld2FyZCUyMCUzQSUyMCUyNmFtcCUzQmx0JTNCU2NhbGVyJTI2YW1wJTNCZ3QlM0IlMjZhbXAlM0JuYnNwJTNCJTI2bHQlM0IlMkZzcGFuJTI2Z3QlM0IlMjIlMjBzdHlsZSUzRCUyMnRleHQlM0JodG1sJTNEMSUzQmFsaWduJTNEbGVmdCUzQnZlcnRpY2FsQWxpZ24lM0RtaWRkbGUlM0J3aGl0ZVNwYWNlJTNEd3JhcCUzQnJvdW5kZWQlM0QwJTNCZmlsbENvbG9yJTNEJTIzZmZmMmNjJTNCc3Ryb2tlQ29sb3IlM0QlMjNkNmI2NTYlM0IlMjIlMjB2ZXJ0ZXglM0QlMjIxJTIyJTIwcGFyZW50JTNEJTIyd1NnSWY2Q1JCT3lYamJfTmpHUFktMSUyMiUzRSUwQSUyMCUyMCUyMCUyMCUyMCUyMCUyMCUyMCUyMCUyMCUzQ214R2VvbWV0cnklMjB5JTNEJTIyNjAlMjIlMjB3aWR0aCUzRCUyMjMzMCUyMiUyMGhlaWdodCUzRCUyMjMwJTIyJTIwYXMlM0QlMjJnZW9tZXRyeSUyMiUyMCUyRiUzRSUwQSUyMCUyMCUyMCUyMCUyMCUyMCUyMCUyMCUzQyUyRm14Q2VsbCUzRSUwQSUyMCUyMCUyMCUyMCUyMCUyMCUyMCUyMCUzQ214Q2VsbCUyMGlkJTNEJTIyd1NnSWY2Q1JCT3lYamJfTmpHUFktNyUyMiUyMHZhbHVlJTNEJTIyJTI2bHQlM0JzcGFuJTIwc3R5bGUlM0QlMjZxdW90JTNCdGV4dC1hbGlnbiUzQSUyMGNlbnRlciUzQiUyNnF1b3QlM0IlMjZndCUzQiUyNmFtcCUzQm5ic3AlM0JUcmFuc2l0aW9uJTIwTWVjaGFuaXNtJTIwKER5bmFtaWMpJTIwJTNBJTIwJTI2YW1wJTNCbHQlM0JSJTI2bHQlM0JzdXAlMjZndCUzQm4lMjZsdCUzQiUyRnN1cCUyNmd0JTNCJTI2YW1wJTNCbmJzcCUzQnN5c3RlbSUyMG9mJTIwZXF1YXRpb24lMjZhbXAlM0JndCUzQiUyNmx0JTNCJTJGc3BhbiUyNmd0JTNCJTIyJTIwc3R5bGUlM0QlMjJ0ZXh0JTNCaHRtbCUzRDElM0JhbGlnbiUzRGxlZnQlM0J2ZXJ0aWNhbEFsaWduJTNEbWlkZGxlJTNCd2hpdGVTcGFjZSUzRHdyYXAlM0Jyb3VuZGVkJTNEMCUzQmZpbGxDb2xvciUzRCUyM2ZmZjJjYyUzQnN0cm9rZUNvbG9yJTNEJTIzZDZiNjU2JTNCJTIyJTIwdmVydGV4JTNEJTIyMSUyMiUyMHBhcmVudCUzRCUyMndTZ0lmNkNSQk95WGpiX05qR1BZLTElMjIlM0UlMEElMjAlMjAlMjAlMjAlMjAlMjAlMjAlMjAlMjAlMjAlM0NteEdlb21ldHJ5JTIweSUzRCUyMjkwJTIyJTIwd2lkdGglM0QlMjIzMzAlMjIlMjBoZWlnaHQlM0QlMjIzMCUyMiUyMGFzJTNEJTIyZ2VvbWV0cnklMjIlMjAlMkYlM0UlMEElMjAlMjAlMjAlMjAlMjAlMjAlMjAlMjAlM0MlMkZteENlbGwlM0UlMEElMjAlMjAlMjAlMjAlMjAlMjAlMjAlMjAlM0NteENlbGwlMjBpZCUzRCUyMndTZ0lmNkNSQk95WGpiX05qR1BZLTMlMjIlMjB2YWx1ZSUzRCUyMiUyMiUyMHN0eWxlJTNEJTIybGluZSUzQnN0cm9rZVdpZHRoJTNEMSUzQmZpbGxDb2xvciUzRCUyM2Y1ZjVmNSUzQmFsaWduJTNEbGVmdCUzQnZlcnRpY2FsQWxpZ24lM0RtaWRkbGUlM0JzcGFjaW5nVG9wJTNELTElM0JzcGFjaW5nTGVmdCUzRDMlM0JzcGFjaW5nUmlnaHQlM0QzJTNCcm90YXRhYmxlJTNEMCUzQmxhYmVsUG9zaXRpb24lM0RyaWdodCUzQnBvaW50cyUzRCU1QiU1RCUzQnBvcnRDb25zdHJhaW50JTNEZWFzdHdlc3QlM0JzdHJva2VDb2xvciUzRCUyMzY2NjY2NiUzQmZvbnRDb2xvciUzRCUyMzMzMzMzMyUzQiUyMiUyMHZlcnRleCUzRCUyMjElMjIlMjBwYXJlbnQlM0QlMjJ3U2dJZjZDUkJPeVhqYl9OakdQWS0xJTIyJTNFJTBBJTIwJTIwJTIwJTIwJTIwJTIwJTIwJTIwJTIwJTIwJTNDbXhHZW9tZXRyeSUyMHklM0QlMjIxMjAlMjIlMjB3aWR0aCUzRCUyMjMzMCUyMiUyMGFzJTNEJTIyZ2VvbWV0cnklMjIlMjAlMkYlM0UlMEElMjAlMjAlMjAlMjAlMjAlMjAlMjAlMjAlM0MlMkZteENlbGwlM0UlMEElMjAlMjAlMjAlMjAlMjAlMjAlMjAlMjAlM0NteENlbGwlMjBpZCUzRCUyMndTZ0lmNkNSQk95WGpiX05qR1BZLTQlMjIlMjB2YWx1ZSUzRCUyMnRyYW5zaXRpb25GdW5jdGlvbihzdGF0ZSUyQyUyMGFjdGlvbiklMjAlM0ElMjBuZXh0X3N0YXRlJTIyJTIwc3R5bGUlM0QlMjJ0ZXh0JTNCc3Ryb2tlQ29sb3IlM0QlMjM4MmIzNjYlM0JmaWxsQ29sb3IlM0QlMjNkNWU4ZDQlM0JhbGlnbiUzRGxlZnQlM0J2ZXJ0aWNhbEFsaWduJTNEdG9wJTNCc3BhY2luZ0xlZnQlM0Q0JTNCc3BhY2luZ1JpZ2h0JTNENCUzQm92ZXJmbG93JTNEaGlkZGVuJTNCcm90YXRhYmxlJTNEMCUzQnBvaW50cyUzRCU1QiU1QjAlMkMwLjUlNUQlMkMlNUIxJTJDMC41JTVEJTVEJTNCcG9ydENvbnN0cmFpbnQlM0RlYXN0d2VzdCUzQndoaXRlU3BhY2UlM0R3cmFwJTNCaHRtbCUzRDElM0IlMjIlMjB2ZXJ0ZXglM0QlMjIxJTIyJTIwcGFyZW50JTNEJTIyd1NnSWY2Q1JCT3lYamJfTmpHUFktMSUyMiUzRSUwQSUyMCUyMCUyMCUyMCUyMCUyMCUyMCUyMCUyMCUyMCUzQ214R2VvbWV0cnklMjB5JTNEJTIyMTIwJTIyJTIwd2lkdGglM0QlMjIzMzAlMjIlMjBoZWlnaHQlM0QlMjIzMCUyMiUyMGFzJTNEJTIyZ2VvbWV0cnklMjIlMjAlMkYlM0UlMEElMjAlMjAlMjAlMjAlMjAlMjAlMjAlMjAlM0MlMkZteENlbGwlM0UlMEElMjAlMjAlMjAlMjAlMjAlMjAlMjAlMjAlM0NteENlbGwlMjBpZCUzRCUyMndTZ0lmNkNSQk95WGpiX05qR1BZLTklMjIlMjB2YWx1ZSUzRCUyMnJld2FyZEZ1bmN0aW9uKHN0YXRlJTJDJTIwYWN0aW9uJTJDJTIwbmV4dF9zdGF0ZSklMjAlM0ElMjByZXdhcmQlMjIlMjBzdHlsZSUzRCUyMnRleHQlM0JodG1sJTNEMSUzQmFsaWduJTNEbGVmdCUzQnZlcnRpY2FsQWxpZ24lM0RtaWRkbGUlM0J3aGl0ZVNwYWNlJTNEd3JhcCUzQnJvdW5kZWQlM0QwJTNCZmlsbENvbG9yJTNEJTIzZDVlOGQ0JTNCc3Ryb2tlQ29sb3IlM0QlMjM4MmIzNjYlM0IlMjIlMjB2ZXJ0ZXglM0QlMjIxJTIyJTIwcGFyZW50JTNEJTIyd1NnSWY2Q1JCT3lYamJfTmpHUFktMSUyMiUzRSUwQSUyMCUyMCUyMCUyMCUyMCUyMCUyMCUyMCUyMCUyMCUzQ214R2VvbWV0cnklMjB5JTNEJTIyMTUwJTIyJTIwd2lkdGglM0QlMjIzMzAlMjIlMjBoZWlnaHQlM0QlMjIzMCUyMiUyMGFzJTNEJTIyZ2VvbWV0cnklMjIlMjAlMkYlM0UlMEElMjAlMjAlMjAlMjAlMjAlMjAlMjAlMjAlM0MlMkZteENlbGwlM0UlMEElMjAlMjAlMjAlMjAlMjAlMjAlMjAlMjAlM0NteENlbGwlMjBpZCUzRCUyMndTZ0lmNkNSQk95WGpiX05qR1BZLTEwJTIyJTIwdmFsdWUlM0QlMjJtb25pdG9yQWdlbnQodm9pZCklMjAlM0ElMjB2b2lkJTIwLSUyNmFtcCUzQmd0JTNCJTIwdXNlZCUyMGZvciUyMGRlYnVnZ2luZyUyMiUyMHN0eWxlJTNEJTIydGV4dCUzQmh0bWwlM0QxJTNCYWxpZ24lM0RsZWZ0JTNCdmVydGljYWxBbGlnbiUzRG1pZGRsZSUzQndoaXRlU3BhY2UlM0R3cmFwJTNCcm91bmRlZCUzRDAlM0JmaWxsQ29sb3IlM0QlMjNkNWU4ZDQlM0JzdHJva2VDb2xvciUzRCUyMzgyYjM2NiUzQiUyMiUyMHZlcnRleCUzRCUyMjElMjIlMjBwYXJlbnQlM0QlMjJ3U2dJZjZDUkJPeVhqYl9OakdQWS0xJTIyJTNFJTBBJTIwJTIwJTIwJTIwJTIwJTIwJTIwJTIwJTIwJTIwJTNDbXhHZW9tZXRyeSUyMHklM0QlMjIxODAlMjIlMjB3aWR0aCUzRCUyMjMzMCUyMiUyMGhlaWdodCUzRCUyMjMwJTIyJTIwYXMlM0QlMjJnZW9tZXRyeSUyMiUyMCUyRiUzRSUwQSUyMCUyMCUyMCUyMCUyMCUyMCUyMCUyMCUzQyUyRm14Q2VsbCUzRSUwQSUyMCUyMCUyMCUyMCUyMCUyMCUyMCUyMCUzQ214Q2VsbCUyMGlkJTNEJTIyd1NnSWY2Q1JCT3lYamJfTmpHUFktMTElMjIlMjB2YWx1ZSUzRCUyMmxvZ2dpbmclMjB0cmFqZWN0b3JpZXMoc3RhdGUlMkMlMjBhY3Rpb24lMkMlMjBuZXh0X3N0YXRlKSUyMCUzQSUyMHRyYWplY3RvcnklMjBwbG90JTIyJTIwc3R5bGUlM0QlMjJ0ZXh0JTNCaHRtbCUzRDElM0JhbGlnbiUzRGxlZnQlM0J2ZXJ0aWNhbEFsaWduJTNEbWlkZGxlJTNCd2hpdGVTcGFjZSUzRHdyYXAlM0Jyb3VuZGVkJTNEMCUzQmZpbGxDb2xvciUzRCUyM2Q1ZThkNCUzQnN0cm9rZUNvbG9yJTNEJTIzODJiMzY2JTNCJTIyJTIwdmVydGV4JTNEJTIyMSUyMiUyMHBhcmVudCUzRCUyMndTZ0lmNkNSQk95WGpiX05qR1BZLTElMjIlM0UlMEElMjAlMjAlMjAlMjAlMjAlMjAlMjAlMjAlMjAlMjAlM0NteEdlb21ldHJ5JTIweSUzRCUyMjIxMCUyMiUyMHdpZHRoJTNEJTIyMzMwJTIyJTIwaGVpZ2h0JTNEJTIyMzAlMjIlMjBhcyUzRCUyMmdlb21ldHJ5JTIyJTIwJTJGJTNFJTBBJTIwJTIwJTIwJTIwJTIwJTIwJTIwJTIwJTNDJTJGbXhDZWxsJTNFJTBBJTIwJTIwJTIwJTIwJTIwJTIwJTIwJTIwJTNDbXhDZWxsJTIwaWQlM0QlMjJ3U2dJZjZDUkJPeVhqYl9OakdQWS0xMiUyMiUyMHZhbHVlJTNEJTIyY3VtdWxhdGl2ZVJld2FyZChyZXdhcmQpJTIwJTNBJTIwcmV3YXJkX3Bsb3QlMjIlMjBzdHlsZSUzRCUyMnRleHQlM0JodG1sJTNEMSUzQmFsaWduJTNEbGVmdCUzQnZlcnRpY2FsQWxpZ24lM0RtaWRkbGUlM0J3aGl0ZVNwYWNlJTNEd3JhcCUzQnJvdW5kZWQlM0QwJTNCZmlsbENvbG9yJTNEJTIzZDVlOGQ0JTNCc3Ryb2tlQ29sb3IlM0QlMjM4MmIzNjYlM0IlMjIlMjB2ZXJ0ZXglM0QlMjIxJTIyJTIwcGFyZW50JTNEJTIyd1NnSWY2Q1JCT3lYamJfTmpHUFktMSUyMiUzRSUwQSUyMCUyMCUyMCUyMCUyMCUyMCUyMCUyMCUyMCUyMCUzQ214R2VvbWV0cnklMjB5JTNEJTIyMjQwJTIyJTIwd2lkdGglM0QlMjIzMzAlMjIlMjBoZWlnaHQlM0QlMjIzMCUyMiUyMGFzJTNEJTIyZ2VvbWV0cnklMjIlMjAlMkYlM0UlMEElMjAlMjAlMjAlMjAlMjAlMjAlMjAlMjAlM0MlMkZteENlbGwlM0UlMEElMjAlMjAlMjAlMjAlMjAlMjAlMjAlMjAlM0NteENlbGwlMjBpZCUzRCUyMndTZ0lmNkNSQk95WGpiX05qR1BZLTEzJTIyJTIwdmFsdWUlM0QlMjJBZ2VudCUyMiUyMHN0eWxlJTNEJTIyc3dpbWxhbmUlM0Jmb250U3R5bGUlM0QxJTNCYWxpZ24lM0RjZW50ZXIlM0J2ZXJ0aWNhbEFsaWduJTNEdG9wJTNCY2hpbGRMYXlvdXQlM0RzdGFja0xheW91dCUzQmhvcml6b250YWwlM0QxJTNCc3RhcnRTaXplJTNEMjYlM0Job3Jpem9udGFsU3RhY2slM0QwJTNCcmVzaXplUGFyZW50JTNEMSUzQnJlc2l6ZVBhcmVudE1heCUzRDAlM0JyZXNpemVMYXN0JTNEMCUzQmNvbGxhcHNpYmxlJTNEMSUzQm1hcmdpbkJvdHRvbSUzRDAlM0J3aGl0ZVNwYWNlJTNEd3JhcCUzQmh0bWwlM0QxJTNCZmlsbENvbG9yJTNEJTIzZGFlOGZjJTNCc3Ryb2tlQ29sb3IlM0QlMjM2YzhlYmYlM0IlMjIlMjB2ZXJ0ZXglM0QlMjIxJTIyJTIwcGFyZW50JTNEJTIyMSUyMiUzRSUwQSUyMCUyMCUyMCUyMCUyMCUyMCUyMCUyMCUyMCUyMCUzQ214R2VvbWV0cnklMjB4JTNEJTIyNjIwJTIyJTIweSUzRCUyMjEzNSUyMiUyMHdpZHRoJTNEJTIyMzMwJTIyJTIwaGVpZ2h0JTNEJTIyMjQwJTIyJTIwYXMlM0QlMjJnZW9tZXRyeSUyMiUyMCUyRiUzRSUwQSUyMCUyMCUyMCUyMCUyMCUyMCUyMCUyMCUzQyUyRm14Q2VsbCUzRSUwQSUyMCUyMCUyMCUyMCUyMCUyMCUyMCUyMCUzQ214Q2VsbCUyMGlkJTNEJTIyd1NnSWY2Q1JCT3lYamJfTmpHUFktMTQlMjIlMjB2YWx1ZSUzRCUyMiUyNmx0JTNCc3BhbiUyMHN0eWxlJTNEJTI2cXVvdCUzQnRleHQtYWxpZ24lM0ElMjBjZW50ZXIlM0IlMjZxdW90JTNCJTI2Z3QlM0JhY3Rpb24lMjZhbXAlM0JuYnNwJTNCJTI2bHQlM0IlMkZzcGFuJTI2Z3QlM0IlM0ElMjZhbXAlM0JuYnNwJTNCJTIwJTI2YW1wJTNCbHQlM0JSJTI2bHQlM0JzdXAlMjZndCUzQm0lMjZhbXAlM0JuYnNwJTNCJTI2bHQlM0IlMkZzdXAlMjZndCUzQiUyNmFtcCUzQm5ic3AlM0JWZWN0b3IlMjZhbXAlM0JndCUzQiUyMiUyMHN0eWxlJTNEJTIydGV4dCUzQnN0cm9rZUNvbG9yJTNEJTIzZDZiNjU2JTNCZmlsbENvbG9yJTNEJTIzZmZmMmNjJTNCYWxpZ24lM0RsZWZ0JTNCdmVydGljYWxBbGlnbiUzRHRvcCUzQnNwYWNpbmdMZWZ0JTNENCUzQnNwYWNpbmdSaWdodCUzRDQlM0JvdmVyZmxvdyUzRGhpZGRlbiUzQnJvdGF0YWJsZSUzRDAlM0Jwb2ludHMlM0QlNUIlNUIwJTJDMC41JTVEJTJDJTVCMSUyQzAuNSU1RCU1RCUzQnBvcnRDb25zdHJhaW50JTNEZWFzdHdlc3QlM0J3aGl0ZVNwYWNlJTNEd3JhcCUzQmh0bWwlM0QxJTNCJTIyJTIwdmVydGV4JTNEJTIyMSUyMiUyMHBhcmVudCUzRCUyMndTZ0lmNkNSQk95WGpiX05qR1BZLTEzJTIyJTNFJTBBJTIwJTIwJTIwJTIwJTIwJTIwJTIwJTIwJTIwJTIwJTNDbXhHZW9tZXRyeSUyMHklM0QlMjIyNiUyMiUyMHdpZHRoJTNEJTIyMzMwJTIyJTIwaGVpZ2h0JTNEJTIyMzQlMjIlMjBhcyUzRCUyMmdlb21ldHJ5JTIyJTIwJTJGJTNFJTBBJTIwJTIwJTIwJTIwJTIwJTIwJTIwJTIwJTNDJTJGbXhDZWxsJTNFJTBBJTIwJTIwJTIwJTIwJTIwJTIwJTIwJTIwJTNDbXhDZWxsJTIwaWQlM0QlMjJ3U2dJZjZDUkJPeVhqYl9OakdQWS0xNiUyMiUyMHZhbHVlJTNEJTIyJTI2bHQlM0JkaXYlMjBzdHlsZSUzRCUyNnF1b3QlM0J0ZXh0LWFsaWduJTNBJTIwY2VudGVyJTNCJTI2cXVvdCUzQiUyNmd0JTNCbGVhcm5pbmdfcmF0ZSUyMCUzQSUyMHNjYWxhciUyNmFtcCUzQm5ic3AlM0IlMjZsdCUzQiUyRmRpdiUyNmd0JTNCJTIyJTIwc3R5bGUlM0QlMjJ0ZXh0JTNCaHRtbCUzRDElM0JhbGlnbiUzRGxlZnQlM0J2ZXJ0aWNhbEFsaWduJTNEbWlkZGxlJTNCd2hpdGVTcGFjZSUzRHdyYXAlM0Jyb3VuZGVkJTNEMCUzQmZpbGxDb2xvciUzRCUyM2ZmZjJjYyUzQnN0cm9rZUNvbG9yJTNEJTIzZDZiNjU2JTNCJTIyJTIwdmVydGV4JTNEJTIyMSUyMiUyMHBhcmVudCUzRCUyMndTZ0lmNkNSQk95WGpiX05qR1BZLTEzJTIyJTNFJTBBJTIwJTIwJTIwJTIwJTIwJTIwJTIwJTIwJTIwJTIwJTNDbXhHZW9tZXRyeSUyMHklM0QlMjI2MCUyMiUyMHdpZHRoJTNEJTIyMzMwJTIyJTIwaGVpZ2h0JTNEJTIyMzAlMjIlMjBhcyUzRCUyMmdlb21ldHJ5JTIyJTIwJTJGJTNFJTBBJTIwJTIwJTIwJTIwJTIwJTIwJTIwJTIwJTNDJTJGbXhDZWxsJTNFJTBBJTIwJTIwJTIwJTIwJTIwJTIwJTIwJTIwJTNDbXhDZWxsJTIwaWQlM0QlMjJ3U2dJZjZDUkJPeVhqYl9OakdQWS0xNyUyMiUyMHZhbHVlJTNEJTIyJTIyJTIwc3R5bGUlM0QlMjJsaW5lJTNCc3Ryb2tlV2lkdGglM0QxJTNCZmlsbENvbG9yJTNEJTIzZjVmNWY1JTNCYWxpZ24lM0RsZWZ0JTNCdmVydGljYWxBbGlnbiUzRG1pZGRsZSUzQnNwYWNpbmdUb3AlM0QtMSUzQnNwYWNpbmdMZWZ0JTNEMyUzQnNwYWNpbmdSaWdodCUzRDMlM0Jyb3RhdGFibGUlM0QwJTNCbGFiZWxQb3NpdGlvbiUzRHJpZ2h0JTNCcG9pbnRzJTNEJTVCJTVEJTNCcG9ydENvbnN0cmFpbnQlM0RlYXN0d2VzdCUzQnN0cm9rZUNvbG9yJTNEJTIzNjY2NjY2JTNCZm9udENvbG9yJTNEJTIzMzMzMzMzJTNCJTIyJTIwdmVydGV4JTNEJTIyMSUyMiUyMHBhcmVudCUzRCUyMndTZ0lmNkNSQk95WGpiX05qR1BZLTEzJTIyJTNFJTBBJTIwJTIwJTIwJTIwJTIwJTIwJTIwJTIwJTIwJTIwJTNDbXhHZW9tZXRyeSUyMHklM0QlMjI5MCUyMiUyMHdpZHRoJTNEJTIyMzMwJTIyJTIwYXMlM0QlMjJnZW9tZXRyeSUyMiUyMCUyRiUzRSUwQSUyMCUyMCUyMCUyMCUyMCUyMCUyMCUyMCUzQyUyRm14Q2VsbCUzRSUwQSUyMCUyMCUyMCUyMCUyMCUyMCUyMCUyMCUzQ214Q2VsbCUyMGlkJTNEJTIyd1NnSWY2Q1JCT3lYamJfTmpHUFktNDElMjIlMjB2YWx1ZSUzRCUyMiUyNmx0JTNCZGl2JTIwc3R5bGUlM0QlMjZxdW90JTNCdGV4dC1hbGlnbiUzQSUyMGNlbnRlciUzQiUyNnF1b3QlM0IlMjZndCUzQmRpc2NvdW50X2ZhY3RvciUyMCUzQSUyMHNjYWxhciUyNmFtcCUzQm5ic3AlM0IlMjZsdCUzQiUyRmRpdiUyNmd0JTNCJTIyJTIwc3R5bGUlM0QlMjJ0ZXh0JTNCaHRtbCUzRDElM0JhbGlnbiUzRGxlZnQlM0J2ZXJ0aWNhbEFsaWduJTNEbWlkZGxlJTNCd2hpdGVTcGFjZSUzRHdyYXAlM0Jyb3VuZGVkJTNEMCUzQmZpbGxDb2xvciUzRCUyM2ZmZjJjYyUzQnN0cm9rZUNvbG9yJTNEJTIzZDZiNjU2JTNCJTIyJTIwdmVydGV4JTNEJTIyMSUyMiUyMHBhcmVudCUzRCUyMndTZ0lmNkNSQk95WGpiX05qR1BZLTEzJTIyJTNFJTBBJTIwJTIwJTIwJTIwJTIwJTIwJTIwJTIwJTIwJTIwJTNDbXhHZW9tZXRyeSUyMHklM0QlMjI5MCUyMiUyMHdpZHRoJTNEJTIyMzMwJTIyJTIwaGVpZ2h0JTNEJTIyMzAlMjIlMjBhcyUzRCUyMmdlb21ldHJ5JTIyJTIwJTJGJTNFJTBBJTIwJTIwJTIwJTIwJTIwJTIwJTIwJTIwJTNDJTJGbXhDZWxsJTNFJTBBJTIwJTIwJTIwJTIwJTIwJTIwJTIwJTIwJTNDbXhDZWxsJTIwaWQlM0QlMjJ3U2dJZjZDUkJPeVhqYl9OakdQWS0xOCUyMiUyMHZhbHVlJTNEJTIycG9saWN5RnVuY3Rpb24oc3RhdGUpJTIwJTNBJTIwYWN0aW9uJTIyJTIwc3R5bGUlM0QlMjJ0ZXh0JTNCc3Ryb2tlQ29sb3IlM0QlMjM4MmIzNjYlM0JmaWxsQ29sb3IlM0QlMjNkNWU4ZDQlM0JhbGlnbiUzRGxlZnQlM0J2ZXJ0aWNhbEFsaWduJTNEdG9wJTNCc3BhY2luZ0xlZnQlM0Q0JTNCc3BhY2luZ1JpZ2h0JTNENCUzQm92ZXJmbG93JTNEaGlkZGVuJTNCcm90YXRhYmxlJTNEMCUzQnBvaW50cyUzRCU1QiU1QjAlMkMwLjUlNUQlMkMlNUIxJTJDMC41JTVEJTVEJTNCcG9ydENvbnN0cmFpbnQlM0RlYXN0d2VzdCUzQndoaXRlU3BhY2UlM0R3cmFwJTNCaHRtbCUzRDElM0IlMjIlMjB2ZXJ0ZXglM0QlMjIxJTIyJTIwcGFyZW50JTNEJTIyd1NnSWY2Q1JCT3lYamJfTmpHUFktMTMlMjIlM0UlMEElMjAlMjAlMjAlMjAlMjAlMjAlMjAlMjAlMjAlMjAlM0NteEdlb21ldHJ5JTIweSUzRCUyMjEyMCUyMiUyMHdpZHRoJTNEJTIyMzMwJTIyJTIwaGVpZ2h0JTNEJTIyMzAlMjIlMjBhcyUzRCUyMmdlb21ldHJ5JTIyJTIwJTJGJTNFJTBBJTIwJTIwJTIwJTIwJTIwJTIwJTIwJTIwJTNDJTJGbXhDZWxsJTNFJTBBJTIwJTIwJTIwJTIwJTIwJTIwJTIwJTIwJTNDbXhDZWxsJTIwaWQlM0QlMjJ3U2dJZjZDUkJPeVhqYl9OakdQWS0yMCUyMiUyMHZhbHVlJTNEJTIybW9uaXRvclBvbGljeSh2b2lkKSUyMCUzQSUyMHZvaWQlMjAtJTI2YW1wJTNCZ3QlM0IlMjB1c2VkJTIwZm9yJTIwZGVidWdnaW5nJTIyJTIwc3R5bGUlM0QlMjJ0ZXh0JTNCaHRtbCUzRDElM0JhbGlnbiUzRGxlZnQlM0J2ZXJ0aWNhbEFsaWduJTNEbWlkZGxlJTNCd2hpdGVTcGFjZSUzRHdyYXAlM0Jyb3VuZGVkJTNEMCUzQmZpbGxDb2xvciUzRCUyM2Q1ZThkNCUzQnN0cm9rZUNvbG9yJTNEJTIzODJiMzY2JTNCJTIyJTIwdmVydGV4JTNEJTIyMSUyMiUyMHBhcmVudCUzRCUyMndTZ0lmNkNSQk95WGpiX05qR1BZLTEzJTIyJTNFJTBBJTIwJTIwJTIwJTIwJTIwJTIwJTIwJTIwJTIwJTIwJTNDbXhHZW9tZXRyeSUyMHklM0QlMjIxNTAlMjIlMjB3aWR0aCUzRCUyMjMzMCUyMiUyMGhlaWdodCUzRCUyMjMwJTIyJTIwYXMlM0QlMjJnZW9tZXRyeSUyMiUyMCUyRiUzRSUwQSUyMCUyMCUyMCUyMCUyMCUyMCUyMCUyMCUzQyUyRm14Q2VsbCUzRSUwQSUyMCUyMCUyMCUyMCUyMCUyMCUyMCUyMCUzQ214Q2VsbCUyMGlkJTNEJTIyd1NnSWY2Q1JCT3lYamJfTmpHUFktMjElMjIlMjB2YWx1ZSUzRCUyMmxvZ2dpbmdEZWNpc2lvbnMoc3RhdGUlMkMlMjBhY3Rpb24pJTIwJTNBJTIwZGVjaXNpb24lMjBjdW11bGF0aXZlJTIwcGxvdCUyMiUyMHN0eWxlJTNEJTIydGV4dCUzQmh0bWwlM0QxJTNCYWxpZ24lM0RsZWZ0JTNCdmVydGljYWxBbGlnbiUzRG1pZGRsZSUzQndoaXRlU3BhY2UlM0R3cmFwJTNCcm91bmRlZCUzRDAlM0JmaWxsQ29sb3IlM0QlMjNkNWU4ZDQlM0JzdHJva2VDb2xvciUzRCUyMzgyYjM2NiUzQiUyMiUyMHZlcnRleCUzRCUyMjElMjIlMjBwYXJlbnQlM0QlMjJ3U2dJZjZDUkJPeVhqYl9OakdQWS0xMyUyMiUzRSUwQSUyMCUyMCUyMCUyMCUyMCUyMCUyMCUyMCUyMCUyMCUzQ214R2VvbWV0cnklMjB5JTNEJTIyMTgwJTIyJTIwd2lkdGglM0QlMjIzMzAlMjIlMjBoZWlnaHQlM0QlMjIzMCUyMiUyMGFzJTNEJTIyZ2VvbWV0cnklMjIlMjAlMkYlM0UlMEElMjAlMjAlMjAlMjAlMjAlMjAlMjAlMjAlM0MlMkZteENlbGwlM0UlMEElMjAlMjAlMjAlMjAlMjAlMjAlMjAlMjAlM0NteENlbGwlMjBpZCUzRCUyMndTZ0lmNkNSQk95WGpiX05qR1BZLTIyJTIyJTIwdmFsdWUlM0QlMjJjdW11bGF0aXZlcG9saWN5KHBvbGljeSklMjAlM0ElMjByZXdhcmRfcGxvdCUyMiUyMHN0eWxlJTNEJTIydGV4dCUzQmh0bWwlM0QxJTNCYWxpZ24lM0RsZWZ0JTNCdmVydGljYWxBbGlnbiUzRG1pZGRsZSUzQndoaXRlU3BhY2UlM0R3cmFwJTNCcm91bmRlZCUzRDAlM0JmaWxsQ29sb3IlM0QlMjNkNWU4ZDQlM0JzdHJva2VDb2xvciUzRCUyMzgyYjM2NiUzQiUyMiUyMHZlcnRleCUzRCUyMjElMjIlMjBwYXJlbnQlM0QlMjJ3U2dJZjZDUkJPeVhqYl9OakdQWS0xMyUyMiUzRSUwQSUyMCUyMCUyMCUyMCUyMCUyMCUyMCUyMCUyMCUyMCUzQ214R2VvbWV0cnklMjB5JTNEJTIyMjEwJTIyJTIwd2lkdGglM0QlMjIzMzAlMjIlMjBoZWlnaHQlM0QlMjIzMCUyMiUyMGFzJTNEJTIyZ2VvbWV0cnklMjIlMjAlMkYlM0UlMEElMjAlMjAlMjAlMjAlMjAlMjAlMjAlMjAlM0MlMkZteENlbGwlM0UlMEElMjAlMjAlMjAlMjAlMjAlMjAlMjAlMjAlM0NteENlbGwlMjBpZCUzRCUyMndTZ0lmNkNSQk95WGpiX05qR1BZLTQ3JTIyJTIwc3R5bGUlM0QlMjJlZGdlU3R5bGUlM0RvcnRob2dvbmFsRWRnZVN0eWxlJTNCcm91bmRlZCUzRDAlM0JvcnRob2dvbmFsTG9vcCUzRDElM0JqZXR0eVNpemUlM0RhdXRvJTNCaHRtbCUzRDElM0JlbnRyeVglM0QwLjUlM0JlbnRyeVklM0QwJTNCZW50cnlEeCUzRDAlM0JlbnRyeUR5JTNEMCUzQiUyMiUyMGVkZ2UlM0QlMjIxJTIyJTIwcGFyZW50JTNEJTIyMSUyMiUyMHNvdXJjZSUzRCUyMndTZ0lmNkNSQk95WGpiX05qR1BZLTQyJTIyJTIwdGFyZ2V0JTNEJTIyd1NnSWY2Q1JCT3lYamJfTmpHUFktMTMlMjIlM0UlMEElMjAlMjAlMjAlMjAlMjAlMjAlMjAlMjAlMjAlMjAlM0NteEdlb21ldHJ5JTIwcmVsYXRpdmUlM0QlMjIxJTIyJTIwYXMlM0QlMjJnZW9tZXRyeSUyMiUyMCUyRiUzRSUwQSUyMCUyMCUyMCUyMCUyMCUyMCUyMCUyMCUzQyUyRm14Q2VsbCUzRSUwQSUyMCUyMCUyMCUyMCUyMCUyMCUyMCUyMCUzQ214Q2VsbCUyMGlkJTNEJTIyd1NnSWY2Q1JCT3lYamJfTmpHUFktNDIlMjIlMjB2YWx1ZSUzRCUyMlJld2FyZCUyNmx0JTNCZGl2JTI2Z3QlM0JPYnNlcnZhdGlvbiUyNmx0JTNCJTJGZGl2JTI2Z3QlM0IlMjIlMjBzdHlsZSUzRCUyMnRleHQlM0JodG1sJTNEMSUzQmFsaWduJTNEY2VudGVyJTNCdmVydGljYWxBbGlnbiUzRG1pZGRsZSUzQndoaXRlU3BhY2UlM0R3cmFwJTNCcm91bmRlZCUzRDAlM0JzdHJva2VXaWR0aCUzRDElM0JzdHJva2VDb2xvciUzRCUyM2I4NTQ1MCUzQmZpbGxDb2xvciUzRCUyM2Y4Y2VjYyUzQiUyMiUyMHZlcnRleCUzRCUyMjElMjIlMjBwYXJlbnQlM0QlMjIxJTIyJTNFJTBBJTIwJTIwJTIwJTIwJTIwJTIwJTIwJTIwJTIwJTIwJTNDbXhHZW9tZXRyeSUyMHglM0QlMjI1MjAlMjIlMjB5JTNEJTIyNDAlMjIlMjB3aWR0aCUzRCUyMjgwJTIyJTIwaGVpZ2h0JTNEJTIyMzAlMjIlMjBhcyUzRCUyMmdlb21ldHJ5JTIyJTIwJTJGJTNFJTBBJTIwJTIwJTIwJTIwJTIwJTIwJTIwJTIwJTNDJTJGbXhDZWxsJTNFJTBBJTIwJTIwJTIwJTIwJTIwJTIwJTIwJTIwJTNDbXhDZWxsJTIwaWQlM0QlMjJ3U2dJZjZDUkJPeVhqYl9OakdQWS01NSUyMiUyMHN0eWxlJTNEJTIyZWRnZVN0eWxlJTNEb3J0aG9nb25hbEVkZ2VTdHlsZSUzQnJvdW5kZWQlM0QwJTNCb3J0aG9nb25hbExvb3AlM0QxJTNCamV0dHlTaXplJTNEYXV0byUzQmh0bWwlM0QxJTNCZW50cnlYJTNEMC41JTNCZW50cnlZJTNEMSUzQmVudHJ5RHglM0QwJTNCZW50cnlEeSUzRDAlM0IlMjIlMjBlZGdlJTNEJTIyMSUyMiUyMHBhcmVudCUzRCUyMjElMjIlMjBzb3VyY2UlM0QlMjJ3U2dJZjZDUkJPeVhqYl9OakdQWS00OCUyMiUyMHRhcmdldCUzRCUyMndTZ0lmNkNSQk95WGpiX05qR1BZLTEyJTIyJTNFJTBBJTIwJTIwJTIwJTIwJTIwJTIwJTIwJTIwJTIwJTIwJTNDbXhHZW9tZXRyeSUyMHJlbGF0aXZlJTNEJTIyMSUyMiUyMGFzJTNEJTIyZ2VvbWV0cnklMjIlM0UlMEElMjAlMjAlMjAlMjAlMjAlMjAlMjAlMjAlMjAlMjAlMjAlMjAlM0NteFBvaW50JTIweCUzRCUyMjMzMCUyMiUyMHklM0QlMjI0MDAlMjIlMjBhcyUzRCUyMnRhcmdldFBvaW50JTIyJTIwJTJGJTNFJTBBJTIwJTIwJTIwJTIwJTIwJTIwJTIwJTIwJTIwJTIwJTNDJTJGbXhHZW9tZXRyeSUzRSUwQSUyMCUyMCUyMCUyMCUyMCUyMCUyMCUyMCUzQyUyRm14Q2VsbCUzRSUwQSUyMCUyMCUyMCUyMCUyMCUyMCUyMCUyMCUzQ214Q2VsbCUyMGlkJTNEJTIyd1NnSWY2Q1JCT3lYamJfTmpHUFktNDglMjIlMjB2YWx1ZSUzRCUyMmFjdGlvbiUyMiUyMHN0eWxlJTNEJTIydGV4dCUzQmh0bWwlM0QxJTNCYWxpZ24lM0RjZW50ZXIlM0J2ZXJ0aWNhbEFsaWduJTNEbWlkZGxlJTNCd2hpdGVTcGFjZSUzRHdyYXAlM0Jyb3VuZGVkJTNEMCUzQnN0cm9rZVdpZHRoJTNEMSUzQnN0cm9rZUNvbG9yJTNEJTIzYjg1NDUwJTNCZmlsbENvbG9yJTNEJTIzZjhjZWNjJTNCJTIyJTIwdmVydGV4JTNEJTIyMSUyMiUyMHBhcmVudCUzRCUyMjElMjIlM0UlMEElMjAlMjAlMjAlMjAlMjAlMjAlMjAlMjAlMjAlMjAlM0NteEdlb21ldHJ5JTIweCUzRCUyMjUxMCUyMiUyMHklM0QlMjI0MzAlMjIlMjB3aWR0aCUzRCUyMjgwJTIyJTIwaGVpZ2h0JTNEJTIyMzAlMjIlMjBhcyUzRCUyMmdlb21ldHJ5JTIyJTIwJTJGJTNFJTBBJTIwJTIwJTIwJTIwJTIwJTIwJTIwJTIwJTNDJTJGbXhDZWxsJTNFJTBBJTIwJTIwJTIwJTIwJTIwJTIwJTIwJTIwJTNDbXhDZWxsJTIwaWQlM0QlMjJ3U2dJZjZDUkJPeVhqYl9OakdQWS01NiUyMiUyMHN0eWxlJTNEJTIyZWRnZVN0eWxlJTNEb3J0aG9nb25hbEVkZ2VTdHlsZSUzQnJvdW5kZWQlM0QwJTNCb3J0aG9nb25hbExvb3AlM0QxJTNCamV0dHlTaXplJTNEYXV0byUzQmh0bWwlM0QxJTNCZW50cnlYJTNEMSUzQmVudHJ5WSUzRDAuNSUzQmVudHJ5RHglM0QwJTNCZW50cnlEeSUzRDAlM0IlMjIlMjBlZGdlJTNEJTIyMSUyMiUyMHBhcmVudCUzRCUyMjElMjIlMjBzb3VyY2UlM0QlMjJ3U2dJZjZDUkJPeVhqYl9OakdQWS0yMiUyMiUyMHRhcmdldCUzRCUyMndTZ0lmNkNSQk95WGpiX05qR1BZLTQ4JTIyJTNFJTBBJTIwJTIwJTIwJTIwJTIwJTIwJTIwJTIwJTIwJTIwJTNDbXhHZW9tZXRyeSUyMHJlbGF0aXZlJTNEJTIyMSUyMiUyMGFzJTNEJTIyZ2VvbWV0cnklMjIlM0UlMEElMjAlMjAlMjAlMjAlMjAlMjAlMjAlMjAlMjAlMjAlMjAlMjAlM0NBcnJheSUyMGFzJTNEJTIycG9pbnRzJTIyJTNFJTBBJTIwJTIwJTIwJTIwJTIwJTIwJTIwJTIwJTIwJTIwJTIwJTIwJTIwJTIwJTNDbXhQb2ludCUyMHglM0QlMjI3NzAlMjIlMjB5JTNEJTIyNDQ1JTIyJTIwJTJGJTNFJTBBJTIwJTIwJTIwJTIwJTIwJTIwJTIwJTIwJTIwJTIwJTIwJTIwJTNDJTJGQXJyYXklM0UlMEElMjAlMjAlMjAlMjAlMjAlMjAlMjAlMjAlMjAlMjAlM0MlMkZteEdlb21ldHJ5JTNFJTBBJTIwJTIwJTIwJTIwJTIwJTIwJTIwJTIwJTNDJTJGbXhDZWxsJTNFJTBBJTIwJTIwJTIwJTIwJTIwJTIwJTNDJTJGcm9vdCUzRSUwQSUyMCUyMCUyMCUyMCUzQyUyRm14R3JhcGhNb2RlbCUzRSUwQSUyMCUyMCUzQyUyRmRpYWdyYW0lM0UlMEElM0MlMkZteGZpbGUlM0UlMEGoPP9NAAAgAElEQVR4Xuy9edQV1ZX3v+nVQ0TR9LuCDIkxxk4bsZPYUYmGgGM0KsHYigIhiCDzEB9AkMkBkEEZlEEBUZEgoMRW0Wg0GhUlKipxAhWjxiGAkvftKIOuXt0/f2sfsyv7nqeq7qm6VffW8L3/KPc5wz6ffe69+1v7DC0+++yzzwgvEAABEACBzBF4sPvZmbMpbwadtvauvJlcens5KGlRego5BADH5dBp6ZjcAuIiHbBoFQRAoEEECvQDx+LihAmTGgQy/90+Nn0aQVyk7ccCfeDSRoX2QaAkBCAuSuJoDBMEQCB/BNIQF/xEuCzpaoiL/M15WBxOAFIOMyQPBCAu8uAl2AgCIFBKAkmLi/6XXU633ferCpYtv/AFevimG+m7hx/eMMa/Wr+eLp55NT2xYjm1/dKXErMD4iIxlGgIBEAABJwJpCcuIK+dnYCCIAACIOBHIA1xwf3cNOVKr7vZy2+lBzdsoLuuu5b2a9myIY6AuGgIdnQKAiAAAqkQSE9cpGIuGi0MAYjPwrgSA0mPQD3ExaZXX6XBV06ldQvnm6wB//uU/gNo76ef0kFt25psAr+6DR9Jiy+fbDIcWpDw387++cV08c9601EdOlDnPn3pvR07TJ2fdj3TCBlu87xRY8x7LVq0MG1u27nT64fLrX/ueWQu0ptKaBkEQAAE6kYA4qJuqNERCIAACEQjUA9xoYXC7r17jTi49tKxdGaXLsTLqN7dvt1kNX4+cxb9xyknm/ebZl1Nr/zhD/SLGdPNgH42fgItvmwyDZ4ylU7r1InG9L3AExR3zJ1tyrBg+cXM6ab+jj//2fQz6Lzupiz3A3ERbW6gNAiAAAhklQDERVY9A7tAAARKTyANcWHvuZDsBGct7OVJOqux8r5f0atvvUXXXTqOZt/yeTbjmG/9m/nvfz78SMVSK36PBYRkO/jfnLlgocGZD79sic6eJOV47LlIiqS0g5Rz0kSL1B5mR5G8WdtYIC5q44faEQngyyciMBQvNYE0xAUD5aVKnKXg5UySaeD3WVycc/GoCuay4ZvfnHHjMhrRqxfd9cgjdMpxx9Krb73tleUMhF1f19XiIUzEYEN3qad89gaPH63s+QQWZZ4AxEXmXQQDQQAEykogTXHBTGV/hSxX4qD/2l+s9N3czWKEl0Yd++1v00e7d9NJ3+tIi1avoY9376bxAy6i9q1bVyypsjMX9r6OsH8n5W9kLpIiiXayTgAaKOseUvaVwFkQFzmajzAVBECgdgJ5+l5PW1wwzbA9F/y3JXes9TZa816Lex97nK4bP46OP/poIzZYXNwybarJhOj9Glx3+tIbzTG3/NJiws6aYM9F7fMaLYAACIBAVghAXGTFE7ADBECgdATmzJlDAwcOpFatWvmOvR7iwt5crU+Lsu/AsJczsSg4/OtfN5uyRahMmr/A/P+l/fvRhhdeMKdItWvdukJc6KwJn0o15PzzvA3iWBZVuo8BBgwCIFAwAhAXBXMohgMCIJAfAl/4whfos88+o6FDh9KUKVOaiYykxUV+yCRjKZZFJcMRrYAACIBAFAIQF1FooexfCeRpYQmcBgLZJXDdddfR+PHj6e///u/pf/7nf2jQoEEVIgPiojbfQVzUxg+1QQAEQCAOAYiLONR86iDcTggkmgGBkhH44he/SB999JEZNS+P0iLjd/360AkTJpWMSHLDhbhIjiVaqjcBRBX1Jo7+kiMAcZEcS7SUAQInnngiPfbYYxmwBCaAQHwC//AP/0A9e/akXns/hriIj5FYXPzol3fX0AKqViPQgog4DMarMQROOOEEevTRRxvTOXoFgQACEBd1mRp4AlEXzETUokULs4Ydr89/8PmHH69sE9CZC7Z0n332oXHjxtGoUaOo7pmLgkWKyFxke+7DutoJ4DevdoZoIXkCEBfJM0WLDSSAL9oGwkfXkQnInotPPvmkQlTI6VHYcxEZaUUFiIva+KF29gngNy/7PiqjhRAXZfR6gceML9oCO7eAQ/unf/onk23jTd2cqbCPpHUVF/bN2NNGjvCOh+WjZfUdE43GqC/X+9eDDza3hPNxtWd26ZK4aRAXiSNFgxkjgN+8jDkE5hgCEBeYCIUigC/aQrmz8INJ4p4L+6I7uaDuq+3a0U1TrjS3cGdVXHz38MNT9THERap40XgGCOA3LwNOgAnNCEBcYFIUigC+aAvlztIPplrmQmcBdKCu32eILC46/fuRdMPtd5C+GE+EyBPPbzKsdcZDZ0M6H/Vduuu6a00ZzjT85eNd9PIbb9D4Af3pyU2/N3/br2XLCiHDZfnG7vd27DD1ftr1TLru0nGmPvfHdty7aAFdcf0NXuZCX+B3UNu23s3gbMuV1y827by0dWvFGMImCcRF6T9ChQeA37zCuziXA4S4yKXbYHQQAXzRYm4UiUA1ccFB97W/WOkF9zJ2EQ2ndepEJ32vI53SfwCdfcrJJpPBmY4HN2wwdRbfsZZefest8z4Lkp+Nn0C/mDGdtu3cSeeNGkN3zJ1NsnSJMyEiDiQrYosbbpvbk3LcP9/ezaJB2mvfujV1Gz6SFl8+2Wubl0Ud1aGDESODzutu6vDt3+9u327sfPy55+ici0fRndfOpeOPPtoIFLEB4qJIMx5jiUoAv3lRiaF8PQhAXNSDMvqoG4G8f9HihKe6TZVcdBRXXPDgODg//OtfN+JCAnvObmhB8NtnNnriQgPRAoQzEiJiVs6cQb0vHU8iGrSIGXxe98D9E7rPIHHRrnXriuVbWpBs37mTLp55tZfJEBHDogjiIhdTGUamRCDvv3kpYUGzDSYAcdFgB6D7ZAngizZZnmitsQSSEhd6z4WdbWARctt9vzID5cwAb6zm4H3S/AUVg+dlSr9ecgMNnjK1YgO2BPrDevaoEAf2JnNZjhUkLrgzLSC0nSwudIYG4qKx8zLp3vFQJT5R/ObFZ4ea6RGAuEiPLVpuAAF80TYAOrpMjUA1ceG650JnLnRGIGifRlBGQzIV+nQn2TA+4Nxz6OmXXvKWWPESp2svHWvEShKZi3TEBcLa1CYvGq4LAfzmpYEZ3wu1UoW4qJUg6meKAL5oM+WODBmTzx+LauKCAbucFsV7LiYMHGD2MuglTz+fOcssneL3g/ZcsACR/Q+yLEqLC70pXDIf3JYWF9zn9KU30sM33Uhx91ykIy4yNEVhCgjEIIDfvBjQUCV1AhAXqSNGB/UkgC/aetJGX2kTcBEXbIPLPRdyWpQ+hUlEgJzoJOLAblPq8P4Lv3spbIEjokeWVl3avx9teOEFs5xKNmQ/v3lLpNOiIC7Snm1oP48E8JuXR68V32aIi+L7uFQjxBdtqdxd+MG6iovCg4g5QBxFGxMcquWGAH7zcuOqUhkKcVEqd+dksDWsYMEXbU58DDOdCEBcOGEKLJSeuKjhS6q2IaE2CFQQwG8eJkQWCUBcZNErsCk2AXzRxkaHig0hEB6kQlzU5pT0xEVtdqE2CCRFAL95SZFEO0kSgLhIkibaajgBfNE23AUwIEECLC7wqo3AaWvvqq2BktRGLiafjsZvXj79VnSrIS6K7uGSjQ9ftCVzOIYLAiAAAiUmgN+8Ejs/w0OHuMiwc2BadAL4oo3ODDVAAARAAATySQC/efn0W9GthrgouodLNj580ZbM4RguCIAACJSYAH7zSuz8DA8d4iLDzoFp0QngizY6M9QAARAAARDIJwH85uXTb0W3GuKi6B4u2fjwRVsyh2O4IAACIFBiAvjNK7HzMzx0iIsK5+C8jAzPVSfT8EXrhAmFQAAEQAAECkAAv3kFcGIBhwBxUUCnFmVIcaQevmiL4n2MAwTSJRDn+yVdi9A6CEQngN+86MxQI30CEBfpM0YPdSSAL9o6wkZXIAACIAACDSWA37yG4kfnAQQgLjA1CkUAX7SFcicGkwABPKFPACKaAIGMEsBvXkYdU3KzIC5KPgGKNnx80RbNoxgPCIAACIBAEAH85mFuZJEAxEUWvQKbYhPAF21sdKgIAiAAAiCQMwL4zcuZw0piLsRFSRxdlmHii7YsnsY4QQAEQAAE8JuHOZBFAhAXWfQKbIpNAF+0sdGhIgiAAAiAQM4I4DcvZw4ribkQFyVxdLxh5m8rKL5o43katUAABEAABPJHoMXftaDP/j/+rcYLBLJDAOIiO76AJQkQgLhIACKaAAEQAAEQyAUB/Oblwk2lMxLionQuL/aA8UVbbP9idCAAAiAAAn8jgN88zIYsEoC4yKJXYFNsAviijY0OFUEABEAABHJGAL95OXNYSczNsbjI336Aksyphg6zGF+0mNsNnUToHARAAARyQqAYv3k5gQ0znQn4iwvENs4AUTBbBPBFmy1/wBoQAAEQAIH0CDT7zUP8lh5stOxMIMeZC+cxomCJCEBclMjZGCoIgAAIlJxA8988qIuST4lMDB/iIhNugBFJEYC4SIok2gEBEEiXAILAdPmWo3X85pXDz3kbJcRF3jwGe0MJ4IsWEwQEQAAEQKAsBPCbVxZP52ucEBf58hesrUIAX7SYIiAAAiAAAmUhgN+8sng6X+O0xEUd07R17CpfLoG1tRDAF20t9FAXBEAABEAgTwTwm5cnb5XHVmQuyuPrUowUX7SlcDMGCQIgAAIgQEQN/83Dg2LMQx8CEBeYFoUi0PAv2kLRxGD+RgC/oIWZDXBlYVyJgWRAXMAJIABxgTlQdALlEReIkIo+lzE+EAABEKhGoDy/edVI4O9ZIoDMRZa8AVtqJoAv2poRogEQAAEQAIGcEMBvXk4cVTIzIS5K5vCiDxdftEX3MMYHAiAAAiAgBPCbh7mQRQIQF1n0CmyKTQBftLHRoSIIgAAIgEDOCOA3L2cOK4m5EBclcXRZhokv2rJ4GuMEARAAARDAbx7mQBYJQFxk0SuwKTYBfNHGRoeKIAACIAACOSOA37ycOawk5kJclMTRZRkmvmjL4mmMEwRAAARAAL95mANZJABxkUWvwKbYBPBFGxsdKoIACIAACOSMAH7zcuawkpgLcVESR5dlmPiiLYunMU4QAAEQAAH85mEOZJEAxEUWvQKbYhNI7osWl9TFdgIqggAIgAAI1IVAcr95dTEXnZSEAMRFSRxdlmHii7YsnsY4QQAEQAAE8JuHOZBFAhAXWfQKbIpNAF+0sdGhIgiAAAg4EUBe1wlTXQrhN68umNFJRAIQFxGBoXi2CeCLNtv+gXUgAALZJADBkE2/VLMKv3nVCOHvjSAAcdEI6ugzNQL4ok0NLRoGARAAARDIGAH85mXMITDHEIC4wETIAIHknpnhizYD7oQJIAACVQkk961XtSsUKDAB/OYV2Lk5HhrERY6dB9ObE8AXLWYFCIAACIBAWQjgN68sns7XOCEu8uUvWFuFAL5oMUVAAARAAATKQgC/eWXxdL7GCXGRL3/BWogLzIEMEMCSlgw4oQgmYCIVwYsNHQPERXX8+JhVZ5R0iRTFBdyZtLPQXnUC+KKtzgglQAAEQAAEikEAv3nF8GNNo8hguJ2iuKgJFSqDQCwC+KKNhQ2VQAAEQAAEckgAv3k5dFoJTIa4KIGTyzREfNGWydsYKwiAAAiUmwB+88rt/6yOHuIiq56BXbEI4Is2FjZUAoGCEsjgeoGCksawGkMAv3mN4Y5ewwlAXGR9huC3MZKH8EUbCRcKgwAIgAAI5JgAfvNy7LwCm95izppNn7297aMCDxFDAwEQAIHaCBzS/gAadf6/19YIaoMACIBAwgQgLhIGiuYSIdBi+NxHPxvZq3MijaEREAABPwItiIhTUHjllcD8VU/QgqYT8mp+6exGwrd0Li/tgCEuSuv6TA8c4iLT7oFxIAACWSAAcZEFL8AGEAABmwDEBeZEFglAXGTRK7AJBEAgUwQgLjLlDhgDAiDwVwIQF5gKWSQAcZFFr8AmEACBTBGAuMiUO2AMCIAAxAXmQIYJQFxk2DkwDQRAIBsEIC6y4QdYAQIgUEkAmQvMiCwSgLjIoldgEwiAQKYIQFxkyh0wBgRAAJkLzIEME4C4yLBzYBoIgEA2CEBcZMMPsAIEyk5gzpw5NHHiRJo1axb9/Oc/J8lcXHfddTR27FiaPn06jR49uuyYMP4GE4C4aLAD0D0IgED2CUBcZN9HsBAEykBg165d1Lp1a/q7v/s7+sd//Ef66KOP6IADDqD//u//pv/93/+lP//5z9SqVasyoMAYM0wA4iLDzknLtJ0fbKfuZ3SibX96t6KLffZpSbfd8xj927e/G6vrV17aRD896wQaNnoSDRw+NlYbWa3EY/vPNbfSZdOvy6qJsCtFAhAXKcJF0+UkgMtIYvu9qamJbrrpJmKhoV9XXHEFXX755bHbRUUQSIpArsUFriaLNw1EXHTsdDxdPf+WeI2UqBZ4lcjZAUOFuMAcAAEQyAoBFhVt2rShTz75xDNpn332oQ8++ABZi6w4qeR25FpclNx3sYdfLViWDMQ5PS+k3z54r8lw/OS8nxkh8tuH7qPBfX5Ci1fcTSed2pV0tuL7XU7xMhe9LxxKA3t3o48//oux8523/mCyIm3atKvImoyZNN1kOfbu2W3K82v/A75ID/96HbX/8ldp7f0bqHWbdub9pQuvptnTJpj/73hcF1q6ch3t2b3LtNfhW0fSxx/9hTY+td7UGzRyHF0+bpgpK33w/4v9/P+6fXl/yMUTaPmSa+mTT/aaejIOblf323Lf/WLzR8X8EYC4yJ/PYDEIFJmAnb1A1qLI3s7f2CAu8uezmi12FRffOvJoE8CvvOV6WjRnWoU46HXhYCMKOOCXv7FhsixKgvKXX3jOW2pl96uFyrGdTjDiQsrrtrgfXfZb3znKCArOvFwycbr5f36xEHn5xeeN+BHxccX4EfTgvXcaG/zsM6Jl5Tp6esNjpp6IqLEjL6SNGx43bfJL+kOmp+bpl8sGIC5y6TYYDQKFJaCzF8haFNbNuR0YxEVuXRff8KA9FxKQv/XmViMSTvvxOb7ZCg68t733Ds1bfBs1Df6pMYQDdKnHey5EXMjf+Em/nfXQ2Yprl66miwf2pPff/aNvQK+Dfc5kiA3T5y6lPueeaoQGB/72vg8tfn63/mFPCPG+Ev7bqlsWV4gSyXLoepJtwTKy+HMu7zUhLvLuQdgPAsUjwNmLRYsWmdOjsNeieP7N84ggLvLsvZi2u2YuZGO2LQr4302DetGlV1xDM6+4xNvArQN7P3GhA3YO7v3EhYgRWe7EAf0VMxaYrIYsTZJh87KmxSvuosF9znYSFyuWLaC77/hFBTXZxP7hjm0Vy70gLmJOroJWg7goqGMxLBDIMQHOXgwfPpwWLlyIvRY59mMRTYe4KKJXq4ypVnEh9VsdcAC9+/ab3rKnauLCJXPhJy44I2FnLmSI9liiZC40Jts2iIsSfjBChgxxgfnABObe/nt6e9tHgAECIAACNRMo6qFEh7Q/gCAuap4e+WugVnHBI+Zgn7MAspSKlz1VExcuey6CxEW1PRcuy6K4bXtPiPQney5kozrERf7mdZoWQ1ykSTc/bY+Y9xiN7NU5PwbDUhAAARCoMwH+vYS4qDP0LHQXtOeCbePg+sC27Svuq7Cf6nM5eU+fxFRNXHA9u28J5vUSKX0KlN7nEHZalIu44KVY1U6L8hMXXE/ElH2CVRb8CRvSJ1AqcYH7BwInFMRF+p819AACIJBvApHFRVFTOPl2I6wHARBIm0CpxEXaMHPcPsRFjp0H00EABOpCILK4qItV6AQEQAAEMkYA4iJjDmmQOeHiAo/fGuQWdAsCIPBXAln4FoK4wHQEARAAAQcCEBcOkEpQBJmLEjgZQwQBEKiJAMRFTfhQGQRAoCwEIC7K4unwcYaKiyw8MoSbQAAEQKDBBCAuGuwAdA8CIJAPAhAX+fBT2laOuPYxGtkTp0WlzRntgwAI5JcAxEV+fQfLQQAE6kgA4qKOsDPcFZZFZdg5MA0EQCATBCAuMuEGGAECIJB1AhAXWfdQfeyDuKgP57L1oo9ol+PQ02bAR8f/55pb6bLp16XdFdovGQGIi5I5HMMFARCIRwDiIh63otWCuCiaR7MxHn3/0k/O+xldPf+WVA2rdpFuqp2j8cITMOJiy/3n8ZVJeIEACIBAMQiktLH28NNvLwYfjCI2AYiL2OhQMYQAX9K6ccPj9JWvfo3ef/ePtPb+DdS6TTuvhlzius8+LanT8afQhscfptvueYxcLoYdcvEEWr7kWvrkk73El972vnAoDezdjTY+td603/G4LsQX17bcdz/4CAQSIeCJi8N/MDaRBtEICIAACBSRwKtPXk0QF0X0bLQxQVxE44XS1QnoLMKPup5Dg/v8hPTSKMlqaGHw8gvPGXHBr5+edQINGz3JEw38HouFpzc8ZtqSTIgIGBYu/Op+Rifq2On41LMk1QmgRCYJ1PCQDuIikx6FUSAAAlkjAHGRNY80xh6Ii8ZwL3KvIh5YUHzrO0c1C/pZFDx4751epmLpwqtp0Zxp5t+/W/+w9/+cxeC/rbplscl8vPzi80ZcsCgZOHys+ZvUa9OmHcRFkSdVg8cGcdFgB6B7EACBfBCAuMiHn9K2EuIibcLla19nFHgpVLV/a5GwYtkCuvuOX1RA46VTLDw+3LGtIgsCcVG+udWoEUNcNIo8+k2ZQA35vJQtQ/P5JABxkU+/JW01xEXSRMvdHp/YxMuaeD+E/ZKMQ5TMhW5DZ0ROOrUrMhflnmp1HT3ERV1xozMQAIG8EoC4yKvnkrUb4iJZnmVvjbMJs6dNqNhjIXsweHO33jvBYuPs7j8zy5n+6//92XnPhezfQOai7LOtfuOHuKgfa/QEAiCQYwIQFzl2XoKmQ1wkCLPkTe3ds9uc2hR0OpTeZ1HLaVF+4oL3Z0ib7b/81WanU5XcNRh+jQQgLmoEiOogAALlIABxUQ4/VxslxEU1Qvh70gTs5U32noyk+0N7IFArAYiLWgmiPghkhABfVsM7TfBKhwDERTpc89YqxEXePJZ/eyXDIfdS8IjqdYt3/ulhBI0gAHHRCOroEwRAIHcEsiguICjrP40gLurPHD2CAAjkiwDERb78BWtBAAQaRCCL4qJBKErdLcRFqd2PwYMACDgQKK24uPeB9TRp6g300itvGEwzrxxB45oucECGIiCQMQI4dbcuDoG4qAFzgVIsEBc1zANUBQEQKAWBWOJi+44/0+nnjKSbFk2mo448PBCUa7k0SF8w6HJasfpXFU233OcLtP7BG43NLC7mLFhJ9629ll5/4x2aOmsZrVw2lfbbt6WvOdwev25dcmXF34Perzam5194lfoPm0oP3Dmf2rX9UrXi+DsIgECDCUBcNNgBGeke4iIjjoAZIAACmSVQaHFhi4FZ826lB36zwQiKR9c/R1tee9tkK1gEXXr5Alo0d1yguGAxMnz01fT0b5d7YoDrHXtSX1o4Zyz9+PQukZwMcREJV4zCeJwfAxqqhBCAuMD0YAIQF5gHIAACIBBOoKq40BmAPj3PNAF41+4X0+NPbiLJBLRv29oE2e++v8P0FlTusG8c7NXlcutun+sblHOfHb759UjLlHbv2WvaPvigdia74JdR0AH9c7/fEklc+AkJLTi27dhJXU4bQHs/+ZS++pW2FSKE+5W/Hf+D79KyhZPp5K5DDC8pG1Sf+xg2ehb93//7ER1zVAc6+fhjaNmt91S0j0kOAiCQPgGIi/QZ56EHiIs8eAk2ggAINJJAqLjQS4fYyN4XTabJ4y4iFhOyLEoEw+k/7GTEAAfSZ/caQ3etml1Rjpci6YCf2+7Rd4K3TCkuBM5GcNZBL3nitvzERS2ZC782RQSxmNIZDH7/nfe2mwzJrl17K5aQSZ1TTuzoLYvitrn+0AHdDUNdnzMsNicROixOuG97qVZclqgHAiAQTADiArODCbz6wPkAAQIgAAIgUIVAiy33n/fZ4T8Y26yYFhd6L0LYXgr9Ny1CJLshS4gk0zB6RO/IS4rYUAmwJSC3jffbc2FnFKLODM1Di4Zt23dWLJmyMySyt0Mz1GU4a6H3X2iBZrdt25yUSIvKAuVBoGwEIC7K5nH/8bK48Pu9BB0QAAEQAIHPCfDvZaC44AKSGeD/lxOVbHHBAW6380d5TPVyKclw2EunpHCtpzS5ZC5EyEh2Ja7z9bgffnRjxf4NPX5uXxjockHigpdo6f0cuh8WF7Y4QeYirgdRDwTiE4C4iM+uSDUhLorkTYwFBEAgDQJVxYV0qjMNR/97B2+pj52RCMtcuJwwFXeQ1fZcyL6HNcunx8qUsF3Sxw+OO5KefOoFkqxLUIaH6wT9LUrmQosLFlPX37gWey7iThTUA4GYBCAuYoIrWDWIi4I5FMMBARBInECouOBAdstrb5k1/RxY++25sMUF15ky80azl0Ivi7L3XCQR7IfRqLbnwssiRDxUSDIleomVvdlbCwBe8iR7UDSDkUN6OO+58FtWlfhMQIMgAAKhBNzERYEudMB88CUAcYGJAQIgAALhBELFhTyp55Oh+CVLmOT9Z5/fYkQEL/3hTdX8mnhJP++p/oldjjYnOEk5+7SooCVRcU6LsofpJy6q7dNwmSwiis79yckVG6n1iVD25nK9bIxPi5KN3ryJm198vG3YaVEQFy6eQRkQSJeAm7hI1wa03ngCEBeN9wEsAAEQyDYB52VR2R4GrAMBEACBdAlAXKTLNy+tQ1zkxVOwEwRAoFEEIC4aRR79ggAI5IoAxEWu3JWasRAXqaFFwyAAAgUhUCkuIu4/KAgDDAMEQAAEqhKAuKiKqBQFIC5K4WYMEgRAoAYCyFzUAA9VQQAEykMA4qI8vg4bKcQF5gEIgAAIhBOAuMAMAQEQAAEHAhAXDpBKUATiogROxhBBAARqIgBxURM+VAYBECgLAYiLv3q65KftQlz87RPPJyHetOIe+s1vnzFv8j1SfCHsu+/voHW3z419p1RZvivGUiIAACAASURBVFMwThAoKgGIi6J6FuMCARBIlADERaI4c9tYkuIi7DLVLADiI91XrP5VhSn6qHV9Seyj658zwoKPVn/u91vol3c/UnFcu27EvhtK/hb0vgsLfS+XS3mUAQEQSI8AxEV6bNEyCIBAgQjkUlyUPMuQxvRLS1y0a/ulNMytqc1ql9GyoNjy2ts0rukCYqEhgoJF0/KV99KC2WMD+/drm9sQgRKVB8RFTa5GZRBIlADERaI40RgIgEBRCeRSXBTVGQ0cV5i40Bemsol6aZC+aJUvU122cDKd3HWIWUL01a+0paXzJ9K4yxfQA3fOJw6s/S5f5Tb5YtqDD2rnZRT69DzTN0MQ5zJauSCX2791yZXkJwB0toUzFHHFhZ+Q0P35jX+/fVsaz7OQkIt7+TLeDt88hLqdP8r8TXgE1ec+Xnh5K730yhs0ZeJgeuTxjYYnjxcvEACBZAhAXCTDMZ+t4OjhfPoNVjeEAMRFQ7BnrtMgccFB99m9xtBdq2bTUUcebgLgB36zge5bey3t2rWXTj9nJN20aLL5mwT+p5zYkfoPm2oExbYdOyv+v8tpA8wehhO7HO0JikVzx5n/5xe3y5mDHn0n0PoHbzTtxn1JsK6XPHFbaWYu7CVQ/G9hxH0Ly8O+cbA3fhYAeimW5vrwoxtpy2tvGZEgQs7mJ4Lpnfe2G34iVrQQwV6RuLMI9UDgbwQgLjAbQAAEQMCBAMSFA6QSFHFdFmXvR5izYGVFQMuogvZccEZAl5en/I/cdwNdNHwqnf7DTmYpkg7I44gLCfCHDuhu2rNffnsuOMvC+yqiLlvymxo6u6J5LVq61hNmLAD034aNmkUdvvn1ZvbqZVG6vNSX5VaS8QjKVLBNtvgowbTGEEEgUQIQF4niRGMgAAJFJQBxUVTPRhtXmLiwg3Fe/sRPyO1gWXoMEhe8iVqyHhwcS7lf/mKWERejR/Q2JzHVKi7EDpfMhSyZEmETjZp/aREBq2+eTj37TfBEk172JDVZ1NjiSreqxYXOGml+nCFicWGLE2QukvAm2gABZC4wB0AABEAgEgGIi0i4Cls4SFzYewjSzFwkLS7EWdX2XOjlRixuan3JUrIJo/vR4pvv9PabhG3ODtpLEiVzIeLCHm+t40F9EACBzwl4mQsAAQEQAAEQCCdw+Om3A1HJCbiIi1atWlbsjXj9jXcq9mPIXoaRQ3rE2nORlriwXVttz4XsWYg7JSS4f/zJTd5GbG7L3r+ilyrpLBDvuTj2pL60cM5Ys7Hcdc+F37KquGNoSD3sl2wIdnTqTgDLotxZoSQIgECJCSBzUWLnq6EHiQsdKPPG6DnTmyqexvudXiTBMTcf5bQoF3ER57QoF3FRbZ9G1FkiS6DsjdSal73PQy8/49Oi5ChcPjHK5bSo3IuLqJBRHgTqTADios7A0R0IgECWCQQ/EoS4yLLf6meb64bu+lmEnkAABEAgWwQgLrLlD1hjEcAdYJgSWSEAcZEVTzTWDoiLxvJH7yAAAtknAHGRfR/BQhCoCwEIuXDMEBd1mYaZ7wTiIvMugoEgAAINJgBx0WAHoHsQAIF8EIC4yIef0rYS4iJtwmgfBEAg7wQgLvLuQdgPAiBQFwIQF3XBnPlOIC4y7yIYCAIg0GACEBeNdACOk2skffQNApEIQFxEwlXYwhAXhXUtBgYCIJAQAYiLhECiGRAAgWITgLgotn9dR5c/cYGnWK6+RTkQAIFkCEBcJMMRrYBAgwkggEjbAcmLC2yhT9tnabSfP3GRBgW0CQIgAALBBDIvLuTCHr6B88end0nEl9Lmu+/vMO3ZF/RE7YQv+5mzYCXdt/ZaqvXG0qh9ozwIgEB9CCQvLupjN3pJlgDERbI8c9canuPkzmUwuP4ESicu/G4X5RtCr79xLT392+XUru2XInvBV1zgCygyR1QAgSwTgLjIsneSsc0llwRxkQzrJFtx8VuS/ZWrrXwHM5gbjZmtgeJi95691LX7xfRff9lFL73yBq27fS6d2OVo897jT24y1ur3Ro/obTILHGgPH321F6hfMOhy6vDNr9O4pguIg/hLL19g6rbc5wu0/sEb6bBvHBzaz/E/+C69/cdt5Je50G2H4Xv+hVepy2kDaM3y6dS+XWs6u9cYumvVbDrqyMNNNTs7ojMbOqvBY+t2/iivKx6/jFkyF/xHmxGXYRu4X361oBY0ddJgGtI00zAQOxozBdArCICACwGICxdKxS8DcVF8H2OEIAACtRGoKi4OPqgd3brkStMLB/P84n9zoN2j7wQTHD/86EbzvgiIB36zgeZMbzLCofdFk2nyuIto2/adzUQH11k0d5wJxu1+3nlvu1lm9Oj650xAL4G863BFHLEQYoEiS5b0+35tyt9FLLEg2vLaWzRySI8KUcLv8zjFRhEXw0bN8mXEb4rAkeVdQTa6jhHlQAAE6kcA4qJ+rLPcE8RFlr0D29IjkO8MRnpc0LIfgQpxodNHEvie/sNORjTYT/d1EM4NS3DNQfeX2x1IH328m045sSNNnbWMVi6b2mwvggTtIi6kHzu4t//t4kYtfIKyAkFZCM4w9B82lR64c37oEim9FIoFEI9/2cLJdHLXIV6WRdvulzHRY9HZlaT2lriwQhkQAAE3AhAXbpyKXgriougexvhAAARqJVA1cyFP8O1N0NLxzCtHUJ+eZ1LPfhNo7oxRdN31q+nC3t3oznseoVNPPpZ+efcjJtOhn9JLXa4n4sLuR5ZBxREX3H6UrIAsWeKlUnaGRQPmzM2K1b/y3pKMiC0uZKO4ZsRCyxYtUWys1dGoDwIgUBsBiIva+BWlNosLvEAABEAABMIJtNhy/3mfHf6DsRWl7KCexcXp54ykmxZN9t0jMGLM1XTE4YfS5lffpAlj+pm9FZy96N/nLLMvQS8j4hOV7MyFiIskMhf2cHVWgP8mgkfK2RkGv8yFvZckKHNx7s/G+TKyMyIu2RVMXBAAgewQgLjIji8aaQkyF42kj75BAATyQMA5c8GD0Xsu7GU8LBZWrf019er+I7OMisXGy1v+QKtvnm6WF2lxsWvXXjr2pL50QuejmmUuuB97P0OcPRdB8P2OttWBfvu2rY1tkjkRW4YN6E5jJl5nNqq3atXS7BPhV9ieC3sjuctyqzxMGtgIAmUkAHFRRq83HzPEBeYBCIAACIQTiCQu7KVNvCSKhQS/9NIi3ucgmQnZDG6fwDR+9IW05s4H6fblM+j8vuNJMhfclr1c6IsHtPIyIHo4rqdF2QjsJV5ycpXszxBRsPeTT707MERQ8AZxLs8b1hfffKfZm/Hc77d4e064L31alDBy3cuBCZtHAtjolkevRbUZ4iIqsWKWh7gopl8xKhAAgeQIZP6ei+SGipZAAARAID4BiIv47IpUE+KiSN7EWEAABNIgAHGRBlW0CQIgUDgCEBeFc2msAUFcxMKGSiAAAiUiAHFRImdjqCAAAvEJ1CQuSn5NbJGGD3ER/zOEmiAAAuUgAHFRDj9jlCAAAjUSqElc1Ng3qmeHAMRFdnwBS0AABLJJAOIiJb8U6UldSojQLAjkigDERa7clZqxEBepoUXDIAACBSEAcVEQR2IY9SEA0VgfzlnsBeIii16pv00QF/Vnjh5BAASSJJD+CZcQF0n6C22BAAgUlgDERWFdG2lgIi7qeby4vrSVL6FtxKvaRbqNsEn6zAKfRo4ffYNA1ghAXGTNI7AHBEAgkwQgLjLplrob1QhxUfdB+nQIcZEFL8AGEMgHAYiLfPgJVoIACDSYAMRFgx2Qke6DxAU/Pe92/ihj5fE/+C7dt/Za4iyDfWlrn55nEl8uKxfPcvkW1IKWzp9I4y5fQF88YD/iy1r5te72ufTj07uQPJmXS2cPPqgdrVj9K1NG2uP/1zbw+++8t92zww+fXFj7X3/ZRS+98obp7+h/70DHntSX3n1/h9f+ornjvMth9aWzfJGt2KEv1dV92Rfq6r/p+noc9qW7T/92ObVr+6WK8fnxYeb80hfZii9ef+MdOrvXGPN35i1tZmRawQwQKBQBiItCuTMLg0l/LV8WRgkbykcA4qJ8PvcbsZ+42LZjpwlc71o1mw77xsEmuGUBIEH56T/sROOaLvAEBZfjV5fTBtCa5dONgGCxwf++7NIBpiwH3iIOHl3/HM1ZsJJEXHBdDqT5/R59J9D6B2+k9m1bG1GwcM5YOrHL0cYGKRe0lErEBdvKgkf+7Wcvt3/6OSPppkWT6agjDycWDQ/8ZoOxgwN3PRaXmaKXMnH53hdNpsnjLvL4jR7R23ARcTJySA+Psd2/8GFbho2aZbrn8YhIYSbt27WObKPLOFAGBECgOQGIC8wKEAABEHAgAHHhAKkERfzEBT+9l0CbA/mgPQB6aRGjEkHCwbJkMlh48L91G7a4kOBft7dt+04jQCRj4rIPwRYTtvt0+1pciIASO7gei6EO3/y6EUYuryD7XPey+PGRsUv/Mj4WKiwuNG8XG1EGBEAgHgFPXMSrjlogAAIgUB4Ch59+e3kGi5H6EggSF5devqCi/Fe/0tYsvXnu91u85VJcQJYV8f/3HzaVHrhzvlnyYwfVYeJCnurr4P/hRzc6CRxtpA6+OUvAL720StvrJy5k+Za0qZc2uUwfzkoIN1lWxf0PH32177IlvYyK25clTzpzIVmUvZ986pnAy71YXGjeLvahDAiAQDwCyFzE41a6WjiCtXQux4AtAshcYEowgSBxseW1t8xSHP3Sy3I4eLczF0mKi1oyF1qsyNIq214/cSH1ap0ZdobBTwTYosMls+PSbq22oz4IgEBzAhAXmBUgAAIg4EAA4sIBUgmKVNtzwUuaZL/EsoWT6eSuQ8w+CNk/MGXmjWaPBL+SFBe17LkIEhecWRB7w/Zc7Nq11+z3GDqgu/OyKL3Rm0WA7LnQ4xBmvORs2IDuNGbidSaj0apVy4o9JUHLxiQLg8xFCT6YGGKmCEBcZModMAYEQCCrBCAusuoZP7vSy7W6nBYlS6J4uZNe+jPxkn705FMvkOwBSFJcyD4NPrGKl141De9l+rL3IWhafsuiguyVTeLPPr/FiCMRUX6nVuk+gk6Lkr5laZU+bUo2t/PSJmEpgoLL8/jmTG+ixTffaZaV8dIz2W/CQkNO7eJlWvzivSCnnNgRy6Ly9BGGrbkmAHGRa/fBeBAAgXoRgLioF+ls95OXG7o5e8Ive6lWtunCutwSwEGRuXVdGoZDXKRBFW2CAAgUjgDEReFcGmtAWRUX+mk/D0xvdpYn+faAo27AjgUMlUAABEpHAOKidC7HgEEABOIQgLiIQ614dbIqLopHGiMCARDIKwGIi7x6DnaDAAjUlQDERV1xZ7YziIvMugaGgQAIZIQAxEVGHAEzQAAEsk0A4iLb/qmXdRAX9SKNfupLAJsm6su72L1BXBTbvxgdCKROIL1zeVI3PVIHEBeRcBW2MMRFYV2LgYEACCREAOIiIZBoBgRAoNgEIC6K7V/X0UFcuJJCORAAAZvA5w/jip8lgrjA3AeBmAT4/PZVa39NL73yhmmBL2riS5/wKiYBiIti+jXqqCAuohJDeRAAgbIRCBQXfEa2XI6joejLgdKApS/1OfrfO9Dp54ykmxZNpsO+cbC5kVNuEq21b7m50z6Kb/uOP5ubRvnFN4HyJUhRXn6XEkWp71eWfcGXAI1ruqDWpprV5/H27DeBVt883fj70ssXVJSR4wz327dl4n27Nlht/HwE49RZy2jlsqmUlJ0yD959f0cgD305FM+nX979SGpnyvMY9YVbruxqLacvumrUsZXsi7S+B6LwgbiIQqu4ZSEuiutbjAwEQCAZAlUzFxJkLZwztu5PZXVQwbeBJvniYHDY6Fn0f/75AHPDp4iIoPdd+05DXLj2HaccB+7n/uRk41sOlh/4zYaKG1357++8tz30ltc4/SZdh23nV1ICzG/ei29P/2En0w/32eGbhxh2HPwvX3kvLZg9NumhmfYaJS60+IwqtJMCkeb3QBQbIS6i0CpuWYiL4vq2UCMr/sqbQrmraIOJJS440Dm71xjDgteO8RP+536/hfRFPbJEhIP1ydMWm7IvvryVWu7zBVr/4I3EYkGyB/w3yYi0atXSZCiGDehOi25cS48/ucnU+fXdC2jy1Bu8zIW+MEhnU8L6087jcnMWrKQvHtCK+vc5yxNOHEwf9JU2dN+vn/REh7bTfpKvMzw85hO7HG3s/8FxR9K8hato7yef0swrR3hBr26L7XHhpJ/c6/7kSbIEnp2PO5IWLr3D8FqzfDoNH3018ZP3oCfO9hN/P3Ghg2x+Mq8zKBLQn3JiR/NU/YsH7Gf8pcfF/8/lJCOi/c9j2b/VvrTu/vWendw+l7XLSb86o6D9HhYE6wxD2AdY5hSz46wZZ7BsUa3bchEX+sk/981zYdjA7s2ycCLyZP4IRy7P/mNb2Jcy5m07dlKX0waY+WXPf5nX9/zqcfM3HkOPvhOazUXNwu/zxH+XfrU/pJ49Nr0sTM/ziZf08z5P/D3B9t239lqTZdI87WwRj3vR3HGGVVLfA+3btjZjGjqge2QhCnFRtJ+/eOOBuIjHDbVAAATKQyC2uODAhoMweWrLYuOuVbONaNBB6qPrnzOiQwfeBx/UzgRZstRB6jB2HXgFLYuSwE8CBP10Pai/W5dcWeFVERcsAt57/wOznEUCVF56xYKIMxocxMnYZGkW28/ldWAkAf4vfzGLLho+1fTFARTbw4EdCyp+ReXE/Yi44KfkEphxW70vmkyTx11k2mV/XHbpABMwcXkWAn59agj2034/ccHl4/Qv2Q4eP4scWWLGbfFLxvXYE8+bv0mwzFkU+Zsux+LCDspt0aCzMK4fYR0ga+GYVObCDp4/X4I2g1asvo+2vPZWxbyTpWl+7zMfWRYlQb8In2rz/+0/bvMeAGhfCCMZq9/nadeuvRWfU81V+5I/TzLPJYDX9omfg8SFiAjJCskDDP5O4fb8lkXV8j0ggtdPNAXNHYgL109VscuxuMALBEAABEAgnECLLfef99nhP/BfzuEXZOkffr/lShK4S3CtAxoJtmxxISa67Llo3651xfpzbc+27Tsrgtmgp9Zi4xXjB9HFl84xQoIDHw7KRw7p4bXP+xD0UiGpd/vyGXR+3/HN9oDYS2fClnS4cAoSF3pvge0PO6DVIs4ODmVJFL9fTVzwk2TZn8HBruxzeP2NdypEkx6XvQdC26aDU5uTXY7FhWRI9DK2MLFU7YOvA2J7HgftuYi67yBo/umsEQsw2a8RVl7EBc9T/ZnSS6bsv+msV9DSKvv9oMBeM7K/F/TnlrmH2ReUudD+0vMhSFwk8T0gdssDg7A5A3FR7RNVjr8jc1EOP2OUIAAC8QnEzlzYm0vtDeDyFJgDp6BgQi/FkPI8FNm4HZS5sIMXHYiwuHAJXiQA5qfFQ5pmmAzA/BvWmGU/Ooj12+TMS03uuX0unXX+qGbLZuw9F3bQHIeTDhD1EiNZbmUHhy7iovnekBY0a97yZnsubLEk2YEtr71tZh1nSuz+tbgQf8oyH/63BOh6XC7igjM3fk/eZfrH2XfhmrmoJqjDPoL20jnO9nG/knnieadFnl95W0DoJYjctzyBt+e/i7hgf2muQYG9n7iwN7zznNQZNhaXtu1Bn097yaCMKUhc1PI9gMxF/B+NsteEuCj7DMD4QQAEqhFIRFzYwYn9RN4l2JeAWJZH8NKkIHFR7YmlS3/axkVL19L7f/qAnnjqBXMyFb9EPLG4kGUqGmbQxu0wcWFnVVw5+Z2WpPuxebiICx6LvYyo2p4LDorZ5ptW3GNQsCDjgDNMXDBbnfnxy0iwQHERF0lnLuwPR7U9F2z79TeujXWKGPflN0aedy9v+YM5rcveMK3L6zlpLy3S47CzRi7iIm7mIigjZn8fhIkLyV6xKNF7XJLIXPh9D0g/2HNR7aehqH+v/cpHiIuizg2MCwRAICkCiYsL2ZDNBsqyKL8feb30iIMqeeqcxJ6LqOJC9mlI9oSX+Yi40HsuOJDW69uHjZpl/MBLl+TJ9m03TavYeG5nVeQJsSsnvSyK+xKho59868BTWOp1+0FBoMueC/u0KFkOc8jX2nubcl3FBa/f5wDyhM5Hefsq9EZtew+OjEECZNnYLGv5bTEUZ89F0AfJZc+Fy4fQzs7IsjL2k4gZ2Wcigk8z0cvQgvZcaNFjCw8XcZHEngs/Yab3cOg9F/beDJ4PtrjgMU2ZeaPZNxR3z4XL94CLD6UMlkVFoVXcshAXxfUtRgYCIJAMgUTEhV5awksZ5kxvosU33+ntYwj6kddLfPyWRcnJOc8+vyXSaVEuQYV+witBrwRDfsGyLEPRJ/P4nZYjNst9HH5n9MvJN66cJEAU4aVPEvJbluSaufA7Lcrlngs7kxImLoStnHQ0fvSFtObOB40wYXEWRVzIWP1OSUritCj9kQo6gjlsn4bfR9Leu6FPVPLLfgWVl/e5D70Bnk+Lsk9g0/PfRVxwm0Gnr4XtGfI7CUuOAtbtnXXm8fTHd7d7p6/Jsi/+LHU7owt9vGuPd0CCzD8+YerJp14we5rS/B6I8jUKcRGFVnHLQlwU17cYGQiAQDIEqoqLZLpBK1klEPVpf1iw2cgxxtlv0Uh7JaBvxMV49R530EbyettRa38QF7USLEZ9iIti+BGjAAEQSI8AxEV6bHPRctgTf3sA8jRajrzNygDtDExW7AqzQzYv60xGHuyOYyPERRxqqJNVAhAXWfUM7AIBEMgKAYiLrHgCduScAK5DzbkDq5qPzEVVRKUoAHFRCjdjkCAAAjUQgLioAR6qggAIlIcAxEV5fB02UoiLjM8DPOfJuINgXhkIQFxk1cv4gsyqZ2BXSQlAXJTU8dawg8SFPoI57LjoelP0O8rczwZZqhnl1nrdTtAFoPUeb7X+irJMs9o48XcQaCQBiItG0kffIAACuSEAcZEbV6VqqIu4sO+sSdWgKo27iotaD8WAuGikl9E3CGSLAMRFtvwBa0AABDJKAOIio46ps1laXOgjl/keHn2fixwJLfcosZn6KHP+txzLzP8vhzv4HXHOF5iGHfnNfUyettiQePHlrd7x1A8/upHkeGe+S0aOiraR6WPheRx8v5J+z85m6L9xux2+eQjJce1SXzIh3JccNb/fvi3NmF94eSu99Mob5n4bbVNYVkGzrmYPt2lz9LvHSu6FEka63TA76zzl0B0I5I4AxEXuXAaDQQAEGkEA4qIR1LPXp4gLv8snbXGxbOFkOvdn4+imRZOJL2HV2QH9pF8H1RzovvPedu8SWrl0kknoo6v1XU0iYFigyL0wBx/UrtllpWE0tT16iRcH4Bxo84tFh31HlFx+ykJGLj7Vl2r62SPjY7Hh8rLvBGIbfnn3I6H2zL9hjWezvreofbvWHkdeviYX29rjtC+QdbETZUAABD4nAHGBmQACIAACDgQgLhwglaCIiAv7Kbv+t+y5sMWF4PG7QJP/Zr8v/z79h53olBM7hooLHSRfPe9W2vzaW7HFhe1GLTyCllnZ4kRf5qnFimQJWKi4voJ4cX2XZV+6vhYX9vI1e5wiqFztRDkQAAElLqbcO/AzAAEBEAABEAgnMLnrEiAqOQERF/bTfT9xcd/aa+n1N96hLqcNoL2ffOotD9q1ay8de1JfWjhnLPGSJ3npJ+zyvgTP1cSFDuZdxECYgLCXFHFZXu60aO446tr9YmKxYy+x0n3y/z/wmw0m+8LZCTsz0+GbXw9cohU0vYTNu+/v8JaXtWrVMtAevYxK2uTMjhYXUv/xJzd53cqyLhfRUvKPAoYPAoEETOaCxcU5x4wEppwRYEXIh0rhBQIgkD6BO5+dTxAX6XPOeg9RMhcSXMuYJACXIH30iN4V4iJK5kIH8LwsKklxYYsDF7ESJXMRR1zoeaGXZg0bNYvs9nTGR++/YN5aXKxY/asKEeQyzqzPT9gHAlkgAHGRBS/ABhAAgcwTgLjIvIvqYqCICzuA5Sfd9p6LqZOH0Igx19ADd84n2TzMRnLAq/cx8FP2s3uNobtWzSbeKxC054IzIGuWT/f2VXBbLGDSFBeSZTmh81HeRm/JSugMzJbX3nbecxFVXHDWQvZ28N4VvedCCyGxZ/ZVP6dFN671MiyyudzOXGhxYY8TmYu6fJzQSUEJQFwU1LEYVlYJ4AKTrHqmml0QF9UIlePvQadFDR94Hr285Q+0+ubppO+5WLR0rXdikz41KehUqKD3ma6c0sSnGjUN70VPPvVCVXEhdcJOi5K2ZUO2vQRp/OgLac2dD3rLnPQpV9KuBPAup0UFiYuw06L06VNhp27Z9vDY2CZ+cb96eRm/x8vTZKmVHqdfRqQcMxyjBIHaCUBcODDMxPIjxKQOnkIREEiPAMRFemzz1DJu6M6Tt2ArCIBAIwhAXDSCOvoEARDIHQGIi9y5LBWD8you9JN/G4xkG1IBhkZBAARKRwDionQux4BBAGmwOHMA4iIOteLVyau4KJ4nMCIQAIGsEoC4yKpnYBcIgECmCEBcZModDTMG4qJh6NExCIBATghAXOTEUTATBECgsQQgLhrLPyu9Q1xkxROwAwRAIKsEQsXFzg920qBeg2nqvKl0xLc7pDqGxx56jJbfsJyuX3k9TRs/jQ7910Op//D+pN9vuW/LyDZsfmkL9TmrD336yacVdc86rxtNnz89cnthFSaMnJCY3dIPt3lq11PphFNP8O2axze5aTItWbWYWrdpHWiea7kkgdjzR/OJ0081FnHajFqnVo6u9V3LRbUf5eMTgLiIz65INSEuiuRNjAUEQCANApkRF3pwkYPQkCXkHKSN7DuS5i+fn7pAimx3FY+ysHrovodCRZBrEOpaLslJlrQ45fYuGXwJXbP4mlAhleQY7LZq5eha37VcmmNF25UEIC4wI5gAxAXmAQgkQABb/xKAKMFSWAAAIABJREFUmN0mQsVF37P70rNPPUdf2OcLtHTNUlowcz599NHHtHXLVlq0YiEd8Z0jqOcZvWj7n7abEUo2QAKj/fdvZerzi8vz0/e9e/bS0N5DvfdHTWqqyFB8r/OxtPDqhaYO/40zGJLR4Pd0XWkzrL8wcWEHcDpLsnHDRpo/a4Gx4/XNrxsGK+5Z4QkUFhL33LHOG9ubW9+kudPmJWY3cxo37FIaPGqw6dOPW7fu3Tz+7b7cjlbfv4o2v7iZhvUZ7s04209S7sMPdnoZHXkvLPPBDdo2HHPc0SbTxBklDvxlLnB7N//yJrps1GXe/GF2K5etpH/5a0ZKZ5R0/+yDMO43LbzJjI2zWvoVFoyzr3Z9vJt+9/jvTAZL2+1nx7777WvmWd8hfc2cFZE0avIoumL0FWa+V2OWBX9l92snn5ZBXOTTb0lbDXGRNNF8tBf5SHoEz/lwLKxMhYBz5uKQQ79mAq72B7U3T9IleOp8cmcT6Okgni3lpUhDRw8xf+Pgbtt720wguvqW1cSBOLehn0RzUFxtWRQvl5J2OPgfPWiMCfjD+nv7zT8GZi6qiQsO0jk479ipY8XYOcCVMeg25l01z3dZVFy7F89dTLMWzTTBu+5Tc2ORIMui+P91lobrPPHIE4Y7c5ByzIuFwKQZE03wrP0TtvSMy/FLfCdtCB8JxsXWpolNFcvqJLMjoqjnhT2azQ/2axB37pt5ay4unwrud+OGZ434ElE1Z8lsTxz7cdize4+XJVm3dp3xK7NyzShkwV8ubFDGnQDEhTurIpeEuCiydzE2EACBJAhEFhciJuzO9RIY/psOcnVGQIsL3Ua1PRezl86mMQPHeE+Ttbg5tstxgf1xUG3vuZAn1zrg5qf2duZi2virTEDKf5NgcdKMSRVPtfUY/PZcxLWbg2y9JEoHq65P7PV49FhZyOmxuQbMul/hz4KiddsDffd9BO25YH/pfSJamO7c8WGFbfa44yyN0qJI283jCePA/KZeOo06fLuDJ/JcWWXNX0l8WZS9DYiLss+Az8cPcYF5AAIgAALhBCKLC3k6zc1y8KWX4MjSIf6bDh7tTdn2kiJ+IlxNXEyZO4X6ndvfe9rOfUgwbwerdlAdtOeiWuZCMik6c8BP4/VT/2riIq7dfiLMj5s9Bl2GbfMTUvbSKS5nL/vymzZ+m+M5s2MH6VI3SFxwFkAH9bociws/7rL5Pq64kAMCbHGh56/NQZeVDfWu4kLmp14655f5SNNfNX/5Ia1fgRDiouYZVYgGYokLfJYK4XsMAgR8CeDz3QxLbHEha+xlSYmduQgTF37Bpw4q/U6LqpYBCOovyrIovYyIMwd+QW7SmYsgu+3MhfZcEGs7IxGWudBjc/m6sJfBpZm5qKe4COPA82HHtg/ojVe3epvIo4gLv3muhXea/nLxKcpEIwBxEY1XUUtPvW9QUYeGcYEACIBAYgRaTLl34GfnHDOyWYM6iJU9F3qTq36Cz4HY9XNu8PZABAXNWjgkuecirrjgJVO8/l72DTAE3qMQJC74CbpeZqOX9Ny2bGXkPRdhduu9BXrJVdCeCx2syqZkGU/Yngv23epb1nhLwPxmli0uJGulN4yL0BSRxlmbiy9q8o4ydt1zESYu4u658MtcyIEE2m7hwHszhL8Weq7iotH+SuzbAQ15BCAuMBmYAIsLv99L0AEBEAABEPicAP9eBooLCShffuEV77QovSyKg0g5IWnQxQNp0zObzJ4Iew2+foLOG2X1CVNy4pO9L4PbjXpalNz14LosigHIGHhZ0AWD+pgxVBMX9klAMgZpKwm72TZ9WpQ+jYn/Jn3K+/yefULT2CvG0u0rbjd3YPCLufNLb2zm05P0kqiw4Fkvg+OTwfglQXvYqUs8f3jjvRZfYadFhYmLuKdF+YkLWaYke3KEw4FtWje738UWRsIx6IStevkLX2T1IwBxUT/WWe4J4iLL3oFtIAACWSAQKi6yYGCZbXC55yINPgtmLaAefXs07C6JoDHF2W+RBh+0WU4CEBfl9Ls9aogLzAMQAAEQCCcAcZHxGVLvW6k5gF+zfA2NGDcic2TqzSIMgN/mdimv79HIHEQYFJsAxEVsdIWqCHFRKHdiMCAAAikQgLhIASqaBIF6Eoh8uVM9jauxrzhji1PHxcxsiIu0RudCAGWYAMQF5gEIgAAIIHOBOQACIAACNRPIhrioeRjFaKCBGgviohhTCKMAARBIjwAyF+mxRcsgAAIFIgBxUSBn1jAUiIsa4KEqCIBAKQhAXJTCzRgkCIBArQQgLmolWIz6EBfF8CNGAQIgkB4BiIv02KJlEACBAhGAuCiQM2sYSpLiwuUyUhdTgw6Y4CPD+W6mJF/6Dh997HvLfVvG7qbaYR2u9wu5lqvnSYx8fPqbW980fkiKV2zQqAgCdSIAcVEn0OgGBEAg3wQgLvLtv6SsT0tc8L07cV/6Mtcjvt0hbjNO9bS4cKpQpZBLoO8qGlzLsUnVBE0SY+M2tLhIqk20AwJZJwBxkXUPwT4QAIFMEIC4yIQbGm5EkLiQwPao7x1Fq25eVXE5KRutLyGV46r5/aG9h/pePquzEVx+9tLZNGbgGFNWhIgEyHxx7ci+I2n+8vlkiws74NZPzzdu2EjzZy0wTF/f/Hozm7n9e+5YZ/7OF7fyE3i5ODfqZbH779+Knn3qOa8tHgNnbvRlsfYFtdxHt+7dvIt32325nbkEdvOLm2lYn+HeXGDbjvjOEc3KffjBTpJLUqWuXHzKXBbPXUyzFs0knXXh49gH9RpMU+dNbcZSxIIw0BfQ2n8TPmInZ5FO7Xoq6UtiNV8u3394fxJ/+fFq+OSHASDgSKBCXDTwAA5Hc1EMBEAABBpDAOKiMdyz1muYuOBA9rQfn2qWwPAT6yceeYKuX3k9vf3mH02QO2fJbOrYqaMRFO0Pak+TZkzyFRc8Zh3gSraA35clNvpSUQ6i44oLDn45ONd2if3SlxYo866aR4f+66EmENZCZdr4abTtvW1mvCxaRg8aQyvuWWHcx2MfOnqIqcNjkXLMRQf4+im/Pb7JTZNpyarFZI/V5izluN+eZ/SiSTMmGjGm+2UxYQsbl3nG4502/iojcFikcJv8spc87dm9x/Pf0+uf8l0WtfqW1bT6ljWmLRFBPD9YKAbxqmXpmcv4UAYEkiKAzEVSJNEOCIBAoQlAXBTavc6DCxMXOsDXT8B37viw4om1BKk3//ImumzUZc0yF/xkXj/hFuP003YO4B+67yET2PrtuZDsCAfwEnBzQGxnLnSwLMG9Fj32ci2/PRd2VkUyEJ1P7kzHdjmuQvjY/csYeIxBS4jCljvp9vRYmaEem18btS6N0vYGLRcL2nPBYkxEGo9dhMpPL+odyAviwvljioINJgBx0WAHoHsQAIF8EIC4yIef0ray2rIofrrOQbwWF/z0WrIYHCBKoHvtsnm+4mLd2nUV5WVM+mn7bctWmmU2HPyH7bmotixKixgJhJsmNlU89ddM/cTFlLlTqN+5/b0sgQTLHDyzuAgSN/z0XrIj0oe9FEvGp9vQZbien5Cyl05xOXsZU1RxYS/b4jZ5uZOIMRZTnJ3RLz9xIWJMl5dyLC6CeEFcpP3pRvtJEfDERVINoh0QAAEQKCqByV2XFHVoGJcjAdfMhQ74k8pcsIkchO7Y9gG98epWumbxNUbIRBEXehkRZz/8xEXSmYuwzInOXGgXaHHG70sbdkYiLHPhl/2xhZIINBf3a3Yc6KeVuYC4cPEGymSZADIXWfYObAMBEMgMAWQuMuOKhhpSbc+F7C2oZc+Fva9Ar+2XJVCyt4NhVBMX9n4PriN7I/zEBS+1svuUJV+cMYm65yIoWLb3XOisSNCeCy0u9t1vX7NnRcajl0Xxe3rPBftD9jiwIIuz50L7lPdVcPsdOx3TbI+N/I33e3Bmxu8o2rA9FxAXDf2Io/MECEBcJAARTYAACBSfAMRF8X3sMsJqy6LklB/7dKKop0X5lZeNyHLClOyHqHYULQfFfMIRLwu6YFAf2vTMpqriwl4CxJu+uT9pK+ppUbJcTGcamLc+LYoFBQfs2/+03bhC+pT3+T3Zp8InT/F4xl4xlm5fcbvZ7C2Cgv+rN0p/+smnzZZExTktStvH/h0wcgA9cPf9hiX7xu/0J/Fj1NOi/HhhWZTLJxRlskAA4iILXoANIAACmScAcZF5F9XFwGriQoLCtIyJcpdDWjYk2a7LPRdJ9idtRd1vkYYNaBMEikoA4qKonsW4QAAEEiUAcZEoTp/G8nEYeiPFhTwFlyf6aXukXu3XO9BvlKCpF0/0AwJJEYj7rdwQcRHX2KRgoR0QAAEQiEoA4iIqsWKWT/KG7mISwqhAAATKTqAh4qLs0DF+EACB/BGAuMifz9KwGOIiDapoEwRAoEgEIC6K5M0IY0H2KAIsFHUiUPQ5BXHhNA0KXwjiovAuxgBBAARqJABxUSNAVAcBECgHAYiLcvi52ighLqoRwt9BAATKTgDiouwzAOMHARBwIgBx4YSp8IUgLgrvYgwQBECgRgKNFRctiIjXUlgvPslh2virmp1TrYvxmdF80U+SL32Bjz6Lu5azpaudguF6rKBruSR56BtSj/h2B3OGt1yelGQ/Sbelb02N07Zrfddy1eZAHBvrVUfOuu98cmfqP7x/vbrNZD8QF5l0S92NgrioO3J0CAIgkDMCjRUXAbBscSE3g3KAm+Yr6eDZ5bg7V9HgWi5JPra4SLLtNNtyDfqDbHCt71pO3zTLN8Pm6QVx8TdvQVzkaeamZyvERXps0TIIgEAxCFSIC7nlk4fWokWLZpkDuXGU/z6o12CaOm8qccDPQdYTjzxhbqnkl9weesR3jqi4bVOyDdX64XIbNzzr9R8kLuyAW2cbNm7YSPNnLTD2vL759Wa3c+qbNPnM8De3vmluMOVX1JtH5UZWrivnj3NQpm8etW875T66de/m8RG2m1/cTMP6DPdmF7enOUq5Dz/YSX3O6kN886h9E2zQ1LRtOOa4o72bRe2bR+1bUFfcs4JuW7bSy1wwe7/+2Qdh3P1sEz/6ceTyfjfVvv3mH2ly02RzKysH7OL7nhf2pFEDR5tuqmW39Bj4plce484dH3r8pb7cSMtthpULulGX63Eb/LKf/oeJRp6jr77yGm3dstXMSa5r3wDL49W39Wphzly0YPYbh2Skgvo57IjDjN1nnn0GMhfPzqfJXZcU45sfo4hNAOIiNjpUBAEQKAmBZuKCA8Y5S2bTCaeeQBJwTpox0fybA5Vt720zAem08dPo1K6nmvevmjCd3nh1K12z+BqD7ZLBl9CUuVPoslGXkSynEEExf/l8U8avn54X9vACqCTEBQfpHJx37NTRBGDtD2pvllLpJ846uJt31TwveNZChccq42bRMnrQGBOIyjiGjh7i2S3lOPhdPHcxzVo0k3hZle5TP8lmkSBBMv+/FlJatOlgmvvteUYv8vNL2BIu9h+/mIH2rfDpO6Sv8afY2jSxqUJESqAqokj7S/MJ4h70mZIgP4ijMDnk0K9V+FEyQ5NmTDLzke3lgNoloyBCS8ass0y6vl+wLgzteRRkJ5fnMer54PL9oj9vModExPN8kM8QC2MRLjJnLrlyLDEvEbgsmmSpoYgOGYdfP6tvWVPxcEF842J3Ucsgc1FUz0YbV3bERcC64mjDQWkQAAEQSJyAb+aCBQA/0bQDKx2Ir1u7zjzt58Bu2YJlxrBvf/fb5r8P3fdQs/0QeokNl9FBtP30Vv9bP6GX0csT96Cn1yx+WAToYEoCQbZXP+nVRP32XMxeOpvGDBxDEoTqZSLHdjmuYhx25kRzCAp4w55c6/b0WDm7occWZ8mUDq5btz2wIgsgTIL2XPC4ddZAC0c7iHUJ9HV9mXfLb1huROzqW1Z7WTEOsO29MPJ0v+t/nOk9WXfp0xYXeh6E1dd/s/9fAn8/O+MsjdJi0G95ksxX3gcjvNimA9u2od27dhH7KUjQaNt1P8zBXh6Y9HLBxL/F6tRgMcVF0Q8QTn5yZEdcJD82tFgcAvhkF8eXeRxJM3FhLzXRS3R4gLIshP+fA5c+A39GD933G+p0wveN2JAXL+HQy0TsunY/QcGy/TRfQ662LEoCLp054Kfb+ql/uLi4labMvZL6ndvfyxLo4MsOsnXgy0Ex89Cbzu2lWJwlsMegy3BffkLKXjql2YbtS9HLgGTcnNnhl+ZfTVxwMKvLaxHC4sKPe9jm+zA/MkdZriZ26WVgfsLKRVxwW/ZSsNX3r2qW+bCXknE9vVxKfKyXHPnZGVdcyAZ6PzvEFp7TnC0cO2UsrbxxJZ3d42zvMykCN2wcWjyEiRhs6MayqDz+yCVtM4sLvEAABEAABMIJtJhy78DPzjlmZLNAN+zEJA5CeCnKd4460ntKymvyd328mwaPGkwHtmldEcTbmQv7yXfQv6OIC72MiDMXfkFu0pkLv3X/kjnxy+BIUCt7Vvjf0oadkQjLXOixuUxwO2hMM3ORtLiwRZqMV/a1fOOb/0I7tu3whJyruNDcgoShnlP28ragLIafP5ISF5JB8/r468oIXpr4L4f9C/3h9T/QwJ8PIF7ix5/Fc3r9h7fUTWdW7MyFPgUMmQv/T1QxMxcu3x7FLBP3yS4yF8WcDxgVCIBAcgRCMxf2ngsOSGQtNq/b5oDmt7/+LU2eOcnsa2CxwQEN7zPYs3tPhbjgutfPucHbq6CDcjvw5eDGdc+FrDuXfQOMRoL7oCBXLwPRS3L0hmXXPRdB4sLec6EDtqA9F1pc7Lvfvmb5lownbM+F7Re/6WEzlqyS3jAuezgkoOZ9Mxdf1ORt3Hfdc5GkuOBx6yV0en8AZzX4JRudZQ+Qi7iwl3wF7bnQ4kLmdMdOx/ju3Qmyk0VJ3D0XOuj3s0X2vfDf7vvPX5EsD9P7oGQfiogLexy2mPA7Chp7LoggLpL74clzSxAXefZeuW2PK6jLTQ2jj0MgVFxwg34n6sjSm7CTabiuXioy6OKBtOmZTWbvgt8af91Pr369vA3iYZkL3Qcv17pgUB/TRzVxYS8RkROexN6op0XZJxbJqVn6tCi9BIftlj7lfX7PPqFp7BVj6fYVt5sTkfjFy7n4xct39F4UWarGfqm2h0OWufHSHn5J8Op3+pMInJdfeMWIQtfTooLEheu+EztjppfX6VO1dD/20iweZ7XTovzalZOnpL4so9v+p+3mVK4BIwfQA3ff780x3U9QezJPRQjpD2q106Lse0X0sjk9Pnvfis3aXgKmx8EPBYL64TGfeNqJ1LZ9G5wWhdOi4vzGFK4OxEXhXIoBgQAIJEwgk/dcJDzGhjXncs9FGsYtmLWAevTtYfYPZOnFAe6a5WtoxLgRWTIrdVviLIlK3Sh0EJkAMheRkRWyAsRFId2KQYFAhgnk72Q4iIuUp5P/7czpTZRoAXx6dvhhZbHFL97IXo+XfaCA7rNaViNJ+/J8Q3eSHPLeFsRF3j2YjP0QF8lwRCsgUJ1AfWOU6vaghCsBiAtXUigHAiBQagIQF6V2vzd4iAvMAxAAARAIJwBxgRkCAiAAAg4EIC4cIJWgCMRFCZyMIYIACNREAOKiJnyoDALJEMApHslwTLMViIs06eanbYiL/PgKloIACDSGAMRFY7ijVxAAgZwRgLjImcNSMhfiIiWwaBYEQKAwBCAuCuNKDAQEQCBNAhAXadLNT9v1EBf6ktMjvnMEyaWrcgy8Cy37+HOp43KYhRwHPnvpbBozcIw5Qj7uQRx8LDa/+D6iqK+gi3z1HVx8tP3iuYvN/Vp8p1CaLxd74nJK0267bfsaAf13Oe78mOOONkeu18rUvmMraJxhlzYnzca+2ynp9tHe5/dCeTd0AwgIgAAIgIA/AYgLzAwmUA9xoUnbF366esG+BJfradESFgQnFejFuTzUZXx+F/zGFTAu/VUr48e6Wp1G/j1IXPD80PdzJWFjFsVFEuNCG+EEIC4wQ0AABEDAgQDEhQOkEhQRcSEXYB71vaNo1c2riC8znbNkNk0bfxXxpZv2JZd9zupDn37yqbmMky9ClQs7589aYKi9vvl10wZfWHrIoV+job2HUs8Le9LqW1bTs0891+xv/B6/5EJWuUiT32vRogUtXLGAhvcZQZNmTKzIOuintn6Xp4pdfEmpnbmwL+Pkccy7al7FJZw6U6GP4bafFuuLPqvZIRfTMhMeNz9Vf//dP3ljC7tLKOgpdZr2BH0MJNBuf1B7mj5/euinxRZ4Qbz0JbrcoL5olS8EloyRZsxzc+OGZ715qIWnPa/82rPnmsxnPSCpd9gRh5m3zzz7DGNLNV+3OmB/+u2vf1vxOdG+sgWyPnKex7XtvW1exkUuRmZG3z/++9Rq//0Md2nv2C7H0eSmybT//q3MvNKfJ/7/oPol+JqreYgQFzUjRAMgAAJlIABxUQYvVx+jFhcsGIaOHmKCJg5YHrz3ISMO+DWy70iav3w+HdimNfU8oxf1vLCHV04CoI0bNtKwPsONQOjYqaMRFBx4Tpoxyfw/L0eyl0VxP7r+6EFjvD7ZHhY4nJXwe5qu3+N2w+yyxYXYJ0ukJNg9teupxGVFAMiTbx73JYMvoWsWX+MJKV1Oj6+aHdz2tPHTKsYt3CQDE/U+IR28s7+StidsJumAWMShXT5IXOi5wWPXl/WyT5545Anji7ff/CPJfPDztS0utMDQPl59yxojQj78YKfXHi9F03PNtp3tsOvx56Rb925mzongtecy+1QEEf+NX1oM8OfMXjIo7cn85Doyfvsz2LHTMc3Ehf0Zls8W8wuqX/1bAiUgLjAHQAAEQMCBAMSFA6QSFNHiQoIP3guhnyzrpUyMhJ+OLlm12ATZ8tSXhcfOHR+aTIc8+ZU2gsSFZDQk+NNLTvgprLYnaM+FBG+SeQmyyxYXHFDqcYirddaAA1DZ/8DBmd4LocetmXCdMD5+GRS/5V1R93akbY/rR0EH2Hp/g6u4kH78lh/ZT+i1r/18aXO1szsS8P/0ot4Vc80eq1+9Q//1UJPh0vNdz8HNL24O/JvOjmkbuV8RrMxOM+OM35tb3/QyRPrzqbnoz4xrfVfflrmcJy7KDAFjBwEQAAEXApO7LnEphjIFJmAvi5KALUhc2AJCCw/+mw6OqokLyYLopU5BAWS1fQD2uns/u/SyKHapDgy1iyVrwMEcv/gJsx0c66CQy0ng52LHlLlTqN+5/b0n3kmIi7TtYQ56CZBevlRL5oKf5PstT9t3v31N9kWW94h/eKkQZ5eCgnoWvLZAYfEqmYDOJ3f2llbJ/GRx4SdOuJ0wkcPigrMT+iVc7M+CFh5B4oLnkGRqbHHBmS5+yfKzIHGhx6HnbFj9An+9JTY0ZC4SQ4mGQAAEikwAmYsie9d9bFHFBbdc7cm8nMpTTVxUy1zofqqJi6QyFzw+DsruXPWfBuLgUYOJMzl+m7llfFyOA15e1hPVDq6ThLhgG9K0x29G1bLnwmQNWhBNv65yr4bLyV5+jGvNXASJCx53WOZCi2nNyBaZ+t9aXOh5zfVrzVwEiYuwzIf7t0V5S0JclNf31Ufegoj4dje8QAAEzNF6dc9c4HbFzM28qOKi2p6LKJkLDtrD9lxEERcSpAXtBbGXI8m6fcma6PX9e3bvMWvpv/LVL3ubaf02WcuT/H/+P//sLQVzsYPFFwd78pRa71WJu+eCJ1aa9tQ6cTm4lv00Mod4z0DTxKaKo4mD9lyIT9i/fDAAZzUkC8FzqNY9F2HiQgsD2avht+dC783gZVF6H42958Jvn5Kek3H3XASJC+y5qG0GQ1zUxg+1QQAESkKgIeKiJGzzNMyo4kKe4gedFlVNXEjQ9PILr1ScJOV3WlQUcaGDa79TrPz2OgSd9OP3tFrekwwF/zvoyX21E4T8ToviU4XO6fUf3uZ1vXlcz6ewOw3Ssiep+SwnLvEJYyeediLt2b3bLPPRy6r06WPC/J471hkTgk4s69WvF73x6lZvs73Y65cRCjotKkxcaDvE9rbt2zQ7LcpeKsZzTk6L0vds6GVgJ/3oJNr10cfe3SvCgtu6YFAf2vTMpmanRdn8gpYS+u1zmTttnjm5SvNPyr9FbgfiosjexdhAAAQSIwBxkRjKXDdU73su8gAr6C6OtO65sJlE3cydB6awMToBne3QtV3v2gjqsdb60UeS/xoQF/n3IUYAAiBQBwIQF3WAnIMuIC4qnSRZBzmSt96Bf70ETA6mZulM1BkvHrzOdujsDv/N5WZ6DbDW+qVzhjVgiIuyzwCMHwRAwIkAxIUTpsIXgrgovIsxQBAAgRoJNExcYJ9ijZ5DdRAAgboSgLioK+7MdgZxkVnXwDAQAIGMEGiYuMjI+GEGCIAACDgRKIW4wFOfqnMB4qIqIhQAARAoOQGIi5JPAAw/+wQQ72XDRxAX2fBDo62AuGi0B9B/BQEcGY8JkUECdRMX+ogzPpt4UK/BNHXeVHPZTpyXPuubb2ZM4+V3AkYtm8fsi2y0zfrMcL4ZUh/fl8bYuE1Xe9Lim9S4wk5y0Bu+Fq1YaI4trPWlfRXEJoxtrf3b9e3j85JuH+19TqAU4gLOrkoA4qIqIhQAARAoOYG6iQvNOejYOldfcOB2zeVXm+KXXDk2tkCp1p9tJwex44Zd6t1AWq1+lL/bFxIFndkdpU2XskFPxV0CaJf261EmTFzoC4aSssWFTT3FRVLjQjvhBCAuMEOYAMQF5gEIgAAIVP+9bDHl3oGfnXPMSO9J9lHfO4pW3byK+FKSOUtm07TxV9H2P20PvJBFX+LCwdz8WQtMr69vft20seKeFXTIoV8zN0TyTZF80yZfAGT/ze9SoJF9R5q2WrRo4d3oKWda8/tvbn3TXCojL318GB89Jrc68hNm/Tc5sozrsV3tD2pP+uKZSTMmmfe1nTt3fEgP3feQd4mNvvxIB5P77rf2yOdxAAAgAElEQVSvV5fblyfmdsCpL3/5/vHfNxfD8GVBbGvQud1BQav9vi2MXC7CCbMnaBrpGzZbt2kdONv8xi78xAfi/1GTmsxlO/zy85lkC2RMhx1xmCl75tlnePWC6srNrvx3fWwdt/XqK6/R1i1bSfdvzyues7avwtjqzxJ/DjhT53dRj8xjEUrMQsY1ctwI76IovgWXP4ts+8cf7zLZP56XwpKzXrs+3k2/e/x3xBdjBV1EpOvHzR6W7csV4qJsHvcfL8QF5gEIgAAIRBQXfIuonFfNQdOD9z5kxAG/ONCfv3w+yVX0fK08B4F6iZIEbxxQy82iHLhLsN53SF+yl0XZ9eXKe+6T7WGBI8tZdPaA7dBP+OUWx0kzJnp9cxscsOur3EXoaLukHNsv/XP7evkW2ynLlezgnYNsCRDDxiO3Wn74wU5vbPa19Rw8R11+Zd+sqQNYFnOrb1ljxJnut3XbA8nVnrBppG/PDDpLOkxcsH3CjtsSn7KtMucOOfQQGtp7iBGBLCa1qJEx+Z2zrjnwHJD5pOcmtxe2zE6WVvE8tH3Ftj/xyBPeHJP2mS3//2k/PtWzV8rxHPO7lVfGpcsN6zPcE6f6giAe//VzbjCfTVtcbNzwbDNf8+cnqD7EhdvPBMSFG6fYpXKyuQjiIraHUREEMkUgJ185mWLmakzFsigOoiSY44BDB8w6mObG9dXvuh4HOpzp4ECWn2RLG0HiQgJ9Fh0cAOklLsd2Oa7CHu7XDrp1wG8/EbYDbAnaJIvBAd7spbNpzMAx1PnkzkYo6XFqccF26iVR2k7OxnCWg8cgwWfQeITb5hc3VwSYtu06yA7LCGhH6+BRrrcX8Xfovx7qPdWXcj+9qLfnx2r2uE4oHoeIMx20uooL3Y+9/Egz4if09pj0v3XGQQJ5O6jn9mSuzrtqnqmis2B+bYTNHS4v3O25q+eVFgOSpWJxpT8j+rPgJ8iD2mMuMo6wfU61Lk10nQ9FKgdxUSRvxh8LxEV8dqgJAn8jgJ3oRZ4NzcSFFg1B4sIWEFEDJ525kCwIZxskO6EDNG0PO4Jtmjvt80BQXvK0PCwY5SfMdj1eznXzL2+iy0ZdZoQB9x8kLuwshtjCQaEO0vl9XrpSbTzr1q7znnjrgFWWRcURFxJ8XznnSmoaMMosmRHxJuIpyO5q9nA9vWSH/y3Lh2rNXPD49dIiWUbm52vtMz0mLab03AgTmFrwsLjwEyfCK0yYynIuPR/1nGBx6PIZaZrYVDF3tDjgTIgW/mHiQsbhWh+ZC7eveIgLN05FL8XiAi8QAAEQAIFwAs32XCxZtbgi68BPc6NkLvyWfMTNXGhxoZc9iRAJC9rswNLen6ED5mriws5ccF0JTs/vcz69+PwL5qm3vTzJzsSkmbkQFmzPk48+SbMWzTT7N+zAO8nMRdw9F0GborU/n17/VLM9NTKV/cZUa+YiSFwEZcQk6yVzR3/M7Cygnd3TnxHxR1KZCz9xYS9FROYi+s8CxEV0ZkWsgcxFEb2KMYEACCRJIFbmotqeiyjigp+auuxR4Ke/ehmLLBXSwXu37t28J7/22ni950L3aQeIQZkLqaOPiNVP8vUxpy7j0RmOJPZc6KCbN6brTcl++xN4/4Dec1HNnlonXdi+Bb3EKWjPhd88kSVNSe25CBIXYXt59J6LPbv3mPnHe5F4WZTev6TFlL2vh+t07HSM796MOHsu/MQF9lzUOoNxFG3tBIvRAsRFMfyIURSAAFZWZdaJscQFB3r6/gD7tKhq4kKC6ZdfeKXiJCm/06J05kLvKdBEdfDMewc4IONTfS4Y1Ic2PbPJO4FJnzwkNsvJTn6ZC1lSJHbq06Kkf78n9/byoWqnRXFbgy4eSG+89gcv2xD1tCixJ2jPQ5TTovzsSWIGyzIn2zcSlPMpSPzSQs3PZyIsZUzsyxNPO5Hatm9TcVoUt+WXdeD5wS/7tKggcSHtSD3bV5qtLNGTrJacFqU/I9yebfue3bsrMl/8WTjpRyeZE8T03JTTonr160XPP/O872lRQeJCL1/T9bEsym12I3PhxqnopSAuiu5hjA8EQKBWAg2556JWo13rB4kR1/p2uTTvudB9xdlvEXdMqJddAvbSKm2pXxYvykhqrR+lr6KUhbgoiidrGwfERW38UBsEQKD4BAolLnQ2xX4ynZQrox4RG6dffQJWnPqok18COgvCo5Asjp0NkztiXLMOtdbPL9HkLIe4SI5lnluCuMiz92A7CIBAPQgUSlzUAxj6AAEQKCcBiIty+t0eNcQF5gEIgAAIhBOoXVxgQw3mWAYI4DKcDDih4CZAXBTcwY7Dg7hwBIViIAACpSVQu7goLToMHARAoEwEIC7K5O3gsUJcYB6AAAiAQNqZCxAGARAAgRIQgLgogZMdhghx4QAJRUAABEpNAJmLUrsfgwcBEHAlAHHhSqrY5URcyHHTculskqO2j9CO2rZ9uAnXj3oIhN2ny3hrtbvaOKsdduJiI/fhWq6aPVH+bl9cal8EG6UtLluNhUt7+p6w/sP7u1SpKOPi71rHGdmohCvYFyMHNc9H7ctFzS5cajUzjl219hmlPsRFFFooCwIgUFoCEBeldX3FwOshLmol7XeMddAdSLX2Va/6bP9D9z1k7gMKermKBtdySY7NFhe1tp3EkfW1iotax5CH+lkN4rNql/gU4iIPsxs2ggAI1JeAz0EVEBd/dUHJT08IEhf6wk99Qae+vJLf//jjXebySz5GWtfhCzi3vbfNXPq6ccNG4stoZy+dTWMGjqH2B7Wne+5YZxwgF3Xy/wfVf/vNP9LIviNp/vL5ph956bufgi575bLaZrkA9MMPdpJcaiuXz8rFt6MmNZkLTPUTW25naO+hFHQ57v77t2r2N9smade+Y8qvXLfu3UguGRWb5VJdGT8f7X3Ed45oVo7H1uesPvTpJ5+SfeFp0BePbUOQz7m9m395E1026jIzXskg3bZsJcmFp2GXEs+ftcCY8Prm15tln+JetitHnh92xGGm7TPPPsP4L8gOLqP/JmOVecpzluecMNRZMp25iDtO7YNqdrTctyXpLAL3v+9++9GjDz5KfFEvf36Y+9xp8yp4ajt14C6XPstltnIZMNsk4+QLluWSXW7/1K6nms/viEtH0lUTriLJbvplr+RzLXPdnm9+9rPAtsWF3/cP+0fbFSbMk/6BhbhImijaAwEQKCQBiItCujXyoPzEhQSnc5bMJglGWBDwj7kO6DkwuX7ODbTinhV0YJvWJsidNGOiV4eN8RMX+v3Rg8ZUrR8kLnTwP238NDN2tlFnNQ459GtGFOhgipd7/PSi3p64WLd2nbcERD9B52CegyoeA7evxZLYzX1yEDp09BAT0DIfKbf6ltW+7TLfxXMX06xFM8kOHnX/WgDx/2uBxeyfeOQJYxvzEaHE9ogfTjj1hAp7uK+gl/ariDHtS5tf08QmGtRrsCcsJZgVUdTzwh7NeEhwyKLInlcS8GsuLpOZOay+ZQ2tvn8VybxlX4gdPAabw57de3xt5yBdi2AZs84yJTFOGVfQ0jKxg33rJy42bni2Yryn/fjUZp9NF3HBdkwbf5Vpq3Wb1s0+2/ayKHk4oLnI54Pnup6P/Jng7w9mr19s14P3PhT4mee2W7c90Hym/L5/tNBymR9JlYG4SIok2gEBECg0AYiLQrvXeXB+4kIH1RzccHDFQcjCFQtowsiJXkCpgyN+2imBhtSRf9uZi84ndzaBp2v9auJiytwp1O/c/kbYcDCjn4JyoCKBNwdQ8tJLibS40OBEvNhBlV5+c2yX4yqCfi14tLiw29VLooICprDlTrofLS7YdzpgjLNkyoVfUGDMPDRvvaSN54i2zR53nKVR9h4I+TcH6EEc7Pktvgnytx0cc9u1jNPuT0RE0Pt25kJEtO0Du5xkksIyF3psun7Qngst4oV1zwt7GgEvn2tuM2hvihaxXE76mTRjkvcQgN+3v0vEl0GfVecvvJgFPXERsz6qgQAIgEBpCEzuuqQ0Y8VA/Qn4iQv+AZenkCwUJEAdPWkUXTb6cm95khfcXDuVnn78qYo6Ovi1xYU8+dTB0dPrg+sHiQt5ei/igpeJ6BcvzbCDTD9xIU9tZUkHP1lnkSJjsMWLDp7sINPe/CpLdriOtOsnJvzK2cJAl+H2ZDmPLS5k6YiM1WXzu9+mebaXXzpIlzbDnrrr8mECslZx4bfHQouLIA72XPML6jm7YS9Lk3nCc8qeV1HGKf3p7JPOKtlzKEg01CouJHskS/3YLlmmGCQu5LN85ZwrqWnAKPOgQbKDuh3dlv5M2qLDT1xwxsTv+4eXYzVcXJxzzEj8loAACIAACAQQQOYCU4MJNCJz4ScuwjIf1fZc2Et0tGeDntwHve8XJFbLXOgn9UEn69jtBm3m1uV4HNK2nZEIy1zop74us9wO0tPMXGjbahUXWuTJ6VBaXARxCPKRy/v85N4lcxE2Tj8xEyYu9NN+HZy7iougZW52EO+SuZAlZef3OZ+efPRJs7SPX3rpYdicszMX8u/cZC4gLly+UlAGBECgrAQgLsrq+cpxN2LPhZ+4CNuz4Scu7NOidNAiT+F5zbZseJYlU/K0WG9OnXfVPG8zcpw9F0HiQgJRWQJ2yeBL6JrF15i9AXpvgR0w6nJ+4kI2oLMnq+250HsS9LIwPQtscSGbafWGcZsfZ3Muvqgp8p6LsKCb/RZ1z4Us2au258Lem6H3r8jckY3L9tji7LlwERf2KWjaDnsvUsdOx3j7KmS5UzVxofcIcRZH73Xhz6AWF5KpkX7CjqKVDJretK2zMNKW7LuxMxeyZ4Tft/dpYc8FfpdAAARAIMcEIC5y7LwETa/ltKhe/XrR88883+y0KF6Gc8GgPrTpmU2+G7r9xIU+bcqur0/ukaHbS32CTmbi8n6n+ujN0hLkyLIqe1kUB/DydDbotCg5QUc//dZLa7i+tGufFqVPs9Ll5H1+zz6haewVY+n2Fbebk3vEfv6vDrL5tCjNqdoeDn0SD7cVdvqTCJyXX3jFbM51PS0qLOiu9bQoPsnqxNNOpLbt2zQ7LcqeL0GnEel9QsJDn7jlelqUi7hgxkGnskkAL2Pas3t3JHGh59RJPzqJdn30sTnUQJ8WZZ80NmDkAHrg7vu9zyyPX58WJXtDgo6B1sv29ClwtrjY9fFu+t3jvzOnmekT1HT2I4iLvB/UfoJfjRVNYUN3WmTRLgiAQKEIQFxEcGeBj6ut5YZu/dTYfipuL3+IQNsUrbV+1P7qXV4/Da9n3wtmLaAefXuY04Gy9IqzmTtL9sMWNwJBG73dajeuFMRF49ijZxAAgRwRgLjIkbNSNDWKuLCzA/ZTcbkXgM3V9yS4mG9vKI5a36WPrJXhQIuX4tjHdaZlJwfwa5avoRHjRqTVRex2680itqE5qZjV5yEQF42YQD4XXTXCDPQJAiBQfAKpious/rIV362RRxhFXERuHBVAAARAoAAEkLkogBMxBBAAgfQJpCou0jcfPSREAOIiIZBoBgRAoLAEIC4K61oMDARAIEkCEBdJ0ozXVhYSPBAX8XyHWiAAAuUhUApxkYUfpPJMKYwUBIpJAOKimH6NOiqIi6jEUB4EQKBYBKrvSagQF3GuvXcFFnTZimt9Xc4+q9i1jVrH53dLqEvfSWzIqbZ5y3VsruVcxuVaJuhmUrnEx7WdepeL62+x07W+a7lqcyCIj2v7dv1a5m0j5hnb7/o9E2dsEBf1/gRmsz+Ii2z6BVaBAAhkh0DdxEWSQ44rLmq1IW6QVmu/LkfwuQZzruVqtTkJMZikDXHaqtXfrvVdy8U9etC1/TiMguo0Yp5BXCTpwQTbKljqGOIiwbmBpkAABApJIFRcBF3KoS8b4ePvPv54V7NLgZgWX9qhbzzkS1JmL51NYwaOofYHtad77lhnoOrLPXSfur5c9a6P9uNj/ZauWUoLZs6njz76mLZu2Wou3dEXnej27YAnaHxchwOyudPmGfv40hK+HEdfmDN9/vTQy1xefeU1Yw/X5Vsdwy7X4fOzgy40si8P8ivXrXs3c2sjX2gkl9dsfnGzZy+PweYi5fhiJDkOUV98EzbbbRv0EYh6bnB79kVGUS4Pmj9rgTHj9c2vV1xsVC2g3X//VmRf3CSBp/hQbObLpvxui+15YU8aNXB0s/np17c+ElKOmty548Nm80XPqbBy1eYl22BnfYKCefvzxMc4Tr10Gv3lv/5C3zry38zlP6tvWe3NdX1Upn66b/tcLrdiW/T4mSvf1trv3P4V81EukLL9wvaJPUd8qwN91oKo/7B+3lGTftkaseW73/su3bpkRcXFQnbmQl9SJJcP2Z9t1wwaMhdZ+g1snGKBuMjSPGi8LY2biY0fOywAgSACgeJCgs45S2Z7NxSyIOCgWl/Wwz/U18+5wdw4eWCb1s2uJueOOYDZuGEjaXGh37evbZ80Y6LXp5QTccH/1pmLQw79GvEthWKbBB6dT+7s3Tgp19ZzXQkkeXzyvt2GfWPooF6DjXh6ev1TRigwgy0vbaGfndWHgviIqGK7JUgTEcDj43O6+X0pxwGetK2fULOdi+cuplmLZhK3pZ9C2+X8xsa3uOpr5nUwzTzkKnnbHs3bnjza/yImtM/kNlmxtWliEwlDtsfmIVfeax48X1gIcBArN2SKj8PEBQuloaOHGN/r9njcYf5+6L6HaNKMSTRt/DRie1nwuTzxl/kmY9ZZJl3fvjzL/gyJ7zlQD7JTAnk9H1y+2mw75PMmN/xOG3+VuaWWx6zt0uJCv69vG+XPvJ9vj+1yXIVos30rNrAI0/YEzW99gZUwf//dP3m36zKzBcvn04c7PjTfMyKaVt+ypuIGXv68ylwXwe/CkMvwl+WkrkuIV5viVV4CEBfl9T1GDgIg4EYgUFzwk299HbsERwtXLKAJIyd6mQod6HOgYNfRV8NrcSHBv2v9auJC2rOHrdvX4mLd2nX0xCNPmCCE29aCggNMv8DDDtL8+HCQNu+qzzMeLEL4JUEat6kDOf20me2RAFOPwV4SFRTwhi1D0WPT4oJ9HGSP622kOrhu3fbAioBSxhG058IOQHVgzXNJ2+YS6Ov6EjjrQDPI3yIAOdvU9T/O9LICLn3a4kL7Lqy+/pv9/2F2xlkaFSZy7M+LLhskivWYub7+HEh7ej5K1kIEmH4A4PeZEPHEApNFn3yOpG37AYL9GRN77M9xkHBy+6r8XFxM7rrEtTjKFZQAxEVBHYthgQAIJEYgUFzYwbcEC6MnjaLLRl9O85fPJw7gdODIT/aDAiM7cyGBhmv9auJC2mMyeikI/1uWetjiQpY9CU29jMdPrIQFgTqYYnGhxYkWF7IsR/q0l6HIUjFZduIXoOqlHlLOFhe6DPfltwzIXjqlWbFvg172zbBcju3glxYE1cSFHViGCU2XQN9v2ZsWF37+lif2fuLMpU8eo70UTNrU9ffu3ktDfzbUW67F9WQ5oD2vwuxMQlxoMWAvd9J22eKCl93pFy8z4pf+zPuJC35PZ8iCxAB/xvUywNuWrfS9jddP0OnPmN9DDO7TTzi5Loni+hAXif3u5LohFhd4gQAIgAAIhBNoMeXegZ+dc8xIs3ZaltaknbnwExdhmQ9XcaGX6fDyh7DMhV+mQAc+duARJXMRJC78nvLa7rGDbL+ntxLUypIU/rf2nQ7ywzIXLvZo++ynxmlmLrRtLoF+NXER5G8JaL/xzX+hHdt2eE/KXfq0fadZ66VuemmavbwtKIvh97FNWlyE2aXFhV76pO0KOp0pSubCnoNs045tH9Abr26laxZfY5ZrucxBfiDAnztkLvCTlyYBZC7SpIu2QQAEikCgYXsu/MRF2J6NuOJC7wnRAbjecyH7APT+B3kau2f3Hu+pKwenem08r+8P2nPhJy7sPRdsm6wJ19mOsD0Xeh180J4LvdxJlqTw2HkJWNieC21P0LIoW1xIlkhvGJc9JRK48gbfiy9q8pbSue65SFJc6D0Xfv5mPrJPgzc9szB1ERf2kq+gPRc6iJc51bHTMUbI6H7spV16rwJ/Bvjvte65sLnac13sCtpzIZkrnvu8FE72iAhXZvnTi3o777mwxYW0f9qPT222JIrbljmo57TYoB9QsLhLes8FlkUV4WevtjFAXNTGD7VBAASKT6Dm06J69etFzz/zfLPToni5zwWD+tCmZzb5buhuLi6m0RHfPtxb0mTX1+JCgouXX3jFOy1KL4viYE2Wlgy6eKCxgf9u7wnQy6fsk5L8TpmR8rKcJehUH/sMff1vv5OFZHmZnPjE006WO9mnReklOLqcvM/v2Sc0jb1iLN2+4nZasmqxmdHcD794+Y4+LUov0aq2h0OfnMVthZ2GJQKH/RXltKggceG678R+qu7nbztDZ2eNeJz6NDO/r4SgeaTnC28S1yd6DRg5gB64+37vs6H7CZuXPHYRQtoWF3/xOFg4aa72ki5tl96zEHSaGdvg9zkQASXzLOy0KFtchO1j0eJCnzgnnxeX06K4DfmOkBOkXL7qsSzKhVLxy0BcFN/HGCEIgEBtBGq+ods+BUebozdQxjGz1vp2n/U4ez/0WLrqlxr6YrI3dcdhGafOglkLqEffHs2WpcRpK8k6HBCvWb6GRowbkWSzmW8rzpKoWgZli+Ra2opSt9rntJr4iNJXlLIQF1FoFbcsxEVxfYuRgQAIJEMgsriwn2DaT7vlzgQ2T99/4GKuvVE4av2wPuI8qXSxuV5lONCT5Tr16DPLATyLLX7x0qV6vOwDAnSf1bIaSdpXrzmgs2CyOT3JcYS1pZfZBfkX4qJe3kA/fgQgLjAvQAAEQCCcQGRxAaAgAAIgUEYCyFyU0evNxwxxgXkAAiAAAhAXBZ0DMddYFZQGhgUCaROAuEibcD7ah7jIh59gJQiAQOMIIHPROPboGQRAIEcEIC5y5KwUTYW4SBEumgYBECgEAYiL/7+9Mw26o7jOcKugKMAIfrBIJpiyjQNFsDEFBmIoFsWxlQoKARMTiZ0AkgxYKwiBhEALAu0gMEisQgiJfVHAwSQGgkpmVzmOwyKgEhsjBKLKAgmhHxRKzoQz9G3N3Dv3zsy9PT3P/AF933T3Oc/pb6bfOb0EEUacgAAEyiaAuCibcDXqR1xUI05YCQEI9I4A4qJ37GkZAhCoEAHERYWCVaKpvRQXWTczsHdck+3G9YDVtPOLisalW0LPvnm2uWjoRdFW8J1uwJG2/XZWm3XXu788+vsdc+jVjo1ZfWx1n3tYaqv73d+nHZZq3+ee+dRuG9wfFgHERVjxxBsIQKAkAn6Ii6abXZfkOdXaBKomLjoSFDmX9GUZjGbpVZ0cGurWW9SW2t3arS8Ll3bvQVy0S4z78xJAXOQlWNHyDFEqGjjM7hkBP8RFz9yn4S8I2OLCPYRSDya1MwX2QPvFlS9Gh1j23WVn89QTTxk5vHXi1RPM2GEXmc2fbjZ6qKM7ONeDQydePdGcf9r5cSbA3SZbDpM84LsHNBzYOXn2lWbOtLnm2lvnmUljJjVkEeyBd9JhmOKytHfw4QebOxcubrBRfmdvH28fRJuWuUjiNe+qefEhrFKnnamwB/SajTnk8EPM0tuXGnsbfCnX6lBbN3Nh2y7b3idlWdz2F8xdYGb8/BpjH+rb7Iu92DR1/DSz/k/rzXcO+nbDoalis263r/3ixiU3Rr1MmB/1g6PMOReeEzHW/iSHvuoBtnKffXhoWjvb77CDOeKY75sNH30ctW/bbv9RN+Pb6nDSIWcPiWx+6bmXt4oLD456EkBc1DPueA0BCLRJAHHRJrBAb1dx4U5RUgFw6rmnNUy/ccWFDA5lUHjYkYdFA7I//uFdI6JEBo7TLr0q/n/75PokcbF7/z3MiLNGmPmL5psDDvyLaFC+4lcrogHkf7/9P7EN9rSo5fcvN2+vfttMnz/d2INiCZXW9Y19vh7ZtefX9jQqZtRGqUvv26Pf7pGIGXL24GgQLAPxNe+sidp/YeWL5s6bFjUM2NVfnSKlPsn5Teqr2HHJBePN8DHDjdR/8fCLzawFs6KDXFUMDPy7H0X2u/7KGVtzFs6OuYr9cl/StChpZ9gpw83UeVMjdnqP/NzmY7cv8VbbpEyWS2IvwnHxo4ujdsSHJM6jJ4yOfZV6pd0/339fM2H6ZZFoevKxJ430q7R4izhx23F5SL2txIWUSeJri59ldywzy+64J+qn0h+0HRG1NtMsfLgnXAKIi3Bji2cQgECBBBAXBcKscFUqLtJOknd/7ooLFRAyYLYzB+4X6lbiwl3DYLeTJi7SBIwMGFWYyJdtN/OgX9ElbGlrGOyB87q1H0SCwc4GiBhKWvshIkcH8TJY1eyA+GBnCuz6ZaBuiyNtTwfPYr9y1syInbkQDjZf7Y72NCwZUMugXgSKXu1OjbLtkHi705OSMjzC6fkVz5u333jLiOgQ+5MO0G3Wr9xMQ5Zpaln5Trt0WkOmSZjIJbYiLir8YCvY9FhcFFwv1W1FIOckVohCAAI9J3D5oIU9twEDektAxYU7cLQHqK2mRekgOK+4kPKP3rc8BqLTbNLEhdyoA8C7b10SDxJl0Dt32rwGsDLN6fYHbkudSrXPvvvEA3gZOCcN9m1xIZXbwspuTAftkjWQSzIh7oDYFW12e88/+1yDOLLvTRIXksGxxZTaYmcnhI87qO9EXLgiMYmzZAHEJr2E7cpnfm1+NOiHZvHNd0WZHM2wJMXbziyIOEwTMa0yF3a/bRZPW2xqBgpx0dvnkm+tk7nwLSLYAwEIeEmAzIWXYem6Ue1mLuyBnjsIzCou9OuwvebCHaxnyVxotqT/nv3Nm6+/FQ9adYBof6WX+nXqlw4m7X8nrWHQaTvtZC6kHbH9waUPRbHUgbS7mNv9sp6UKcmbuZD2hcXaNe+bN19bHU/J0k5WhLjQaVduxxV/HrnnkV1QSEIAABg6SURBVOjHJww+wYhg+mTjJ1GcZJ2H9B1bnCWt5bH9t0VNJ5mLNL5kLrr+yKlkg4iLSoYNoyEAgW4TQFx0m7if7am40MXJsiBbpiipiPjZ+BFm6OChDfP/xRMZ+LUjLnQOva5tOOzIQ+M1ELJuwRYXX9npK9E6CW0nLXMh4kIXPmuWQ750uwN3XT+hmQe73ixrLtRPO3OhC81dXsJFBtGyfmOvvf8sXhdgT5ey11ycP/anUWYjz5oLe+2IZgTERxFX7toO7YWdrrmwB/lpnJWBTA/7+OMNZuHSBdF6hllXzIwXdtuZMjfebr+y+6auddEYNlvQLesnkviy5sLPZ5HPVvVGXDBDyOc+gW0QgEACAcQF3UII2LtFpe2WpNOMZEejM4edYVa9sKotcaEZBpkCI9OTBgwcYD7ZuLFBXOigUXfoGXflOHPv4nujgalcMliXS3eLkp/r9CV7IbZG1d5tSXd+0kGsLI7W6Ti6Q5GUa3e3qLT7pa6kLWOTdovaeee+0a5E9u5UUr7d3aLS7k87SyRtW9xWu0W5azuSOOt2wZqhchfciwBSu5LinbSGxG5n2KihcQak1W5RSXxb7RYlYk/t+8/f/C5ewM4To74EeiMu6ssbzw3Kkk5QTQKIi97Ezbdts3t5zkW3I5D10L68dqUN0O0BvZ2N6ejsjoxGpi3Ub3dKVMbmvLktzW9vDMSQShFAXFQqXBgLAQj0igDiolfk/WoXcVFsPDSbodNx3Nr13Is8J2xntVi/9tvZGc2KuDtHZa3Tp/vcDQBs2y6ZMs48cu+jUearTPHmEw9sKY8A4qI8ttQMAQgERABxEVAwc7hSJ3GRAxNFIQCBGhNAXNQ4+LgOAQhkJ4C4yM4q5DsRFyFHF98gAIEiCCAuiqBYmTpY71CZUGFoAoHe9l/EBZ1SCCAu6AcQgAAEmhNAXNBD2iDQ28FdG4ZyKwQKJ4C4KBxpJStEXFQybBgNAQh0kUDPxUXW3SjsnQxk/2f7JMl2eSUtapItAxc/ujg6BbNXV9KJr77tUGHvLS6H6bgnmPaKXbvtuodDtVte7k/aOtGthx04OiHrZxnEhZ9x6bZViItuE6c9CECgagQqKS7y7mRg7yWtAbMHzWn7QJcdXFdcyL9926HC5iQHH8mhP7MWzKrc7hKIi7J7c3j1Iy7Ci2knHiEuOqFGGQh0l4BvW1h31/vet7aVuNCTHd979734kBo3U5B07HzfXXY2Tz3xVFRGTuCU00U3f7rZjJk4OjpN0z2ERQapb69+u+FQIDnl1D74RfDIlnB6sqfapIcCXXvrPDNpzCQjp5VKWfdrcrNDdeReOahGL/cLc9JhP3LvsFOGm6nzpkYZDnugLb+TE1LFFtte+fnfn3x8fPKnnG4qV58+fcyyXyyNTuGUUzGFldz34sqXop/L4UWXXDDeDB8zPGpLfJk6fppZ/6f15jsHfTs+kOmCMy6M6tPTVpfdsSziqofwyGFJeiKqGzctq5yVf1o7kt054pgjzIaPPo5PUdVtAiXG9tXsi72Iu9d+97pZ/erquH/Y2STpM0POHhLzVLumXXpVxEYPmNpn333ik1rnTpsXNW9noJq1s98B+0X3H3fi30Z1pF3KzO7fSTak9Rfhb/8t5RXGvX9k1NcCxEV9Y297jriocT9gZnCNg4/r7RBoEBfuFCUVAKeee1rDNKSkQaqIAD0x9I9/eDcaBMqpkTogdE+QTBIXu/ffw8jge/6i+VsN3u0DdGyxs/z+5Q2DaR38CwSt6xv7fD0aqMopozLobpW5kC/y9qBc7l/zzppoQG1PBbrqsunmzddWR1/u5ZKv+FPmTokEz1E/OCoatMqgU+2Qe0RIzFk4OxJDKuSGnD04ulfaUXEhPi6Yu8DM+Pk1RjIpwlwEm07dsuu1/ZNYaTlhNnHURDP4zMHmH888ORJDcsl+4WmcX1z54lbtqM0aX6lDWIhdaaeWNuuENk+pwxZpYrO2JyJJLmGj91w8eZwRf1V4rVv7QdzHVHRIGY2zxk3bWXbHPQ2iLm1vdbVfBaqKZLvv6LSo439yfNRf7Dhqu906+KmdP3ru7YwA4qIzbqGVQlyEFlH8gQAEiibQIC7Svja7P3fFRdoXZbtcFnGh2Qd7YLfopkXRQDZNXKQJGPmCv+JXK+JBsG2zCIRH71vewFIyLvpF2p2eZPuhYmbi1RPNrdffGtVx4MEHRv9NmsJknzxqCx7JRiRlS3Qtifhl1+fa5E7jUv9E3Iw6d3SUXZGB9/vvfWD+45XfmNETRpspl0yNMyG2883i6Wac3H+Lf+1OjbIH6EnTk3TQLpkJjb/4u0f/fmbjhg2ROLKFl+2LitYkEemukciyZqJZX5h31TwjNrqHO7mCMs/6oKL/4KnvCwIdfIFEXNB7hADign4AAQhAoDmBBnGRtKBYircSFzoAlK/D9oCtE3HhLrbW6T5p4kLs02zF3bcuiQZ7+qVbp8ooAhUQMiiUSwagSYNbd2qW3KvTbeT/ZWB7xtDTzZOP/as58tgjosyJXjoFzJ5yZJe1B5pZRIxO3UqaVtbMP1lovfKZX5sfDfqhefieh81p551mZk6aGa+PSOMsmQs7nmkiRjMXnYoLjZPyf+m5lxt6qkwRE0EkwmXclHFmyS1LzImDT4yZq/BKKq/T0Oy+2EzEZJkWZWdqNIYqLsQXW2C7ghJxEcZjGHERRhzzeiHiggsCRRN4etkrZsCQQ4qulvog0DMCfab889AtJx06YisRoRa54sIecLqD0aziQr9eSwZA1ypIe/YgzR5Qp4kLnQrTf8/+5s3X34q/zNtfsF2y7rQonS+v05XcgbxdXgapkvn47iEHxV/RRdRs+Hhj1PYe/XZvmFLVbKDZbubCHfTr2grXP7H/t6t+a9auWRsN0G++7hbTd+edon+LWElaOK51u/EsK3Phigt73Yztj0w9+9Z+3zJvvfGWGTryPCMDemF90ik/jqaWueLHzVxoO1JnEZkLmx2Zi248szpIMZRkFuKiJLBUCwEIROswt2yRZchcEAiDQCwudA2ALgDWgdvPxo8wQwcPjdYKuPPu2xEXumZAB+CHHXlow4JuW1zIgmYRHXI1mxYl4kIzDZrl0LUA9roCd92E1Gsv6HZ3QbLXXMjvdK6+tCcDXlm8fvk1EyMeIjZkwCvrI9z1GlL2xjk3RWsl5LK/Yrtf01utubDFhT31RqZY2f7pWou99t4rsklidN01883I8SOiAbk9QHY5u/G0+0SRay7sQX8Se12/IL977KHHzaAfHxdlpOx1LhKLpLLSr3RalN2O7bcupM+65kLWFAk71lyE8dDrxAvERSfUKAMBCGQhgLjIQol7qkQgFhdidNKuNzqIk2k4MsXnzGFnmFUvrIp3LMoyLUozDLLWQaYnDRg4wHyycWODuNDBq0yRkXbGXTnO3Lv4XrNw6YKIpwz45dLdouTnUq+7MFrh29Ob7DUVSQu63TpsDu4ZGO6Xf/eLuAx4dcrSsFFDI1byZV4WrLtTZOx2TvmnU+IF4km7Rdmcxcc0/1zR4mZI7KlELmd3bYzbjvgjGSJdaN7pblH2oF/asKdp6bQm7Y/u4nM7Y+PubnbeiPPMvzzyi3jxfVo72gf779mv5W5R82dcH3WpN/7rjXhXrqQpgLrrl93X1D4pr2t6qvRwwNYvCSAu6A0QgEBZBBAXZZGl3l4RaBAXvTKCdrcmIOLBt3MubCs7WW9RtTg3myJXNV+wNx8BxEU+fpSGAATSCSAu6B2hEUBceBxR307otlH5bFvWkNqZI7eMTLOT8zZk5zFd0J21Xu4LjwDiIryY4hEEfCGAuPAlEthRFAHERVEkqQcCEAiWAOJi69ByCm6w3R3HukwAcdFl4DRXOgHERemIaQACEKgyARlEP/TSfHP5oIVVdgPbIQCBAgiUIaoRFwUEhiq8IoC48CocGAMBCPhIgMyFj1HBJgiEQQBxEUYc8eJLAogLegMEIACBFgQQF3QRCEDg/wkUn7tAXNC3QiOAuAgtovjjOQF/DobzHJRX5iEuvAoHxkAgKAKIi6DCiTP/d2wE4oJuAAEIQCBT5kLO3BFxyAUBCECgOAKIi+JYUpMfBBAXhceBL9OFI/W+QmLufYhyGkjmIidAikMAAqkEEBehd47ip9L5Tgxx4XuEsA8CEOg5AcRFz0OAARAIlgDiItjQ1tYxxEVtQ4/jEIBAVgKdiIv6favKSpP7IAABmwDigv4QGoFIXITmFP5AAAIQKJoA51wUTZT6IAABIYC4oB+ERqDPli1bEBehRbXC/mzYsMFceOGF5oYbbjB9+/atsCeYDgEIQAACEGhNAHHRmhF3VIsA4qJa8Qre2smTJ5uZM2eacePGmSuuuCJ4f3EQAhCAAATqTQBxUe/4h+g94iLEqFbUJ8la9OvXz3z66admhx12MO+//z7Zi4rGErMhAAEIQCAbAcRFNk7cVR0CiIvqxCp4SyVrMWfOHCMiQ6ZEjR07luxF8FHHQQhAAAL1JoC4qHf8Q/QecRFiVCvok521UPPJXlQwkJgMAQhAAAJtEUBctIWLmytAAHFRgSDVwUQ7a6H+kr2oQ+TxEQIQgEC9CSAu6h3/EL3vnrhg0/cQ+08hPknWYrfddjPbbLON2W677cxHH31kdt11V7Np0ybz+eefm3Xr1rH2ohDSVAIBCEAAAr4RQFz4FhHsyUuge+Iir6WUD5aArLOYMGGCmTFjhhk5cmS857fsFjVr1iwzderUaP0FFwRCJMB3lxCjik9+EvDzrw1x4Wdv6bZVfvbOziggLjrjRqkSCfCgLRFul6sO6WHZZXQ0BwEI1IQA77yaBLpGbnZdXDDYqFHv6tBVHrQdgqMYBCAAAQhUjgDvvMqFDINbEOi6uCAiEGhFgAdtK0L8HgIQgAAEQiHAO88Yw5fnULpz5AfiIqhwhuEMD9ow4ogXEIAABCDQmgDvvNaMyrkDRVMOV8RFWVxLq7cOfwo8aEvrPlQMAQhAAAKeEeCd51lAMCc3ATIXuRFSQdEEeNAWTZT6IAABCEDAVwK883yNDHZ1SqCi4qIO3+87DWn1y/GgrX4M8QACEIAABLIR4J2XjRN3VYdARcVFdQBjafsEeNC2z4wSEIBADgJ8r8oBj6J5CfDOy0uQ8r4RQFz4FhHsiQ/RAwUEIAABCECgIwIVEoyIi44iTCGPCSAuPA5OXU3jQVvXyOM3BCAAgfoRqN47r0LKrX7dyQuPERdehAEjbALVe9D6Fz8e/f7FBIsgAAEIJBHgnUe/CI0A4iK0iAbgDw/aAIKICxDwgQAq24coYEMLAiG88/hTo5s3fCTesmWL9AkuCHhDIIQHrTcwMQQCEIAABLwmwDvP6/BgXAcEyFx0AI0i5RLgQVsuX2qHAAQgAAF/CPDO8ycWWFIMAcRFMRyppUACPGgLhElVEIAABCDgNQHeeV6HB+M6IIC46AAaRcolwIO2XL7UDgEIQAAC/hDgnedPLLCkGAKIi2I4UkuBBHjQFgiTqiAAAQhAoKsE2l3czDuvq+GhsS4QQFx0ATJNtEeAB217vLgbAhCAAASqS4B3XnVjh+XJBBAX9AzvCPCg9S4kGAQBCEAAAiUR4J1XEliq7RkBxEXP0NNwGgEetPQNCEAAAhCoCwHeeXWJdH38RFzUJ9bpnrY7QbRkZjxoSwZM9RCAAAQg4A0B3nnehAJDCiKAuCgIJNUUR4AHbXEsq1CTZ9q2CsiwEQIQCIgA77yAgokrEQHEBR3BOwLePGgZ9XrXNzAIAhCAgBII5RHd03deABADcCG4P+reiQt6Q3CdqSiHevqgLcoJ6oEABCAAAQhkIMA7LwMkbqkUgd6Ji0phwthuEuBB203atAUBCECgwgQC+FDJO6/C/Q/TEwkgLugY3hHgQetdSDAIAhCAAARKIsA7rySwVNszAoiLnqGn4TQCqQ/aAL5QEXUIQAACEICATQBxQX8IjQDiIrSIBuAPD9oAgogLEIAABCCQiQDvvEyYuKlCBBAXFQpWXUzlQVuXSOMnBCAAAQjwzqMPhEYAcRFaRAPwhwdtAEHEBQhAAAIQyESAd14mTNxUIQKIiwoFqy6m8qCtS6TxEwIQgAAEeOfRB0IjgLgILaIB+MODNoAg4kJTAr/8yYkQyklg4P0P56yB4hDwgwDvPD/igBXFEUBcFMeSmgoiwIO2IJBU4y0BERfHXjbRW/t8N+yZ6dMM4sL3KGFfVgK887KS4r6qEEBcVCVSNbKTB22Ngl1TVxEX+QKPuMjHj9J+EeCd51c8sCY/AcRFfobUUDABHrQFA6U67wggLvKFBHGRjx+l/SLAO8+veGBNfgKIi/wMqaFgAjxoCwZKdd4RQFzkCwniIh8/SvtFgHeeX/HAmvwEEBf5GVJDwQR40BYMlOq8I4C4yBcSxEU+fllKbzHG9MlyI/fkJsA7LzdCKvCMAOLCs4BgjjE8aOkFoRNAXOSLMOIiHz9K+0WAd55f8QjOmh58KUBcBNeLqu8QD9rqxxAPmhNAXOTrIYiLfPwo7RcB3nl+xQNr8hMIUlz0QKTljwQ1xAR40NIZQieAuMgXYcRFPn61Lu3hAIF3Xq17ZJDOBykugoxUjZziQVujYNfUVcRFvsAjLvLxo7RfBHjntYiHh4LQrx7knzWIC/9iUnuLeNDWvgsED8BHcbHqtdfM8MlTzfIb5ps169bF/99/t928iwfiwruQYFAOArzzcsDrZVFETyp9xEUvOyZtJxLgQUvHCJ2A7+LCR0Fh94lm4mLDhg3m5ptvNmPHjg29G+FfIAR45wUSSNyICSAu6AzeEeBB611IMKhgAt0QF48/+6w5adSY2PIHr51rjjv66OjfkqX463POM5s2bzZHHXKwWTDpcvM3w35q3lm71nytf39z4+UTzITrro+yGCI07Lrk/oevuzaq58SRo8zeX/2qufuxx6N/nzroOHPblMkF09q6uiRxIaJi7ty55uqrr44KbN68uYUdfHYsPVA0kIkA77xMmLipQgQQFxUKVl1M5UFbl0jX18+yxYWIh5PHXGTumzvbHLz//mb2ojvNL1eujETBxk2bzPEXjjALrrg8+t05k64w+3/zm+avDj8scVqUTJESIXLXNdPNMd/7Xiworht/SfT/ckm9//7yy+b08ZeZf7vtlqjeMi9bXKiomDFjhtl2223NZ599FgmMkSNHlmkCdUOgMAK88wpDSUWeEEBceBIIzPiSAA9aekPoBMoWFy4/yTxce9eSWATo/++0447xrWlrLl559dW4rNwvdY26ZqZ5YuFNZviUqWbgkUeai84606z98MMG0VJmDEVcHHH74ihToaJCRIZcu+yyi1m/fn2ZzVM3BAolwDuvUJxU5gEBxIUHQcCERgIDBgwwzzzzDFggECyBJ/7hBHPsZRNL9U8yEjpdSRrS6UwL7rs/zmJkERdLHnu84X4VIctmzYjExajTT4umW3VbXCzdcWfzwAMPmE2bNpXKkcohUDaBY4891jz99NNlN0P9EOgagcDEBXNou9ZzaMhfAvwZ+BubLywrO3Oh2YUVixfFaybKylz0SlykZS523XVX8+GHH3rfBzAQAhCAQKgEAhMXoYYJvyAAgZAIdFNcSHbCXhux+ve/b1iPIRkOuS4YMrijNRe9EhcD7384sjtpzcXFF19sJk8uf2F5SH0SXyAAAQgURQBxURRJ6oEABCCQkUDZ4kIWbYugWPHKKrPj9tubGWNGm1seeLDp7k9S5qgzzoo8aGe3qF6LC0WuImP69Olmm222YbpUxr7IbRCAAASKJoC4KJoo9UEAAhBoQaBscRF6ADjnIvQI4x8EIFBlAoiLKkcP2yEAgUoSQFzkCxsndOfjR2kIQAACZRJAXJRJl7ohAAEIJBBAXOTrFoiLfPwoDQEIQKBMAoiLMulSNwQgAAHEReF9AHFROFIqzEWALfpy4aNwcAQQF8GFFIcgAAHfCZC5aBKhPsYYGas1uRAXvvdw7IMABOpMAHFR5+jjOwQg0BMCiIt82BEX+fhRGgIQgECZBBAXZdKlbghAAAIJBBAX+boF4iIfv/JKMz2ofbYwa58ZJXwngLjwPULYBwEIBEcAcZEvpIiLfPwoDYEwCSDUfIkr4qJHkeBPoEfgaRYCHhBAXOQLAuIiHz9KQwACECiTAOKiTLrUDQEIQCCBAOIiX7dAXOTjR2kIQAACZRJAXJRJl7ohkEiAvFXdOwbiIl8PQFzk40dpCEAAAmUSQFyUSZe6IQABCKRkLgCTj8DA+x/OVwGlIQABCECgFAL/CxY+rnt+r0ZyAAAAAElFTkSuQmCC)"
      ]
    },
    {
      "cell_type": "markdown",
      "metadata": {
        "id": "76JRi0_9iBGj"
      },
      "source": [
        "## Environment Class\n",
        "### properties\n",
        "  - State\n",
        "  - Reward\n",
        "  - Transition Mechanism (Dynamic)\n",
        "\n",
        "### Methods\n",
        "  - Transition Function\n",
        "  - Reward Function\n",
        "  - Monitor agent behavior\n",
        "  - logging trajectories\n",
        "  - plot cumulative Reward"
      ]
    },
    {
      "cell_type": "code",
      "execution_count": null,
      "metadata": {
        "id": "9JW8ImhTiBmF"
      },
      "outputs": [],
      "source": []
    },
    {
      "cell_type": "markdown",
      "metadata": {
        "id": "NcXd0DZEiGIM"
      },
      "source": [
        "## Agent Class\n",
        "### properties\n",
        "  - Action\n",
        "  - Learning Rate\n",
        "  - Discount factor\n",
        "\n",
        "### Methods\n",
        "  - Policy Function\n",
        "  - Monitor policy  \n",
        "  - logging agent decisions\n",
        "  - plot cumulative policy"
      ]
    },
    {
      "cell_type": "code",
      "execution_count": null,
      "metadata": {
        "id": "db9CcgydiCTD"
      },
      "outputs": [],
      "source": []
    },
    {
      "cell_type": "markdown",
      "metadata": {
        "id": "vCgJdYWKa7Rg"
      },
      "source": [
        "# Pytorch"
      ]
    },
    {
      "cell_type": "markdown",
      "metadata": {
        "id": "f3XqWEFethfr"
      },
      "source": [
        "## math"
      ]
    },
    {
      "cell_type": "code",
      "execution_count": null,
      "metadata": {
        "id": "pmJuMdu3tj-b"
      },
      "outputs": [],
      "source": [
        "import sympy as sym\n",
        "import numpy as np"
      ]
    },
    {
      "cell_type": "markdown",
      "metadata": {
        "id": "s3MfJmmLNPd6"
      },
      "source": [
        "define a symbolic variable"
      ]
    },
    {
      "cell_type": "code",
      "execution_count": null,
      "metadata": {
        "id": "wEM4S60btliH"
      },
      "outputs": [],
      "source": [
        "# x defined as symbolic variable\n",
        "x = sym.symbols('x')"
      ]
    },
    {
      "cell_type": "markdown",
      "metadata": {
        "id": "GGtsPS7eNdbJ"
      },
      "source": [
        "define a symbolic function"
      ]
    },
    {
      "cell_type": "code",
      "execution_count": null,
      "metadata": {
        "id": "PDaZQrSgto8M"
      },
      "outputs": [],
      "source": [
        "# define a symbolic function\n",
        "fx = 3*(x**2) + 2*x + 1"
      ]
    },
    {
      "cell_type": "code",
      "execution_count": null,
      "metadata": {
        "colab": {
          "base_uri": "https://localhost:8080/",
          "height": 39
        },
        "id": "63XUxI-mtt20",
        "outputId": "692cd6fa-6331-43ec-a692-9d8a1a755381"
      },
      "outputs": [
        {
          "output_type": "execute_result",
          "data": {
            "text/plain": [
              "3*x**2 + 2*x + 1"
            ],
            "text/latex": "$\\displaystyle 3 x^{2} + 2 x + 1$"
          },
          "metadata": {},
          "execution_count": 6
        }
      ],
      "source": [
        "fx"
      ]
    },
    {
      "cell_type": "markdown",
      "metadata": {
        "id": "nYhYD1z5NgWp"
      },
      "source": [
        "substitute value in function ```f(x)```"
      ]
    },
    {
      "cell_type": "code",
      "execution_count": null,
      "metadata": {
        "colab": {
          "base_uri": "https://localhost:8080/",
          "height": 37
        },
        "id": "dT0NunpQtu6X",
        "outputId": "58250317-8f70-42b7-c863-d44f91c57e2f"
      },
      "outputs": [
        {
          "output_type": "execute_result",
          "data": {
            "text/plain": [
              "17"
            ],
            "text/latex": "$\\displaystyle 17$"
          },
          "metadata": {},
          "execution_count": 8
        }
      ],
      "source": [
        "fx.subs(x,2)"
      ]
    },
    {
      "cell_type": "markdown",
      "metadata": {
        "id": "HCeyr5xENoOa"
      },
      "source": [
        "first derivative of ```f(x)```"
      ]
    },
    {
      "cell_type": "code",
      "execution_count": null,
      "metadata": {
        "id": "5rnRO8OUuCVE"
      },
      "outputs": [],
      "source": [
        "dfx = sym.diff(fx,x)"
      ]
    },
    {
      "cell_type": "code",
      "execution_count": null,
      "metadata": {
        "colab": {
          "base_uri": "https://localhost:8080/",
          "height": 39
        },
        "id": "1DNSF5emNMCq",
        "outputId": "25c1706f-f750-485c-d41e-f604cccd397b"
      },
      "outputs": [
        {
          "output_type": "execute_result",
          "data": {
            "text/plain": [
              "6*x + 2"
            ],
            "text/latex": "$\\displaystyle 6 x + 2$"
          },
          "metadata": {},
          "execution_count": 10
        }
      ],
      "source": [
        "dfx"
      ]
    },
    {
      "cell_type": "markdown",
      "metadata": {
        "id": "AiDZQPpBNu4C"
      },
      "source": [
        "second derivative of ```f(x)```"
      ]
    },
    {
      "cell_type": "code",
      "execution_count": null,
      "metadata": {
        "id": "5h9mxS6xNzFp"
      },
      "outputs": [],
      "source": [
        "d2fx = sym.diff(dfx,x)"
      ]
    },
    {
      "cell_type": "code",
      "execution_count": null,
      "metadata": {
        "colab": {
          "base_uri": "https://localhost:8080/",
          "height": 37
        },
        "id": "lHfHFLXMN2Mx",
        "outputId": "f8d97dc1-6f33-4581-a1db-6b0dbd35d17b"
      },
      "outputs": [
        {
          "output_type": "execute_result",
          "data": {
            "text/plain": [
              "6"
            ],
            "text/latex": "$\\displaystyle 6$"
          },
          "metadata": {},
          "execution_count": 12
        }
      ],
      "source": [
        "d2fx"
      ]
    },
    {
      "cell_type": "markdown",
      "metadata": {
        "id": "crLcb4gIN7N5"
      },
      "source": [
        "Gradient descent"
      ]
    },
    {
      "cell_type": "code",
      "execution_count": null,
      "metadata": {
        "colab": {
          "base_uri": "https://localhost:8080/"
        },
        "id": "_9ieD6oznRhp",
        "outputId": "bdb68489-7473-43e7-e444-49cb0c3effb3"
      },
      "outputs": [
        {
          "output_type": "stream",
          "name": "stdout",
          "text": [
            "error (step0):85.4000000000000\n",
            "error (step1):59.7800000000000\n",
            "error (step2):41.8460000000000\n",
            "error (step3):29.2922000000000\n",
            "error (step4):20.5045400000000\n",
            "error (step5):14.3531780000000\n",
            "error (step6):10.0472246000000\n",
            "error (step7):7.03305722000000\n",
            "error (step8):4.92314005400000\n",
            "error (step9):3.44619803780000\n",
            "error (step10):2.41233862646000\n",
            "error (step11):1.68863703852200\n",
            "error (step12):1.18204592696540\n",
            "error (step13):0.827432148875780\n",
            "error (step14):0.579202504213046\n",
            "error (step15):0.405441752949132\n",
            "error (step16):0.283809227064393\n",
            "error (step17):0.198666458945075\n",
            "error (step18):0.139066521261552\n",
            "error (step19):0.0973465648830865\n",
            "error (step20):0.0681425954181605\n",
            "error (step21):0.0476998167927125\n",
            "error (step22):0.0333898717548988\n",
            "error (step23):0.0233729102284292\n",
            "error (step24):0.0163610371599003\n",
            "error (step25):0.0114527260119304\n",
            "error (step26):0.00801690820835121\n",
            "--------------------\n",
            "value of f(xa) : 0.666672022568102\n"
          ]
        }
      ],
      "source": [
        "from tqdm import tqdm\n",
        "i = 0\n",
        "error = 50_000\n",
        "xa = 20 # init\n",
        "alpha = 0.05 # step\n",
        "while True:\n",
        "  xa = xa - alpha*dfx.subs(x,xa)\n",
        "  error = dfx.subs(x,xa)\n",
        "  print(f\"error (step{i}):{error}\")\n",
        "  if abs(error) < 0.01:\n",
        "    break\n",
        "  i += 1\n",
        "print(\"-\"*20)\n",
        "print(f\"value of f(xa) : {fx.subs(x,xa)}\")"
      ]
    },
    {
      "cell_type": "markdown",
      "metadata": {
        "id": "tQC-ksA1O80B"
      },
      "source": [
        "multivariate function and partial derivatives"
      ]
    },
    {
      "cell_type": "code",
      "execution_count": null,
      "metadata": {
        "colab": {
          "base_uri": "https://localhost:8080/",
          "height": 39
        },
        "id": "D8CJ52w9wM5g",
        "outputId": "b5249dcf-aab7-4baa-bc66-dfd79c135159"
      },
      "outputs": [
        {
          "output_type": "execute_result",
          "data": {
            "text/plain": [
              "-y**2*z + y*z**2 + 2*y*z"
            ],
            "text/latex": "$\\displaystyle - y^{2} z + y z^{2} + 2 y z$"
          },
          "metadata": {},
          "execution_count": 14
        }
      ],
      "source": [
        "y = sym.symbols('y')\n",
        "z = sym.symbols('z')\n",
        "fzy = (y)*z**2 - z*y**2 + 2*y*z\n",
        "dzfzy = sym.diff(fzy,z)\n",
        "dyfzy = sym.diff(fzy,y)\n",
        "dzyfzy = sym.diff(fzy,z,y)\n",
        "fzy"
      ]
    },
    {
      "cell_type": "code",
      "execution_count": null,
      "metadata": {
        "colab": {
          "base_uri": "https://localhost:8080/",
          "height": 39
        },
        "id": "HP_G1zlm1S6P",
        "outputId": "014e3db0-22d6-4e27-8111-96c24cd29b7d"
      },
      "outputs": [
        {
          "output_type": "execute_result",
          "data": {
            "text/plain": [
              "-y**2 + 2*y*z + 2*y"
            ],
            "text/latex": "$\\displaystyle - y^{2} + 2 y z + 2 y$"
          },
          "metadata": {},
          "execution_count": 15
        }
      ],
      "source": [
        "dzfzy"
      ]
    },
    {
      "cell_type": "code",
      "execution_count": null,
      "metadata": {
        "colab": {
          "base_uri": "https://localhost:8080/",
          "height": 39
        },
        "id": "qrth-dLC1UiH",
        "outputId": "c98cd7db-9dbc-42e3-9f54-d380795fa4bf"
      },
      "outputs": [
        {
          "output_type": "execute_result",
          "data": {
            "text/plain": [
              "-2*y*z + z**2 + 2*z"
            ],
            "text/latex": "$\\displaystyle - 2 y z + z^{2} + 2 z$"
          },
          "metadata": {},
          "execution_count": 17
        }
      ],
      "source": [
        "dyfzy"
      ]
    },
    {
      "cell_type": "code",
      "execution_count": null,
      "metadata": {
        "colab": {
          "base_uri": "https://localhost:8080/",
          "height": 39
        },
        "id": "zW5wlqKo4Bxb",
        "outputId": "44169035-e0de-4a00-f5dc-1628fda9676a"
      },
      "outputs": [
        {
          "output_type": "execute_result",
          "data": {
            "text/plain": [
              "2*(-y + z + 1)"
            ],
            "text/latex": "$\\displaystyle 2 \\left(- y + z + 1\\right)$"
          },
          "metadata": {},
          "execution_count": 16
        }
      ],
      "source": [
        "dzyfzy"
      ]
    },
    {
      "cell_type": "markdown",
      "metadata": {
        "id": "H3gvPtgYPHMZ"
      },
      "source": [
        "substitute in values in multivariate function"
      ]
    },
    {
      "cell_type": "code",
      "execution_count": null,
      "metadata": {
        "colab": {
          "base_uri": "https://localhost:8080/",
          "height": 37
        },
        "id": "g2LNOA1Pw4Wp",
        "outputId": "127143e3-0fa3-4fef-e458-2741cf540192"
      },
      "outputs": [
        {
          "output_type": "execute_result",
          "data": {
            "text/plain": [
              "800.000000000000"
            ],
            "text/latex": "$\\displaystyle 800.0$"
          },
          "metadata": {},
          "execution_count": 18
        }
      ],
      "source": [
        "fzy.evalf(subs={y: 20,z : 20})"
      ]
    },
    {
      "cell_type": "code",
      "execution_count": null,
      "metadata": {
        "colab": {
          "base_uri": "https://localhost:8080/"
        },
        "id": "K4Qsjb5Q2PSk",
        "outputId": "46151684-8692-47dd-8c07-a8a05af71709"
      },
      "outputs": [
        {
          "output_type": "execute_result",
          "data": {
            "text/plain": [
              "1"
            ]
          },
          "metadata": {},
          "execution_count": 19
        }
      ],
      "source": [
        "v = sym.lambdify((y,z),fzy,'numpy')\n",
        "dvz = sym.lambdify((y,z),dzfzy,'numpy')\n",
        "dvy = sym.lambdify((y,z),dyfzy,'numpy')\n",
        "dvzy = sym.lambdify((y,z),dzyfzy,'numpy')\n",
        "dvy(1,1)"
      ]
    },
    {
      "cell_type": "markdown",
      "metadata": {
        "id": "CItLE2-sPoDg"
      },
      "source": [
        "2-D Gradient Descent"
      ]
    },
    {
      "cell_type": "code",
      "execution_count": null,
      "metadata": {
        "colab": {
          "base_uri": "https://localhost:8080/"
        },
        "id": "fwsgWtw2wCwg",
        "outputId": "3c996c56-517f-4676-bde7-856803d8497f"
      },
      "outputs": [
        {
          "output_type": "stream",
          "name": "stdout",
          "text": [
            "1.8\n",
            "1.6195000000000002\n",
            "1.4541972093750002\n",
            "1.3010318910581706\n",
            "1.1578371567360228\n",
            "1.023096374682873\n",
            "0.8957689700441545\n",
            "0.7751613538007587\n",
            "0.6608288554344\n",
            "0.5524999258310608\n",
            "0.4500171110661515\n",
            "0.35329123921565975\n",
            "0.2622664076022614\n",
            "0.17689400887386042\n",
            "0.09711438504998182\n",
            "--------------------\n",
            "-0.1336633253876655\n",
            "0.7901053841089211 -0.16133742336608803\n"
          ]
        }
      ],
      "source": [
        "i = 0\n",
        "error = 50_000\n",
        "ya, za = [1,1]\n",
        "alpha = 0.05\n",
        "while abs(error) > .1 :\n",
        "  dy = dvy(ya,za)\n",
        "  dz = dvz(ya,za)\n",
        "  ya = ya - alpha*dy\n",
        "  za = za - alpha*dz\n",
        "  error = dvzy(ya,za)\n",
        "  print(error)\n",
        "print(\"-\"*20)\n",
        "print(v(ya,za))\n",
        "print(ya,za)"
      ]
    },
    {
      "cell_type": "markdown",
      "source": [
        "## autograd"
      ],
      "metadata": {
        "id": "NYIreoopeFeZ"
      }
    },
    {
      "cell_type": "code",
      "source": [
        "from torch import tensor\n",
        "import torch\n",
        "a = tensor([[5.0]],requires_grad=True)\n",
        "b = tensor([4.0],requires_grad=True)\n",
        "c = torch.matmul(a,b)\n",
        "f = tensor([])\n",
        "f = a + b\n",
        "f.backward()\n",
        "# print(c)\n",
        "# d = tensor([2.5],requires_grad=True)\n",
        "# e = torch.matmul(c,d)\n",
        "# print(e)\n",
        "# e.backward()\n",
        "# print(d.grad)\n",
        "print(a.grad)\n",
        "print(b.grad)\n"
      ],
      "metadata": {
        "id": "y6sCcunneHSp"
      },
      "execution_count": null,
      "outputs": []
    },
    {
      "cell_type": "markdown",
      "source": [
        "## unbind and pack tensor"
      ],
      "metadata": {
        "id": "DjSig40aiI5l"
      }
    },
    {
      "cell_type": "code",
      "source": [
        "x = torch.randn(3, 4)\n",
        "print(x)\n",
        "# Unbind the tensor along dimension 0\n",
        "unbound_tensors = torch.unbind(x, dim=0)\n",
        "print(unbound_tensors)\n",
        "# Pack the unbound tensors back into a single tensor\n",
        "packed_tensor = torch.stack(unbound_tensors, dim=0)\n",
        "print(packed_tensor)"
      ],
      "metadata": {
        "id": "9XZQNvv3iIHJ"
      },
      "execution_count": null,
      "outputs": []
    },
    {
      "cell_type": "markdown",
      "source": [
        "## hooks"
      ],
      "metadata": {
        "id": "3gObCJPArfj2"
      }
    },
    {
      "cell_type": "code",
      "source": [
        "a = tensor([[5.0]],requires_grad=True)\n",
        "b = tensor([4.0],requires_grad=True)\n",
        "c = torch.matmul(a,b)\n",
        "d = tensor([2.5],requires_grad=True)\n",
        "handle = c.register_hook(lambda grad : print(grad))\n",
        "c.retain_grad()\n",
        "e = c * d\n",
        "a.register_hook(lambda grad : print(grad))\n",
        "b.register_hook(lambda grad : print(grad))\n",
        "e.backward()\n",
        "handle.remove()"
      ],
      "metadata": {
        "id": "Gyoinssyr_ne"
      },
      "execution_count": null,
      "outputs": []
    },
    {
      "cell_type": "markdown",
      "metadata": {
        "id": "W1ucgwo4bA9o"
      },
      "source": [
        "## train a simple regression model"
      ]
    },
    {
      "cell_type": "markdown",
      "metadata": {
        "id": "1X4qEkk5NLpi"
      },
      "source": [
        "### Loss function\n",
        "-----\n",
        "*   MSE (mean-square-error) -> continuous output`\n",
        "*   cross-entropy (logistic) -> categorical output (outputs are some probability)"
      ]
    },
    {
      "cell_type": "markdown",
      "metadata": {
        "id": "E5nNySvtUqLF"
      },
      "source": [
        "### ANN Regression\n",
        "-----"
      ]
    },
    {
      "cell_type": "markdown",
      "metadata": {
        "id": "65E4PEmFyr4j"
      },
      "source": [
        "#### libraries"
      ]
    },
    {
      "cell_type": "code",
      "execution_count": null,
      "metadata": {
        "id": "m-DhAdaaJtOl"
      },
      "outputs": [],
      "source": [
        "import torch\n",
        "import torch.nn as nn\n",
        "import numpy as np\n",
        "import matplotlib.pyplot as plt\n",
        "import IPython.display as display\n",
        "import torch.functional as F\n",
        "from tqdm import tqdm"
      ]
    },
    {
      "cell_type": "code",
      "execution_count": null,
      "metadata": {
        "id": "CnMLoz_dBn13"
      },
      "outputs": [],
      "source": [
        "device = 'cuda'"
      ]
    },
    {
      "cell_type": "markdown",
      "metadata": {
        "id": "5UVVOgICyvYL"
      },
      "source": [
        "#### data"
      ]
    },
    {
      "cell_type": "code",
      "execution_count": null,
      "metadata": {
        "id": "EDvWSfVJVBQ8"
      },
      "outputs": [],
      "source": [
        "N = 100\n",
        "m = 2\n",
        "x = torch.randn(size=(N,1))\n",
        "y = m*x + torch.randn(size=(N,1))/3\n",
        "plt.plot(x,y,'ob')\n",
        "plt.legend(['Real data'])\n",
        "plt.title('regression')\n",
        "plt.xlabel('x')\n",
        "plt.ylabel('y')\n",
        "plt.show()"
      ]
    },
    {
      "cell_type": "markdown",
      "metadata": {
        "id": "YKPNeQosXi2G"
      },
      "source": [
        "#### Model"
      ]
    },
    {
      "cell_type": "code",
      "execution_count": null,
      "metadata": {
        "id": "U6fn-oEMWeFd"
      },
      "outputs": [],
      "source": [
        "# build a sequential model\n",
        "\n",
        "ann_reg = nn.Sequential(\n",
        "    nn.Linear(1,1), # input layer\n",
        "    # nn.ReLU(),      # activation function\n",
        "    nn.Linear(1,1)  # output layer\n",
        ")\n",
        "ann_reg"
      ]
    },
    {
      "cell_type": "markdown",
      "metadata": {
        "id": "pfiDcHMfXflt"
      },
      "source": [
        "#### Meta-parameters"
      ]
    },
    {
      "cell_type": "code",
      "execution_count": null,
      "metadata": {
        "id": "qlup2XalXVAl"
      },
      "outputs": [],
      "source": [
        "# learning rate\n",
        "LR = .05\n",
        "# loss function\n",
        "lossfun = nn.MSELoss()\n",
        "# optimizer\n",
        "optimizer = torch.optim.SGD(ann_reg.parameters(),lr=LR)"
      ]
    },
    {
      "cell_type": "markdown",
      "metadata": {
        "id": "VvWf1fphX-Rd"
      },
      "source": [
        "#### training"
      ]
    },
    {
      "cell_type": "code",
      "execution_count": null,
      "metadata": {
        "id": "tdAQNJTpXkUt"
      },
      "outputs": [],
      "source": [
        "numepochs = 500\n",
        "losses_logs = torch.zeros(numepochs)\n",
        "\n",
        "for ei in tqdm(range(numepochs)):\n",
        "  yh = ann_reg(x)\n",
        "\n",
        "  loss = lossfun(yh,y)\n",
        "  losses_logs[ei] = loss\n",
        "\n",
        "  optimizer.zero_grad()\n",
        "  loss.backward()\n",
        "  optimizer.step()\n"
      ]
    },
    {
      "cell_type": "code",
      "execution_count": null,
      "metadata": {
        "id": "VEwOQzOvZVyl"
      },
      "outputs": [],
      "source": [
        "plt.plot(losses_logs.detach(),'o')\n",
        "plt.show()"
      ]
    },
    {
      "cell_type": "markdown",
      "metadata": {
        "id": "TVLKFpB1bKQG"
      },
      "source": [
        "#### test data\n",
        "-----"
      ]
    },
    {
      "cell_type": "code",
      "execution_count": null,
      "metadata": {
        "id": "BZ9PZGk9bMtl"
      },
      "outputs": [],
      "source": [
        "prediction = ann_reg(x)\n",
        "\n",
        "plt.plot(x,y,'ob')\n",
        "plt.plot(x,prediction.detach(),'sg')\n",
        "plt.show()"
      ]
    },
    {
      "cell_type": "code",
      "execution_count": null,
      "metadata": {
        "id": "x8LQ8ULucNx2"
      },
      "outputs": [],
      "source": [
        "for param in ann_reg.parameters():\n",
        "  print(param.detach())"
      ]
    },
    {
      "cell_type": "markdown",
      "metadata": {
        "id": "46fzrLkHa-Rp"
      },
      "source": [
        "## train a simple classification model"
      ]
    },
    {
      "cell_type": "markdown",
      "metadata": {
        "id": "Y356GOh_PoQK"
      },
      "source": [
        "#### data preprocess"
      ]
    },
    {
      "cell_type": "code",
      "execution_count": null,
      "metadata": {
        "id": "-Hm9MusWFDPQ"
      },
      "outputs": [],
      "source": [
        "numClust = 100\n",
        "blur = 3\n",
        "\n",
        "A = [1 , 1]\n",
        "B = [1 , 10]\n",
        "\n",
        "a = [ A[1] + np.random.randn(numClust)*blur , A[0] + np.random.randn(numClust)*blur]\n",
        "b = [ B[1] + np.random.randn(numClust)*blur , B[0] + np.random.randn(numClust)*blur]\n",
        "\n",
        "labels_np = np.vstack((np.zeros((numClust,1)),np.ones((numClust,1))))\n",
        "\n",
        "data_np = np.hstack((a,b)).T\n",
        "\n",
        "# transform to pytorch tensor\n",
        "labels = torch.tensor(labels_np).float()\n",
        "data = torch.tensor(data_np).float()"
      ]
    },
    {
      "cell_type": "code",
      "execution_count": null,
      "metadata": {
        "id": "KhvTo1PELoxd"
      },
      "outputs": [],
      "source": [
        "fig = plt.figure(figsize=(5,5))\n",
        "plt.plot(data[np.where(labels==0)[0],0],data[np.where(labels==0)[0],1],'bs')\n",
        "plt.plot(data[np.where(labels==1)[0],0],data[np.where(labels==1)[0],1],'gs')\n",
        "plt.xlabel('dim1')\n",
        "plt.ylabel('dim2')\n",
        "plt.title('data')\n",
        "plt.show()"
      ]
    },
    {
      "cell_type": "markdown",
      "metadata": {
        "id": "xWDSZQ-gJlO2"
      },
      "source": [
        "#### Model"
      ]
    },
    {
      "cell_type": "code",
      "execution_count": null,
      "metadata": {
        "id": "Gb6JlzOr_Z7H"
      },
      "outputs": [],
      "source": [
        "ann_class = nn.Sequential(\n",
        "    nn.Linear(2,6,True),\n",
        "    nn.ReLU(),\n",
        "    nn.Linear(6,4,True),\n",
        "    nn.ReLU(),\n",
        "    nn.Linear(4,1,True),\n",
        "    nn.ReLU(),\n",
        "    nn.Linear(1,1,True),\n",
        "    nn.Sigmoid()\n",
        ")\n",
        "ann_class"
      ]
    },
    {
      "cell_type": "code",
      "execution_count": null,
      "metadata": {
        "id": "LYKLDtcXBzYk"
      },
      "outputs": [],
      "source": [
        "loss_func2 = nn.BCELoss()\n",
        "# we can also use BCEwithlogitsloss() and remove the last layer (sigmoid) in ann model"
      ]
    },
    {
      "cell_type": "code",
      "execution_count": null,
      "metadata": {
        "id": "uyR6ktBZRT_p"
      },
      "outputs": [],
      "source": [
        "from tqdm import tqdm\n",
        "numepochs2 = 2_000\n",
        "lr_l = [0.1,0.01,0.02,0.03,0.04,0.05]\n",
        "loss_list = []\n",
        "for i in range(len(lr_l)):\n",
        "  loss2 = torch.zeros(numepochs2)\n",
        "  learning_rate2 = lr_l[i]\n",
        "  optimizer2 = torch.optim.SGD(ann_class.parameters(),lr = learning_rate2)\n",
        "  for ep in tqdm(range(numepochs2)):\n",
        "    yh = ann_class(data)\n",
        "\n",
        "    loss = loss_func2(yh,labels)\n",
        "    loss2[ep] = loss\n",
        "\n",
        "    optimizer2.zero_grad()\n",
        "    loss.backward()\n",
        "    optimizer2.step()\n",
        "  loss_list.append(loss2)"
      ]
    },
    {
      "cell_type": "code",
      "execution_count": null,
      "metadata": {
        "id": "uwniPCTQSbth"
      },
      "outputs": [],
      "source": [
        "for i in range(len(lr_l)):\n",
        "  plt.plot(loss_list[i].detach(),'o')\n",
        "plt.show()"
      ]
    },
    {
      "cell_type": "markdown",
      "metadata": {
        "id": "_hGT6ry0VtX9"
      },
      "source": [
        "#### prediction"
      ]
    },
    {
      "cell_type": "code",
      "execution_count": null,
      "metadata": {
        "id": "7KiwhDpRVvMt"
      },
      "outputs": [],
      "source": [
        "# predictions\n",
        "\n",
        "predicts = ann_class(data)\n",
        "\n",
        "prediclabels = predicts>.5\n",
        "# print(prediclabels)\n",
        "\n",
        "misclassified = np.where(prediclabels != labels)[0]\n",
        "print(misclassified)\n",
        "\n",
        "# accuracy\n",
        "acc = 100-100*len(misclassified)/(2*numClust)\n",
        "print(acc)"
      ]
    },
    {
      "cell_type": "code",
      "execution_count": null,
      "metadata": {
        "id": "N0cavHZEVDaV"
      },
      "outputs": [],
      "source": [
        "fig = plt.figure(figsize=(5,5))\n",
        "plt.plot(data[misclassified,0],data[misclassified,1],'rx',markersize='13')\n",
        "plt.plot(data[(np.where(~prediclabels)[0]),0],data[np.where(~prediclabels)[0],1],'gs')\n",
        "plt.plot(data[np.where(prediclabels)[0],0],data[np.where(prediclabels)[0],1],'ro')\n",
        "plt.xlabel('dim1')\n",
        "plt.ylabel('dim2')\n",
        "plt.title('data')\n",
        "plt.show()"
      ]
    },
    {
      "cell_type": "markdown",
      "metadata": {
        "id": "sOaCGdlgbJIw"
      },
      "source": [
        "## Using pre-trained model"
      ]
    },
    {
      "cell_type": "code",
      "execution_count": null,
      "metadata": {
        "id": "PhiQJfjfdAXk"
      },
      "outputs": [],
      "source": []
    },
    {
      "cell_type": "markdown",
      "source": [
        "## RNN"
      ],
      "metadata": {
        "id": "TaQ5F7KjVrPR"
      }
    },
    {
      "cell_type": "code",
      "source": [
        "from torch import nn\n",
        "import torch"
      ],
      "metadata": {
        "id": "fV-azGgAVs8o"
      },
      "execution_count": null,
      "outputs": []
    },
    {
      "cell_type": "code",
      "source": [
        "class RNNnet(nn.Module):\n",
        "  def __init__(self,input_size, hidden_size, num_layers = 1, activation_function = \"tanh\", bias = True):\n",
        "    \"\"\"\n",
        "    input_size [int]: number feature (dimension, channel and etc)\n",
        "    hidden_size [int]: dimension of square matrix of hiddein layer weights\n",
        "    num_layers [int] = 1: number of layers stack on each other\n",
        "    activation_function [str]  = tanh: activation function selection\n",
        "    bias [bool]  = True : intercept of hiddein weights\n",
        "    \"\"\"\n",
        "    super().__init__()\n",
        "    self.input_size = input_size\n",
        "    self.hidden_size = hidden_size\n",
        "    self.num_layers = num_layers\n",
        "\n",
        "    self.rnn = nn.RNN(self.input_size,self.hidden_size,self.num_layers,activation_function, bias)\n",
        "\n",
        "    self.out = nn.Linear(self.hidden_size,1)\n",
        "\n",
        "  def forward(self, x):\n",
        "    y , h = self.rnn(x)\n",
        "    o = self.out(y)\n",
        "    return o\n",
        "  def train(self,x ,y):\n",
        "    yh = self.forward(x)\n",
        "    loss_func = nn.MSELoss()\n",
        "    loss = loss_func(y,yh)\n",
        "    if loss < 0.1:\n",
        "      return loss\n"
      ],
      "metadata": {
        "id": "Wa6ZiPQGYaNx"
      },
      "execution_count": null,
      "outputs": []
    },
    {
      "cell_type": "code",
      "source": [
        "\n",
        "x = torch.rand(10,2,10)"
      ],
      "metadata": {
        "id": "i9yhTqVrwY2k"
      },
      "execution_count": null,
      "outputs": []
    },
    {
      "cell_type": "markdown",
      "source": [
        "## M-step lookahead"
      ],
      "metadata": {
        "id": "hE0oUPbbFA4f"
      }
    },
    {
      "cell_type": "markdown",
      "source": [
        "### Define the graph"
      ],
      "metadata": {
        "id": "Ljo1gaZeFD3v"
      }
    },
    {
      "cell_type": "code",
      "source": [
        "from collections import defaultdict\n",
        "import heapq\n",
        "\n",
        "class Graph:\n",
        "    def __init__(self):\n",
        "        self.edges = defaultdict(dict)  # {u: {v: weight}}\n",
        "\n",
        "    def add_edge(self, u, v, weight):\n",
        "        self.edges[u][v] = weight\n",
        "        self.edges[v][u] = weight  # Undirected graph\n",
        "\n",
        "# Example graph\n",
        "graph = Graph()\n",
        "graph.add_edge('A', 'B', 2)\n",
        "graph.add_edge('A', 'C', 4)\n",
        "graph.add_edge('B', 'D', 1)\n",
        "graph.add_edge('B', 'E', 3)\n",
        "graph.add_edge('D', 'H', 2)\n",
        "graph.add_edge('D', 'I', 8)\n",
        "graph.add_edge('E', 'J', 7)\n",
        "graph.add_edge('E', 'K', 6)\n",
        "graph.add_edge('C', 'F', 1)\n",
        "graph.add_edge('C', 'G', 0)\n",
        "graph.add_edge('F', 'L', 5)\n",
        "graph.add_edge('F', 'M', 2)\n",
        "graph.add_edge('G', 'N', 1)\n",
        "graph.add_edge('G', 'O', 0)\n",
        "graph.add_edge('H', 'T', 0)\n",
        "graph.add_edge('I', 'T', 0)\n",
        "graph.add_edge('J', 'T', 0)\n",
        "graph.add_edge('K', 'T', 0)\n",
        "graph.add_edge('L', 'T', 0)\n",
        "graph.add_edge('M', 'T', 0)\n",
        "graph.add_edge('N', 'T', 0)\n",
        "graph.add_edge('O', 'T', 0)"
      ],
      "metadata": {
        "id": "5NxxI5BRFDKv"
      },
      "execution_count": null,
      "outputs": []
    },
    {
      "cell_type": "markdown",
      "source": [
        "### algorithm"
      ],
      "metadata": {
        "id": "7tgGTGbaFGSv"
      }
    },
    {
      "cell_type": "code",
      "source": [
        "def m_step_lookahead(graph, start, goal, M):\n",
        "    def evaluate_paths(current, path, current_cost, depth):\n",
        "        if depth == M or current == goal:\n",
        "            # Estimate remaining cost (heuristic: Dijkstra's shortest path)\n",
        "            remaining_cost = dijkstra(graph, current, goal)\n",
        "            total_cost = current_cost + remaining_cost\n",
        "            return total_cost, path\n",
        "        else:\n",
        "            min_total_cost = float('inf')\n",
        "            best_path = None\n",
        "            for neighbor, weight in graph.edges[current].items():\n",
        "                if neighbor not in path:  # Avoid cycles\n",
        "                    new_path = path + [neighbor]\n",
        "                    new_cost = current_cost + weight\n",
        "                    total_cost, full_path = evaluate_paths(neighbor, new_path, new_cost, depth + 1)\n",
        "                    if total_cost < min_total_cost:\n",
        "                        min_total_cost = total_cost\n",
        "                        best_path = full_path\n",
        "            return min_total_cost, best_path\n",
        "\n",
        "    # Dijkstra's algorithm for remaining cost estimation\n",
        "    def dijkstra(graph, start, goal):\n",
        "        heap = [(0, start)]\n",
        "        visited = set()\n",
        "        while heap:\n",
        "            cost, node = heapq.heappop(heap)\n",
        "            if node == goal:\n",
        "                return cost\n",
        "            if node not in visited:\n",
        "                visited.add(node)\n",
        "                for neighbor, weight in graph.edges[node].items():\n",
        "                    heapq.heappush(heap, (cost + weight, neighbor))\n",
        "        return float('inf')  # No path found\n",
        "\n",
        "    # Evaluate all M-step paths from start\n",
        "    _, best_path = evaluate_paths(start, [start], 0, 0)\n",
        "    if best_path and len(best_path) > 1:\n",
        "        return best_path[1]  # Best immediate next action\n",
        "    else:\n",
        "        return None  # No valid path found"
      ],
      "metadata": {
        "id": "oBuZK4qWFIAn"
      },
      "execution_count": null,
      "outputs": []
    },
    {
      "cell_type": "code",
      "source": [
        "start = 'A'\n",
        "goal = 'T'\n",
        "M = 3  # Lookahead depth\n",
        "\n",
        "best_action = m_step_lookahead(graph, start, goal, M)\n",
        "print(f\"Best immediate action from {start} with {M}-step lookahead: {best_action}\")"
      ],
      "metadata": {
        "id": "UimZgPl1FLs3"
      },
      "execution_count": null,
      "outputs": []
    },
    {
      "cell_type": "markdown",
      "source": [
        "## beam search"
      ],
      "metadata": {
        "id": "OvBZZouXInzO"
      }
    },
    {
      "cell_type": "code",
      "source": [
        "def beam_search(start_state, K, M, evaluate_fn):\n",
        "    beam = [(start_state, [], 0)]  # (state, path, score)\n",
        "    for _ in range(M):\n",
        "        candidates = []\n",
        "        for state, path, score in beam:\n",
        "            for action in possible_actions(state):\n",
        "                next_state = apply_action(state, action)\n",
        "                new_score = score + evaluate_fn(next_state)\n",
        "                candidates.append((next_state, path + [action], new_score))\n",
        "        # Keep top-K candidates\n",
        "        beam = sorted(candidates, key=lambda x: -x[2])[:K]\n",
        "    return beam[0][1]  # Best path found"
      ],
      "metadata": {
        "id": "FE5-81ddIpXu"
      },
      "execution_count": null,
      "outputs": []
    },
    {
      "cell_type": "markdown",
      "source": [
        "| Feature               | M-step Lookahead                          | Beam Search                          |\n",
        "|-----------------------|------------------------------------------|--------------------------------------|\n",
        "| **Search Strategy**   | Exhaustive search up to depth `M`        | Keeps top-`K` branches at each step  |\n",
        "| **Memory**           | High (exponential in `M`)                | Low (fixed by beam width `K`)        |\n",
        "| **Optimality**       | More optimal                             | Suboptimal (due to pruning)          |\n",
        "| **Use Cases**        | Pathfinding, game AI                     | NLP, sequence generation            |\n",
        "\n",
        "---\n",
        "\n",
        "## When They Are Equivalent\n",
        "- Beam Search ≈ M-step Lookahead **only if**:\n",
        "  - Beam width `K` covers all possible branches\n",
        "  - No pruning is applied (becomes BFS)"
      ],
      "metadata": {
        "id": "L7T8OEwHIzTp"
      }
    },
    {
      "cell_type": "markdown",
      "metadata": {
        "id": "WSx5fkllhXkU"
      },
      "source": [
        "# RL libraries"
      ]
    },
    {
      "cell_type": "markdown",
      "metadata": {
        "id": "cSONLK1Nf0sd"
      },
      "source": [
        "## Stable-baseline\n",
        "https://stable-baselines3.readthedocs.io/en/master/"
      ]
    },
    {
      "cell_type": "markdown",
      "metadata": {
        "id": "AFZpr7nQKyDJ"
      },
      "source": [
        "# Introduction to Stable-Baselines3\n",
        "## A High-Quality Reinforcement Learning Library\n",
        "\n",
        "### Key Features\n",
        "- ✅ **Implemented Algorithms**:\n",
        "  - PPO, A2C, DQN, SAC, TD3, etc.\n",
        "- ✅ **Key Benefits**:\n",
        "  - Standardized interfaces\n",
        "  - TensorBoard integration\n",
        "  - Environment wrappers\n",
        "  - Type hints & documentation\n",
        "\n",
        "---\n",
        "\n",
        "## Basic Usage Example\n",
        "### 1. Installation\n",
        "\n",
        "```!pip install stable-baselines3[extra]  # Includes gym and tensorboard```"
      ]
    },
    {
      "cell_type": "markdown",
      "metadata": {
        "id": "9V8yMMayK7dZ"
      },
      "source": [
        "## install library"
      ]
    },
    {
      "cell_type": "code",
      "execution_count": null,
      "metadata": {
        "id": "oc8aVpp1hHK2"
      },
      "outputs": [],
      "source": [
        "!pip install stable-baselines3[extra]"
      ]
    },
    {
      "cell_type": "markdown",
      "metadata": {
        "id": "ZQqLfQZsLHj5"
      },
      "source": [
        "## training a PPO agent (cart pole)"
      ]
    },
    {
      "cell_type": "code",
      "execution_count": null,
      "metadata": {
        "id": "caHXBoafLMNp"
      },
      "outputs": [],
      "source": [
        "import gym\n",
        "from stable_baselines3 import PPO\n",
        "from stable_baselines3.common.env_util import make_vec_env\n",
        "\n",
        "# Create vectorized environment (parallel training)\n",
        "env = make_vec_env(\"CartPole-v1\")\n",
        "\n",
        "# Instantiate the agent\n",
        "model = PPO(\n",
        "    \"MlpPolicy\",\n",
        "    env,\n",
        "    verbose=1,\n",
        "    tensorboard_log=\"./ppo_cartpole/\"\n",
        ")\n",
        "\n",
        "# Train for 10,000 timesteps\n",
        "model.learn(total_timesteps=10_000)\n",
        "\n",
        "# Save the model\n",
        "model.save(\"ppo_cartpole\")"
      ]
    },
    {
      "cell_type": "code",
      "source": [
        "!tensorboard --logdir ./ppo_cartpole/"
      ],
      "metadata": {
        "id": "Zn6mHwQicPWI"
      },
      "execution_count": null,
      "outputs": []
    },
    {
      "cell_type": "markdown",
      "metadata": {
        "id": "bltAVy7kXyq1"
      },
      "source": [
        "## PPO agent"
      ]
    },
    {
      "cell_type": "code",
      "execution_count": null,
      "metadata": {
        "id": "FkON1nCjL0qB"
      },
      "outputs": [],
      "source": [
        "from tqdm import tqdm\n",
        "import cv2\n",
        "# Load the saved model\n",
        "model = PPO.load(\"./ppo_cartpole.zip\")\n",
        "\n",
        "# Evaluate\n",
        "eval_env = make_vec_env(\"CartPole-v1\")\n",
        "obs = eval_env.reset()\n",
        "# print(type(obs))\n",
        "cum_reward_ = 0\n",
        "cum_reward = list()\n",
        "for i in tqdm(range(1000)):\n",
        "    action , _state = model.predict(obs)\n",
        "    obs, reward, done, info = eval_env.step(action)\n",
        "    cum_reward_ += sum(reward)\n",
        "    cum_reward.append(cum_reward_)\n",
        "    frame = eval_env.render()\n",
        "    cv2.imwrite(f'./frames/frame_{i}.png',frame)\n",
        "    if done.all():\n",
        "        obs = eval_env.reset()"
      ]
    },
    {
      "cell_type": "markdown",
      "metadata": {
        "id": "4yAZujwIX1dU"
      },
      "source": [
        "## Random agent"
      ]
    },
    {
      "cell_type": "code",
      "execution_count": null,
      "metadata": {
        "id": "3FfmfNTAX5AT"
      },
      "outputs": [],
      "source": [
        "from tqdm import tqdm\n",
        "import cv2\n",
        "import numpy as np\n",
        "# Evaluate\n",
        "eval_env2 = gym.make(\"CartPole-v1\")\n",
        "obs2 = eval_env2.reset()\n",
        "print(obs2)\n",
        "# print(type(obs))\n",
        "cum_reward_2 = 0\n",
        "cum_reward2 = list()\n",
        "for j in tqdm(range(1000)):\n",
        "    action2 = [np.random.randint(0, 1)]\n",
        "    observation, reward2, terminated, truncated, info = eval_env2.step(action2)\n",
        "    cum_reward_2 += sum(reward2)\n",
        "    cum_reward2.append(cum_reward_2)\n",
        "    frame2 = eval_env2.render()\n",
        "    cv2.imwrite(f'./frames/frame_{j}.png',frame2)\n",
        "    print(observation)\n",
        "    break"
      ]
    },
    {
      "cell_type": "code",
      "execution_count": null,
      "metadata": {
        "id": "UR2WaFumZK1q"
      },
      "outputs": [],
      "source": [
        "import matplotlib.pyplot as plt\n",
        "x = [i for i in range(1000)]\n",
        "plt.plot(x,cum_reward2)\n",
        "plt.show()"
      ]
    },
    {
      "cell_type": "markdown",
      "metadata": {
        "id": "bAGcq-mXX5Wc"
      },
      "source": [
        "## Evaluation"
      ]
    },
    {
      "cell_type": "code",
      "execution_count": null,
      "metadata": {
        "id": "sFI3aYlVSH6p"
      },
      "outputs": [],
      "source": [
        "import matplotlib.pyplot as plt\n",
        "x = [i for i in range(1000)]\n",
        "plt.plot(x,cum_reward)\n",
        "plt.show()"
      ]
    },
    {
      "cell_type": "markdown",
      "metadata": {
        "id": "1RUGkkiuf3Ye"
      },
      "source": [
        "## Open-AI GYM\n",
        "https://gymnasium.farama.org/\n"
      ]
    },
    {
      "cell_type": "code",
      "execution_count": null,
      "metadata": {
        "id": "IE_AHKdNKjSx"
      },
      "outputs": [],
      "source": []
    }
  ],
  "metadata": {
    "colab": {
      "collapsed_sections": [
        "RqsyK6NFWU0R",
        "vA6NbqEZYNGJ",
        "Ogf6yr4AdDoj",
        "wGum4QOvdHCk",
        "XmGoGUaDZ4bw",
        "UQ5qosvUZ-24",
        "LuX0diJ3fg79",
        "dOEMMnw7aeQw",
        "E9wlttwBah6g",
        "dnM3bOVbO3dE",
        "eYO7Rbb0PQGs",
        "ehhxJQ1KPWkj",
        "REDf72AHPasT",
        "O0vxghCuPsRa",
        "LBdLbGHKaspg",
        "UlVoZbQ5SPOf",
        "2sN0ANk0SQbv",
        "Yxe3GdzaSWQn",
        "dCqxkdq-TYbe",
        "23z7a0f5QvQb",
        "Y1Mu9nJrQ1WS",
        "h0CS1eYtQ55y",
        "z3wTt-7xauF4",
        "eEvRavcqCLPU",
        "7HU9_Wc1CORz",
        "64OWukgVCSdj",
        "h4WMV7geCWLj",
        "Z9aY7XABCZ5L",
        "R4sgGpjwCdLc",
        "1Q-UgzfHCiXr",
        "LjucKfRThz87",
        "76JRi0_9iBGj",
        "NcXd0DZEiGIM",
        "E5nNySvtUqLF",
        "sOaCGdlgbJIw",
        "TaQ5F7KjVrPR",
        "hE0oUPbbFA4f",
        "OvBZZouXInzO",
        "WSx5fkllhXkU",
        "cSONLK1Nf0sd"
      ],
      "provenance": []
    },
    "kernelspec": {
      "display_name": "Python 3",
      "name": "python3"
    },
    "language_info": {
      "name": "python"
    }
  },
  "nbformat": 4,
  "nbformat_minor": 0
}
