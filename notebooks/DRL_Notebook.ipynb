{
  "nbformat": 4,
  "nbformat_minor": 0,
  "metadata": {
    "colab": {
      "provenance": [],
      "collapsed_sections": [
        "RqsyK6NFWU0R",
        "ZyKFZmaPXmDb",
        "6N4ySwwdZUbY",
        "vA6NbqEZYNGJ",
        "Ogf6yr4AdDoj",
        "wGum4QOvdHCk",
        "XmGoGUaDZ4bw",
        "UQ5qosvUZ-24",
        "LuX0diJ3fg79",
        "dOEMMnw7aeQw",
        "E9wlttwBah6g",
        "6reR57oIXwyp",
        "76JRi0_9iBGj",
        "NcXd0DZEiGIM",
        "f3XqWEFethfr",
        "W1ucgwo4bA9o",
        "46fzrLkHa-Rp",
        "sOaCGdlgbJIw",
        "WSx5fkllhXkU",
        "cSONLK1Nf0sd",
        "s5aEjkK9f7fW"
      ]
    },
    "kernelspec": {
      "name": "python3",
      "display_name": "Python 3"
    },
    "language_info": {
      "name": "python"
    }
  },
  "cells": [
    {
      "cell_type": "markdown",
      "source": [
        "# Install Libraries and Frameworks"
      ],
      "metadata": {
        "id": "RqsyK6NFWU0R"
      }
    },
    {
      "cell_type": "code",
      "source": [
        "!pip install torch\n",
        "!pip install pytorch-ignite\n",
        "!pip install pytorch-lightning"
      ],
      "metadata": {
        "colab": {
          "base_uri": "https://localhost:8080/"
        },
        "collapsed": true,
        "id": "QwvTslO3WUmR",
        "outputId": "40a732d7-6c0d-40c2-fea4-727a02239b30"
      },
      "execution_count": null,
      "outputs": [
        {
          "output_type": "stream",
          "name": "stdout",
          "text": [
            "Requirement already satisfied: torch in /usr/local/lib/python3.11/dist-packages (2.6.0+cu124)\n",
            "Requirement already satisfied: filelock in /usr/local/lib/python3.11/dist-packages (from torch) (3.17.0)\n",
            "Requirement already satisfied: typing-extensions>=4.10.0 in /usr/local/lib/python3.11/dist-packages (from torch) (4.12.2)\n",
            "Requirement already satisfied: networkx in /usr/local/lib/python3.11/dist-packages (from torch) (3.4.2)\n",
            "Requirement already satisfied: jinja2 in /usr/local/lib/python3.11/dist-packages (from torch) (3.1.6)\n",
            "Requirement already satisfied: fsspec in /usr/local/lib/python3.11/dist-packages (from torch) (2024.10.0)\n",
            "Collecting nvidia-cuda-nvrtc-cu12==12.4.127 (from torch)\n",
            "  Downloading nvidia_cuda_nvrtc_cu12-12.4.127-py3-none-manylinux2014_x86_64.whl.metadata (1.5 kB)\n",
            "Collecting nvidia-cuda-runtime-cu12==12.4.127 (from torch)\n",
            "  Downloading nvidia_cuda_runtime_cu12-12.4.127-py3-none-manylinux2014_x86_64.whl.metadata (1.5 kB)\n",
            "Collecting nvidia-cuda-cupti-cu12==12.4.127 (from torch)\n",
            "  Downloading nvidia_cuda_cupti_cu12-12.4.127-py3-none-manylinux2014_x86_64.whl.metadata (1.6 kB)\n",
            "Collecting nvidia-cudnn-cu12==9.1.0.70 (from torch)\n",
            "  Downloading nvidia_cudnn_cu12-9.1.0.70-py3-none-manylinux2014_x86_64.whl.metadata (1.6 kB)\n",
            "Collecting nvidia-cublas-cu12==12.4.5.8 (from torch)\n",
            "  Downloading nvidia_cublas_cu12-12.4.5.8-py3-none-manylinux2014_x86_64.whl.metadata (1.5 kB)\n",
            "Collecting nvidia-cufft-cu12==11.2.1.3 (from torch)\n",
            "  Downloading nvidia_cufft_cu12-11.2.1.3-py3-none-manylinux2014_x86_64.whl.metadata (1.5 kB)\n",
            "Collecting nvidia-curand-cu12==10.3.5.147 (from torch)\n",
            "  Downloading nvidia_curand_cu12-10.3.5.147-py3-none-manylinux2014_x86_64.whl.metadata (1.5 kB)\n",
            "Collecting nvidia-cusolver-cu12==11.6.1.9 (from torch)\n",
            "  Downloading nvidia_cusolver_cu12-11.6.1.9-py3-none-manylinux2014_x86_64.whl.metadata (1.6 kB)\n",
            "Collecting nvidia-cusparse-cu12==12.3.1.170 (from torch)\n",
            "  Downloading nvidia_cusparse_cu12-12.3.1.170-py3-none-manylinux2014_x86_64.whl.metadata (1.6 kB)\n",
            "Requirement already satisfied: nvidia-cusparselt-cu12==0.6.2 in /usr/local/lib/python3.11/dist-packages (from torch) (0.6.2)\n",
            "Requirement already satisfied: nvidia-nccl-cu12==2.21.5 in /usr/local/lib/python3.11/dist-packages (from torch) (2.21.5)\n",
            "Requirement already satisfied: nvidia-nvtx-cu12==12.4.127 in /usr/local/lib/python3.11/dist-packages (from torch) (12.4.127)\n",
            "Collecting nvidia-nvjitlink-cu12==12.4.127 (from torch)\n",
            "  Downloading nvidia_nvjitlink_cu12-12.4.127-py3-none-manylinux2014_x86_64.whl.metadata (1.5 kB)\n",
            "Requirement already satisfied: triton==3.2.0 in /usr/local/lib/python3.11/dist-packages (from torch) (3.2.0)\n",
            "Requirement already satisfied: sympy==1.13.1 in /usr/local/lib/python3.11/dist-packages (from torch) (1.13.1)\n",
            "Requirement already satisfied: mpmath<1.4,>=1.1.0 in /usr/local/lib/python3.11/dist-packages (from sympy==1.13.1->torch) (1.3.0)\n",
            "Requirement already satisfied: MarkupSafe>=2.0 in /usr/local/lib/python3.11/dist-packages (from jinja2->torch) (3.0.2)\n",
            "Downloading nvidia_cublas_cu12-12.4.5.8-py3-none-manylinux2014_x86_64.whl (363.4 MB)\n",
            "\u001b[2K   \u001b[90m━━━━━━━━━━━━━━━━━━━━━━━━━━━━━━━━━━━━━━━━\u001b[0m \u001b[32m363.4/363.4 MB\u001b[0m \u001b[31m2.8 MB/s\u001b[0m eta \u001b[36m0:00:00\u001b[0m\n",
            "\u001b[?25hDownloading nvidia_cuda_cupti_cu12-12.4.127-py3-none-manylinux2014_x86_64.whl (13.8 MB)\n",
            "\u001b[2K   \u001b[90m━━━━━━━━━━━━━━━━━━━━━━━━━━━━━━━━━━━━━━━━\u001b[0m \u001b[32m13.8/13.8 MB\u001b[0m \u001b[31m84.0 MB/s\u001b[0m eta \u001b[36m0:00:00\u001b[0m\n",
            "\u001b[?25hDownloading nvidia_cuda_nvrtc_cu12-12.4.127-py3-none-manylinux2014_x86_64.whl (24.6 MB)\n",
            "\u001b[2K   \u001b[90m━━━━━━━━━━━━━━━━━━━━━━━━━━━━━━━━━━━━━━━━\u001b[0m \u001b[32m24.6/24.6 MB\u001b[0m \u001b[31m67.3 MB/s\u001b[0m eta \u001b[36m0:00:00\u001b[0m\n",
            "\u001b[?25hDownloading nvidia_cuda_runtime_cu12-12.4.127-py3-none-manylinux2014_x86_64.whl (883 kB)\n",
            "\u001b[2K   \u001b[90m━━━━━━━━━━━━━━━━━━━━━━━━━━━━━━━━━━━━━━━━\u001b[0m \u001b[32m883.7/883.7 kB\u001b[0m \u001b[31m43.5 MB/s\u001b[0m eta \u001b[36m0:00:00\u001b[0m\n",
            "\u001b[?25hDownloading nvidia_cudnn_cu12-9.1.0.70-py3-none-manylinux2014_x86_64.whl (664.8 MB)\n",
            "\u001b[2K   \u001b[91m━━━━━━━━━━━━\u001b[0m\u001b[90m╺\u001b[0m\u001b[90m━━━━━━━━━━━━━━━━━━━━━━━━━━━\u001b[0m \u001b[32m204.3/664.8 MB\u001b[0m \u001b[31m5.8 MB/s\u001b[0m eta \u001b[36m0:01:20\u001b[0m\n",
            "\u001b[?25h\u001b[31mERROR: Operation cancelled by user\u001b[0m\u001b[31m\n",
            "\u001b[0m\u001b[31m  ERROR: Operation cancelled by user\u001b[0m\u001b[31m\n",
            "\u001b[0mTraceback (most recent call last):\n",
            "  File \"/usr/local/lib/python3.11/dist-packages/pip/_internal/cli/base_command.py\", line 179, in exc_logging_wrapper\n",
            "    status = run_func(*args)\n",
            "             ^^^^^^^^^^^^^^^\n",
            "  File \"/usr/local/lib/python3.11/dist-packages/pip/_internal/cli/req_command.py\", line 67, in wrapper\n",
            "    return func(self, options, args)\n",
            "           ^^^^^^^^^^^^^^^^^^^^^^^^^\n",
            "  File \"/usr/local/lib/python3.11/dist-packages/pip/_internal/commands/install.py\", line 324, in run\n",
            "    session = self.get_default_session(options)\n",
            "              ^^^^^^^^^^^^^^^^^^^^^^^^^^^^^^^^^\n",
            "  File \"/usr/local/lib/python3.11/dist-packages/pip/_internal/cli/index_command.py\", line 71, in get_default_session\n",
            "    self._session = self.enter_context(self._build_session(options))\n",
            "                                       ^^^^^^^^^^^^^^^^^^^^^^^^^^^^\n",
            "  File \"/usr/local/lib/python3.11/dist-packages/pip/_internal/cli/index_command.py\", line 100, in _build_session\n",
            "    session = PipSession(\n",
            "              ^^^^^^^^^^^\n",
            "  File \"/usr/local/lib/python3.11/dist-packages/pip/_internal/network/session.py\", line 344, in __init__\n",
            "    self.headers[\"User-Agent\"] = user_agent()\n",
            "                                 ^^^^^^^^^^^^\n",
            "  File \"/usr/local/lib/python3.11/dist-packages/pip/_internal/network/session.py\", line 177, in user_agent\n",
            "    setuptools_dist = get_default_environment().get_distribution(\"setuptools\")\n",
            "                      ^^^^^^^^^^^^^^^^^^^^^^^^^^^^^^^^^^^^^^^^^^^^^^^^^^^^^^^^\n",
            "  File \"/usr/local/lib/python3.11/dist-packages/pip/_internal/metadata/importlib/_envs.py\", line 189, in get_distribution\n",
            "    return next(matches, None)\n",
            "           ^^^^^^^^^^^^^^^^^^^\n",
            "  File \"/usr/local/lib/python3.11/dist-packages/pip/_internal/metadata/importlib/_envs.py\", line 184, in <genexpr>\n",
            "    matches = (\n",
            "              ^\n",
            "  File \"/usr/local/lib/python3.11/dist-packages/pip/_internal/metadata/base.py\", line 612, in iter_all_distributions\n",
            "    for dist in self._iter_distributions():\n",
            "  File \"/usr/local/lib/python3.11/dist-packages/pip/_internal/metadata/importlib/_envs.py\", line 176, in _iter_distributions\n",
            "    yield from finder.find(location)\n",
            "  File \"/usr/local/lib/python3.11/dist-packages/pip/_internal/metadata/importlib/_envs.py\", line 79, in find\n",
            "    for dist, info_location in self._find_impl(location):\n",
            "  File \"/usr/local/lib/python3.11/dist-packages/pip/_internal/metadata/importlib/_envs.py\", line 64, in _find_impl\n",
            "    raw_name = get_dist_name(dist)\n",
            "               ^^^^^^^^^^^^^^^^^^^\n",
            "  File \"/usr/local/lib/python3.11/dist-packages/pip/_internal/metadata/importlib/_compat.py\", line 52, in get_dist_name\n",
            "    name = cast(Any, dist).name\n",
            "           ^^^^^^^^^^^^^^^^^^^^\n",
            "  File \"/usr/lib/python3.11/importlib/metadata/__init__.py\", line 622, in name\n",
            "    return self.metadata['Name']\n",
            "           ^^^^^^^^^^^^^\n",
            "  File \"/usr/lib/python3.11/importlib/metadata/__init__.py\", line 617, in metadata\n",
            "    return _adapters.Message(email.message_from_string(text))\n",
            "                             ^^^^^^^^^^^^^^^^^^^^^^^^^^^^^^^\n",
            "  File \"/usr/lib/python3.11/email/__init__.py\", line 37, in message_from_string\n",
            "^C\n"
          ]
        }
      ]
    },
    {
      "cell_type": "markdown",
      "source": [
        "# Import Libraries"
      ],
      "metadata": {
        "id": "jDzRMOPpWakI"
      }
    },
    {
      "cell_type": "code",
      "execution_count": null,
      "metadata": {
        "id": "62TI6x13VcNS"
      },
      "outputs": [],
      "source": [
        "import torch\n",
        "import os\n",
        "# from ignite.engine import Engine, Events\n",
        "# from ignite.handlers import ModelCheckpoint\n",
        "from torch import nn\n",
        "from google.colab import drive\n",
        "# from pytorch_lightning import Trainer, LightningModule\n",
        "import csv\n",
        "import json\n",
        "import time\n",
        "import pickle\n",
        "import matplotlib.pyplot as plt"
      ]
    },
    {
      "cell_type": "markdown",
      "source": [
        "# Mount google drive to colab\n"
      ],
      "metadata": {
        "id": "ZyKFZmaPXmDb"
      }
    },
    {
      "cell_type": "code",
      "source": [
        "drive.mount('/content/gdrive')"
      ],
      "metadata": {
        "colab": {
          "base_uri": "https://localhost:8080/"
        },
        "id": "2JBUnDANXphq",
        "outputId": "f8ee5a85-d6b2-4d70-a72c-0454409a31b6"
      },
      "execution_count": null,
      "outputs": [
        {
          "output_type": "stream",
          "name": "stdout",
          "text": [
            "Mounted at /content/gdrive\n"
          ]
        }
      ]
    },
    {
      "cell_type": "markdown",
      "source": [
        "## Unmount google drive"
      ],
      "metadata": {
        "id": "6N4ySwwdZUbY"
      }
    },
    {
      "cell_type": "code",
      "source": [
        "drive.flush_and_unmount()"
      ],
      "metadata": {
        "id": "xhOnDjBUZSf6"
      },
      "execution_count": null,
      "outputs": []
    },
    {
      "cell_type": "markdown",
      "source": [
        "# save and load checkpoint model"
      ],
      "metadata": {
        "id": "vA6NbqEZYNGJ"
      }
    },
    {
      "cell_type": "markdown",
      "source": [
        "## save model weights"
      ],
      "metadata": {
        "id": "Ogf6yr4AdDoj"
      }
    },
    {
      "cell_type": "code",
      "source": [
        "# Define a simple training engine\n",
        "trainer = Engine(lambda engine, batch: None)\n",
        "\n",
        "# Define the ModelCheckpoint handler\n",
        "handler = ModelCheckpoint('/tmp/models', 'myprefix', n_saved=2, create_dir=True, require_empty=False)\n",
        "\n",
        "# Define a simple model\n",
        "model = nn.Linear(3, 3)\n",
        "\n",
        "# Attach the handler to the trainer to save the model every 2 epochs\n",
        "trainer.add_event_handler(Events.EPOCH_COMPLETED(every=2), handler, {'mymodel': model})\n",
        "\n",
        "# Run the trainer for 6 epochs\n",
        "trainer.run([0, 1, 2, 3, 4], max_epochs=6)\n",
        "\n",
        "# Print the list of saved checkpoints\n",
        "print(sorted(os.listdir('/tmp/models')))\n",
        "print(handler.last_checkpoint)"
      ],
      "metadata": {
        "id": "2pM6efqKYPxx"
      },
      "execution_count": null,
      "outputs": []
    },
    {
      "cell_type": "markdown",
      "source": [
        "## load model weights"
      ],
      "metadata": {
        "id": "wGum4QOvdHCk"
      }
    },
    {
      "cell_type": "code",
      "source": [
        "# Define your LightningModule\n",
        "class MyModel(LightningModule):\n",
        "    def __init__(self):\n",
        "        super().__init__()\n",
        "        self.model = nn.Linear(3, 3)\n",
        "\n",
        "# Initialize the model and trainer\n",
        "model = MyModel()\n",
        "trainer = Trainer()\n",
        "\n",
        "# Resume training from a checkpoint\n",
        "trainer.fit(model, ckpt_path=\"path/to/your/checkpoint.ckpt\")"
      ],
      "metadata": {
        "id": "lTskpOzZY4Mq"
      },
      "execution_count": null,
      "outputs": []
    },
    {
      "cell_type": "markdown",
      "source": [
        "# Basic Python"
      ],
      "metadata": {
        "id": "vjeN0KMQZ1AR"
      }
    },
    {
      "cell_type": "markdown",
      "source": [
        "## I/O Interface"
      ],
      "metadata": {
        "id": "XmGoGUaDZ4bw"
      }
    },
    {
      "cell_type": "markdown",
      "source": [
        "### print a simple \"*Hello World* \""
      ],
      "metadata": {
        "id": "_o__nfb4v9kU"
      }
    },
    {
      "cell_type": "code",
      "source": [
        "print(\"Hello World!\")"
      ],
      "metadata": {
        "colab": {
          "base_uri": "https://localhost:8080/"
        },
        "id": "ZHworSCCZ3pY",
        "outputId": "32d84155-4b07-4009-f87a-8be23582d1ed",
        "collapsed": true
      },
      "execution_count": null,
      "outputs": [
        {
          "output_type": "stream",
          "name": "stdout",
          "text": [
            "Hello World!\n"
          ]
        }
      ]
    },
    {
      "cell_type": "markdown",
      "source": [
        "### get, store and use a value"
      ],
      "metadata": {
        "id": "Gj0CdPKjwV8t"
      }
    },
    {
      "cell_type": "code",
      "source": [
        "name = input(\"Enter your name:\")\n",
        "print(name)"
      ],
      "metadata": {
        "colab": {
          "base_uri": "https://localhost:8080/"
        },
        "id": "6rF3rJLReHqf",
        "outputId": "0851d418-b5c8-4c5e-e6a5-64e694c4c7bb"
      },
      "execution_count": null,
      "outputs": [
        {
          "output_type": "stream",
          "name": "stdout",
          "text": [
            "Enter your name:Amir\n",
            "Amir\n"
          ]
        }
      ]
    },
    {
      "cell_type": "markdown",
      "source": [
        "### print can get any symbol"
      ],
      "metadata": {
        "id": "51Kmxa2mwfLM"
      }
    },
    {
      "cell_type": "code",
      "source": [
        "age = input(\"Enter your age:\")\n",
        "print(age)"
      ],
      "metadata": {
        "colab": {
          "base_uri": "https://localhost:8080/"
        },
        "id": "EtZaRN-YeTCW",
        "outputId": "76922003-ed54-49b9-c547-d240515dcdcc"
      },
      "execution_count": null,
      "outputs": [
        {
          "output_type": "stream",
          "name": "stdout",
          "text": [
            "Enter your age:22\n",
            "22\n"
          ]
        }
      ]
    },
    {
      "cell_type": "markdown",
      "source": [
        "### but in string format"
      ],
      "metadata": {
        "id": "QqZkGdInwpHE"
      }
    },
    {
      "cell_type": "code",
      "source": [
        "# input only read string format so if you want to use input\n",
        "# in other format you should cast it to that foramt\n",
        "# print(age + 5)\n",
        "print(type(age))\n",
        "age = int(age) # casting string to integer\n",
        "print(age + 5)"
      ],
      "metadata": {
        "colab": {
          "base_uri": "https://localhost:8080/"
        },
        "id": "w24D7102eYym",
        "outputId": "a851581c-787a-4f0e-eb34-a35f5d06dc68"
      },
      "execution_count": null,
      "outputs": [
        {
          "output_type": "stream",
          "name": "stdout",
          "text": [
            "<class 'str'>\n",
            "27\n"
          ]
        }
      ]
    },
    {
      "cell_type": "markdown",
      "source": [
        "### format string using f-string"
      ],
      "metadata": {
        "id": "SvNvkT8fwtXE"
      }
    },
    {
      "cell_type": "code",
      "source": [
        "name = \"Amir Hossein\"\n",
        "print(f\"My name is {name}\")"
      ],
      "metadata": {
        "id": "jTlL01EUfKMN",
        "colab": {
          "base_uri": "https://localhost:8080/"
        },
        "outputId": "fa3c6cf5-6639-402c-982c-3d3c773fcf20"
      },
      "execution_count": null,
      "outputs": [
        {
          "output_type": "stream",
          "name": "stdout",
          "text": [
            "My name is Amir Hossein\n"
          ]
        }
      ]
    },
    {
      "cell_type": "markdown",
      "source": [
        "### set precision for floating-point numbers"
      ],
      "metadata": {
        "id": "XueUZh3Nw0Ab"
      }
    },
    {
      "cell_type": "code",
      "source": [
        "float_num = 35.673325\n",
        "print(f\"set precision to 3 => {float_num:.3f}\")\n",
        "print(round(float_num,3))"
      ],
      "metadata": {
        "colab": {
          "base_uri": "https://localhost:8080/"
        },
        "id": "h8bAwgekvZ6F",
        "outputId": "e773ca68-0cae-4280-efee-964ade803433"
      },
      "execution_count": null,
      "outputs": [
        {
          "output_type": "stream",
          "name": "stdout",
          "text": [
            "set precision to 3 => 35.673\n",
            "35.673\n"
          ]
        }
      ]
    },
    {
      "cell_type": "markdown",
      "source": [
        "### Working with files"
      ],
      "metadata": {
        "id": "8rxATNLO4xbO"
      }
    },
    {
      "cell_type": "markdown",
      "source": [
        "| Mode | Description |\n",
        "|------|-------------|\n",
        "| `\"r\"` | Read mode (default). Opens a file for reading. Raises an error if the file does not exist. |\n",
        "| `\"w\"` | Write mode. Opens a file for writing. Overwrites the file if it exists or creates a new file if it doesn't. |\n",
        "| `\"a\"` | Append mode. Opens a file for appending. Adds data to the end of the file without overwriting it. Creates a new file if it doesn't exist. |\n",
        "| `\"b\"` | Binary mode. Opens a file in binary format (e.g., `\"rb\"` for reading binary data or `\"wb\"` for writing binary data). |\n",
        "| `\"+\"` | Read and write mode. Opens a file for both reading and writing (e.g., `\"r+\"` or `\"w+\"`). |"
      ],
      "metadata": {
        "id": "wFiqMTQL44G9"
      }
    },
    {
      "cell_type": "markdown",
      "source": [
        "#### read, write and appending for .txt files"
      ],
      "metadata": {
        "id": "P3o2ZBvC5AFt"
      }
    },
    {
      "cell_type": "code",
      "source": [
        "# Open a file in read mode\n",
        "with open(\"example.txt\", \"r\") as file:\n",
        "    content = file.read()  # Reads the entire file\n",
        "    print(\"File Content:\\n\", content)"
      ],
      "metadata": {
        "colab": {
          "base_uri": "https://localhost:8080/"
        },
        "id": "etzt7Vyi4_EV",
        "outputId": "f33c7181-111a-4df5-ea29-1a4510c19d82"
      },
      "execution_count": null,
      "outputs": [
        {
          "output_type": "stream",
          "name": "stdout",
          "text": [
            "File Content:\n",
            " Hello, World!\n",
            "This is a sample file.\n"
          ]
        }
      ]
    },
    {
      "cell_type": "code",
      "source": [
        "# Open a file in write mode\n",
        "with open(\"example.txt\", \"w\") as file:\n",
        "    file.write(\"Hello, World!\\n\")\n",
        "    file.write(\"This is a sample file.\")"
      ],
      "metadata": {
        "id": "jEoT3sAn5KlV"
      },
      "execution_count": null,
      "outputs": []
    },
    {
      "cell_type": "code",
      "source": [
        "# Open a file in append mode\n",
        "with open(\"example.txt\", \"a\") as file:\n",
        "    file.write(\"\\nThis line is appended.\")"
      ],
      "metadata": {
        "id": "JYzZTQXD5QXd"
      },
      "execution_count": null,
      "outputs": []
    },
    {
      "cell_type": "markdown",
      "source": [
        "#### Working with csv file"
      ],
      "metadata": {
        "id": "3IqX2ARq5faM"
      }
    },
    {
      "cell_type": "code",
      "source": [
        "# Reading a CSV file\n",
        "with open(\"data.csv\", \"r\") as file:\n",
        "    reader = csv.reader(file)\n",
        "    for row in reader:\n",
        "        print(row)  # Each row is a list of strings"
      ],
      "metadata": {
        "id": "u5sTOueU5h7c",
        "colab": {
          "base_uri": "https://localhost:8080/"
        },
        "outputId": "108c2193-f790-415c-daf2-925b17cc4523"
      },
      "execution_count": null,
      "outputs": [
        {
          "output_type": "stream",
          "name": "stdout",
          "text": [
            "['Name', 'Age', 'City']\n",
            "['Alice', '30', 'New York']\n",
            "['Bob', '25', 'Los Angeles']\n"
          ]
        }
      ]
    },
    {
      "cell_type": "code",
      "source": [
        "# Writing to a CSV file\n",
        "data = [\n",
        "    [\"Name\", \"Age\", \"City\"],\n",
        "    [\"Alice\", 30, \"New York\"],\n",
        "    [\"Bob\", 25, \"Los Angeles\"]\n",
        "]\n",
        "\n",
        "with open(\"data.csv\", \"w\", newline=\"\") as file:\n",
        "    writer = csv.writer(file)\n",
        "    writer.writerows(data)"
      ],
      "metadata": {
        "id": "zUDtsbNj5jpM"
      },
      "execution_count": null,
      "outputs": []
    },
    {
      "cell_type": "markdown",
      "source": [
        "#### working with json"
      ],
      "metadata": {
        "id": "NvI9rxNuT0_k"
      }
    },
    {
      "cell_type": "code",
      "source": [
        "# Reading a JSON file\n",
        "with open(\"data.json\", \"r\") as file:\n",
        "    data = json.load(file)  # Loads JSON data as a Python dictionary\n",
        "    print(\"JSON Data:\", data)"
      ],
      "metadata": {
        "colab": {
          "base_uri": "https://localhost:8080/"
        },
        "collapsed": true,
        "id": "cYRBlKEmT3N9",
        "outputId": "7bf41ee4-bdf7-4dac-9dbb-1363e3e21e66"
      },
      "execution_count": null,
      "outputs": [
        {
          "output_type": "stream",
          "name": "stdout",
          "text": [
            "JSON Data: {'name': 'Alice', 'age': 30, 'city': 'New York'}\n"
          ]
        }
      ]
    },
    {
      "cell_type": "code",
      "source": [
        "# Writing to a JSON file\n",
        "data = {\n",
        "    \"name\": \"Alice\",\n",
        "    \"age\": 30,\n",
        "    \"city\": \"New York\"\n",
        "}\n",
        "\n",
        "with open(\"data.json\", \"w\") as file:\n",
        "    json.dump(data, file, indent=4)  # Writes JSON data with indentation"
      ],
      "metadata": {
        "id": "ZzaHQrQsT5rt"
      },
      "execution_count": null,
      "outputs": []
    },
    {
      "cell_type": "markdown",
      "source": [
        "## Variable and data structure"
      ],
      "metadata": {
        "id": "UQ5qosvUZ-24"
      }
    },
    {
      "cell_type": "markdown",
      "source": [
        "### Type of variables in python\n",
        "*   Integer => int\n",
        "*   Floating-point => float\n",
        "*   Complex => complex\n",
        "*   String => str\n",
        "*   Boolean(True or False) => bool\n",
        "*   None Type => None"
      ],
      "metadata": {
        "id": "ZZz76vg-xCPz"
      }
    },
    {
      "cell_type": "code",
      "source": [
        "# Integer (int)\n",
        "age = 25\n",
        "print(\"Age:\", age, type(age))  # Output: Age: 25 <class 'int'>\n",
        "\n",
        "# Floating-point (float)\n",
        "height = 5.9\n",
        "print(\"Height:\", height, type(height))  # Output: Height: 5.9 <class 'float'>\n",
        "\n",
        "# Complex (complex)\n",
        "complex_number = 3 + 4j\n",
        "print(\"Complex Number:\", complex_number, type(complex_number))  # Output: Complex Number: (3+4j) <class 'complex'>\n",
        "\n",
        "# String (str)\n",
        "name = \"Alice\"\n",
        "print(\"Name:\", name, type(name))  # Output: Name: Alice <class 'str'>\n",
        "\n",
        "# Boolean (bool)\n",
        "is_student = True\n",
        "print(\"Is Student:\", is_student, type(is_student))  # Output: Is Student: True <class 'bool'>\n",
        "\n",
        "# None Type (None)\n",
        "result = None\n",
        "print(\"Result:\", result, type(result))  # Output: Result: None <class 'NoneType'>"
      ],
      "metadata": {
        "id": "1ePtCGpoadzw",
        "colab": {
          "base_uri": "https://localhost:8080/"
        },
        "outputId": "60b5fff1-a850-47fc-9be3-bbfb5de28ba7"
      },
      "execution_count": null,
      "outputs": [
        {
          "output_type": "stream",
          "name": "stdout",
          "text": [
            "Age: 25 <class 'int'>\n",
            "Height: 5.9 <class 'float'>\n",
            "Complex Number: (3+4j) <class 'complex'>\n",
            "Name: Alice <class 'str'>\n",
            "Is Student: True <class 'bool'>\n",
            "Result: None <class 'NoneType'>\n"
          ]
        }
      ]
    },
    {
      "cell_type": "markdown",
      "source": [
        "### Type of data structures\n",
        "\n",
        "\n",
        "*   Array => list\n",
        "*   Tuple => tuple\n",
        "*   Dictionary => dict\n",
        "*   Set => set (frozenset)\n",
        "*   range\n",
        "\n"
      ],
      "metadata": {
        "id": "bhO1AK1Qxpfk"
      }
    },
    {
      "cell_type": "markdown",
      "source": [
        "#### List"
      ],
      "metadata": {
        "id": "BXc6yWtB3soH"
      }
    },
    {
      "cell_type": "code",
      "source": [
        "# List\n",
        "fruits = [\"apple\", \"banana\", \"cherry\"]\n",
        "print(\"List:\", fruits, type(fruits))  # Output: List: ['apple', 'banana', 'cherry'] <class 'list'>\n",
        "\n",
        "# Modifying a list\n",
        "fruits.append(\"orange\")\n",
        "print(\"Updated List:\", fruits)  # Output: Updated List: ['apple', 'banana', 'cherry', 'orange']"
      ],
      "metadata": {
        "id": "arKniMKkysh6",
        "colab": {
          "base_uri": "https://localhost:8080/"
        },
        "outputId": "75ef2d94-0071-4dde-8de2-950cb4a57ae0"
      },
      "execution_count": null,
      "outputs": [
        {
          "output_type": "stream",
          "name": "stdout",
          "text": [
            "List: ['apple', 'banana', 'cherry'] <class 'list'>\n",
            "Updated List: ['apple', 'banana', 'cherry', 'orange']\n"
          ]
        }
      ]
    },
    {
      "cell_type": "markdown",
      "source": [
        "#### Methods for List"
      ],
      "metadata": {
        "id": "AH6FeTqlWWis"
      }
    },
    {
      "cell_type": "code",
      "source": [
        "l = list()\n",
        "# Create a list\n",
        "my_list = [1, 2, 3, 4]\n",
        "print(my_list)\n",
        "# Add an item\n",
        "my_list.append(5)  # [1, 2, 3, 4, 5]\n",
        "print(f\"Add an item {my_list}\")\n",
        "# Insert an item at a specific index\n",
        "my_list.insert(2, 10)  # [1, 2, 10, 3, 4, 5]\n",
        "print(f\"Insert an item at a specific index {my_list}\")\n",
        "# Remove an item by value\n",
        "my_list.remove(10)  # [1, 2, 3, 4, 5]\n",
        "print(f\"Remove an item by value {my_list}\")\n",
        "# Remove an item by index\n",
        "popped_item = my_list.pop(1)  # [1, 3, 4, 5], popped_item = 2\n",
        "print(f\"Remove an item by index {my_list}\")\n",
        "# Find the index of an item\n",
        "index = my_list.index(3)  # index = 1\n",
        "print(f\"Find the index of an item {my_list}\")\n",
        "# Count occurrences of an item\n",
        "count = my_list.count(4)  # count = 1\n",
        "print(f\"Count occurrences of an item {my_list}\")\n",
        "# Sort the list\n",
        "my_list.sort()  # [1, 3, 4, 5]\n",
        "print(f\"Sort the list {my_list}\")\n",
        "# Reverse the list\n",
        "my_list.reverse()  # [5, 4, 3, 1]\n",
        "print(f\"Reverse the list {my_list}\")\n",
        "# Clear the list\n",
        "my_list.clear()  # []\n",
        "print(f\"Clear the list {my_list}\")"
      ],
      "metadata": {
        "colab": {
          "base_uri": "https://localhost:8080/"
        },
        "id": "TUiKwA5HWpG6",
        "outputId": "648da4ff-a0d2-48bb-f471-bb3bb5704e21"
      },
      "execution_count": null,
      "outputs": [
        {
          "output_type": "stream",
          "name": "stdout",
          "text": [
            "[1, 2, 3, 4]\n",
            "Add an item [1, 2, 3, 4, 5]\n",
            "Insert an item at a specific index [1, 2, 10, 3, 4, 5]\n",
            "Remove an item by value [1, 2, 3, 4, 5]\n",
            "Remove an item by index [1, 3, 4, 5]\n",
            "Find the index of an item [1, 3, 4, 5]\n",
            "Count occurrences of an item [1, 3, 4, 5]\n",
            "Sort the list [1, 3, 4, 5]\n",
            "Reverse the list [5, 4, 3, 1]\n",
            "Clear the list []\n"
          ]
        }
      ]
    },
    {
      "cell_type": "markdown",
      "source": [
        "#### Tuple"
      ],
      "metadata": {
        "id": "avrzcJ5S3vye"
      }
    },
    {
      "cell_type": "code",
      "source": [
        "# Tuple\n",
        "colors = (\"red\", \"green\", \"blue\")\n",
        "print(\"Tuple:\", colors, type(colors))  # Output: Tuple: ('red', 'green', 'blue') <class 'tuple'>\n",
        "\n",
        "# Accessing elements\n",
        "print(\"First Color:\", colors[0])  # Output: First Color: red"
      ],
      "metadata": {
        "id": "bdwCFEmZ3zTn",
        "colab": {
          "base_uri": "https://localhost:8080/"
        },
        "outputId": "bbb17199-b30d-4bcd-93bb-f33317406787"
      },
      "execution_count": null,
      "outputs": [
        {
          "output_type": "stream",
          "name": "stdout",
          "text": [
            "Tuple: ('red', 'green', 'blue') <class 'tuple'>\n",
            "First Color: red\n"
          ]
        }
      ]
    },
    {
      "cell_type": "markdown",
      "source": [
        "#### Methods for Tuple"
      ],
      "metadata": {
        "id": "-qc3QWgDWdT7"
      }
    },
    {
      "cell_type": "code",
      "source": [
        "# Create a tuple\n",
        "my_tuple = (1, 2, 3, 4)\n",
        "print(my_tuple)\n",
        "# Access an item\n",
        "item = my_tuple[2]  # item = 3\n",
        "print(f\"Access an item {my_tuple}\")\n",
        "# Find the index of an item\n",
        "index = my_tuple.index(3)  # index = 2\n",
        "print(f\"Find the index of an item {my_tuple}\")\n",
        "# Count occurrences of an item\n",
        "count = my_tuple.count(4)  # count = 1\n",
        "print(f\"Count occurrences of an item {my_tuple}\")\n",
        "# Concatenate tuples\n",
        "new_tuple = my_tuple + (5, 6)  # (1, 2, 3, 4, 5, 6)\n",
        "print(f\"Concatenate tuples {my_tuple}\")"
      ],
      "metadata": {
        "id": "JFNS-4zfXBKs",
        "colab": {
          "base_uri": "https://localhost:8080/"
        },
        "outputId": "da7d52cf-bb13-4daf-a3dc-0cab5fad6082"
      },
      "execution_count": null,
      "outputs": [
        {
          "output_type": "stream",
          "name": "stdout",
          "text": [
            "(1, 2, 3, 4)\n",
            "Access an item (1, 2, 3, 4)\n",
            "Find the index of an item (1, 2, 3, 4)\n",
            "Count occurrences of an item (1, 2, 3, 4)\n",
            "Concatenate tuples (1, 2, 3, 4)\n"
          ]
        }
      ]
    },
    {
      "cell_type": "markdown",
      "source": [
        "#### Dictionary"
      ],
      "metadata": {
        "id": "URN8xvwd30c2"
      }
    },
    {
      "cell_type": "code",
      "source": [
        "# Dictionary\n",
        "person = {\"name\": \"Alice\", \"age\": 30, \"city\": \"New York\"}\n",
        "print(\"Dictionary:\", person, type(person))  # Output: Dictionary: {'name': 'Alice', 'age': 30, 'city': 'New York'} <class 'dict'>\n",
        "\n",
        "# Accessing values\n",
        "print(\"Name:\", person[\"name\"])  # Output: Name: Alice\n",
        "\n",
        "# Adding a new key-value pair\n",
        "person[\"email\"] = \"alice@example.com\"\n",
        "print(\"Updated Dictionary:\", person)  # Output: Updated Dictionary: {'name': 'Alice', 'age': 30, 'city': 'New York', 'email': 'alice@example.com'}"
      ],
      "metadata": {
        "id": "7JVXJRIg337u",
        "colab": {
          "base_uri": "https://localhost:8080/"
        },
        "outputId": "35cb87e5-9c66-4885-a9ee-183315d1caa4"
      },
      "execution_count": null,
      "outputs": [
        {
          "output_type": "stream",
          "name": "stdout",
          "text": [
            "Dictionary: {'name': 'Alice', 'age': 30, 'city': 'New York'} <class 'dict'>\n",
            "Name: Alice\n",
            "Updated Dictionary: {'name': 'Alice', 'age': 30, 'city': 'New York', 'email': 'alice@example.com'}\n"
          ]
        }
      ]
    },
    {
      "cell_type": "markdown",
      "source": [
        "#### Methods for Dictionary"
      ],
      "metadata": {
        "id": "UL7QJfyxWhgr"
      }
    },
    {
      "cell_type": "code",
      "source": [
        "# Create a dictionary\n",
        "my_dict = {\"name\": \"Alice\", \"age\": 25}\n",
        "print(my_dict)\n",
        "# Add or update a key-value pair\n",
        "my_dict[\"city\"] = \"New York\"  # {\"name\": \"Alice\", \"age\": 25, \"city\": \"New York\"}\n",
        "print(f\"Add or update a key-value pair {my_dict}\")\n",
        "# Remove a key-value pair\n",
        "del my_dict[\"age\"]  # {\"name\": \"Alice\", \"city\": \"New York\"}\n",
        "print(f\"Remove a key-value pair {my_dict}\")\n",
        "# Get a value by key\n",
        "name = my_dict[\"name\"]  # name = \"Alice\"\n",
        "print(f\"Get a value by key {my_dict}\")\n",
        "# Check if a key exists\n",
        "has_age = \"age\" in my_dict  # has_age = False\n",
        "print(f\"Check if a key exists {my_dict}\")\n",
        "# Get all keys\n",
        "keys = my_dict.keys()  # dict_keys(['name', 'city'])\n",
        "print(f\"Get all keys {my_dict}\")\n",
        "# Get all values\n",
        "values = my_dict.values()  # dict_values(['Alice', 'New York'])\n",
        "print(f\"Get all values {my_dict}\")\n",
        "# Get all key-value pairs\n",
        "items = my_dict.items()  # dict_items([('name', 'Alice'), ('city', 'New York')])\n",
        "print(f\"Get all key-value pairs {my_dict}\")\n",
        "# Clear the dictionary\n",
        "my_dict.clear()  # {}\n",
        "print(f\"Clear the dictionary {my_dict}\")"
      ],
      "metadata": {
        "id": "_0Z93OF_XCIi",
        "colab": {
          "base_uri": "https://localhost:8080/"
        },
        "outputId": "67a85184-db0d-456c-9b15-a1c2cc5c49c2"
      },
      "execution_count": null,
      "outputs": [
        {
          "output_type": "stream",
          "name": "stdout",
          "text": [
            "{'name': 'Alice', 'age': 25}\n",
            "Add or update a key-value pair {'name': 'Alice', 'age': 25, 'city': 'New York'}\n",
            "Remove a key-value pair {'name': 'Alice', 'city': 'New York'}\n",
            "Get a value by key {'name': 'Alice', 'city': 'New York'}\n",
            "Check if a key exists {'name': 'Alice', 'city': 'New York'}\n",
            "Get all keys {'name': 'Alice', 'city': 'New York'}\n",
            "Get all values {'name': 'Alice', 'city': 'New York'}\n",
            "Get all key-value pairs {'name': 'Alice', 'city': 'New York'}\n",
            "Clear the dictionary {}\n"
          ]
        }
      ]
    },
    {
      "cell_type": "markdown",
      "source": [
        "#### Set"
      ],
      "metadata": {
        "id": "t9muA8RC36d-"
      }
    },
    {
      "cell_type": "code",
      "source": [
        "# Set\n",
        "unique_numbers = {1, 2, 3, 4, 3, 2}\n",
        "print(\"Set:\", unique_numbers, type(unique_numbers))  # Output: Set: {1, 2, 3, 4} <class 'set'>\n",
        "\n",
        "# Adding an element\n",
        "unique_numbers.add(5)\n",
        "print(\"Updated Set:\", unique_numbers)  # Output: Updated Set: {1, 2, 3, 4, 5}"
      ],
      "metadata": {
        "id": "wL6IuINB38s1",
        "colab": {
          "base_uri": "https://localhost:8080/"
        },
        "outputId": "5474d101-7d73-435c-a44b-343051c7032a"
      },
      "execution_count": null,
      "outputs": [
        {
          "output_type": "stream",
          "name": "stdout",
          "text": [
            "Set: {1, 2, 3, 4} <class 'set'>\n",
            "Updated Set: {1, 2, 3, 4, 5}\n"
          ]
        }
      ]
    },
    {
      "cell_type": "markdown",
      "source": [
        "#### Methods for Set"
      ],
      "metadata": {
        "id": "-karRFy4Wjli"
      }
    },
    {
      "cell_type": "code",
      "source": [
        "# Create a set\n",
        "my_set = {1, 2, 3, 4}\n",
        "print(my_set)\n",
        "# Add an item\n",
        "my_set.add(5)  # {1, 2, 3, 4, 5}\n",
        "print(f\"Add an item {my_set}\")\n",
        "# Remove an item\n",
        "my_set.remove(3)  # {1, 2, 4, 5}\n",
        "print(f\"Remove an item {my_set}\")\n",
        "# Discard an item (no error if item doesn't exist)\n",
        "my_set.discard(10)  # {1, 2, 4, 5}\n",
        "print(f\"Discard an item {my_set}\")\n",
        "# Pop a random item\n",
        "popped_item = my_set.pop()  # popped_item = 1, {2, 4, 5}\n",
        "print(f\"Pop a random item {my_set}\")\n",
        "# Check if an item exists\n",
        "has_2 = 2 in my_set  # has_2 = True\n",
        "print(f\"Check if an item exists {has_2}\")\n",
        "# Union of two sets\n",
        "union = my_set.union({5, 6, 7})  # {2, 4, 5, 6, 7}\n",
        "print(f\"Union of two sets {union}\")\n",
        "# Intersection of two sets\n",
        "intersection = my_set.intersection({4, 5, 6})  # {4, 5}\n",
        "print(f\"Union of two sets {intersection}\")\n",
        "# Difference of two sets\n",
        "difference = my_set.difference({5, 6})  # {2, 4}\n",
        "print(f\"Difference of two set {difference}\")\n",
        "# Clear the set\n",
        "my_set.clear()  # set()"
      ],
      "metadata": {
        "id": "Qfy5QVNdXECd",
        "colab": {
          "base_uri": "https://localhost:8080/"
        },
        "outputId": "3505f228-3cb8-4734-ad33-006e70409644"
      },
      "execution_count": null,
      "outputs": [
        {
          "output_type": "stream",
          "name": "stdout",
          "text": [
            "{1, 2, 3, 4}\n",
            "Add an item {1, 2, 3, 4, 5}\n",
            "Remove an item {1, 2, 4, 5}\n",
            "Discard an item {1, 2, 4, 5}\n",
            "Pop a random item {2, 4, 5}\n",
            "Check if an item exists True\n",
            "Union of two sets {2, 4, 5, 6, 7}\n",
            "Union of two sets {4, 5}\n",
            "Difference of two set {2, 4}\n"
          ]
        }
      ]
    },
    {
      "cell_type": "markdown",
      "source": [
        "#### Frozenset"
      ],
      "metadata": {
        "id": "PH8QTQhM39gG"
      }
    },
    {
      "cell_type": "code",
      "source": [
        "# Frozenset\n",
        "frozen_numbers = frozenset({1, 2, 3, 4})\n",
        "print(\"Frozenset:\", frozen_numbers, type(frozen_numbers))  # Output: Frozenset: frozenset({1, 2, 3, 4}) <class 'frozenset'>"
      ],
      "metadata": {
        "id": "hSt2gfpO397W",
        "colab": {
          "base_uri": "https://localhost:8080/"
        },
        "outputId": "99fb1173-ed4a-4f9e-a8bd-5cca41a2dc0c"
      },
      "execution_count": null,
      "outputs": [
        {
          "output_type": "stream",
          "name": "stdout",
          "text": [
            "Frozenset: frozenset({1, 2, 3, 4}) <class 'frozenset'>\n"
          ]
        }
      ]
    },
    {
      "cell_type": "markdown",
      "source": [
        "#### range"
      ],
      "metadata": {
        "id": "_65WgJ8B4FG2"
      }
    },
    {
      "cell_type": "code",
      "source": [
        "# Range\n",
        "numbers = range(1, 6, 2)  # Generates numbers from 1 to 5\n",
        "print(\"Range:\", numbers, type(numbers))  # Output: Range: range(1, 6) <class 'range'>\n",
        "\n",
        "# Converting range to a list\n",
        "print(\"Range as List:\", list(numbers))  # Output: Range as List: [1, 2, 3, 4, 5]"
      ],
      "metadata": {
        "id": "0jNx-_Tb4Eo2",
        "colab": {
          "base_uri": "https://localhost:8080/"
        },
        "outputId": "086d13ff-5aa2-483f-e060-3d49dbf455bf"
      },
      "execution_count": null,
      "outputs": [
        {
          "output_type": "stream",
          "name": "stdout",
          "text": [
            "Range: range(1, 6, 2) <class 'range'>\n",
            "Range as List: [1, 3, 5]\n"
          ]
        }
      ]
    },
    {
      "cell_type": "markdown",
      "source": [
        "#### summary"
      ],
      "metadata": {
        "id": "viBt706sWyLb"
      }
    },
    {
      "cell_type": "markdown",
      "source": [
        "| Data Structure | Ordered | Mutable | Duplicates Allowed | Example Use Case |\n",
        "|----------------|---------|---------|---------------------|------------------|\n",
        "| **List**       | Yes     | Yes     | Yes                 | Storing a collection of items that may change. |\n",
        "| **Tuple**      | Yes     | No      | Yes                 | Storing a collection of items that should not change. |\n",
        "| **Dictionary** | No      | Yes     | Keys: No, Values: Yes | Storing key-value pairs (e.g., user data). |\n",
        "| **Set**        | No      | Yes     | No                  | Removing duplicates or performing set operations. |\n",
        "| **Frozenset**  | No      | No      | No                  | Immutable set for fixed collections. |\n",
        "| **Range**      | Yes     | No      | N/A                 | Iterating over a sequence of numbers. |"
      ],
      "metadata": {
        "id": "-QbbYanO4PaF"
      }
    },
    {
      "cell_type": "markdown",
      "source": [
        "#### summary table of methods"
      ],
      "metadata": {
        "id": "EG14t5XIXP1L"
      }
    },
    {
      "cell_type": "markdown",
      "source": [
        "| **Data Structure** | **Methods**                                                                 | **Description**                                                                 |\n",
        "|--------------------|-----------------------------------------------------------------------------|---------------------------------------------------------------------------------|\n",
        "| **List**           | `append(item)`, `insert(index, item)`, `remove(item)`, `pop(index)`         | Add, insert, remove, or pop items.                                              |\n",
        "|                    | `index(item)`, `count(item)`, `sort()`, `reverse()`, `clear()`              | Find index, count occurrences, sort, reverse, or clear the list.                |\n",
        "| **Tuple**          | `index(item)`, `count(item)`                                                | Find index or count occurrences of an item.                                     |\n",
        "|                    | Concatenation (`+`)                                                         | Combine two tuples.                                                             |\n",
        "| **Dictionary**     | `dict[key] = value`, `del dict[key]`, `dict.get(key)`, `dict.keys()`        | Add, remove, or access key-value pairs. Get keys, values, or items.             |\n",
        "|                    | `dict.values()`, `dict.items()`, `dict.clear()`                             | Get values, key-value pairs, or clear the dictionary.                           |\n",
        "| **Set**            | `add(item)`, `remove(item)`, `discard(item)`, `pop()`, `clear()`            | Add, remove, discard, pop, or clear items.                                      |\n",
        "|                    | `union(set)`, `intersection(set)`, `difference(set)`                        | Perform set operations like union, intersection, or difference.                 |"
      ],
      "metadata": {
        "id": "A6z5Ng9LXItK"
      }
    },
    {
      "cell_type": "markdown",
      "source": [
        "## Operators"
      ],
      "metadata": {
        "id": "LuX0diJ3fg79"
      }
    },
    {
      "cell_type": "markdown",
      "source": [
        "| Category          | Operator | Description                          | Example                     |\n",
        "|-------------------|----------|--------------------------------------|-----------------------------|\n",
        "| **Arithmetic**    | `+`      | Addition                             | `3 + 2 = 5`                 |\n",
        "|                   | `-`      | Subtraction                          | `3 - 2 = 1`                 |\n",
        "|                   | `*`      | Multiplication                       | `3 * 2 = 6`                 |\n",
        "|                   | `/`      | Division                             | `3 / 2 = 1.5`               |\n",
        "|                   | `%`      | Modulus (remainder)                  | `3 % 2 = 1`                 |\n",
        "|                   | `**`     | Exponentiation                       | `3 ** 2 = 9`                |\n",
        "|                   | `//`     | Floor division                       | `3 // 2 = 1`                |\n",
        "| **Comparison**    | `==`     | Equal to                             | `3 == 2 → False`            |\n",
        "|                   | `!=`     | Not equal to                         | `3 != 2 → True`             |\n",
        "|                   | `>`      | Greater than                         | `3 > 2 → True`              |\n",
        "|                   | `<`      | Less than                            | `3 < 2 → False`             |\n",
        "|                   | `>=`     | Greater than or equal to             | `3 >= 2 → True`             |\n",
        "|                   | `<=`     | Less than or equal to                | `3 <= 2 → False`            |\n",
        "| **Logical**       | `and`    | True if both conditions are true     | `(3 > 2) and (5 < 10) → True`|\n",
        "|                   | `or`     | True if at least one condition is true | `(3 > 2) or (5 > 10) → True`|\n",
        "|                   | `not`    | Reverses the result                  | `not (3 > 2) → False`       |\n",
        "| **Assignment**    | `=`      | Assign                               | `x = 5`                     |\n",
        "|                   | `+=`     | Add and assign                       | `x += 3 → x = x + 3`        |\n",
        "|                   | `-=`     | Subtract and assign                  | `x -= 3 → x = x - 3`        |\n",
        "|                   | `*=`     | Multiply and assign                  | `x *= 3 → x = x * 3`        |\n",
        "|                   | `/=`     | Divide and assign                    | `x /= 3 → x = x / 3`        |\n",
        "|                   | `%=`     | Modulus and assign                   | `x %= 3 → x = x % 3`        |\n",
        "|                   | `**=`    | Exponent and assign                  | `x **= 3 → x = x ** 3`      |\n",
        "|                   | `//=`    | Floor divide and assign              | `x //= 3 → x = x // 3`      |\n",
        "| **Membership**    | `in`     | True if value is found               | `\"a\" in \"apple\" → True`     |\n",
        "|                   | `not in` | True if value is not found           | `\"b\" not in \"apple\" → True` |\n",
        "| **Identity**      | `is`     | True if both objects are the same    | `x is y`                    |\n",
        "|                   | `is not` | True if both objects are not the same | `x is not y`              |"
      ],
      "metadata": {
        "id": "5gExm_VXUg-1"
      }
    },
    {
      "cell_type": "markdown",
      "source": [
        "### Arithmetic"
      ],
      "metadata": {
        "id": "q7AC0rJTUnhU"
      }
    },
    {
      "cell_type": "code",
      "source": [
        "a = 10\n",
        "b = 3\n",
        "\n",
        "print(\"Addition:\", a + b)          # Output: 13\n",
        "print(\"Subtraction:\", a - b)       # Output: 7\n",
        "print(\"Multiplication:\", a * b)   # Output: 30\n",
        "print(\"Division:\", a / b)          # Output: 3.333...\n",
        "print(\"Modulus:\", a % b)           # Output: 1\n",
        "print(\"Exponentiation:\", a ** b)  # Output: 1000\n",
        "print(\"Floor Division:\", a // b)  # Output: 3"
      ],
      "metadata": {
        "colab": {
          "base_uri": "https://localhost:8080/"
        },
        "id": "gkZlZGlwUnJ8",
        "outputId": "f395b1b6-4d94-4157-96d6-fdfbf2194706"
      },
      "execution_count": null,
      "outputs": [
        {
          "output_type": "stream",
          "name": "stdout",
          "text": [
            "Addition: 13\n",
            "Subtraction: 7\n",
            "Multiplication: 30\n",
            "Division: 3.3333333333333335\n",
            "Modulus: 1\n",
            "Exponentiation: 1000\n",
            "Floor Division: 3\n"
          ]
        }
      ]
    },
    {
      "cell_type": "markdown",
      "source": [
        "### Comparison"
      ],
      "metadata": {
        "id": "5mFg6nkvUwIN"
      }
    },
    {
      "cell_type": "code",
      "source": [
        "x = 5\n",
        "y = 10\n",
        "\n",
        "print(\"Equal to:\", x == y)          # Output: False\n",
        "print(\"Not equal to:\", x != y)      # Output: True\n",
        "print(\"Greater than:\", x > y)       # Output: False\n",
        "print(\"Less than:\", x < y)          # Output: True\n",
        "print(\"Greater than or equal to:\", x >= y)  # Output: False\n",
        "print(\"Less than or equal to:\", x <= y)      # Output: True"
      ],
      "metadata": {
        "id": "hbtgX4QPfgi9",
        "colab": {
          "base_uri": "https://localhost:8080/"
        },
        "outputId": "b0463501-c230-4397-9f49-4d79874488e3"
      },
      "execution_count": null,
      "outputs": [
        {
          "output_type": "stream",
          "name": "stdout",
          "text": [
            "Equal to: False\n",
            "Not equal to: True\n",
            "Greater than: False\n",
            "Less than: True\n",
            "Greater than or equal to: False\n",
            "Less than or equal to: True\n"
          ]
        }
      ]
    },
    {
      "cell_type": "markdown",
      "source": [
        "### Logical"
      ],
      "metadata": {
        "id": "RbnNL_JCUzw1"
      }
    },
    {
      "cell_type": "code",
      "source": [
        "a = True\n",
        "b = False\n",
        "\n",
        "print(\"AND:\", a and b)  # Output: False\n",
        "print(\"OR:\", a or b)    # Output: True\n",
        "print(\"NOT:\", not a)    # Output: False"
      ],
      "metadata": {
        "colab": {
          "base_uri": "https://localhost:8080/"
        },
        "id": "7JbLKnlXU0R0",
        "outputId": "3e8aa0a9-1e9a-41f1-d18d-11e4797d295f"
      },
      "execution_count": null,
      "outputs": [
        {
          "output_type": "stream",
          "name": "stdout",
          "text": [
            "AND: False\n",
            "OR: True\n",
            "NOT: False\n"
          ]
        }
      ]
    },
    {
      "cell_type": "markdown",
      "source": [
        "### Assignment"
      ],
      "metadata": {
        "id": "M2TD18zfU4nV"
      }
    },
    {
      "cell_type": "code",
      "source": [
        "x = 10\n",
        "x += 5  # Equivalent to x = x + 5\n",
        "print(\"x += 5:\", x)  # Output: 15"
      ],
      "metadata": {
        "id": "ZfduJwJCU5Ck"
      },
      "execution_count": null,
      "outputs": []
    },
    {
      "cell_type": "markdown",
      "source": [
        "### Membership"
      ],
      "metadata": {
        "id": "7EdFi2vIVEBc"
      }
    },
    {
      "cell_type": "code",
      "source": [
        "fruits = [\"apple\", \"banana\", \"cherry\"]\n",
        "print(\"banana in fruits:\", \"banana\" in fruits)        # Output: True\n",
        "print(\"mango not in fruits:\", \"mango\" not in fruits)  # Output: True"
      ],
      "metadata": {
        "colab": {
          "base_uri": "https://localhost:8080/"
        },
        "id": "P35VmK7zVH6h",
        "outputId": "2df3e672-19d0-4172-e6da-baa191e3fb65"
      },
      "execution_count": null,
      "outputs": [
        {
          "output_type": "stream",
          "name": "stdout",
          "text": [
            "banana in fruits: True\n",
            "mango not in fruits: True\n"
          ]
        }
      ]
    },
    {
      "cell_type": "markdown",
      "source": [
        "### Identity"
      ],
      "metadata": {
        "id": "LhtOOM11Vaa0"
      }
    },
    {
      "cell_type": "code",
      "source": [
        "x = 5\n",
        "y = 5\n",
        "z = [1, 2, 3]\n",
        "\n",
        "print(\"x is y:\", x is y)          # Output: True (same value, same memory location for small integers)\n",
        "print(\"x is not z:\", x is not z)  # Output: True"
      ],
      "metadata": {
        "colab": {
          "base_uri": "https://localhost:8080/"
        },
        "id": "S2XAuxdkV6dN",
        "outputId": "f2179d84-1283-4860-b603-4f049a04fb6c"
      },
      "execution_count": null,
      "outputs": [
        {
          "output_type": "stream",
          "name": "stdout",
          "text": [
            "x is y: True\n",
            "x is not z: True\n"
          ]
        }
      ]
    },
    {
      "cell_type": "markdown",
      "source": [
        "| **Aspect**       | **`==`**                          | **`is`**                          |\n",
        "|-------------------|-----------------------------------|-----------------------------------|\n",
        "| **Purpose**       | Compares **values** of objects.   | Compares **memory locations** of objects. |\n",
        "| **Returns `True`**| If values are equal.             | If both objects are the same (same memory location). |\n",
        "| **Use Case**      | Checking if two objects have the same content. | Checking if two variables reference the same object. |"
      ],
      "metadata": {
        "id": "8m03bT0yXslS"
      }
    },
    {
      "cell_type": "code",
      "source": [
        "li1 = [1,2,3]\n",
        "li2 = [1,2,3]\n",
        "print(li1 == li2)"
      ],
      "metadata": {
        "colab": {
          "base_uri": "https://localhost:8080/"
        },
        "id": "nBsRzcvEW4fj",
        "outputId": "5fec3aaf-6fa7-424a-ed31-15faf48c5d1f"
      },
      "execution_count": null,
      "outputs": [
        {
          "output_type": "stream",
          "name": "stdout",
          "text": [
            "True\n"
          ]
        }
      ]
    },
    {
      "cell_type": "code",
      "source": [
        "print(li1 is li2)"
      ],
      "metadata": {
        "colab": {
          "base_uri": "https://localhost:8080/"
        },
        "id": "NrpuN4tCW_wD",
        "outputId": "c6593944-83ab-4ba9-ddfd-d7d9ed303ddb"
      },
      "execution_count": null,
      "outputs": [
        {
          "output_type": "stream",
          "name": "stdout",
          "text": [
            "False\n"
          ]
        }
      ]
    },
    {
      "cell_type": "markdown",
      "source": [
        "\n",
        "#### Special Case\n",
        "```markdown\n",
        "# Small integers and strings\n",
        "a = 5\n",
        "b = 5\n",
        "print(a is b)  # Output: True (small integers are reused)\n",
        "\n",
        "c = \"hello\"\n",
        "d = \"hello\"\n",
        "print(c is d)  # Output: True (short strings are reused)\n",
        "\n",
        "e = [1, 2, 3]\n",
        "f = [1, 2, 3]\n",
        "print(e is f)  # Output: False (lists are not reused)\n"
      ],
      "metadata": {
        "id": "aRnj2pJ6Xbey"
      }
    },
    {
      "cell_type": "markdown",
      "source": [
        "## Control Statment"
      ],
      "metadata": {
        "id": "dOEMMnw7aeQw"
      }
    },
    {
      "cell_type": "markdown",
      "source": [
        "### if, elif and else"
      ],
      "metadata": {
        "id": "HvhNAImcZLcK"
      }
    },
    {
      "cell_type": "code",
      "source": [
        "age = 18\n",
        "if age < 18:\n",
        "    print(\"You are a minor.\")\n",
        "elif age == 18:\n",
        "    print(\"You just became an adult!\")\n",
        "else:\n",
        "    print(\"You are an adult.\")"
      ],
      "metadata": {
        "id": "rxmTH6BKahoY",
        "colab": {
          "base_uri": "https://localhost:8080/"
        },
        "outputId": "09477cb5-9ba3-4934-d6cf-40c96c972bff"
      },
      "execution_count": null,
      "outputs": [
        {
          "output_type": "stream",
          "name": "stdout",
          "text": [
            "You just became an adult!\n"
          ]
        }
      ]
    },
    {
      "cell_type": "markdown",
      "source": [
        "### for loop"
      ],
      "metadata": {
        "id": "-a8sTM4wZNuq"
      }
    },
    {
      "cell_type": "code",
      "source": [
        "fruits = [\"apple\", \"banana\", \"cherry\"]\n",
        "for fruit in fruits:\n",
        "    print(fruit)\n",
        "for i in range(10):\n",
        "  print(i)"
      ],
      "metadata": {
        "colab": {
          "base_uri": "https://localhost:8080/"
        },
        "id": "ogbqCAvaZUEJ",
        "outputId": "603f1c67-4756-43fb-80c0-86ed932c1bc2"
      },
      "execution_count": null,
      "outputs": [
        {
          "output_type": "stream",
          "name": "stdout",
          "text": [
            "apple\n",
            "banana\n",
            "cherry\n",
            "0\n",
            "1\n",
            "2\n",
            "3\n",
            "4\n",
            "5\n",
            "6\n",
            "7\n",
            "8\n",
            "9\n"
          ]
        }
      ]
    },
    {
      "cell_type": "markdown",
      "source": [
        "### while loop"
      ],
      "metadata": {
        "id": "HJtIRLpsZVIB"
      }
    },
    {
      "cell_type": "code",
      "source": [
        "age = 8\n",
        "while age < 18:\n",
        "  print(\"young\")\n",
        "  age += 1\n",
        "print(\"adult\")"
      ],
      "metadata": {
        "id": "NiaojK7jZYwS",
        "colab": {
          "base_uri": "https://localhost:8080/"
        },
        "outputId": "9cf2a501-fe19-4dfd-dc66-3bd16556087c"
      },
      "execution_count": null,
      "outputs": [
        {
          "output_type": "stream",
          "name": "stdout",
          "text": [
            "young\n",
            "young\n",
            "young\n",
            "young\n",
            "young\n",
            "young\n",
            "young\n",
            "young\n",
            "young\n",
            "young\n",
            "adult\n"
          ]
        }
      ]
    },
    {
      "cell_type": "markdown",
      "source": [
        "### difference between while and for"
      ],
      "metadata": {
        "id": "y4x3ghiFZ92I"
      }
    },
    {
      "cell_type": "markdown",
      "source": [
        "\n",
        "---\n",
        "\n",
        "#### **When to Use Which Loop**\n",
        "- Use a **`for` loop** when:\n",
        "  - You know the number of iterations in advance.\n",
        "  - You want to iterate over a collection (e.g., list, string, dictionary).\n",
        "  - Example: Printing all elements in a list.\n",
        "\n",
        "- Use a **`while` loop** when:\n",
        "  - You don't know the number of iterations in advance.\n",
        "  - You need to repeat until a condition is met.\n",
        "  - Example: Asking for user input until a valid response is given.\n",
        "\n",
        "---\n"
      ],
      "metadata": {
        "id": "OxlxXmEqaBTw"
      }
    },
    {
      "cell_type": "markdown",
      "source": [
        "### control flow statment"
      ],
      "metadata": {
        "id": "_a_5YbudZb0h"
      }
    },
    {
      "cell_type": "markdown",
      "source": [
        "#### break"
      ],
      "metadata": {
        "id": "8mcbUNH4ZfEp"
      }
    },
    {
      "cell_type": "code",
      "source": [
        "for i in range(10):\n",
        "    if i == 5:\n",
        "        break\n",
        "    print(i)  # Output: 0 1 2 3 4"
      ],
      "metadata": {
        "id": "7fBulTV5ZeIK"
      },
      "execution_count": null,
      "outputs": []
    },
    {
      "cell_type": "markdown",
      "source": [
        "#### continue"
      ],
      "metadata": {
        "id": "BB8RG3luZjWp"
      }
    },
    {
      "cell_type": "code",
      "source": [
        "for i in range(5):\n",
        "    if i == 2:\n",
        "        continue\n",
        "    print(i)  # Output: 0 1 3 4"
      ],
      "metadata": {
        "id": "rPqmx5BpZeqp"
      },
      "execution_count": null,
      "outputs": []
    },
    {
      "cell_type": "markdown",
      "source": [
        "#### pass"
      ],
      "metadata": {
        "id": "n9TKWLtgZlwB"
      }
    },
    {
      "cell_type": "code",
      "source": [
        "for i in range(3):\n",
        "    if i == 1:\n",
        "        pass  # Placeholder\n",
        "    print(i)  # Output: 0 1 2"
      ],
      "metadata": {
        "id": "AhgEt_4oZnGg"
      },
      "execution_count": null,
      "outputs": []
    },
    {
      "cell_type": "markdown",
      "source": [
        "### summary"
      ],
      "metadata": {
        "id": "SlGEBVyfZswI"
      }
    },
    {
      "cell_type": "markdown",
      "source": [
        "| **Control Statement** | **Description**                                                                 | **Example**                                                                 |\n",
        "|-----------------------|---------------------------------------------------------------------------------|-----------------------------------------------------------------------------|\n",
        "| **Conditional**       |                                                                                 |                                                                             |\n",
        "| `if`                  | Executes code if a condition is `True`.                                         | `if x > 10: print(\"x is greater than 10\")`                                  |\n",
        "| `elif`                | Executes code if the previous condition is `False` and this condition is `True`.| `elif x == 10: print(\"x is 10\")`                                            |\n",
        "| `else`                | Executes code if all previous conditions are `False`.                           | `else: print(\"x is less than 10\")`                                          |\n",
        "| **Looping**           |                                                                                 |                                                                             |\n",
        "| `for`                 | Iterates over a sequence (e.g., list, string, range).                          | `for i in range(3): print(i)`                                               |\n",
        "| `while`               | Repeats code as long as a condition is `True`.                                  | `while x < 5: print(x); x += 1`                                             |\n",
        "| **Control Flow**      |                                                                                 |                                                                             |\n",
        "| `break`               | Exits the loop immediately.                                                     | `for i in range(10): if i == 5: break`                                      |\n",
        "| `continue`            | Skips the current iteration and moves to the next one.                          | `for i in range(5): if i == 2: continue`                                    |\n",
        "| `pass`                | A placeholder that does nothing.                                                | `for i in range(3): if i == 1: pass`                                        |"
      ],
      "metadata": {
        "id": "-wI1GZuZZBr_"
      }
    },
    {
      "cell_type": "markdown",
      "source": [
        "## Functions"
      ],
      "metadata": {
        "id": "E9wlttwBah6g"
      }
    },
    {
      "cell_type": "markdown",
      "source": [
        "\n",
        " Syntax of a Function\n",
        "```\n",
        "  def function_name(parameters):\n",
        "      \"\"\"Docstring (optional)\"\"\"\n",
        "      # Function body\n",
        "      return value  # Optional\n",
        "```\n",
        "\n",
        "\n",
        "- def: Keyword to define a function.\n",
        "\n",
        "- function_name: Name of the function (follows Python naming conventions).\n",
        "\n",
        "- parameters: Inputs to the function (optional).\n",
        "\n",
        "- Docstring: A description of the function (optional but recommended).\n",
        "\n",
        "- return: Returns a value (optional). If omitted, the function returns None."
      ],
      "metadata": {
        "id": "9Il9Z3P9eFIl"
      }
    },
    {
      "cell_type": "markdown",
      "source": [
        "####  Built-in Functions\n",
        "Python provides many built-in functions like print(), len(), type(), etc."
      ],
      "metadata": {
        "id": "RWZ8wgNbfBpY"
      }
    },
    {
      "cell_type": "code",
      "source": [
        "sample_list = [1,2,3]\n",
        "print(len(sample_list))  # Built-in function"
      ],
      "metadata": {
        "id": "W_Rl42rlakFS",
        "colab": {
          "base_uri": "https://localhost:8080/"
        },
        "outputId": "696ba409-3872-4b6d-b2d0-a2ef412cb274"
      },
      "execution_count": null,
      "outputs": [
        {
          "output_type": "stream",
          "name": "stdout",
          "text": [
            "3\n"
          ]
        }
      ]
    },
    {
      "cell_type": "markdown",
      "source": [
        "#### User-Defined Functions\n",
        "Functions defined by the user."
      ],
      "metadata": {
        "id": "_BMWOfvXfQm4"
      }
    },
    {
      "cell_type": "code",
      "source": [
        "def greet(name):\n",
        "    \"\"\"This function greets the user.\"\"\"\n",
        "    print(f\"Hello, {name}!\")\n",
        "\n",
        "greet(\"Alice\")  # Output: Hello, Alice!"
      ],
      "metadata": {
        "colab": {
          "base_uri": "https://localhost:8080/"
        },
        "id": "9clCfEg8fQ-Y",
        "outputId": "c2491628-9910-4213-ae17-0418a73fca81"
      },
      "execution_count": null,
      "outputs": [
        {
          "output_type": "stream",
          "name": "stdout",
          "text": [
            "Hello, Alice!\n"
          ]
        }
      ]
    },
    {
      "cell_type": "markdown",
      "source": [
        "#### Lambda Functions (Anonymous Functions)\n",
        "Small, single-expression functions defined using the lambda keyword\n",
        "```\n",
        "lambda arguments: expression\n",
        "```"
      ],
      "metadata": {
        "id": "HncbF7RVfXa4"
      }
    },
    {
      "cell_type": "code",
      "source": [
        "square = lambda x: x ** 2\n",
        "print(square(5))  # Output: 25"
      ],
      "metadata": {
        "colab": {
          "base_uri": "https://localhost:8080/"
        },
        "id": "neurwZxDfXIR",
        "outputId": "197ed04f-9395-484b-91f1-ba85f985117c"
      },
      "execution_count": null,
      "outputs": [
        {
          "output_type": "stream",
          "name": "stdout",
          "text": [
            "25\n"
          ]
        }
      ]
    },
    {
      "cell_type": "markdown",
      "source": [
        "#### Positional Arguments\n",
        "Arguments passed in the correct positional orde"
      ],
      "metadata": {
        "id": "uKQ3yzxdfglY"
      }
    },
    {
      "cell_type": "code",
      "source": [
        "def add_func(a, b):\n",
        "    return a + b\n",
        "\n",
        "print(add_func(2, 3))  # Output: 5"
      ],
      "metadata": {
        "id": "yQlFb6gyfg7A",
        "colab": {
          "base_uri": "https://localhost:8080/"
        },
        "outputId": "3e53be56-a2f9-4a50-b832-ed5d430a1f81"
      },
      "execution_count": null,
      "outputs": [
        {
          "output_type": "stream",
          "name": "stdout",
          "text": [
            "5\n"
          ]
        }
      ]
    },
    {
      "cell_type": "markdown",
      "source": [
        "#### Keyword Arguments and\n",
        "#### Default Arguments\n",
        "Parameters with default values \\\n",
        "Arguments passed with a keyword (parameter name)"
      ],
      "metadata": {
        "id": "V9YbP-EefnLg"
      }
    },
    {
      "cell_type": "code",
      "source": [
        "def greet_func(name, message = \"Hi\"):\n",
        "    print(f\"{message}, {name}!\")\n",
        "\n",
        "greet_func(name=\"Alice\")  # Output: Hello, Alice!"
      ],
      "metadata": {
        "colab": {
          "base_uri": "https://localhost:8080/"
        },
        "id": "fTDBUvO6fnhI",
        "outputId": "1bd31983-8b89-4644-fe59-55ae2d571ec3"
      },
      "execution_count": null,
      "outputs": [
        {
          "output_type": "stream",
          "name": "stdout",
          "text": [
            "Hi, Alice!\n"
          ]
        }
      ]
    },
    {
      "cell_type": "markdown",
      "source": [
        "#### Variable-Length Arguments\n",
        "- *args: Accepts any number of positional arguments as a tuple.\n",
        "\n",
        "- **kwargs: Accepts any number of keyword arguments as a dictionary"
      ],
      "metadata": {
        "id": "kOCT6dMUf1Wg"
      }
    },
    {
      "cell_type": "code",
      "source": [
        "def print_args(*a, **kwargs):\n",
        "    print(\"Positional arguments:\", a)\n",
        "    print(\"Keyword arguments:\", kwargs)\n",
        "\n",
        "print_args(1, 2, 3, name=\"Alice\", age=25)\n",
        "# Output:\n",
        "# Positional arguments: (1, 2, 3)\n",
        "# Keyword arguments: {'name': 'Alice', 'age': 25}"
      ],
      "metadata": {
        "colab": {
          "base_uri": "https://localhost:8080/"
        },
        "id": "GY6zYmplf13Y",
        "outputId": "108ef79e-0fa5-4821-9782-7d77cc77c722"
      },
      "execution_count": null,
      "outputs": [
        {
          "output_type": "stream",
          "name": "stdout",
          "text": [
            "Positional arguments: (1, 2, 3)\n",
            "Keyword arguments: {'name': 'Alice', 'age': 25}\n"
          ]
        }
      ]
    },
    {
      "cell_type": "markdown",
      "source": [
        "#### Return Values\n",
        "A function can return a value using the return statement. If no return is specified, the function returns None"
      ],
      "metadata": {
        "id": "8ynpa6kzf9tw"
      }
    },
    {
      "cell_type": "code",
      "source": [
        "def add(a, b):\n",
        "    return a + b\n",
        "\n",
        "result = add(2, 3)\n",
        "print(result)  # Output: 5"
      ],
      "metadata": {
        "colab": {
          "base_uri": "https://localhost:8080/"
        },
        "id": "OQO8WYnuf_7A",
        "outputId": "a738765b-9829-4a40-e77a-fa8176647753"
      },
      "execution_count": null,
      "outputs": [
        {
          "output_type": "stream",
          "name": "stdout",
          "text": [
            "5\n"
          ]
        }
      ]
    },
    {
      "cell_type": "markdown",
      "source": [
        "#### Scope of Variables\n",
        "- Local Scope: Variables defined inside a function\n",
        "- Global Scope: Variables defined outside a function"
      ],
      "metadata": {
        "id": "KdeGoMHngA6Y"
      }
    },
    {
      "cell_type": "code",
      "source": [
        "x = 10  # Global variable\n",
        "\n",
        "def my_function():\n",
        "    y = 5  # Local variable\n",
        "    print(\"Local variable y:\", y)\n",
        "    print(\"Global variable x:\", x)\n",
        "\n",
        "my_function()\n",
        "# Output:\n",
        "# Local variable y: 5\n",
        "# Global variable x: 10"
      ],
      "metadata": {
        "colab": {
          "base_uri": "https://localhost:8080/"
        },
        "id": "1IW9XQfqgGUA",
        "outputId": "7069eb5f-913e-436f-b114-a0f1d08beb20"
      },
      "execution_count": null,
      "outputs": [
        {
          "output_type": "stream",
          "name": "stdout",
          "text": [
            "Local variable y: 5\n",
            "Global variable x: 10\n"
          ]
        }
      ]
    },
    {
      "cell_type": "markdown",
      "source": [
        "#### decorator\n",
        "![python-decorator.webp](data:image/webp;base64,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)"
      ],
      "metadata": {
        "id": "7nqvzAMggS9g"
      }
    },
    {
      "cell_type": "code",
      "source": [
        "def do_something1(func):\n",
        "    def wrapper():\n",
        "        start = time.time()\n",
        "        func()\n",
        "        end = time.time()\n",
        "        print(f\"timestamps: {end - start}\")\n",
        "    return wrapper\n",
        "\n",
        "@do_something1\n",
        "def func():\n",
        "    time.sleep(5)\n",
        "    print(\"Hello\")\n",
        "\n",
        "func()"
      ],
      "metadata": {
        "colab": {
          "base_uri": "https://localhost:8080/"
        },
        "id": "FWnJWblhgWaI",
        "outputId": "5cf9a2c4-bae0-486e-8b81-c007478f68cd"
      },
      "execution_count": null,
      "outputs": [
        {
          "output_type": "stream",
          "name": "stdout",
          "text": [
            "Hello\n",
            "timestamps: 5.000166177749634\n"
          ]
        }
      ]
    },
    {
      "cell_type": "markdown",
      "source": [
        "#### manual decorator"
      ],
      "metadata": {
        "id": "sSlJTdPPdzPt"
      }
    },
    {
      "cell_type": "code",
      "source": [
        "def do_something2(func):\n",
        "    def wrapper():\n",
        "        start = time.time()\n",
        "        func()\n",
        "        end = time.time()\n",
        "        print(f\"timestamps: {end - start}\")\n",
        "    return wrapper\n",
        "\n",
        "def random_function():\n",
        "    time.sleep(5)\n",
        "    print(\"Hello\")\n",
        "\n",
        "random_function = do_something2(random_function)\n",
        "\n",
        "random_function()"
      ],
      "metadata": {
        "colab": {
          "base_uri": "https://localhost:8080/"
        },
        "id": "g_112w9VlDRJ",
        "outputId": "2c331770-23c9-4ab8-f0a7-b46b575738aa"
      },
      "execution_count": null,
      "outputs": [
        {
          "output_type": "stream",
          "name": "stdout",
          "text": [
            "Hello\n",
            "timestamps: 5.000248432159424\n"
          ]
        }
      ]
    },
    {
      "cell_type": "markdown",
      "source": [
        "### summary"
      ],
      "metadata": {
        "id": "i7ZHZWNCatIV"
      }
    },
    {
      "cell_type": "markdown",
      "source": [
        "| **Concept**               | **Description**                                                                 | **Example**                                                                 |\n",
        "|---------------------------|---------------------------------------------------------------------------------|-----------------------------------------------------------------------------|\n",
        "| **Function Definition**   | Define a function using `def`.                                                  | `def greet(name): print(f\"Hello, {name}!\")`                                 |\n",
        "| **Lambda Function**       | Single-expression anonymous function.                                           | `square = lambda x: x ** 2`                                                |\n",
        "| **Positional Arguments**  | Arguments passed in order.                                                      | `add(2, 3)`                                                                |\n",
        "| **Keyword Arguments**     | Arguments passed with parameter names.                                          | `greet(name=\"Alice\", message=\"Hello\")`                                     |\n",
        "| **Default Arguments**     | Parameters with default values.                                                 | `greet(name=\"Alice\")`                                                      |\n",
        "| **Variable-Length Args**  | Accept any number of arguments (`*args`, `**kwargs`).                          | `print_args(1, 2, 3, name=\"Alice\")`                                        |\n",
        "| **Return Value**          | Return a value using `return`.                                                  | `return a + b`                                                             |\n",
        "| **Scope**                 | Local vs global variables.                                                      | `x = 10` (global), `y = 5` (local)                                         |\n",
        "| **Recursion**             | Function calls itself.                                                          | `factorial(n)`                                                             |\n",
        "| **Decorators**            | Modify behavior of functions.                                                   | `@decorator`                                                               |\n",
        "| **Generators**            | Produce values lazily using `yield`.                                            | `yield i`                                                                  |"
      ],
      "metadata": {
        "id": "FzKA3fZVaqys"
      }
    },
    {
      "cell_type": "markdown",
      "source": [
        "## debugging a training loop"
      ],
      "metadata": {
        "id": "6reR57oIXwyp"
      }
    },
    {
      "cell_type": "code",
      "source": [
        "# Simulate a training loop\n",
        "for epoch in range(1, 11):\n",
        "    loss = 1.0 / epoch  # Simulated loss\n",
        "\n",
        "    # Save a checkpoint every 2 epochs\n",
        "    if epoch % 2 == 0:\n",
        "        checkpoint = {\"epoch\": epoch, \"loss\": loss}\n",
        "        with open(\"checkpoint.pkl\", \"wb\") as f:\n",
        "            pickle.dump(checkpoint, f)\n",
        "        print(f\"Checkpoint saved at epoch {epoch}\")\n",
        "\n",
        "    # Simulate an error at epoch 5\n",
        "    if epoch == 5:\n",
        "        print(\"Simulating an error...\")\n",
        "        break  # Stop execution\n",
        "\n",
        "# Debugging: Load the last checkpoint\n",
        "with open(\"checkpoint.pkl\", \"rb\") as f:\n",
        "    checkpoint = pickle.load(f)\n",
        "\n",
        "print(f\"Resuming from epoch {checkpoint['epoch']} with loss {checkpoint['loss']}\")"
      ],
      "metadata": {
        "id": "CpIV01mgX1US"
      },
      "execution_count": null,
      "outputs": []
    },
    {
      "cell_type": "markdown",
      "source": [
        "## OOP"
      ],
      "metadata": {
        "id": "I5A5dpouakVY"
      }
    },
    {
      "cell_type": "code",
      "source": [],
      "metadata": {
        "id": "3lmqiRMQasLJ"
      },
      "execution_count": null,
      "outputs": []
    },
    {
      "cell_type": "markdown",
      "source": [
        "## Numpy"
      ],
      "metadata": {
        "id": "LBdLbGHKaspg"
      }
    },
    {
      "cell_type": "code",
      "source": [
        "import numpy as np"
      ],
      "metadata": {
        "id": "movovZGpat4I"
      },
      "execution_count": null,
      "outputs": []
    },
    {
      "cell_type": "markdown",
      "source": [
        "array"
      ],
      "metadata": {
        "id": "UlVoZbQ5SPOf"
      }
    },
    {
      "cell_type": "code",
      "source": [],
      "metadata": {
        "id": "Plpxy7DnSQ43"
      },
      "execution_count": null,
      "outputs": []
    },
    {
      "cell_type": "markdown",
      "source": [
        "powerfull functions of numpy"
      ],
      "metadata": {
        "id": "2sN0ANk0SQbv"
      }
    },
    {
      "cell_type": "code",
      "source": [],
      "metadata": {
        "id": "ZGpBv0nHSWhA"
      },
      "execution_count": null,
      "outputs": []
    },
    {
      "cell_type": "markdown",
      "source": [
        "relation between pytorch and numpy"
      ],
      "metadata": {
        "id": "Yxe3GdzaSWQn"
      }
    },
    {
      "cell_type": "code",
      "source": [],
      "metadata": {
        "id": "yhGBHQjSTYFu"
      },
      "execution_count": null,
      "outputs": []
    },
    {
      "cell_type": "markdown",
      "source": [
        "from continuous to discrete"
      ],
      "metadata": {
        "id": "dCqxkdq-TYbe"
      }
    },
    {
      "cell_type": "markdown",
      "source": [
        "## Seaborn and Matplotlib"
      ],
      "metadata": {
        "id": "z3wTt-7xauF4"
      }
    },
    {
      "cell_type": "code",
      "source": [
        "import matplotlib.pyplot as plt\n",
        "import seaborn as sn"
      ],
      "metadata": {
        "id": "Rxi3rew-ay4Y"
      },
      "execution_count": null,
      "outputs": []
    },
    {
      "cell_type": "markdown",
      "source": [
        "# Crate a new environment\n",
        "![Agent and Env class.drawio (1).png](data:image/png;base64,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)"
      ],
      "metadata": {
        "id": "LjucKfRThz87"
      }
    },
    {
      "cell_type": "markdown",
      "source": [
        "## Environment Class\n",
        "### properties\n",
        "  - State\n",
        "  - Reward\n",
        "  - Transition Mechanism (Dynamic)\n",
        "\n",
        "### Methods\n",
        "  - Transition Function\n",
        "  - Reward Function\n",
        "  - Monitor agent behavior\n",
        "  - logging trajectories\n",
        "  - plot cumulative Reward"
      ],
      "metadata": {
        "id": "76JRi0_9iBGj"
      }
    },
    {
      "cell_type": "code",
      "source": [],
      "metadata": {
        "id": "9JW8ImhTiBmF"
      },
      "execution_count": null,
      "outputs": []
    },
    {
      "cell_type": "markdown",
      "source": [
        "## Agent Class\n",
        "### properties\n",
        "  - Action\n",
        "  - Learning Rate\n",
        "  - Discount factor\n",
        "\n",
        "### Methods\n",
        "  - Policy Function\n",
        "  - Monitor policy  \n",
        "  - logging agent decisions\n",
        "  - plot cumulative policy"
      ],
      "metadata": {
        "id": "NcXd0DZEiGIM"
      }
    },
    {
      "cell_type": "code",
      "source": [],
      "metadata": {
        "id": "db9CcgydiCTD"
      },
      "execution_count": null,
      "outputs": []
    },
    {
      "cell_type": "markdown",
      "source": [
        "# Pytorch"
      ],
      "metadata": {
        "id": "vCgJdYWKa7Rg"
      }
    },
    {
      "cell_type": "markdown",
      "source": [
        "## math"
      ],
      "metadata": {
        "id": "f3XqWEFethfr"
      }
    },
    {
      "cell_type": "code",
      "source": [
        "import sympy as sym\n",
        "import numpy as np"
      ],
      "metadata": {
        "id": "pmJuMdu3tj-b"
      },
      "execution_count": null,
      "outputs": []
    },
    {
      "cell_type": "markdown",
      "source": [
        "define a symbolic variable"
      ],
      "metadata": {
        "id": "s3MfJmmLNPd6"
      }
    },
    {
      "cell_type": "code",
      "source": [
        "# x defined as symbolic variable\n",
        "x = sym.symbols('x')"
      ],
      "metadata": {
        "id": "wEM4S60btliH"
      },
      "execution_count": null,
      "outputs": []
    },
    {
      "cell_type": "markdown",
      "source": [
        "define a symbolic function"
      ],
      "metadata": {
        "id": "GGtsPS7eNdbJ"
      }
    },
    {
      "cell_type": "code",
      "source": [
        "# define a symbolic function\n",
        "fx = 3*(x**2) + 2*x + 1"
      ],
      "metadata": {
        "id": "PDaZQrSgto8M"
      },
      "execution_count": null,
      "outputs": []
    },
    {
      "cell_type": "code",
      "source": [
        "fx"
      ],
      "metadata": {
        "colab": {
          "base_uri": "https://localhost:8080/",
          "height": 39
        },
        "id": "63XUxI-mtt20",
        "outputId": "6a2d720e-9d4f-4e42-d9eb-137d74a80c80"
      },
      "execution_count": null,
      "outputs": [
        {
          "output_type": "execute_result",
          "data": {
            "text/plain": [
              "3*x**2 + 2*x + 1"
            ],
            "text/latex": "$\\displaystyle 3 x^{2} + 2 x + 1$"
          },
          "metadata": {},
          "execution_count": 20
        }
      ]
    },
    {
      "cell_type": "markdown",
      "source": [
        "substitute value in function ```f(x)```"
      ],
      "metadata": {
        "id": "nYhYD1z5NgWp"
      }
    },
    {
      "cell_type": "code",
      "source": [
        "fx.subs(x,2)"
      ],
      "metadata": {
        "colab": {
          "base_uri": "https://localhost:8080/",
          "height": 37
        },
        "id": "dT0NunpQtu6X",
        "outputId": "7d95dc1a-2ddb-40ec-97dc-5799b7ac9f82"
      },
      "execution_count": null,
      "outputs": [
        {
          "output_type": "execute_result",
          "data": {
            "text/plain": [
              "17"
            ],
            "text/latex": "$\\displaystyle 17$"
          },
          "metadata": {},
          "execution_count": 15
        }
      ]
    },
    {
      "cell_type": "markdown",
      "source": [
        "first derivative of ```f(x)```"
      ],
      "metadata": {
        "id": "HCeyr5xENoOa"
      }
    },
    {
      "cell_type": "code",
      "source": [
        "dfx = sym.diff(fx,x)"
      ],
      "metadata": {
        "id": "5rnRO8OUuCVE"
      },
      "execution_count": null,
      "outputs": []
    },
    {
      "cell_type": "code",
      "source": [
        "dfx"
      ],
      "metadata": {
        "colab": {
          "base_uri": "https://localhost:8080/",
          "height": 39
        },
        "id": "1DNSF5emNMCq",
        "outputId": "c15880eb-d7cd-42c8-eec5-24389691ec5e"
      },
      "execution_count": null,
      "outputs": [
        {
          "output_type": "execute_result",
          "data": {
            "text/plain": [
              "6*x + 2"
            ],
            "text/latex": "$\\displaystyle 6 x + 2$"
          },
          "metadata": {},
          "execution_count": 22
        }
      ]
    },
    {
      "cell_type": "markdown",
      "source": [
        "second derivative of ```f(x)```"
      ],
      "metadata": {
        "id": "AiDZQPpBNu4C"
      }
    },
    {
      "cell_type": "code",
      "source": [
        "d2fx = sym.diff(dfx,x)"
      ],
      "metadata": {
        "id": "5h9mxS6xNzFp"
      },
      "execution_count": null,
      "outputs": []
    },
    {
      "cell_type": "code",
      "source": [
        "d2fx"
      ],
      "metadata": {
        "colab": {
          "base_uri": "https://localhost:8080/",
          "height": 37
        },
        "id": "lHfHFLXMN2Mx",
        "outputId": "02ff6de1-3440-476a-9817-abd406211c79"
      },
      "execution_count": null,
      "outputs": [
        {
          "output_type": "execute_result",
          "data": {
            "text/plain": [
              "6"
            ],
            "text/latex": "$\\displaystyle 6$"
          },
          "metadata": {},
          "execution_count": 24
        }
      ]
    },
    {
      "cell_type": "markdown",
      "source": [
        "Gradient descent"
      ],
      "metadata": {
        "id": "crLcb4gIN7N5"
      }
    },
    {
      "cell_type": "code",
      "source": [
        "from tqdm import tqdm\n",
        "i = 0\n",
        "error = 50_000\n",
        "xa = 20\n",
        "alpha = 0.05\n",
        "while True:\n",
        "  xa = xa - alpha*dfx.subs(x,xa)\n",
        "  error = dfx.subs(x,xa)\n",
        "  print(f\"error (step{i}):{error}\")\n",
        "  if abs(error) < 0.01:\n",
        "    break\n",
        "  i += 1\n",
        "print(\"-\"*20)\n",
        "print(f\"value of f(xa) : {fx.subs(x,xa)}\")"
      ],
      "metadata": {
        "colab": {
          "base_uri": "https://localhost:8080/"
        },
        "id": "_9ieD6oznRhp",
        "outputId": "c4c8d9c5-576b-4b87-9610-4c0419dc60ab"
      },
      "execution_count": null,
      "outputs": [
        {
          "output_type": "stream",
          "name": "stdout",
          "text": [
            "error (step0):85.4000000000000\n",
            "error (step1):59.7800000000000\n",
            "error (step2):41.8460000000000\n",
            "error (step3):29.2922000000000\n",
            "error (step4):20.5045400000000\n",
            "error (step5):14.3531780000000\n",
            "error (step6):10.0472246000000\n",
            "error (step7):7.03305722000000\n",
            "error (step8):4.92314005400000\n",
            "error (step9):3.44619803780000\n",
            "error (step10):2.41233862646000\n",
            "error (step11):1.68863703852200\n",
            "error (step12):1.18204592696540\n",
            "error (step13):0.827432148875780\n",
            "error (step14):0.579202504213046\n",
            "error (step15):0.405441752949132\n",
            "error (step16):0.283809227064393\n",
            "error (step17):0.198666458945075\n",
            "error (step18):0.139066521261552\n",
            "error (step19):0.0973465648830865\n",
            "error (step20):0.0681425954181605\n",
            "error (step21):0.0476998167927125\n",
            "error (step22):0.0333898717548988\n",
            "error (step23):0.0233729102284292\n",
            "error (step24):0.0163610371599003\n",
            "error (step25):0.0114527260119304\n",
            "error (step26):0.00801690820835121\n",
            "--------------------\n",
            "value of f(xa) : 0.666672022568102\n"
          ]
        }
      ]
    },
    {
      "cell_type": "markdown",
      "source": [
        "multivariate function and partial derivatives"
      ],
      "metadata": {
        "id": "tQC-ksA1O80B"
      }
    },
    {
      "cell_type": "code",
      "source": [
        "y = sym.symbols('y')\n",
        "z = sym.symbols('z')\n",
        "fzy = (y)*z**2 - z*y**2 + 2*y*z\n",
        "dzfzy = sym.diff(fzy,z)\n",
        "dyfzy = sym.diff(fzy,y)\n",
        "dzyfzy = sym.diff(fzy,z,y)\n",
        "fzy"
      ],
      "metadata": {
        "id": "D8CJ52w9wM5g",
        "colab": {
          "base_uri": "https://localhost:8080/",
          "height": 39
        },
        "outputId": "a5a5f861-bfeb-4e15-b5d2-2f764128289d"
      },
      "execution_count": null,
      "outputs": [
        {
          "output_type": "execute_result",
          "data": {
            "text/plain": [
              "-y**2*z + y*z**2 + 2*y*z"
            ],
            "text/latex": "$\\displaystyle - y^{2} z + y z^{2} + 2 y z$"
          },
          "metadata": {},
          "execution_count": 29
        }
      ]
    },
    {
      "cell_type": "code",
      "source": [
        "dzfzy"
      ],
      "metadata": {
        "colab": {
          "base_uri": "https://localhost:8080/",
          "height": 39
        },
        "id": "HP_G1zlm1S6P",
        "outputId": "c58fc605-f207-438a-d483-b8bc02cd3741"
      },
      "execution_count": null,
      "outputs": [
        {
          "output_type": "execute_result",
          "data": {
            "text/plain": [
              "-y**2 + 2*y*z + 2*y"
            ],
            "text/latex": "$\\displaystyle - y^{2} + 2 y z + 2 y$"
          },
          "metadata": {},
          "execution_count": 30
        }
      ]
    },
    {
      "cell_type": "code",
      "source": [
        "dyfzy"
      ],
      "metadata": {
        "colab": {
          "base_uri": "https://localhost:8080/",
          "height": 39
        },
        "id": "qrth-dLC1UiH",
        "outputId": "691533a6-7452-407c-c558-f774b3b8c7dc"
      },
      "execution_count": null,
      "outputs": [
        {
          "output_type": "execute_result",
          "data": {
            "text/plain": [
              "-2*y*z + z**2 + 2*z"
            ],
            "text/latex": "$\\displaystyle - 2 y z + z^{2} + 2 z$"
          },
          "metadata": {},
          "execution_count": 32
        }
      ]
    },
    {
      "cell_type": "code",
      "source": [
        "dzyfzy"
      ],
      "metadata": {
        "colab": {
          "base_uri": "https://localhost:8080/",
          "height": 39
        },
        "id": "zW5wlqKo4Bxb",
        "outputId": "0df39ac0-8cbb-4e76-c8a5-79286b91e3a8"
      },
      "execution_count": null,
      "outputs": [
        {
          "output_type": "execute_result",
          "data": {
            "text/plain": [
              "2*(-y + z + 1)"
            ],
            "text/latex": "$\\displaystyle 2 \\left(- y + z + 1\\right)$"
          },
          "metadata": {},
          "execution_count": 33
        }
      ]
    },
    {
      "cell_type": "markdown",
      "source": [
        "substitute in values in multivariate function"
      ],
      "metadata": {
        "id": "H3gvPtgYPHMZ"
      }
    },
    {
      "cell_type": "code",
      "source": [
        "fzy.evalf(subs={y: 20,z : 20})"
      ],
      "metadata": {
        "colab": {
          "base_uri": "https://localhost:8080/",
          "height": 37
        },
        "id": "g2LNOA1Pw4Wp",
        "outputId": "7c697994-9215-494d-9656-89fd457660c8"
      },
      "execution_count": null,
      "outputs": [
        {
          "output_type": "execute_result",
          "data": {
            "text/plain": [
              "800.000000000000"
            ],
            "text/latex": "$\\displaystyle 800.0$"
          },
          "metadata": {},
          "execution_count": 34
        }
      ]
    },
    {
      "cell_type": "code",
      "source": [
        "v = sym.lambdify((y,z),fzy,'numpy')\n",
        "dvz = sym.lambdify((y,z),dzfzy,'numpy')\n",
        "dvy = sym.lambdify((y,z),dyfzy,'numpy')\n",
        "dvzy = sym.lambdify((y,z),dzyfzy,'numpy')\n",
        "dvy(1,1)"
      ],
      "metadata": {
        "colab": {
          "base_uri": "https://localhost:8080/"
        },
        "id": "K4Qsjb5Q2PSk",
        "outputId": "c79aabaa-48ee-4e96-c0eb-999c0ad9ce3c"
      },
      "execution_count": null,
      "outputs": [
        {
          "output_type": "execute_result",
          "data": {
            "text/plain": [
              "1"
            ]
          },
          "metadata": {},
          "execution_count": 36
        }
      ]
    },
    {
      "cell_type": "markdown",
      "source": [
        "2-D Gradient Descent"
      ],
      "metadata": {
        "id": "CItLE2-sPoDg"
      }
    },
    {
      "cell_type": "code",
      "source": [
        "i = 0\n",
        "error = 50_000\n",
        "ya, za = [1,1]\n",
        "alpha = 0.05\n",
        "while abs(error) > .1 :\n",
        "  dy = dvy(ya,za)\n",
        "  dz = dvz(ya,za)\n",
        "  ya = ya - alpha*dy\n",
        "  za = za - alpha*dz\n",
        "  error = dvzy(ya,za)\n",
        "  print(error)\n",
        "print(\"-\"*20)\n",
        "print(v(ya,za))\n",
        "print(ya,za)"
      ],
      "metadata": {
        "colab": {
          "base_uri": "https://localhost:8080/"
        },
        "id": "fwsgWtw2wCwg",
        "outputId": "f8c5c5b6-0f1d-46a0-df19-2913374561e5"
      },
      "execution_count": null,
      "outputs": [
        {
          "output_type": "stream",
          "name": "stdout",
          "text": [
            "1.8\n",
            "1.6195000000000002\n",
            "1.4541972093750002\n",
            "1.3010318910581706\n",
            "1.1578371567360228\n",
            "1.023096374682873\n",
            "0.8957689700441545\n",
            "0.7751613538007587\n",
            "0.6608288554344\n",
            "0.5524999258310608\n",
            "0.4500171110661515\n",
            "0.35329123921565975\n",
            "0.2622664076022614\n",
            "0.17689400887386042\n",
            "0.09711438504998182\n",
            "--------------------\n",
            "-0.1336633253876655\n",
            "0.7901053841089211 -0.16133742336608803\n"
          ]
        }
      ]
    },
    {
      "cell_type": "markdown",
      "source": [
        "## train a simple regression model"
      ],
      "metadata": {
        "id": "W1ucgwo4bA9o"
      }
    },
    {
      "cell_type": "markdown",
      "source": [
        "### Loss function\n",
        "-----\n",
        "*   MSE (mean-square-error) -> continuous output`\n",
        "*   cross-entropy (logistic) -> categorical output (outputs are some probability)"
      ],
      "metadata": {
        "id": "1X4qEkk5NLpi"
      }
    },
    {
      "cell_type": "markdown",
      "source": [
        "### ANN Regression\n",
        "-----"
      ],
      "metadata": {
        "id": "E5nNySvtUqLF"
      }
    },
    {
      "cell_type": "markdown",
      "source": [
        "#### libraries"
      ],
      "metadata": {
        "id": "65E4PEmFyr4j"
      }
    },
    {
      "cell_type": "code",
      "source": [
        "import torch\n",
        "import torch.nn as nn\n",
        "import numpy as np\n",
        "import matplotlib.pyplot as plt\n",
        "import IPython.display as display\n",
        "import torch.functional as F\n",
        "from tqdm import tqdm"
      ],
      "metadata": {
        "id": "m-DhAdaaJtOl"
      },
      "execution_count": null,
      "outputs": []
    },
    {
      "cell_type": "code",
      "source": [
        "device = 'cuda'"
      ],
      "metadata": {
        "id": "CnMLoz_dBn13"
      },
      "execution_count": null,
      "outputs": []
    },
    {
      "cell_type": "markdown",
      "source": [
        "#### data"
      ],
      "metadata": {
        "id": "5UVVOgICyvYL"
      }
    },
    {
      "cell_type": "code",
      "source": [
        "N = 100\n",
        "m = 2\n",
        "x = torch.randn(size=(N,1))\n",
        "y = m*x + torch.randn(size=(N,1))/3\n",
        "plt.plot(x,y,'ob')\n",
        "plt.legend(['Real data'])\n",
        "plt.title('regression')\n",
        "plt.xlabel('x')\n",
        "plt.ylabel('y')\n",
        "plt.show()"
      ],
      "metadata": {
        "colab": {
          "base_uri": "https://localhost:8080/",
          "height": 472
        },
        "id": "EDvWSfVJVBQ8",
        "outputId": "2fc0c04b-6077-4450-f079-6f152fd8d449"
      },
      "execution_count": null,
      "outputs": [
        {
          "output_type": "display_data",
          "data": {
            "text/plain": [
              "<Figure size 640x480 with 1 Axes>"
            ],
            "image/png": "[encoded data removed]"
          },
          "metadata": {}
        }
      ]
    },
    {
      "cell_type": "markdown",
      "source": [
        "#### Model"
      ],
      "metadata": {
        "id": "YKPNeQosXi2G"
      }
    },
    {
      "cell_type": "code",
      "source": [
        "# build a sequential model\n",
        "\n",
        "ann_reg = nn.Sequential(\n",
        "    nn.Linear(1,1), # input layer\n",
        "    # nn.ReLU(),      # activation function\n",
        "    nn.Linear(1,1)  # output layer\n",
        ")\n",
        "ann_reg"
      ],
      "metadata": {
        "colab": {
          "base_uri": "https://localhost:8080/"
        },
        "id": "U6fn-oEMWeFd",
        "outputId": "20c6cb1f-fa3e-44e6-dc33-9abaf01de0cb"
      },
      "execution_count": null,
      "outputs": [
        {
          "output_type": "execute_result",
          "data": {
            "text/plain": [
              "Sequential(\n",
              "  (0): Linear(in_features=1, out_features=1, bias=True)\n",
              "  (1): Linear(in_features=1, out_features=1, bias=True)\n",
              ")"
            ]
          },
          "metadata": {},
          "execution_count": 44
        }
      ]
    },
    {
      "cell_type": "markdown",
      "source": [
        "#### Meta-parameters"
      ],
      "metadata": {
        "id": "pfiDcHMfXflt"
      }
    },
    {
      "cell_type": "code",
      "source": [
        "# learning rate\n",
        "LR = .05\n",
        "# loss function\n",
        "lossfun = nn.MSELoss()\n",
        "# optimizer\n",
        "optimizer = torch.optim.SGD(ann_reg.parameters(),lr=LR)"
      ],
      "metadata": {
        "id": "qlup2XalXVAl"
      },
      "execution_count": null,
      "outputs": []
    },
    {
      "cell_type": "markdown",
      "source": [
        "#### training"
      ],
      "metadata": {
        "id": "VvWf1fphX-Rd"
      }
    },
    {
      "cell_type": "code",
      "source": [
        "numepochs = 500\n",
        "losses_logs = torch.zeros(numepochs)\n",
        "\n",
        "for ei in tqdm(range(numepochs)):\n",
        "  yh = ann_reg(x)\n",
        "\n",
        "  loss = lossfun(yh,y)\n",
        "  losses_logs[ei] = loss\n",
        "\n",
        "  optimizer.zero_grad()\n",
        "  loss.backward()\n",
        "  optimizer.step()\n"
      ],
      "metadata": {
        "id": "tdAQNJTpXkUt",
        "colab": {
          "base_uri": "https://localhost:8080/"
        },
        "outputId": "056ba9a7-16d7-4b27-b0d6-fdb847b45f89"
      },
      "execution_count": null,
      "outputs": [
        {
          "output_type": "stream",
          "name": "stderr",
          "text": [
            "100%|██████████| 500/500 [00:00<00:00, 1178.23it/s]\n"
          ]
        }
      ]
    },
    {
      "cell_type": "code",
      "source": [
        "plt.plot(losses_logs.detach(),'o')\n",
        "plt.show()"
      ],
      "metadata": {
        "colab": {
          "base_uri": "https://localhost:8080/",
          "height": 430
        },
        "id": "VEwOQzOvZVyl",
        "outputId": "46fd97b9-93c8-44aa-c36d-8d67c3fece49"
      },
      "execution_count": null,
      "outputs": [
        {
          "output_type": "display_data",
          "data": {
            "text/plain": [
              "<Figure size 640x480 with 1 Axes>"
            ],
            "image/png": "[encoded data removed]"
          },
          "metadata": {}
        }
      ]
    },
    {
      "cell_type": "markdown",
      "source": [
        "#### test data\n",
        "-----"
      ],
      "metadata": {
        "id": "TVLKFpB1bKQG"
      }
    },
    {
      "cell_type": "code",
      "source": [
        "prediction = ann_reg(x)\n",
        "\n",
        "plt.plot(x,y,'ob')\n",
        "plt.plot(x,prediction.detach(),'sg')\n",
        "plt.show()"
      ],
      "metadata": {
        "colab": {
          "base_uri": "https://localhost:8080/",
          "height": 430
        },
        "id": "BZ9PZGk9bMtl",
        "outputId": "1c9ac7c6-ea52-453e-c900-4f7e5f402561"
      },
      "execution_count": null,
      "outputs": [
        {
          "output_type": "display_data",
          "data": {
            "text/plain": [
              "<Figure size 640x480 with 1 Axes>"
            ],
            "image/png": "[encoded data removed]"
          },
          "metadata": {}
        }
      ]
    },
    {
      "cell_type": "code",
      "source": [
        "for param in ann_reg.parameters():\n",
        "  print(param.detach())"
      ],
      "metadata": {
        "colab": {
          "base_uri": "https://localhost:8080/"
        },
        "id": "x8LQ8ULucNx2",
        "outputId": "30bb9c50-541b-4c1e-bedb-60e68812bc03"
      },
      "execution_count": null,
      "outputs": [
        {
          "output_type": "stream",
          "name": "stdout",
          "text": [
            "tensor([[1.3351]])\n",
            "tensor([0.0218])\n",
            "tensor([[1.4820]])\n",
            "tensor([0.0077])\n"
          ]
        }
      ]
    },
    {
      "cell_type": "markdown",
      "source": [
        "## train a simple classification model"
      ],
      "metadata": {
        "id": "46fzrLkHa-Rp"
      }
    },
    {
      "cell_type": "markdown",
      "source": [
        "#### data preprocess"
      ],
      "metadata": {
        "id": "Y356GOh_PoQK"
      }
    },
    {
      "cell_type": "code",
      "source": [
        "numClust = 100\n",
        "blur = 3\n",
        "\n",
        "A = [1 , 1]\n",
        "B = [1 , 10]\n",
        "\n",
        "a = [ A[1] + np.random.randn(numClust)*blur , A[0] + np.random.randn(numClust)*blur]\n",
        "b = [ B[1] + np.random.randn(numClust)*blur , B[0] + np.random.randn(numClust)*blur]\n",
        "\n",
        "labels_np = np.vstack((np.zeros((numClust,1)),np.ones((numClust,1))))\n",
        "\n",
        "data_np = np.hstack((a,b)).T\n",
        "\n",
        "# transform to pytorch tensor\n",
        "labels = torch.tensor(labels_np).float()\n",
        "data = torch.tensor(data_np).float()"
      ],
      "metadata": {
        "id": "-Hm9MusWFDPQ"
      },
      "execution_count": null,
      "outputs": []
    },
    {
      "cell_type": "code",
      "source": [
        "fig = plt.figure(figsize=(5,5))\n",
        "plt.plot(data[np.where(labels==0)[0],0],data[np.where(labels==0)[0],1],'bs')\n",
        "plt.plot(data[np.where(labels==1)[0],0],data[np.where(labels==1)[0],1],'gs')\n",
        "plt.xlabel('dim1')\n",
        "plt.ylabel('dim2')\n",
        "plt.title('data')\n",
        "plt.show()"
      ],
      "metadata": {
        "colab": {
          "base_uri": "https://localhost:8080/",
          "height": 487
        },
        "id": "KhvTo1PELoxd",
        "outputId": "dbaa8329-f569-4b8e-923d-46f121da25d3"
      },
      "execution_count": null,
      "outputs": [
        {
          "output_type": "display_data",
          "data": {
            "text/plain": [
              "<Figure size 500x500 with 1 Axes>"
            ],
            "image/png": "[encoded data removed]"
          },
          "metadata": {}
        }
      ]
    },
    {
      "cell_type": "markdown",
      "source": [
        "#### Model"
      ],
      "metadata": {
        "id": "xWDSZQ-gJlO2"
      }
    },
    {
      "cell_type": "code",
      "source": [
        "ann_class = nn.Sequential(\n",
        "    nn.Linear(2,6,True),\n",
        "    nn.ReLU(),\n",
        "    nn.Linear(6,4,True),\n",
        "    nn.ReLU(),\n",
        "    nn.Linear(4,1,True),\n",
        "    nn.ReLU(),\n",
        "    nn.Linear(1,1,True),\n",
        "    nn.Sigmoid()\n",
        ")\n",
        "ann_class"
      ],
      "metadata": {
        "colab": {
          "base_uri": "https://localhost:8080/"
        },
        "id": "Gb6JlzOr_Z7H",
        "outputId": "9cba6a6d-547a-4d0c-8f71-3350d81b1b27"
      },
      "execution_count": null,
      "outputs": [
        {
          "output_type": "execute_result",
          "data": {
            "text/plain": [
              "Sequential(\n",
              "  (0): Linear(in_features=2, out_features=6, bias=True)\n",
              "  (1): ReLU()\n",
              "  (2): Linear(in_features=6, out_features=4, bias=True)\n",
              "  (3): ReLU()\n",
              "  (4): Linear(in_features=4, out_features=1, bias=True)\n",
              "  (5): ReLU()\n",
              "  (6): Linear(in_features=1, out_features=1, bias=True)\n",
              "  (7): Sigmoid()\n",
              ")"
            ]
          },
          "metadata": {},
          "execution_count": 66
        }
      ]
    },
    {
      "cell_type": "code",
      "source": [
        "loss_func2 = nn.BCELoss()\n",
        "# we can also use BCEwithlogitsloss() and remove the last layer (sigmoid) in ann model"
      ],
      "metadata": {
        "id": "LYKLDtcXBzYk"
      },
      "execution_count": null,
      "outputs": []
    },
    {
      "cell_type": "code",
      "source": [
        "from tqdm import tqdm\n",
        "numepochs2 = 2_000\n",
        "lr_l = [0.1,0.01,0.02,0.03,0.04,0.05]\n",
        "loss_list = []\n",
        "for i in range(len(lr_l)):\n",
        "  loss2 = torch.zeros(numepochs2)\n",
        "  learning_rate2 = lr_l[i]\n",
        "  optimizer2 = torch.optim.SGD(ann_class.parameters(),lr = learning_rate2)\n",
        "  for ep in tqdm(range(numepochs2)):\n",
        "    yh = ann_class(data)\n",
        "\n",
        "    loss = loss_func2(yh,labels)\n",
        "    loss2[ep] = loss\n",
        "\n",
        "    optimizer2.zero_grad()\n",
        "    loss.backward()\n",
        "    optimizer2.step()\n",
        "  loss_list.append(loss2)"
      ],
      "metadata": {
        "colab": {
          "base_uri": "https://localhost:8080/"
        },
        "id": "uyR6ktBZRT_p",
        "outputId": "4efed564-eb6c-4d40-a543-bcfcc8a06071"
      },
      "execution_count": null,
      "outputs": [
        {
          "output_type": "stream",
          "name": "stderr",
          "text": [
            "100%|██████████| 2000/2000 [00:02<00:00, 764.33it/s]\n",
            "100%|██████████| 2000/2000 [00:03<00:00, 548.07it/s]\n",
            "100%|██████████| 2000/2000 [00:02<00:00, 861.60it/s]\n",
            "100%|██████████| 2000/2000 [00:02<00:00, 764.74it/s]\n",
            "100%|██████████| 2000/2000 [00:03<00:00, 564.53it/s]\n",
            "100%|██████████| 2000/2000 [00:02<00:00, 928.20it/s]\n"
          ]
        }
      ]
    },
    {
      "cell_type": "code",
      "source": [
        "for i in range(len(lr_l)):\n",
        "  plt.plot(loss_list[i].detach(),'o')\n",
        "plt.show()"
      ],
      "metadata": {
        "colab": {
          "base_uri": "https://localhost:8080/",
          "height": 430
        },
        "id": "uwniPCTQSbth",
        "outputId": "db2bb1fc-b9d4-4534-9b5c-e79425c4d128"
      },
      "execution_count": null,
      "outputs": [
        {
          "output_type": "display_data",
          "data": {
            "text/plain": [
              "<Figure size 640x480 with 1 Axes>"
            ],
            "image/png": "[encoded data removed]"
          },
          "metadata": {}
        }
      ]
    },
    {
      "cell_type": "markdown",
      "source": [
        "#### prediction"
      ],
      "metadata": {
        "id": "_hGT6ry0VtX9"
      }
    },
    {
      "cell_type": "code",
      "source": [
        "# predictions\n",
        "\n",
        "predicts = ann_class(data)\n",
        "\n",
        "prediclabels = predicts>.5\n",
        "# print(prediclabels)\n",
        "\n",
        "misclassified = np.where(prediclabels != labels)[0]\n",
        "print(misclassified)\n",
        "\n",
        "# accuracy\n",
        "acc = 100-100*len(misclassified)/(2*numClust)\n",
        "print(acc)"
      ],
      "metadata": {
        "colab": {
          "base_uri": "https://localhost:8080/"
        },
        "id": "7KiwhDpRVvMt",
        "outputId": "d5e4e87e-0051-4f55-c44e-986c988aae14"
      },
      "execution_count": null,
      "outputs": [
        {
          "output_type": "stream",
          "name": "stdout",
          "text": [
            "[  0  16  27  68  69  88 111 116 172 174 182 193]\n",
            "94.0\n"
          ]
        }
      ]
    },
    {
      "cell_type": "code",
      "source": [
        "fig = plt.figure(figsize=(5,5))\n",
        "plt.plot(data[misclassified,0],data[misclassified,1],'rx',markersize='13')\n",
        "plt.plot(data[(np.where(~prediclabels)[0]),0],data[np.where(~prediclabels)[0],1],'gs')\n",
        "plt.plot(data[np.where(prediclabels)[0],0],data[np.where(prediclabels)[0],1],'ro')\n",
        "plt.xlabel('dim1')\n",
        "plt.ylabel('dim2')\n",
        "plt.title('data')\n",
        "plt.show()"
      ],
      "metadata": {
        "colab": {
          "base_uri": "https://localhost:8080/",
          "height": 487
        },
        "id": "N0cavHZEVDaV",
        "outputId": "1c7f6505-47c0-4279-fc7e-df20eb2beee4"
      },
      "execution_count": null,
      "outputs": [
        {
          "output_type": "display_data",
          "data": {
            "text/plain": [
              "<Figure size 500x500 with 1 Axes>"
            ],
            "image/png": "[encoded data removed]"
          },
          "metadata": {}
        }
      ]
    },
    {
      "cell_type": "markdown",
      "source": [
        "## Using pre-trained model"
      ],
      "metadata": {
        "id": "sOaCGdlgbJIw"
      }
    },
    {
      "cell_type": "code",
      "source": [],
      "metadata": {
        "id": "PhiQJfjfdAXk"
      },
      "execution_count": null,
      "outputs": []
    },
    {
      "cell_type": "markdown",
      "source": [
        "# RL libraries"
      ],
      "metadata": {
        "id": "WSx5fkllhXkU"
      }
    },
    {
      "cell_type": "markdown",
      "source": [
        "## Stable-baseline\n",
        "https://stable-baselines3.readthedocs.io/en/master/"
      ],
      "metadata": {
        "id": "cSONLK1Nf0sd"
      }
    },
    {
      "cell_type": "code",
      "source": [],
      "metadata": {
        "id": "oc8aVpp1hHK2"
      },
      "execution_count": null,
      "outputs": []
    },
    {
      "cell_type": "markdown",
      "source": [
        "## Open-AI GYM\n",
        "https://gymnasium.farama.org/"
      ],
      "metadata": {
        "id": "1RUGkkiuf3Ye"
      }
    },
    {
      "cell_type": "markdown",
      "source": [
        "## RLlib\n",
        "https://docs.ray.io/en/latest/rllib/index.html"
      ],
      "metadata": {
        "id": "s5aEjkK9f7fW"
      }
    },
    {
      "cell_type": "code",
      "source": [],
      "metadata": {
        "id": "C9AF_bGbhGYd"
      },
      "execution_count": null,
      "outputs": []
    }
  ]
}
